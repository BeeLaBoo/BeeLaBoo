{
 "cells": [
  {
   "cell_type": "code",
   "execution_count": 1,
   "id": "07264e97",
   "metadata": {
    "_cell_guid": "b1076dfc-b9ad-4769-8c92-a6c4dae69d19",
    "_uuid": "8f2839f25d086af736a60e9eeb907d3b93b6e0e5",
    "execution": {
     "iopub.execute_input": "2022-03-27T15:15:47.458638Z",
     "iopub.status.busy": "2022-03-27T15:15:47.457968Z",
     "iopub.status.idle": "2022-03-27T15:15:47.460658Z",
     "shell.execute_reply": "2022-03-27T15:15:47.461153Z",
     "shell.execute_reply.started": "2022-03-27T14:34:46.321718Z"
    },
    "papermill": {
     "duration": 0.072709,
     "end_time": "2022-03-27T15:15:47.461469",
     "exception": false,
     "start_time": "2022-03-27T15:15:47.388760",
     "status": "completed"
    },
    "tags": []
   },
   "outputs": [],
   "source": [
    "# This Python 3 environment comes with many helpful analytics libraries installed\n",
    "# It is defined by the kaggle/python Docker image: https://github.com/kaggle/docker-python\n",
    "# For example, here's several helpful packages to load\n",
    "\n",
    "import numpy as np # linear algebra\n",
    "import pandas as pd # data processing, CSV file I/O (e.g. pd.read_csv)\n",
    "\n",
    "# Input data files are available in the read-only \"../input/\" directory\n",
    "# For example, running this (by clicking run or pressing Shift+Enter) will list all files under the input directory\n",
    "\n",
    "import os\n",
    "for dirname, _, filenames in os.walk('/kaggle/input'):\n",
    "    for filename in filenames:\n",
    "        print(os.path.join(dirname, filename))\n",
    "\n",
    "# You can write up to 20GB to the current directory (/kaggle/working/) that gets preserved as output when you create a version using \"Save & Run All\" \n",
    "# You can also write temporary files to /kaggle/temp/, but they won't be saved outside of the current session"
   ]
  },
  {
   "cell_type": "code",
   "execution_count": 2,
   "id": "adee2f43",
   "metadata": {
    "execution": {
     "iopub.execute_input": "2022-03-27T15:15:47.576282Z",
     "iopub.status.busy": "2022-03-27T15:15:47.575617Z",
     "iopub.status.idle": "2022-03-27T15:15:47.595914Z",
     "shell.execute_reply": "2022-03-27T15:15:47.596418Z",
     "shell.execute_reply.started": "2022-03-27T14:34:46.410428Z"
    },
    "papermill": {
     "duration": 0.079625,
     "end_time": "2022-03-27T15:15:47.596617",
     "exception": false,
     "start_time": "2022-03-27T15:15:47.516992",
     "status": "completed"
    },
    "tags": []
   },
   "outputs": [
    {
     "data": {
      "text/html": [
       "<div>\n",
       "<style scoped>\n",
       "    .dataframe tbody tr th:only-of-type {\n",
       "        vertical-align: middle;\n",
       "    }\n",
       "\n",
       "    .dataframe tbody tr th {\n",
       "        vertical-align: top;\n",
       "    }\n",
       "\n",
       "    .dataframe thead th {\n",
       "        text-align: right;\n",
       "    }\n",
       "</style>\n",
       "<table border=\"1\" class=\"dataframe\">\n",
       "  <thead>\n",
       "    <tr style=\"text-align: right;\">\n",
       "      <th></th>\n",
       "      <th>Name</th>\n",
       "      <th>Score</th>\n",
       "      <th>Gender</th>\n",
       "    </tr>\n",
       "  </thead>\n",
       "  <tbody>\n",
       "    <tr>\n",
       "      <th>0</th>\n",
       "      <td>Jang</td>\n",
       "      <td>99</td>\n",
       "      <td>Female</td>\n",
       "    </tr>\n",
       "    <tr>\n",
       "      <th>1</th>\n",
       "      <td>Belle</td>\n",
       "      <td>98</td>\n",
       "      <td>Female</td>\n",
       "    </tr>\n",
       "    <tr>\n",
       "      <th>2</th>\n",
       "      <td>Brent</td>\n",
       "      <td>75</td>\n",
       "      <td>Male</td>\n",
       "    </tr>\n",
       "    <tr>\n",
       "      <th>3</th>\n",
       "      <td>Jambo</td>\n",
       "      <td>60</td>\n",
       "      <td>Female</td>\n",
       "    </tr>\n",
       "    <tr>\n",
       "      <th>4</th>\n",
       "      <td>EV</td>\n",
       "      <td>45</td>\n",
       "      <td>Female</td>\n",
       "    </tr>\n",
       "    <tr>\n",
       "      <th>5</th>\n",
       "      <td>WallE</td>\n",
       "      <td>56</td>\n",
       "      <td>Male</td>\n",
       "    </tr>\n",
       "  </tbody>\n",
       "</table>\n",
       "</div>"
      ],
      "text/plain": [
       "    Name  Score  Gender\n",
       "0   Jang     99  Female\n",
       "1  Belle     98  Female\n",
       "2  Brent     75    Male\n",
       "3  Jambo     60  Female\n",
       "4     EV     45  Female\n",
       "5  WallE     56    Male"
      ]
     },
     "execution_count": 2,
     "metadata": {},
     "output_type": "execute_result"
    }
   ],
   "source": [
    "dict1 = {'Name':['Jang','Belle','Brent','Jambo','EV','WallE'],'Score':[99,98,75,60,45,56],'Gender':['Female','Female','Male','Female','Female','Male']}\n",
    "df1 = pd.DataFrame(dict1)\n",
    "df1"
   ]
  },
  {
   "cell_type": "code",
   "execution_count": 3,
   "id": "f6cf13e9",
   "metadata": {
    "execution": {
     "iopub.execute_input": "2022-03-27T15:15:47.710212Z",
     "iopub.status.busy": "2022-03-27T15:15:47.709531Z",
     "iopub.status.idle": "2022-03-27T15:15:47.717455Z",
     "shell.execute_reply": "2022-03-27T15:15:47.718024Z",
     "shell.execute_reply.started": "2022-03-27T14:34:46.487190Z"
    },
    "papermill": {
     "duration": 0.066305,
     "end_time": "2022-03-27T15:15:47.718206",
     "exception": false,
     "start_time": "2022-03-27T15:15:47.651901",
     "status": "completed"
    },
    "tags": []
   },
   "outputs": [
    {
     "data": {
      "text/html": [
       "<div>\n",
       "<style scoped>\n",
       "    .dataframe tbody tr th:only-of-type {\n",
       "        vertical-align: middle;\n",
       "    }\n",
       "\n",
       "    .dataframe tbody tr th {\n",
       "        vertical-align: top;\n",
       "    }\n",
       "\n",
       "    .dataframe thead th {\n",
       "        text-align: right;\n",
       "    }\n",
       "</style>\n",
       "<table border=\"1\" class=\"dataframe\">\n",
       "  <thead>\n",
       "    <tr style=\"text-align: right;\">\n",
       "      <th></th>\n",
       "      <th>Name</th>\n",
       "      <th>Score</th>\n",
       "      <th>Gender</th>\n",
       "    </tr>\n",
       "  </thead>\n",
       "  <tbody>\n",
       "    <tr>\n",
       "      <th>0</th>\n",
       "      <td>Jang</td>\n",
       "      <td>99</td>\n",
       "      <td>Female</td>\n",
       "    </tr>\n",
       "    <tr>\n",
       "      <th>1</th>\n",
       "      <td>Belle</td>\n",
       "      <td>98</td>\n",
       "      <td>Female</td>\n",
       "    </tr>\n",
       "    <tr>\n",
       "      <th>2</th>\n",
       "      <td>Brent</td>\n",
       "      <td>75</td>\n",
       "      <td>Male</td>\n",
       "    </tr>\n",
       "  </tbody>\n",
       "</table>\n",
       "</div>"
      ],
      "text/plain": [
       "    Name  Score  Gender\n",
       "0   Jang     99  Female\n",
       "1  Belle     98  Female\n",
       "2  Brent     75    Male"
      ]
     },
     "execution_count": 3,
     "metadata": {},
     "output_type": "execute_result"
    }
   ],
   "source": [
    "## display top3 row\n",
    "df1.head(3)"
   ]
  },
  {
   "cell_type": "code",
   "execution_count": 4,
   "id": "760b2910",
   "metadata": {
    "execution": {
     "iopub.execute_input": "2022-03-27T15:15:47.834160Z",
     "iopub.status.busy": "2022-03-27T15:15:47.833428Z",
     "iopub.status.idle": "2022-03-27T15:15:47.841144Z",
     "shell.execute_reply": "2022-03-27T15:15:47.841712Z",
     "shell.execute_reply.started": "2022-03-27T14:34:46.589162Z"
    },
    "papermill": {
     "duration": 0.067049,
     "end_time": "2022-03-27T15:15:47.841868",
     "exception": false,
     "start_time": "2022-03-27T15:15:47.774819",
     "status": "completed"
    },
    "tags": []
   },
   "outputs": [
    {
     "data": {
      "text/html": [
       "<div>\n",
       "<style scoped>\n",
       "    .dataframe tbody tr th:only-of-type {\n",
       "        vertical-align: middle;\n",
       "    }\n",
       "\n",
       "    .dataframe tbody tr th {\n",
       "        vertical-align: top;\n",
       "    }\n",
       "\n",
       "    .dataframe thead th {\n",
       "        text-align: right;\n",
       "    }\n",
       "</style>\n",
       "<table border=\"1\" class=\"dataframe\">\n",
       "  <thead>\n",
       "    <tr style=\"text-align: right;\">\n",
       "      <th></th>\n",
       "      <th>Name</th>\n",
       "      <th>Score</th>\n",
       "      <th>Gender</th>\n",
       "    </tr>\n",
       "  </thead>\n",
       "  <tbody>\n",
       "    <tr>\n",
       "      <th>3</th>\n",
       "      <td>Jambo</td>\n",
       "      <td>60</td>\n",
       "      <td>Female</td>\n",
       "    </tr>\n",
       "    <tr>\n",
       "      <th>4</th>\n",
       "      <td>EV</td>\n",
       "      <td>45</td>\n",
       "      <td>Female</td>\n",
       "    </tr>\n",
       "    <tr>\n",
       "      <th>5</th>\n",
       "      <td>WallE</td>\n",
       "      <td>56</td>\n",
       "      <td>Male</td>\n",
       "    </tr>\n",
       "  </tbody>\n",
       "</table>\n",
       "</div>"
      ],
      "text/plain": [
       "    Name  Score  Gender\n",
       "3  Jambo     60  Female\n",
       "4     EV     45  Female\n",
       "5  WallE     56    Male"
      ]
     },
     "execution_count": 4,
     "metadata": {},
     "output_type": "execute_result"
    }
   ],
   "source": [
    "df1.tail(3)"
   ]
  },
  {
   "cell_type": "code",
   "execution_count": 5,
   "id": "dfa78f73",
   "metadata": {
    "execution": {
     "iopub.execute_input": "2022-03-27T15:15:47.957066Z",
     "iopub.status.busy": "2022-03-27T15:15:47.956363Z",
     "iopub.status.idle": "2022-03-27T15:15:47.960757Z",
     "shell.execute_reply": "2022-03-27T15:15:47.961344Z",
     "shell.execute_reply.started": "2022-03-27T14:34:46.685270Z"
    },
    "papermill": {
     "duration": 0.063282,
     "end_time": "2022-03-27T15:15:47.961503",
     "exception": false,
     "start_time": "2022-03-27T15:15:47.898221",
     "status": "completed"
    },
    "tags": []
   },
   "outputs": [
    {
     "data": {
      "text/plain": [
       "(6, 3)"
      ]
     },
     "execution_count": 5,
     "metadata": {},
     "output_type": "execute_result"
    }
   ],
   "source": [
    "# HOw many row and column\n",
    "df1.shape"
   ]
  },
  {
   "cell_type": "code",
   "execution_count": 6,
   "id": "037eb92e",
   "metadata": {
    "execution": {
     "iopub.execute_input": "2022-03-27T15:15:48.081771Z",
     "iopub.status.busy": "2022-03-27T15:15:48.081143Z",
     "iopub.status.idle": "2022-03-27T15:15:48.084184Z",
     "shell.execute_reply": "2022-03-27T15:15:48.083641Z",
     "shell.execute_reply.started": "2022-03-27T14:34:46.760642Z"
    },
    "papermill": {
     "duration": 0.065089,
     "end_time": "2022-03-27T15:15:48.084332",
     "exception": false,
     "start_time": "2022-03-27T15:15:48.019243",
     "status": "completed"
    },
    "tags": []
   },
   "outputs": [
    {
     "name": "stdout",
     "output_type": "stream",
     "text": [
      "Number of row 6\n",
      "Number of column 3\n"
     ]
    }
   ],
   "source": [
    "print('Number of row',df1.shape[0])\n",
    "print('Number of column',df1.shape[1])"
   ]
  },
  {
   "cell_type": "code",
   "execution_count": 7,
   "id": "da41055b",
   "metadata": {
    "execution": {
     "iopub.execute_input": "2022-03-27T15:15:48.201567Z",
     "iopub.status.busy": "2022-03-27T15:15:48.200864Z",
     "iopub.status.idle": "2022-03-27T15:15:48.223014Z",
     "shell.execute_reply": "2022-03-27T15:15:48.223899Z",
     "shell.execute_reply.started": "2022-03-27T14:34:46.833814Z"
    },
    "papermill": {
     "duration": 0.083483,
     "end_time": "2022-03-27T15:15:48.224152",
     "exception": false,
     "start_time": "2022-03-27T15:15:48.140669",
     "status": "completed"
    },
    "tags": []
   },
   "outputs": [
    {
     "name": "stdout",
     "output_type": "stream",
     "text": [
      "<class 'pandas.core.frame.DataFrame'>\n",
      "RangeIndex: 6 entries, 0 to 5\n",
      "Data columns (total 3 columns):\n",
      " #   Column  Non-Null Count  Dtype \n",
      "---  ------  --------------  ----- \n",
      " 0   Name    6 non-null      object\n",
      " 1   Score   6 non-null      int64 \n",
      " 2   Gender  6 non-null      object\n",
      "dtypes: int64(1), object(2)\n",
      "memory usage: 272.0+ bytes\n"
     ]
    }
   ],
   "source": [
    "# information : row,column,data type,memory requirement\n",
    "df1.info()"
   ]
  },
  {
   "cell_type": "markdown",
   "id": "4b551850",
   "metadata": {
    "papermill": {
     "duration": 0.057286,
     "end_time": "2022-03-27T15:15:48.340390",
     "exception": false,
     "start_time": "2022-03-27T15:15:48.283104",
     "status": "completed"
    },
    "tags": []
   },
   "source": [
    "object  =  string"
   ]
  },
  {
   "cell_type": "code",
   "execution_count": 8,
   "id": "b37c3348",
   "metadata": {
    "execution": {
     "iopub.execute_input": "2022-03-27T15:15:48.459724Z",
     "iopub.status.busy": "2022-03-27T15:15:48.459101Z",
     "iopub.status.idle": "2022-03-27T15:15:48.467447Z",
     "shell.execute_reply": "2022-03-27T15:15:48.467881Z",
     "shell.execute_reply.started": "2022-03-27T14:34:46.904674Z"
    },
    "papermill": {
     "duration": 0.06904,
     "end_time": "2022-03-27T15:15:48.468083",
     "exception": false,
     "start_time": "2022-03-27T15:15:48.399043",
     "status": "completed"
    },
    "tags": []
   },
   "outputs": [
    {
     "data": {
      "text/html": [
       "<div>\n",
       "<style scoped>\n",
       "    .dataframe tbody tr th:only-of-type {\n",
       "        vertical-align: middle;\n",
       "    }\n",
       "\n",
       "    .dataframe tbody tr th {\n",
       "        vertical-align: top;\n",
       "    }\n",
       "\n",
       "    .dataframe thead th {\n",
       "        text-align: right;\n",
       "    }\n",
       "</style>\n",
       "<table border=\"1\" class=\"dataframe\">\n",
       "  <thead>\n",
       "    <tr style=\"text-align: right;\">\n",
       "      <th></th>\n",
       "      <th>Name</th>\n",
       "      <th>Score</th>\n",
       "      <th>Gender</th>\n",
       "    </tr>\n",
       "  </thead>\n",
       "  <tbody>\n",
       "    <tr>\n",
       "      <th>0</th>\n",
       "      <td>False</td>\n",
       "      <td>False</td>\n",
       "      <td>False</td>\n",
       "    </tr>\n",
       "    <tr>\n",
       "      <th>1</th>\n",
       "      <td>False</td>\n",
       "      <td>False</td>\n",
       "      <td>False</td>\n",
       "    </tr>\n",
       "    <tr>\n",
       "      <th>2</th>\n",
       "      <td>False</td>\n",
       "      <td>False</td>\n",
       "      <td>False</td>\n",
       "    </tr>\n",
       "    <tr>\n",
       "      <th>3</th>\n",
       "      <td>False</td>\n",
       "      <td>False</td>\n",
       "      <td>False</td>\n",
       "    </tr>\n",
       "    <tr>\n",
       "      <th>4</th>\n",
       "      <td>False</td>\n",
       "      <td>False</td>\n",
       "      <td>False</td>\n",
       "    </tr>\n",
       "    <tr>\n",
       "      <th>5</th>\n",
       "      <td>False</td>\n",
       "      <td>False</td>\n",
       "      <td>False</td>\n",
       "    </tr>\n",
       "  </tbody>\n",
       "</table>\n",
       "</div>"
      ],
      "text/plain": [
       "    Name  Score  Gender\n",
       "0  False  False   False\n",
       "1  False  False   False\n",
       "2  False  False   False\n",
       "3  False  False   False\n",
       "4  False  False   False\n",
       "5  False  False   False"
      ]
     },
     "execution_count": 8,
     "metadata": {},
     "output_type": "execute_result"
    }
   ],
   "source": [
    "df1.isnull()"
   ]
  },
  {
   "cell_type": "markdown",
   "id": "b4bd672c",
   "metadata": {
    "papermill": {
     "duration": 0.058352,
     "end_time": "2022-03-27T15:15:48.584701",
     "exception": false,
     "start_time": "2022-03-27T15:15:48.526349",
     "status": "completed"
    },
    "tags": []
   },
   "source": [
    "no missing value!!"
   ]
  },
  {
   "cell_type": "code",
   "execution_count": 9,
   "id": "383f8362",
   "metadata": {
    "execution": {
     "iopub.execute_input": "2022-03-27T15:15:48.709495Z",
     "iopub.status.busy": "2022-03-27T15:15:48.708700Z",
     "iopub.status.idle": "2022-03-27T15:15:48.711785Z",
     "shell.execute_reply": "2022-03-27T15:15:48.712311Z",
     "shell.execute_reply.started": "2022-03-27T14:34:46.992261Z"
    },
    "papermill": {
     "duration": 0.06928,
     "end_time": "2022-03-27T15:15:48.712475",
     "exception": false,
     "start_time": "2022-03-27T15:15:48.643195",
     "status": "completed"
    },
    "tags": []
   },
   "outputs": [
    {
     "data": {
      "text/plain": [
       "0    0\n",
       "1    0\n",
       "2    0\n",
       "3    0\n",
       "4    0\n",
       "5    0\n",
       "dtype: int64"
      ]
     },
     "execution_count": 9,
     "metadata": {},
     "output_type": "execute_result"
    }
   ],
   "source": [
    "df1.isnull().sum(axis=1)"
   ]
  },
  {
   "cell_type": "markdown",
   "id": "3521c11e",
   "metadata": {
    "papermill": {
     "duration": 0.058571,
     "end_time": "2022-03-27T15:15:48.829542",
     "exception": false,
     "start_time": "2022-03-27T15:15:48.770971",
     "status": "completed"
    },
    "tags": []
   },
   "source": [
    "showing how many null,for row by row"
   ]
  },
  {
   "cell_type": "code",
   "execution_count": 10,
   "id": "8bb6878c",
   "metadata": {
    "execution": {
     "iopub.execute_input": "2022-03-27T15:15:48.954820Z",
     "iopub.status.busy": "2022-03-27T15:15:48.954135Z",
     "iopub.status.idle": "2022-03-27T15:15:48.963813Z",
     "shell.execute_reply": "2022-03-27T15:15:48.964400Z",
     "shell.execute_reply.started": "2022-03-27T14:34:47.082976Z"
    },
    "papermill": {
     "duration": 0.076342,
     "end_time": "2022-03-27T15:15:48.964577",
     "exception": false,
     "start_time": "2022-03-27T15:15:48.888235",
     "status": "completed"
    },
    "tags": []
   },
   "outputs": [
    {
     "data": {
      "text/html": [
       "<div>\n",
       "<style scoped>\n",
       "    .dataframe tbody tr th:only-of-type {\n",
       "        vertical-align: middle;\n",
       "    }\n",
       "\n",
       "    .dataframe tbody tr th {\n",
       "        vertical-align: top;\n",
       "    }\n",
       "\n",
       "    .dataframe thead th {\n",
       "        text-align: right;\n",
       "    }\n",
       "</style>\n",
       "<table border=\"1\" class=\"dataframe\">\n",
       "  <thead>\n",
       "    <tr style=\"text-align: right;\">\n",
       "      <th></th>\n",
       "      <th>Score</th>\n",
       "    </tr>\n",
       "  </thead>\n",
       "  <tbody>\n",
       "    <tr>\n",
       "      <th>count</th>\n",
       "      <td>6.000000</td>\n",
       "    </tr>\n",
       "    <tr>\n",
       "      <th>mean</th>\n",
       "      <td>72.166667</td>\n",
       "    </tr>\n",
       "    <tr>\n",
       "      <th>std</th>\n",
       "      <td>22.551423</td>\n",
       "    </tr>\n",
       "    <tr>\n",
       "      <th>min</th>\n",
       "      <td>45.000000</td>\n",
       "    </tr>\n",
       "    <tr>\n",
       "      <th>25%</th>\n",
       "      <td>57.000000</td>\n",
       "    </tr>\n",
       "    <tr>\n",
       "      <th>50%</th>\n",
       "      <td>67.500000</td>\n",
       "    </tr>\n",
       "    <tr>\n",
       "      <th>75%</th>\n",
       "      <td>92.250000</td>\n",
       "    </tr>\n",
       "    <tr>\n",
       "      <th>max</th>\n",
       "      <td>99.000000</td>\n",
       "    </tr>\n",
       "  </tbody>\n",
       "</table>\n",
       "</div>"
      ],
      "text/plain": [
       "           Score\n",
       "count   6.000000\n",
       "mean   72.166667\n",
       "std    22.551423\n",
       "min    45.000000\n",
       "25%    57.000000\n",
       "50%    67.500000\n",
       "75%    92.250000\n",
       "max    99.000000"
      ]
     },
     "execution_count": 10,
     "metadata": {},
     "output_type": "execute_result"
    }
   ],
   "source": [
    "# show statistics info for this dataset\n",
    "df1.describe()  # shown only score column"
   ]
  },
  {
   "cell_type": "code",
   "execution_count": 11,
   "id": "43bc110a",
   "metadata": {
    "execution": {
     "iopub.execute_input": "2022-03-27T15:15:49.089955Z",
     "iopub.status.busy": "2022-03-27T15:15:49.088984Z",
     "iopub.status.idle": "2022-03-27T15:15:49.104902Z",
     "shell.execute_reply": "2022-03-27T15:15:49.105456Z",
     "shell.execute_reply.started": "2022-03-27T14:34:47.148226Z"
    },
    "papermill": {
     "duration": 0.079741,
     "end_time": "2022-03-27T15:15:49.105623",
     "exception": false,
     "start_time": "2022-03-27T15:15:49.025882",
     "status": "completed"
    },
    "tags": []
   },
   "outputs": [
    {
     "data": {
      "text/html": [
       "<div>\n",
       "<style scoped>\n",
       "    .dataframe tbody tr th:only-of-type {\n",
       "        vertical-align: middle;\n",
       "    }\n",
       "\n",
       "    .dataframe tbody tr th {\n",
       "        vertical-align: top;\n",
       "    }\n",
       "\n",
       "    .dataframe thead th {\n",
       "        text-align: right;\n",
       "    }\n",
       "</style>\n",
       "<table border=\"1\" class=\"dataframe\">\n",
       "  <thead>\n",
       "    <tr style=\"text-align: right;\">\n",
       "      <th></th>\n",
       "      <th>Name</th>\n",
       "      <th>Score</th>\n",
       "      <th>Gender</th>\n",
       "    </tr>\n",
       "  </thead>\n",
       "  <tbody>\n",
       "    <tr>\n",
       "      <th>count</th>\n",
       "      <td>6</td>\n",
       "      <td>6.000000</td>\n",
       "      <td>6</td>\n",
       "    </tr>\n",
       "    <tr>\n",
       "      <th>unique</th>\n",
       "      <td>6</td>\n",
       "      <td>NaN</td>\n",
       "      <td>2</td>\n",
       "    </tr>\n",
       "    <tr>\n",
       "      <th>top</th>\n",
       "      <td>Jang</td>\n",
       "      <td>NaN</td>\n",
       "      <td>Female</td>\n",
       "    </tr>\n",
       "    <tr>\n",
       "      <th>freq</th>\n",
       "      <td>1</td>\n",
       "      <td>NaN</td>\n",
       "      <td>4</td>\n",
       "    </tr>\n",
       "    <tr>\n",
       "      <th>mean</th>\n",
       "      <td>NaN</td>\n",
       "      <td>72.166667</td>\n",
       "      <td>NaN</td>\n",
       "    </tr>\n",
       "    <tr>\n",
       "      <th>std</th>\n",
       "      <td>NaN</td>\n",
       "      <td>22.551423</td>\n",
       "      <td>NaN</td>\n",
       "    </tr>\n",
       "    <tr>\n",
       "      <th>min</th>\n",
       "      <td>NaN</td>\n",
       "      <td>45.000000</td>\n",
       "      <td>NaN</td>\n",
       "    </tr>\n",
       "    <tr>\n",
       "      <th>25%</th>\n",
       "      <td>NaN</td>\n",
       "      <td>57.000000</td>\n",
       "      <td>NaN</td>\n",
       "    </tr>\n",
       "    <tr>\n",
       "      <th>50%</th>\n",
       "      <td>NaN</td>\n",
       "      <td>67.500000</td>\n",
       "      <td>NaN</td>\n",
       "    </tr>\n",
       "    <tr>\n",
       "      <th>75%</th>\n",
       "      <td>NaN</td>\n",
       "      <td>92.250000</td>\n",
       "      <td>NaN</td>\n",
       "    </tr>\n",
       "    <tr>\n",
       "      <th>max</th>\n",
       "      <td>NaN</td>\n",
       "      <td>99.000000</td>\n",
       "      <td>NaN</td>\n",
       "    </tr>\n",
       "  </tbody>\n",
       "</table>\n",
       "</div>"
      ],
      "text/plain": [
       "        Name      Score  Gender\n",
       "count      6   6.000000       6\n",
       "unique     6        NaN       2\n",
       "top     Jang        NaN  Female\n",
       "freq       1        NaN       4\n",
       "mean     NaN  72.166667     NaN\n",
       "std      NaN  22.551423     NaN\n",
       "min      NaN  45.000000     NaN\n",
       "25%      NaN  57.000000     NaN\n",
       "50%      NaN  67.500000     NaN\n",
       "75%      NaN  92.250000     NaN\n",
       "max      NaN  99.000000     NaN"
      ]
     },
     "execution_count": 11,
     "metadata": {},
     "output_type": "execute_result"
    }
   ],
   "source": [
    "## I want to see all stat details from all column\n",
    "df1.describe(include = 'all')"
   ]
  },
  {
   "cell_type": "code",
   "execution_count": 12,
   "id": "f63ff633",
   "metadata": {
    "execution": {
     "iopub.execute_input": "2022-03-27T15:15:49.232704Z",
     "iopub.status.busy": "2022-03-27T15:15:49.231831Z",
     "iopub.status.idle": "2022-03-27T15:15:49.234989Z",
     "shell.execute_reply": "2022-03-27T15:15:49.235487Z",
     "shell.execute_reply.started": "2022-03-27T14:34:47.248346Z"
    },
    "papermill": {
     "duration": 0.069848,
     "end_time": "2022-03-27T15:15:49.235657",
     "exception": false,
     "start_time": "2022-03-27T15:15:49.165809",
     "status": "completed"
    },
    "tags": []
   },
   "outputs": [
    {
     "data": {
      "text/plain": [
       "array(['Female', 'Male'], dtype=object)"
      ]
     },
     "execution_count": 12,
     "metadata": {},
     "output_type": "execute_result"
    }
   ],
   "source": [
    "## unique value from gender column\n",
    "\n",
    "df1['Gender'].unique()"
   ]
  },
  {
   "cell_type": "code",
   "execution_count": 13,
   "id": "38fd9df3",
   "metadata": {
    "execution": {
     "iopub.execute_input": "2022-03-27T15:15:49.364779Z",
     "iopub.status.busy": "2022-03-27T15:15:49.363979Z",
     "iopub.status.idle": "2022-03-27T15:15:49.366908Z",
     "shell.execute_reply": "2022-03-27T15:15:49.367377Z",
     "shell.execute_reply.started": "2022-03-27T14:34:47.355040Z"
    },
    "papermill": {
     "duration": 0.070207,
     "end_time": "2022-03-27T15:15:49.367537",
     "exception": false,
     "start_time": "2022-03-27T15:15:49.297330",
     "status": "completed"
    },
    "tags": []
   },
   "outputs": [
    {
     "data": {
      "text/plain": [
       "2"
      ]
     },
     "execution_count": 13,
     "metadata": {},
     "output_type": "execute_result"
    }
   ],
   "source": [
    "df1['Gender'].nunique()\n",
    "\n",
    "# number of unique value : M,F"
   ]
  },
  {
   "cell_type": "code",
   "execution_count": 14,
   "id": "3b513329",
   "metadata": {
    "execution": {
     "iopub.execute_input": "2022-03-27T15:15:49.498079Z",
     "iopub.status.busy": "2022-03-27T15:15:49.497293Z",
     "iopub.status.idle": "2022-03-27T15:15:49.500386Z",
     "shell.execute_reply": "2022-03-27T15:15:49.500878Z",
     "shell.execute_reply.started": "2022-03-27T14:34:47.415586Z"
    },
    "papermill": {
     "duration": 0.071734,
     "end_time": "2022-03-27T15:15:49.501041",
     "exception": false,
     "start_time": "2022-03-27T15:15:49.429307",
     "status": "completed"
    },
    "tags": []
   },
   "outputs": [
    {
     "data": {
      "text/plain": [
       "Female    4\n",
       "Male      2\n",
       "Name: Gender, dtype: int64"
      ]
     },
     "execution_count": 14,
     "metadata": {},
     "output_type": "execute_result"
    }
   ],
   "source": [
    "# count  of unique value : how many for male , for female\n",
    "df1['Gender'].value_counts()\n"
   ]
  },
  {
   "cell_type": "code",
   "execution_count": 15,
   "id": "bbaadc54",
   "metadata": {
    "execution": {
     "iopub.execute_input": "2022-03-27T15:15:49.631514Z",
     "iopub.status.busy": "2022-03-27T15:15:49.630796Z",
     "iopub.status.idle": "2022-03-27T15:15:49.633775Z",
     "shell.execute_reply": "2022-03-27T15:15:49.634267Z",
     "shell.execute_reply.started": "2022-03-27T14:34:47.486505Z"
    },
    "papermill": {
     "duration": 0.072011,
     "end_time": "2022-03-27T15:15:49.634430",
     "exception": false,
     "start_time": "2022-03-27T15:15:49.562419",
     "status": "completed"
    },
    "tags": []
   },
   "outputs": [
    {
     "data": {
      "text/plain": [
       "0     True\n",
       "1     True\n",
       "2    False\n",
       "3    False\n",
       "4    False\n",
       "5    False\n",
       "Name: Score, dtype: bool"
      ]
     },
     "execution_count": 15,
     "metadata": {},
     "output_type": "execute_result"
    }
   ],
   "source": [
    "df1['Score']>= 90\n",
    "\n",
    "\n",
    "# boolean : T,F and parse to dataframe, use df1[]"
   ]
  },
  {
   "cell_type": "code",
   "execution_count": 16,
   "id": "23ebac1b",
   "metadata": {
    "execution": {
     "iopub.execute_input": "2022-03-27T15:15:49.768388Z",
     "iopub.status.busy": "2022-03-27T15:15:49.767582Z",
     "iopub.status.idle": "2022-03-27T15:15:49.770831Z",
     "shell.execute_reply": "2022-03-27T15:15:49.771345Z",
     "shell.execute_reply.started": "2022-03-27T14:34:47.523448Z"
    },
    "papermill": {
     "duration": 0.075928,
     "end_time": "2022-03-27T15:15:49.771516",
     "exception": false,
     "start_time": "2022-03-27T15:15:49.695588",
     "status": "completed"
    },
    "tags": []
   },
   "outputs": [
    {
     "data": {
      "text/html": [
       "<div>\n",
       "<style scoped>\n",
       "    .dataframe tbody tr th:only-of-type {\n",
       "        vertical-align: middle;\n",
       "    }\n",
       "\n",
       "    .dataframe tbody tr th {\n",
       "        vertical-align: top;\n",
       "    }\n",
       "\n",
       "    .dataframe thead th {\n",
       "        text-align: right;\n",
       "    }\n",
       "</style>\n",
       "<table border=\"1\" class=\"dataframe\">\n",
       "  <thead>\n",
       "    <tr style=\"text-align: right;\">\n",
       "      <th></th>\n",
       "      <th>Name</th>\n",
       "      <th>Score</th>\n",
       "      <th>Gender</th>\n",
       "    </tr>\n",
       "  </thead>\n",
       "  <tbody>\n",
       "    <tr>\n",
       "      <th>0</th>\n",
       "      <td>Jang</td>\n",
       "      <td>99</td>\n",
       "      <td>Female</td>\n",
       "    </tr>\n",
       "    <tr>\n",
       "      <th>1</th>\n",
       "      <td>Belle</td>\n",
       "      <td>98</td>\n",
       "      <td>Female</td>\n",
       "    </tr>\n",
       "  </tbody>\n",
       "</table>\n",
       "</div>"
      ],
      "text/plain": [
       "    Name  Score  Gender\n",
       "0   Jang     99  Female\n",
       "1  Belle     98  Female"
      ]
     },
     "execution_count": 16,
     "metadata": {},
     "output_type": "execute_result"
    }
   ],
   "source": [
    "## count number of student who have score>=90\n",
    "df1[df1['Score']>= 90]"
   ]
  },
  {
   "cell_type": "code",
   "execution_count": 17,
   "id": "f392e2de",
   "metadata": {
    "execution": {
     "iopub.execute_input": "2022-03-27T15:15:49.904347Z",
     "iopub.status.busy": "2022-03-27T15:15:49.903569Z",
     "iopub.status.idle": "2022-03-27T15:15:49.906854Z",
     "shell.execute_reply": "2022-03-27T15:15:49.907391Z",
     "shell.execute_reply.started": "2022-03-27T14:34:47.573685Z"
    },
    "papermill": {
     "duration": 0.073599,
     "end_time": "2022-03-27T15:15:49.907568",
     "exception": false,
     "start_time": "2022-03-27T15:15:49.833969",
     "status": "completed"
    },
    "tags": []
   },
   "outputs": [
    {
     "data": {
      "text/plain": [
       "0     True\n",
       "1     True\n",
       "2    False\n",
       "3    False\n",
       "4    False\n",
       "5    False\n",
       "Name: Score, dtype: bool"
      ]
     },
     "execution_count": 17,
     "metadata": {},
     "output_type": "execute_result"
    }
   ],
   "source": [
    "## or ****\n",
    "\n",
    "(df1['Score']>=90) & (df1['Score'] <= 100)"
   ]
  },
  {
   "cell_type": "code",
   "execution_count": 18,
   "id": "9a408336",
   "metadata": {
    "execution": {
     "iopub.execute_input": "2022-03-27T15:15:50.055416Z",
     "iopub.status.busy": "2022-03-27T15:15:50.054613Z",
     "iopub.status.idle": "2022-03-27T15:15:50.057510Z",
     "shell.execute_reply": "2022-03-27T15:15:50.058000Z",
     "shell.execute_reply.started": "2022-03-27T14:34:47.609988Z"
    },
    "papermill": {
     "duration": 0.087711,
     "end_time": "2022-03-27T15:15:50.058207",
     "exception": false,
     "start_time": "2022-03-27T15:15:49.970496",
     "status": "completed"
    },
    "tags": []
   },
   "outputs": [
    {
     "data": {
      "text/html": [
       "<div>\n",
       "<style scoped>\n",
       "    .dataframe tbody tr th:only-of-type {\n",
       "        vertical-align: middle;\n",
       "    }\n",
       "\n",
       "    .dataframe tbody tr th {\n",
       "        vertical-align: top;\n",
       "    }\n",
       "\n",
       "    .dataframe thead th {\n",
       "        text-align: right;\n",
       "    }\n",
       "</style>\n",
       "<table border=\"1\" class=\"dataframe\">\n",
       "  <thead>\n",
       "    <tr style=\"text-align: right;\">\n",
       "      <th></th>\n",
       "      <th>Name</th>\n",
       "      <th>Score</th>\n",
       "      <th>Gender</th>\n",
       "    </tr>\n",
       "  </thead>\n",
       "  <tbody>\n",
       "    <tr>\n",
       "      <th>0</th>\n",
       "      <td>Jang</td>\n",
       "      <td>99</td>\n",
       "      <td>Female</td>\n",
       "    </tr>\n",
       "    <tr>\n",
       "      <th>1</th>\n",
       "      <td>Belle</td>\n",
       "      <td>98</td>\n",
       "      <td>Female</td>\n",
       "    </tr>\n",
       "  </tbody>\n",
       "</table>\n",
       "</div>"
      ],
      "text/plain": [
       "    Name  Score  Gender\n",
       "0   Jang     99  Female\n",
       "1  Belle     98  Female"
      ]
     },
     "execution_count": 18,
     "metadata": {},
     "output_type": "execute_result"
    }
   ],
   "source": [
    "\n",
    "df1[(df1['Score']>=90) & (df1['Score'] <= 100)]"
   ]
  },
  {
   "cell_type": "markdown",
   "id": "0fc3fd61",
   "metadata": {
    "papermill": {
     "duration": 0.06265,
     "end_time": "2022-03-27T15:15:50.185297",
     "exception": false,
     "start_time": "2022-03-27T15:15:50.122647",
     "status": "completed"
    },
    "tags": []
   },
   "source": [
    "Total number of student have score >= 90"
   ]
  },
  {
   "cell_type": "code",
   "execution_count": 19,
   "id": "384b899d",
   "metadata": {
    "execution": {
     "iopub.execute_input": "2022-03-27T15:15:50.318529Z",
     "iopub.status.busy": "2022-03-27T15:15:50.317872Z",
     "iopub.status.idle": "2022-03-27T15:15:50.320539Z",
     "shell.execute_reply": "2022-03-27T15:15:50.321017Z",
     "shell.execute_reply.started": "2022-03-27T14:34:47.655243Z"
    },
    "papermill": {
     "duration": 0.073391,
     "end_time": "2022-03-27T15:15:50.321259",
     "exception": false,
     "start_time": "2022-03-27T15:15:50.247868",
     "status": "completed"
    },
    "tags": []
   },
   "outputs": [
    {
     "data": {
      "text/plain": [
       "Name      2\n",
       "Score     2\n",
       "Gender    2\n",
       "dtype: int64"
      ]
     },
     "execution_count": 19,
     "metadata": {},
     "output_type": "execute_result"
    }
   ],
   "source": [
    "df1[df1['Score']>= 90].count()\n",
    "\n",
    "# score >=90 : 2 students // count function"
   ]
  },
  {
   "cell_type": "code",
   "execution_count": 20,
   "id": "5c08adaa",
   "metadata": {
    "execution": {
     "iopub.execute_input": "2022-03-27T15:15:50.457022Z",
     "iopub.status.busy": "2022-03-27T15:15:50.456216Z",
     "iopub.status.idle": "2022-03-27T15:15:50.460210Z",
     "shell.execute_reply": "2022-03-27T15:15:50.459650Z",
     "shell.execute_reply.started": "2022-03-27T14:34:47.704718Z"
    },
    "papermill": {
     "duration": 0.074785,
     "end_time": "2022-03-27T15:15:50.460365",
     "exception": false,
     "start_time": "2022-03-27T15:15:50.385580",
     "status": "completed"
    },
    "tags": []
   },
   "outputs": [
    {
     "data": {
      "text/plain": [
       "2"
      ]
     },
     "execution_count": 20,
     "metadata": {},
     "output_type": "execute_result"
    }
   ],
   "source": [
    "# or ****\n",
    "\n",
    "len(df1[(df1['Score']>=90) & (df1['Score'] <= 100)]) ## len function"
   ]
  },
  {
   "cell_type": "code",
   "execution_count": 21,
   "id": "d738fd71",
   "metadata": {
    "execution": {
     "iopub.execute_input": "2022-03-27T15:15:50.596724Z",
     "iopub.status.busy": "2022-03-27T15:15:50.596021Z",
     "iopub.status.idle": "2022-03-27T15:15:50.598669Z",
     "shell.execute_reply": "2022-03-27T15:15:50.599157Z",
     "shell.execute_reply.started": "2022-03-27T14:34:47.742935Z"
    },
    "papermill": {
     "duration": 0.07424,
     "end_time": "2022-03-27T15:15:50.599334",
     "exception": false,
     "start_time": "2022-03-27T15:15:50.525094",
     "status": "completed"
    },
    "tags": []
   },
   "outputs": [
    {
     "data": {
      "text/plain": [
       "0     True\n",
       "1     True\n",
       "2    False\n",
       "3    False\n",
       "4    False\n",
       "5    False\n",
       "Name: Score, dtype: bool"
      ]
     },
     "execution_count": 21,
     "metadata": {},
     "output_type": "execute_result"
    }
   ],
   "source": [
    "## between method and then sum of True value\n",
    "\n",
    "df1['Score'].between(90,100)\n",
    "\n",
    "\n"
   ]
  },
  {
   "cell_type": "code",
   "execution_count": 22,
   "id": "a47fce3e",
   "metadata": {
    "execution": {
     "iopub.execute_input": "2022-03-27T15:15:50.733932Z",
     "iopub.status.busy": "2022-03-27T15:15:50.733322Z",
     "iopub.status.idle": "2022-03-27T15:15:50.735796Z",
     "shell.execute_reply": "2022-03-27T15:15:50.736269Z",
     "shell.execute_reply.started": "2022-03-27T14:34:47.776742Z"
    },
    "papermill": {
     "duration": 0.072339,
     "end_time": "2022-03-27T15:15:50.736425",
     "exception": false,
     "start_time": "2022-03-27T15:15:50.664086",
     "status": "completed"
    },
    "tags": []
   },
   "outputs": [
    {
     "data": {
      "text/plain": [
       "2"
      ]
     },
     "execution_count": 22,
     "metadata": {},
     "output_type": "execute_result"
    }
   ],
   "source": [
    "sum(df1['Score'].between(90,100))"
   ]
  },
  {
   "cell_type": "code",
   "execution_count": 23,
   "id": "174a1aa9",
   "metadata": {
    "execution": {
     "iopub.execute_input": "2022-03-27T15:15:50.867920Z",
     "iopub.status.busy": "2022-03-27T15:15:50.867300Z",
     "iopub.status.idle": "2022-03-27T15:15:50.872723Z",
     "shell.execute_reply": "2022-03-27T15:15:50.872236Z",
     "shell.execute_reply.started": "2022-03-27T14:34:47.805737Z"
    },
    "papermill": {
     "duration": 0.072159,
     "end_time": "2022-03-27T15:15:50.872873",
     "exception": false,
     "start_time": "2022-03-27T15:15:50.800714",
     "status": "completed"
    },
    "tags": []
   },
   "outputs": [
    {
     "data": {
      "text/plain": [
       "72.16666666666667"
      ]
     },
     "execution_count": 23,
     "metadata": {},
     "output_type": "execute_result"
    }
   ],
   "source": [
    "# Average score\n",
    "\n",
    "df1['Score'].mean()"
   ]
  },
  {
   "cell_type": "markdown",
   "id": "eceb3e8b",
   "metadata": {
    "papermill": {
     "duration": 0.065782,
     "end_time": "2022-03-27T15:15:51.004775",
     "exception": false,
     "start_time": "2022-03-27T15:15:50.938993",
     "status": "completed"
    },
    "tags": []
   },
   "source": [
    ".mean() , .min(), .max()"
   ]
  },
  {
   "cell_type": "markdown",
   "id": "7d55b046",
   "metadata": {
    "papermill": {
     "duration": 0.065071,
     "end_time": "2022-03-27T15:15:51.137201",
     "exception": false,
     "start_time": "2022-03-27T15:15:51.072130",
     "status": "completed"
    },
    "tags": []
   },
   "source": [
    "# Apply method"
   ]
  },
  {
   "cell_type": "code",
   "execution_count": 24,
   "id": "6f847ee0",
   "metadata": {
    "execution": {
     "iopub.execute_input": "2022-03-27T15:15:51.272393Z",
     "iopub.status.busy": "2022-03-27T15:15:51.271533Z",
     "iopub.status.idle": "2022-03-27T15:15:51.274004Z",
     "shell.execute_reply": "2022-03-27T15:15:51.273540Z",
     "shell.execute_reply.started": "2022-03-27T14:34:47.869726Z"
    },
    "papermill": {
     "duration": 0.07152,
     "end_time": "2022-03-27T15:15:51.274165",
     "exception": false,
     "start_time": "2022-03-27T15:15:51.202645",
     "status": "completed"
    },
    "tags": []
   },
   "outputs": [],
   "source": [
    "def Score(x):\n",
    "    return x/2\n",
    "    "
   ]
  },
  {
   "cell_type": "code",
   "execution_count": 25,
   "id": "454c46d2",
   "metadata": {
    "execution": {
     "iopub.execute_input": "2022-03-27T15:15:51.408715Z",
     "iopub.status.busy": "2022-03-27T15:15:51.408098Z",
     "iopub.status.idle": "2022-03-27T15:15:51.414259Z",
     "shell.execute_reply": "2022-03-27T15:15:51.414773Z",
     "shell.execute_reply.started": "2022-03-27T14:34:47.898307Z"
    },
    "papermill": {
     "duration": 0.074119,
     "end_time": "2022-03-27T15:15:51.414937",
     "exception": false,
     "start_time": "2022-03-27T15:15:51.340818",
     "status": "completed"
    },
    "tags": []
   },
   "outputs": [
    {
     "data": {
      "text/plain": [
       "0    49.5\n",
       "1    49.0\n",
       "2    37.5\n",
       "3    30.0\n",
       "4    22.5\n",
       "5    28.0\n",
       "Name: Score, dtype: float64"
      ]
     },
     "execution_count": 25,
     "metadata": {},
     "output_type": "execute_result"
    }
   ],
   "source": [
    "df1['Score'].apply(Score)"
   ]
  },
  {
   "cell_type": "markdown",
   "id": "be25c977",
   "metadata": {
    "papermill": {
     "duration": 0.066543,
     "end_time": "2022-03-27T15:15:51.546577",
     "exception": false,
     "start_time": "2022-03-27T15:15:51.480034",
     "status": "completed"
    },
    "tags": []
   },
   "source": [
    "## after set new calculation and then add new column to dataframe"
   ]
  },
  {
   "cell_type": "code",
   "execution_count": 26,
   "id": "9003b9e2",
   "metadata": {
    "execution": {
     "iopub.execute_input": "2022-03-27T15:15:51.683821Z",
     "iopub.status.busy": "2022-03-27T15:15:51.683217Z",
     "iopub.status.idle": "2022-03-27T15:15:51.687376Z",
     "shell.execute_reply": "2022-03-27T15:15:51.687961Z",
     "shell.execute_reply.started": "2022-03-27T14:34:47.936151Z"
    },
    "papermill": {
     "duration": 0.074304,
     "end_time": "2022-03-27T15:15:51.688136",
     "exception": false,
     "start_time": "2022-03-27T15:15:51.613832",
     "status": "completed"
    },
    "tags": []
   },
   "outputs": [],
   "source": [
    "df1['Half_Score'] = df1['Score'].apply(Score)"
   ]
  },
  {
   "cell_type": "code",
   "execution_count": 27,
   "id": "9ba065e5",
   "metadata": {
    "execution": {
     "iopub.execute_input": "2022-03-27T15:15:51.819938Z",
     "iopub.status.busy": "2022-03-27T15:15:51.819282Z",
     "iopub.status.idle": "2022-03-27T15:15:51.828478Z",
     "shell.execute_reply": "2022-03-27T15:15:51.829082Z",
     "shell.execute_reply.started": "2022-03-27T14:34:47.978961Z"
    },
    "papermill": {
     "duration": 0.076665,
     "end_time": "2022-03-27T15:15:51.829250",
     "exception": false,
     "start_time": "2022-03-27T15:15:51.752585",
     "status": "completed"
    },
    "tags": []
   },
   "outputs": [
    {
     "data": {
      "text/html": [
       "<div>\n",
       "<style scoped>\n",
       "    .dataframe tbody tr th:only-of-type {\n",
       "        vertical-align: middle;\n",
       "    }\n",
       "\n",
       "    .dataframe tbody tr th {\n",
       "        vertical-align: top;\n",
       "    }\n",
       "\n",
       "    .dataframe thead th {\n",
       "        text-align: right;\n",
       "    }\n",
       "</style>\n",
       "<table border=\"1\" class=\"dataframe\">\n",
       "  <thead>\n",
       "    <tr style=\"text-align: right;\">\n",
       "      <th></th>\n",
       "      <th>Name</th>\n",
       "      <th>Score</th>\n",
       "      <th>Gender</th>\n",
       "      <th>Half_Score</th>\n",
       "    </tr>\n",
       "  </thead>\n",
       "  <tbody>\n",
       "    <tr>\n",
       "      <th>0</th>\n",
       "      <td>Jang</td>\n",
       "      <td>99</td>\n",
       "      <td>Female</td>\n",
       "      <td>49.5</td>\n",
       "    </tr>\n",
       "    <tr>\n",
       "      <th>1</th>\n",
       "      <td>Belle</td>\n",
       "      <td>98</td>\n",
       "      <td>Female</td>\n",
       "      <td>49.0</td>\n",
       "    </tr>\n",
       "    <tr>\n",
       "      <th>2</th>\n",
       "      <td>Brent</td>\n",
       "      <td>75</td>\n",
       "      <td>Male</td>\n",
       "      <td>37.5</td>\n",
       "    </tr>\n",
       "    <tr>\n",
       "      <th>3</th>\n",
       "      <td>Jambo</td>\n",
       "      <td>60</td>\n",
       "      <td>Female</td>\n",
       "      <td>30.0</td>\n",
       "    </tr>\n",
       "    <tr>\n",
       "      <th>4</th>\n",
       "      <td>EV</td>\n",
       "      <td>45</td>\n",
       "      <td>Female</td>\n",
       "      <td>22.5</td>\n",
       "    </tr>\n",
       "    <tr>\n",
       "      <th>5</th>\n",
       "      <td>WallE</td>\n",
       "      <td>56</td>\n",
       "      <td>Male</td>\n",
       "      <td>28.0</td>\n",
       "    </tr>\n",
       "  </tbody>\n",
       "</table>\n",
       "</div>"
      ],
      "text/plain": [
       "    Name  Score  Gender  Half_Score\n",
       "0   Jang     99  Female        49.5\n",
       "1  Belle     98  Female        49.0\n",
       "2  Brent     75    Male        37.5\n",
       "3  Jambo     60  Female        30.0\n",
       "4     EV     45  Female        22.5\n",
       "5  WallE     56    Male        28.0"
      ]
     },
     "execution_count": 27,
     "metadata": {},
     "output_type": "execute_result"
    }
   ],
   "source": [
    "df1\n",
    "\n",
    "## float number"
   ]
  },
  {
   "cell_type": "code",
   "execution_count": 28,
   "id": "025db705",
   "metadata": {
    "execution": {
     "iopub.execute_input": "2022-03-27T15:15:51.964370Z",
     "iopub.status.busy": "2022-03-27T15:15:51.963544Z",
     "iopub.status.idle": "2022-03-27T15:15:51.973478Z",
     "shell.execute_reply": "2022-03-27T15:15:51.974115Z",
     "shell.execute_reply.started": "2022-03-27T14:34:48.003966Z"
    },
    "papermill": {
     "duration": 0.078416,
     "end_time": "2022-03-27T15:15:51.974322",
     "exception": false,
     "start_time": "2022-03-27T15:15:51.895906",
     "status": "completed"
    },
    "tags": []
   },
   "outputs": [
    {
     "data": {
      "text/html": [
       "<div>\n",
       "<style scoped>\n",
       "    .dataframe tbody tr th:only-of-type {\n",
       "        vertical-align: middle;\n",
       "    }\n",
       "\n",
       "    .dataframe tbody tr th {\n",
       "        vertical-align: top;\n",
       "    }\n",
       "\n",
       "    .dataframe thead th {\n",
       "        text-align: right;\n",
       "    }\n",
       "</style>\n",
       "<table border=\"1\" class=\"dataframe\">\n",
       "  <thead>\n",
       "    <tr style=\"text-align: right;\">\n",
       "      <th></th>\n",
       "      <th>Name</th>\n",
       "      <th>Score</th>\n",
       "      <th>Gender</th>\n",
       "      <th>Half_Score</th>\n",
       "    </tr>\n",
       "  </thead>\n",
       "  <tbody>\n",
       "    <tr>\n",
       "      <th>0</th>\n",
       "      <td>Jang</td>\n",
       "      <td>99</td>\n",
       "      <td>Female</td>\n",
       "      <td>49</td>\n",
       "    </tr>\n",
       "    <tr>\n",
       "      <th>1</th>\n",
       "      <td>Belle</td>\n",
       "      <td>98</td>\n",
       "      <td>Female</td>\n",
       "      <td>49</td>\n",
       "    </tr>\n",
       "    <tr>\n",
       "      <th>2</th>\n",
       "      <td>Brent</td>\n",
       "      <td>75</td>\n",
       "      <td>Male</td>\n",
       "      <td>37</td>\n",
       "    </tr>\n",
       "    <tr>\n",
       "      <th>3</th>\n",
       "      <td>Jambo</td>\n",
       "      <td>60</td>\n",
       "      <td>Female</td>\n",
       "      <td>30</td>\n",
       "    </tr>\n",
       "    <tr>\n",
       "      <th>4</th>\n",
       "      <td>EV</td>\n",
       "      <td>45</td>\n",
       "      <td>Female</td>\n",
       "      <td>22</td>\n",
       "    </tr>\n",
       "    <tr>\n",
       "      <th>5</th>\n",
       "      <td>WallE</td>\n",
       "      <td>56</td>\n",
       "      <td>Male</td>\n",
       "      <td>28</td>\n",
       "    </tr>\n",
       "  </tbody>\n",
       "</table>\n",
       "</div>"
      ],
      "text/plain": [
       "    Name  Score  Gender  Half_Score\n",
       "0   Jang     99  Female          49\n",
       "1  Belle     98  Female          49\n",
       "2  Brent     75    Male          37\n",
       "3  Jambo     60  Female          30\n",
       "4     EV     45  Female          22\n",
       "5  WallE     56    Male          28"
      ]
     },
     "execution_count": 28,
     "metadata": {},
     "output_type": "execute_result"
    }
   ],
   "source": [
    "def Score(x):\n",
    "    return x//2\n",
    "df1['Half_Score'] = df1['Score'].apply(Score)\n",
    "df1\n",
    "\n",
    "## for round number"
   ]
  },
  {
   "cell_type": "code",
   "execution_count": 29,
   "id": "a2fd4830",
   "metadata": {
    "execution": {
     "iopub.execute_input": "2022-03-27T15:15:52.122426Z",
     "iopub.status.busy": "2022-03-27T15:15:52.121678Z",
     "iopub.status.idle": "2022-03-27T15:15:52.128484Z",
     "shell.execute_reply": "2022-03-27T15:15:52.129130Z",
     "shell.execute_reply.started": "2022-03-27T14:34:48.026601Z"
    },
    "papermill": {
     "duration": 0.077615,
     "end_time": "2022-03-27T15:15:52.129324",
     "exception": false,
     "start_time": "2022-03-27T15:15:52.051709",
     "status": "completed"
    },
    "tags": []
   },
   "outputs": [
    {
     "data": {
      "text/plain": [
       "0    49.5\n",
       "1    49.0\n",
       "2    37.5\n",
       "3    30.0\n",
       "4    22.5\n",
       "5    28.0\n",
       "Name: Score, dtype: float64"
      ]
     },
     "execution_count": 29,
     "metadata": {},
     "output_type": "execute_result"
    }
   ],
   "source": [
    "## apply method and lambda for one line code\n",
    "\n",
    "\n",
    "df1['Score'].apply(lambda x:x/2)"
   ]
  },
  {
   "cell_type": "code",
   "execution_count": 30,
   "id": "01dd4cd1",
   "metadata": {
    "execution": {
     "iopub.execute_input": "2022-03-27T15:15:52.274870Z",
     "iopub.status.busy": "2022-03-27T15:15:52.274185Z",
     "iopub.status.idle": "2022-03-27T15:15:52.280493Z",
     "shell.execute_reply": "2022-03-27T15:15:52.281111Z",
     "shell.execute_reply.started": "2022-03-27T14:34:48.037703Z"
    },
    "papermill": {
     "duration": 0.075746,
     "end_time": "2022-03-27T15:15:52.281295",
     "exception": false,
     "start_time": "2022-03-27T15:15:52.205549",
     "status": "completed"
    },
    "tags": []
   },
   "outputs": [
    {
     "data": {
      "text/plain": [
       "0    4\n",
       "1    5\n",
       "2    5\n",
       "3    5\n",
       "4    2\n",
       "5    5\n",
       "Name: Name, dtype: int64"
      ]
     },
     "execution_count": 30,
     "metadata": {},
     "output_type": "execute_result"
    }
   ],
   "source": [
    "## apply method on particular column\n",
    "\n",
    "df1['Name'].apply(len)\n",
    "\n",
    "## apply 'len'function to Name column"
   ]
  },
  {
   "cell_type": "markdown",
   "id": "fbd2cc3f",
   "metadata": {
    "papermill": {
     "duration": 0.06669,
     "end_time": "2022-03-27T15:15:52.415358",
     "exception": false,
     "start_time": "2022-03-27T15:15:52.348668",
     "status": "completed"
    },
    "tags": []
   },
   "source": [
    "## Map function"
   ]
  },
  {
   "cell_type": "markdown",
   "id": "de96ce6f",
   "metadata": {
    "papermill": {
     "duration": 0.066743,
     "end_time": "2022-03-27T15:15:52.549073",
     "exception": false,
     "start_time": "2022-03-27T15:15:52.482330",
     "status": "completed"
    },
    "tags": []
   },
   "source": [
    "male : 1\n",
    "female : 0"
   ]
  },
  {
   "cell_type": "code",
   "execution_count": 31,
   "id": "0f312069",
   "metadata": {
    "execution": {
     "iopub.execute_input": "2022-03-27T15:15:52.685810Z",
     "iopub.status.busy": "2022-03-27T15:15:52.685190Z",
     "iopub.status.idle": "2022-03-27T15:15:52.691376Z",
     "shell.execute_reply": "2022-03-27T15:15:52.691901Z",
     "shell.execute_reply.started": "2022-03-27T14:34:48.058275Z"
    },
    "papermill": {
     "duration": 0.076295,
     "end_time": "2022-03-27T15:15:52.692077",
     "exception": false,
     "start_time": "2022-03-27T15:15:52.615782",
     "status": "completed"
    },
    "tags": []
   },
   "outputs": [
    {
     "data": {
      "text/plain": [
       "0    0\n",
       "1    0\n",
       "2    1\n",
       "3    0\n",
       "4    0\n",
       "5    1\n",
       "Name: Gender, dtype: int64"
      ]
     },
     "execution_count": 31,
     "metadata": {},
     "output_type": "execute_result"
    }
   ],
   "source": [
    "df1['Gender'].map({'Male':1, 'Female':0 })"
   ]
  },
  {
   "cell_type": "code",
   "execution_count": 32,
   "id": "1f2ec13a",
   "metadata": {
    "execution": {
     "iopub.execute_input": "2022-03-27T15:15:52.833402Z",
     "iopub.status.busy": "2022-03-27T15:15:52.829765Z",
     "iopub.status.idle": "2022-03-27T15:15:52.835165Z",
     "shell.execute_reply": "2022-03-27T15:15:52.835640Z",
     "shell.execute_reply.started": "2022-03-27T14:34:48.081287Z"
    },
    "papermill": {
     "duration": 0.076086,
     "end_time": "2022-03-27T15:15:52.835815",
     "exception": false,
     "start_time": "2022-03-27T15:15:52.759729",
     "status": "completed"
    },
    "tags": []
   },
   "outputs": [],
   "source": [
    "df1['Male1_Female0'] = df1['Gender'].map({'Male':1, 'Female':0 })"
   ]
  },
  {
   "cell_type": "code",
   "execution_count": 33,
   "id": "82b8e9d7",
   "metadata": {
    "execution": {
     "iopub.execute_input": "2022-03-27T15:15:52.981057Z",
     "iopub.status.busy": "2022-03-27T15:15:52.980372Z",
     "iopub.status.idle": "2022-03-27T15:15:52.983394Z",
     "shell.execute_reply": "2022-03-27T15:15:52.983875Z",
     "shell.execute_reply.started": "2022-03-27T14:34:48.097652Z"
    },
    "papermill": {
     "duration": 0.080516,
     "end_time": "2022-03-27T15:15:52.984033",
     "exception": false,
     "start_time": "2022-03-27T15:15:52.903517",
     "status": "completed"
    },
    "tags": []
   },
   "outputs": [
    {
     "data": {
      "text/html": [
       "<div>\n",
       "<style scoped>\n",
       "    .dataframe tbody tr th:only-of-type {\n",
       "        vertical-align: middle;\n",
       "    }\n",
       "\n",
       "    .dataframe tbody tr th {\n",
       "        vertical-align: top;\n",
       "    }\n",
       "\n",
       "    .dataframe thead th {\n",
       "        text-align: right;\n",
       "    }\n",
       "</style>\n",
       "<table border=\"1\" class=\"dataframe\">\n",
       "  <thead>\n",
       "    <tr style=\"text-align: right;\">\n",
       "      <th></th>\n",
       "      <th>Name</th>\n",
       "      <th>Score</th>\n",
       "      <th>Gender</th>\n",
       "      <th>Half_Score</th>\n",
       "      <th>Male1_Female0</th>\n",
       "    </tr>\n",
       "  </thead>\n",
       "  <tbody>\n",
       "    <tr>\n",
       "      <th>0</th>\n",
       "      <td>Jang</td>\n",
       "      <td>99</td>\n",
       "      <td>Female</td>\n",
       "      <td>49</td>\n",
       "      <td>0</td>\n",
       "    </tr>\n",
       "    <tr>\n",
       "      <th>1</th>\n",
       "      <td>Belle</td>\n",
       "      <td>98</td>\n",
       "      <td>Female</td>\n",
       "      <td>49</td>\n",
       "      <td>0</td>\n",
       "    </tr>\n",
       "    <tr>\n",
       "      <th>2</th>\n",
       "      <td>Brent</td>\n",
       "      <td>75</td>\n",
       "      <td>Male</td>\n",
       "      <td>37</td>\n",
       "      <td>1</td>\n",
       "    </tr>\n",
       "    <tr>\n",
       "      <th>3</th>\n",
       "      <td>Jambo</td>\n",
       "      <td>60</td>\n",
       "      <td>Female</td>\n",
       "      <td>30</td>\n",
       "      <td>0</td>\n",
       "    </tr>\n",
       "    <tr>\n",
       "      <th>4</th>\n",
       "      <td>EV</td>\n",
       "      <td>45</td>\n",
       "      <td>Female</td>\n",
       "      <td>22</td>\n",
       "      <td>0</td>\n",
       "    </tr>\n",
       "    <tr>\n",
       "      <th>5</th>\n",
       "      <td>WallE</td>\n",
       "      <td>56</td>\n",
       "      <td>Male</td>\n",
       "      <td>28</td>\n",
       "      <td>1</td>\n",
       "    </tr>\n",
       "  </tbody>\n",
       "</table>\n",
       "</div>"
      ],
      "text/plain": [
       "    Name  Score  Gender  Half_Score  Male1_Female0\n",
       "0   Jang     99  Female          49              0\n",
       "1  Belle     98  Female          49              0\n",
       "2  Brent     75    Male          37              1\n",
       "3  Jambo     60  Female          30              0\n",
       "4     EV     45  Female          22              0\n",
       "5  WallE     56    Male          28              1"
      ]
     },
     "execution_count": 33,
     "metadata": {},
     "output_type": "execute_result"
    }
   ],
   "source": [
    "df1"
   ]
  },
  {
   "cell_type": "markdown",
   "id": "41f89f03",
   "metadata": {
    "papermill": {
     "duration": 0.073851,
     "end_time": "2022-03-27T15:15:53.127492",
     "exception": false,
     "start_time": "2022-03-27T15:15:53.053641",
     "status": "completed"
    },
    "tags": []
   },
   "source": [
    "## Drop single or multiple column"
   ]
  },
  {
   "cell_type": "code",
   "execution_count": 34,
   "id": "54df9350",
   "metadata": {
    "execution": {
     "iopub.execute_input": "2022-03-27T15:15:53.267963Z",
     "iopub.status.busy": "2022-03-27T15:15:53.267314Z",
     "iopub.status.idle": "2022-03-27T15:15:53.276879Z",
     "shell.execute_reply": "2022-03-27T15:15:53.277422Z",
     "shell.execute_reply.started": "2022-03-27T14:36:32.422884Z"
    },
    "papermill": {
     "duration": 0.081236,
     "end_time": "2022-03-27T15:15:53.277593",
     "exception": false,
     "start_time": "2022-03-27T15:15:53.196357",
     "status": "completed"
    },
    "tags": []
   },
   "outputs": [
    {
     "data": {
      "text/html": [
       "<div>\n",
       "<style scoped>\n",
       "    .dataframe tbody tr th:only-of-type {\n",
       "        vertical-align: middle;\n",
       "    }\n",
       "\n",
       "    .dataframe tbody tr th {\n",
       "        vertical-align: top;\n",
       "    }\n",
       "\n",
       "    .dataframe thead th {\n",
       "        text-align: right;\n",
       "    }\n",
       "</style>\n",
       "<table border=\"1\" class=\"dataframe\">\n",
       "  <thead>\n",
       "    <tr style=\"text-align: right;\">\n",
       "      <th></th>\n",
       "      <th>Name</th>\n",
       "      <th>Score</th>\n",
       "      <th>Gender</th>\n",
       "      <th>Half_Score</th>\n",
       "    </tr>\n",
       "  </thead>\n",
       "  <tbody>\n",
       "    <tr>\n",
       "      <th>0</th>\n",
       "      <td>Jang</td>\n",
       "      <td>99</td>\n",
       "      <td>Female</td>\n",
       "      <td>49</td>\n",
       "    </tr>\n",
       "    <tr>\n",
       "      <th>1</th>\n",
       "      <td>Belle</td>\n",
       "      <td>98</td>\n",
       "      <td>Female</td>\n",
       "      <td>49</td>\n",
       "    </tr>\n",
       "    <tr>\n",
       "      <th>2</th>\n",
       "      <td>Brent</td>\n",
       "      <td>75</td>\n",
       "      <td>Male</td>\n",
       "      <td>37</td>\n",
       "    </tr>\n",
       "    <tr>\n",
       "      <th>3</th>\n",
       "      <td>Jambo</td>\n",
       "      <td>60</td>\n",
       "      <td>Female</td>\n",
       "      <td>30</td>\n",
       "    </tr>\n",
       "    <tr>\n",
       "      <th>4</th>\n",
       "      <td>EV</td>\n",
       "      <td>45</td>\n",
       "      <td>Female</td>\n",
       "      <td>22</td>\n",
       "    </tr>\n",
       "    <tr>\n",
       "      <th>5</th>\n",
       "      <td>WallE</td>\n",
       "      <td>56</td>\n",
       "      <td>Male</td>\n",
       "      <td>28</td>\n",
       "    </tr>\n",
       "  </tbody>\n",
       "</table>\n",
       "</div>"
      ],
      "text/plain": [
       "    Name  Score  Gender  Half_Score\n",
       "0   Jang     99  Female          49\n",
       "1  Belle     98  Female          49\n",
       "2  Brent     75    Male          37\n",
       "3  Jambo     60  Female          30\n",
       "4     EV     45  Female          22\n",
       "5  WallE     56    Male          28"
      ]
     },
     "execution_count": 34,
     "metadata": {},
     "output_type": "execute_result"
    }
   ],
   "source": [
    "df1.drop('Male1_Female0',axis=1)\n",
    "\n"
   ]
  },
  {
   "cell_type": "code",
   "execution_count": 35,
   "id": "aa7c5e8c",
   "metadata": {
    "execution": {
     "iopub.execute_input": "2022-03-27T15:15:53.426463Z",
     "iopub.status.busy": "2022-03-27T15:15:53.425685Z",
     "iopub.status.idle": "2022-03-27T15:15:53.428926Z",
     "shell.execute_reply": "2022-03-27T15:15:53.429424Z",
     "shell.execute_reply.started": "2022-03-27T14:37:52.230249Z"
    },
    "papermill": {
     "duration": 0.082862,
     "end_time": "2022-03-27T15:15:53.429602",
     "exception": false,
     "start_time": "2022-03-27T15:15:53.346740",
     "status": "completed"
    },
    "tags": []
   },
   "outputs": [
    {
     "data": {
      "text/html": [
       "<div>\n",
       "<style scoped>\n",
       "    .dataframe tbody tr th:only-of-type {\n",
       "        vertical-align: middle;\n",
       "    }\n",
       "\n",
       "    .dataframe tbody tr th {\n",
       "        vertical-align: top;\n",
       "    }\n",
       "\n",
       "    .dataframe thead th {\n",
       "        text-align: right;\n",
       "    }\n",
       "</style>\n",
       "<table border=\"1\" class=\"dataframe\">\n",
       "  <thead>\n",
       "    <tr style=\"text-align: right;\">\n",
       "      <th></th>\n",
       "      <th>Name</th>\n",
       "      <th>Score</th>\n",
       "      <th>Gender</th>\n",
       "    </tr>\n",
       "  </thead>\n",
       "  <tbody>\n",
       "    <tr>\n",
       "      <th>0</th>\n",
       "      <td>Jang</td>\n",
       "      <td>99</td>\n",
       "      <td>Female</td>\n",
       "    </tr>\n",
       "    <tr>\n",
       "      <th>1</th>\n",
       "      <td>Belle</td>\n",
       "      <td>98</td>\n",
       "      <td>Female</td>\n",
       "    </tr>\n",
       "    <tr>\n",
       "      <th>2</th>\n",
       "      <td>Brent</td>\n",
       "      <td>75</td>\n",
       "      <td>Male</td>\n",
       "    </tr>\n",
       "    <tr>\n",
       "      <th>3</th>\n",
       "      <td>Jambo</td>\n",
       "      <td>60</td>\n",
       "      <td>Female</td>\n",
       "    </tr>\n",
       "    <tr>\n",
       "      <th>4</th>\n",
       "      <td>EV</td>\n",
       "      <td>45</td>\n",
       "      <td>Female</td>\n",
       "    </tr>\n",
       "    <tr>\n",
       "      <th>5</th>\n",
       "      <td>WallE</td>\n",
       "      <td>56</td>\n",
       "      <td>Male</td>\n",
       "    </tr>\n",
       "  </tbody>\n",
       "</table>\n",
       "</div>"
      ],
      "text/plain": [
       "    Name  Score  Gender\n",
       "0   Jang     99  Female\n",
       "1  Belle     98  Female\n",
       "2  Brent     75    Male\n",
       "3  Jambo     60  Female\n",
       "4     EV     45  Female\n",
       "5  WallE     56    Male"
      ]
     },
     "execution_count": 35,
     "metadata": {},
     "output_type": "execute_result"
    }
   ],
   "source": [
    "### drop multiple column : need [] ***\n",
    "\n",
    "df1.drop(['Male1_Female0','Half_Score'],axis=1)"
   ]
  },
  {
   "cell_type": "code",
   "execution_count": 36,
   "id": "8ab7d142",
   "metadata": {
    "execution": {
     "iopub.execute_input": "2022-03-27T15:15:53.571796Z",
     "iopub.status.busy": "2022-03-27T15:15:53.571153Z",
     "iopub.status.idle": "2022-03-27T15:15:53.582939Z",
     "shell.execute_reply": "2022-03-27T15:15:53.583476Z",
     "shell.execute_reply.started": "2022-03-27T14:44:00.404962Z"
    },
    "papermill": {
     "duration": 0.08445,
     "end_time": "2022-03-27T15:15:53.583651",
     "exception": false,
     "start_time": "2022-03-27T15:15:53.499201",
     "status": "completed"
    },
    "tags": []
   },
   "outputs": [
    {
     "data": {
      "text/html": [
       "<div>\n",
       "<style scoped>\n",
       "    .dataframe tbody tr th:only-of-type {\n",
       "        vertical-align: middle;\n",
       "    }\n",
       "\n",
       "    .dataframe tbody tr th {\n",
       "        vertical-align: top;\n",
       "    }\n",
       "\n",
       "    .dataframe thead th {\n",
       "        text-align: right;\n",
       "    }\n",
       "</style>\n",
       "<table border=\"1\" class=\"dataframe\">\n",
       "  <thead>\n",
       "    <tr style=\"text-align: right;\">\n",
       "      <th></th>\n",
       "      <th>Name</th>\n",
       "      <th>Score</th>\n",
       "      <th>Gender</th>\n",
       "      <th>Half_Score</th>\n",
       "      <th>Male1_Female0</th>\n",
       "    </tr>\n",
       "  </thead>\n",
       "  <tbody>\n",
       "    <tr>\n",
       "      <th>0</th>\n",
       "      <td>Jang</td>\n",
       "      <td>99</td>\n",
       "      <td>Female</td>\n",
       "      <td>49</td>\n",
       "      <td>0</td>\n",
       "    </tr>\n",
       "    <tr>\n",
       "      <th>1</th>\n",
       "      <td>Belle</td>\n",
       "      <td>98</td>\n",
       "      <td>Female</td>\n",
       "      <td>49</td>\n",
       "      <td>0</td>\n",
       "    </tr>\n",
       "    <tr>\n",
       "      <th>2</th>\n",
       "      <td>Brent</td>\n",
       "      <td>75</td>\n",
       "      <td>Male</td>\n",
       "      <td>37</td>\n",
       "      <td>1</td>\n",
       "    </tr>\n",
       "    <tr>\n",
       "      <th>3</th>\n",
       "      <td>Jambo</td>\n",
       "      <td>60</td>\n",
       "      <td>Female</td>\n",
       "      <td>30</td>\n",
       "      <td>0</td>\n",
       "    </tr>\n",
       "    <tr>\n",
       "      <th>4</th>\n",
       "      <td>EV</td>\n",
       "      <td>45</td>\n",
       "      <td>Female</td>\n",
       "      <td>22</td>\n",
       "      <td>0</td>\n",
       "    </tr>\n",
       "    <tr>\n",
       "      <th>5</th>\n",
       "      <td>WallE</td>\n",
       "      <td>56</td>\n",
       "      <td>Male</td>\n",
       "      <td>28</td>\n",
       "      <td>1</td>\n",
       "    </tr>\n",
       "  </tbody>\n",
       "</table>\n",
       "</div>"
      ],
      "text/plain": [
       "    Name  Score  Gender  Half_Score  Male1_Female0\n",
       "0   Jang     99  Female          49              0\n",
       "1  Belle     98  Female          49              0\n",
       "2  Brent     75    Male          37              1\n",
       "3  Jambo     60  Female          30              0\n",
       "4     EV     45  Female          22              0\n",
       "5  WallE     56    Male          28              1"
      ]
     },
     "execution_count": 36,
     "metadata": {},
     "output_type": "execute_result"
    }
   ],
   "source": [
    "def Score(x):\n",
    "    return x//2\n",
    "df1['Half_Score'] = df1['Score'].apply(Score)\n",
    "\n",
    "df1['Male1_Female0'] = df1['Gender'].map({'Male':1, 'Female':0 })\n",
    "df1"
   ]
  },
  {
   "cell_type": "code",
   "execution_count": 37,
   "id": "0b128c4a",
   "metadata": {
    "execution": {
     "iopub.execute_input": "2022-03-27T15:15:53.727905Z",
     "iopub.status.busy": "2022-03-27T15:15:53.726948Z",
     "iopub.status.idle": "2022-03-27T15:15:53.734278Z",
     "shell.execute_reply": "2022-03-27T15:15:53.734722Z",
     "shell.execute_reply.started": "2022-03-27T14:44:05.867078Z"
    },
    "papermill": {
     "duration": 0.080924,
     "end_time": "2022-03-27T15:15:53.734917",
     "exception": false,
     "start_time": "2022-03-27T15:15:53.653993",
     "status": "completed"
    },
    "tags": []
   },
   "outputs": [],
   "source": [
    "## inplace = True for permanent change\n",
    "\n",
    "\n",
    "def Score(x):\n",
    "    return x//2\n",
    "df1['Half_Score'] = df1['Score'].apply(Score)\n",
    "\n",
    "df1['Male1_Female0'] = df1['Gender'].map({'Male':1, 'Female':0 })\n",
    "\n",
    "\n",
    "df1.drop(['Male1_Female0','Half_Score'],axis=1, inplace = True)"
   ]
  },
  {
   "cell_type": "code",
   "execution_count": 38,
   "id": "63b71237",
   "metadata": {
    "execution": {
     "iopub.execute_input": "2022-03-27T15:15:53.878653Z",
     "iopub.status.busy": "2022-03-27T15:15:53.877690Z",
     "iopub.status.idle": "2022-03-27T15:15:53.886532Z",
     "shell.execute_reply": "2022-03-27T15:15:53.887076Z",
     "shell.execute_reply.started": "2022-03-27T14:44:08.676842Z"
    },
    "papermill": {
     "duration": 0.081858,
     "end_time": "2022-03-27T15:15:53.887252",
     "exception": false,
     "start_time": "2022-03-27T15:15:53.805394",
     "status": "completed"
    },
    "tags": []
   },
   "outputs": [
    {
     "data": {
      "text/html": [
       "<div>\n",
       "<style scoped>\n",
       "    .dataframe tbody tr th:only-of-type {\n",
       "        vertical-align: middle;\n",
       "    }\n",
       "\n",
       "    .dataframe tbody tr th {\n",
       "        vertical-align: top;\n",
       "    }\n",
       "\n",
       "    .dataframe thead th {\n",
       "        text-align: right;\n",
       "    }\n",
       "</style>\n",
       "<table border=\"1\" class=\"dataframe\">\n",
       "  <thead>\n",
       "    <tr style=\"text-align: right;\">\n",
       "      <th></th>\n",
       "      <th>Name</th>\n",
       "      <th>Score</th>\n",
       "      <th>Gender</th>\n",
       "    </tr>\n",
       "  </thead>\n",
       "  <tbody>\n",
       "    <tr>\n",
       "      <th>0</th>\n",
       "      <td>Jang</td>\n",
       "      <td>99</td>\n",
       "      <td>Female</td>\n",
       "    </tr>\n",
       "    <tr>\n",
       "      <th>1</th>\n",
       "      <td>Belle</td>\n",
       "      <td>98</td>\n",
       "      <td>Female</td>\n",
       "    </tr>\n",
       "    <tr>\n",
       "      <th>2</th>\n",
       "      <td>Brent</td>\n",
       "      <td>75</td>\n",
       "      <td>Male</td>\n",
       "    </tr>\n",
       "    <tr>\n",
       "      <th>3</th>\n",
       "      <td>Jambo</td>\n",
       "      <td>60</td>\n",
       "      <td>Female</td>\n",
       "    </tr>\n",
       "    <tr>\n",
       "      <th>4</th>\n",
       "      <td>EV</td>\n",
       "      <td>45</td>\n",
       "      <td>Female</td>\n",
       "    </tr>\n",
       "    <tr>\n",
       "      <th>5</th>\n",
       "      <td>WallE</td>\n",
       "      <td>56</td>\n",
       "      <td>Male</td>\n",
       "    </tr>\n",
       "  </tbody>\n",
       "</table>\n",
       "</div>"
      ],
      "text/plain": [
       "    Name  Score  Gender\n",
       "0   Jang     99  Female\n",
       "1  Belle     98  Female\n",
       "2  Brent     75    Male\n",
       "3  Jambo     60  Female\n",
       "4     EV     45  Female\n",
       "5  WallE     56    Male"
      ]
     },
     "execution_count": 38,
     "metadata": {},
     "output_type": "execute_result"
    }
   ],
   "source": [
    "df1"
   ]
  },
  {
   "cell_type": "markdown",
   "id": "1a4d84a3",
   "metadata": {
    "papermill": {
     "duration": 0.070337,
     "end_time": "2022-03-27T15:15:54.032549",
     "exception": false,
     "start_time": "2022-03-27T15:15:53.962212",
     "status": "completed"
    },
    "tags": []
   },
   "source": [
    "## all coumn names"
   ]
  },
  {
   "cell_type": "code",
   "execution_count": 39,
   "id": "abd1b491",
   "metadata": {
    "execution": {
     "iopub.execute_input": "2022-03-27T15:15:54.179033Z",
     "iopub.status.busy": "2022-03-27T15:15:54.176525Z",
     "iopub.status.idle": "2022-03-27T15:15:54.182652Z",
     "shell.execute_reply": "2022-03-27T15:15:54.182211Z",
     "shell.execute_reply.started": "2022-03-27T14:45:10.424044Z"
    },
    "papermill": {
     "duration": 0.078852,
     "end_time": "2022-03-27T15:15:54.182790",
     "exception": false,
     "start_time": "2022-03-27T15:15:54.103938",
     "status": "completed"
    },
    "tags": []
   },
   "outputs": [
    {
     "data": {
      "text/plain": [
       "Index(['Name', 'Score', 'Gender'], dtype='object')"
      ]
     },
     "execution_count": 39,
     "metadata": {},
     "output_type": "execute_result"
    }
   ],
   "source": [
    "df1.columns"
   ]
  },
  {
   "cell_type": "code",
   "execution_count": 40,
   "id": "cef2a5f4",
   "metadata": {
    "execution": {
     "iopub.execute_input": "2022-03-27T15:15:54.330591Z",
     "iopub.status.busy": "2022-03-27T15:15:54.329615Z",
     "iopub.status.idle": "2022-03-27T15:15:54.334757Z",
     "shell.execute_reply": "2022-03-27T15:15:54.335359Z",
     "shell.execute_reply.started": "2022-03-27T14:46:35.862510Z"
    },
    "papermill": {
     "duration": 0.078928,
     "end_time": "2022-03-27T15:15:54.335521",
     "exception": false,
     "start_time": "2022-03-27T15:15:54.256593",
     "status": "completed"
    },
    "tags": []
   },
   "outputs": [
    {
     "data": {
      "text/plain": [
       "RangeIndex(start=0, stop=6, step=1)"
      ]
     },
     "execution_count": 40,
     "metadata": {},
     "output_type": "execute_result"
    }
   ],
   "source": [
    "df1.index\n",
    "\n",
    "# start at index 0 and total 6 indexes(row), and step up 1 step at the time"
   ]
  },
  {
   "cell_type": "markdown",
   "id": "49e6c6b7",
   "metadata": {
    "papermill": {
     "duration": 0.073875,
     "end_time": "2022-03-27T15:15:54.481810",
     "exception": false,
     "start_time": "2022-03-27T15:15:54.407935",
     "status": "completed"
    },
    "tags": []
   },
   "source": [
    "## Sort"
   ]
  },
  {
   "cell_type": "markdown",
   "id": "e23fef9b",
   "metadata": {
    "papermill": {
     "duration": 0.071661,
     "end_time": "2022-03-27T15:15:54.625183",
     "exception": false,
     "start_time": "2022-03-27T15:15:54.553522",
     "status": "completed"
    },
    "tags": []
   },
   "source": [
    "shift+tab for more documentation"
   ]
  },
  {
   "cell_type": "code",
   "execution_count": 41,
   "id": "927878ce",
   "metadata": {
    "execution": {
     "iopub.execute_input": "2022-03-27T15:15:54.773933Z",
     "iopub.status.busy": "2022-03-27T15:15:54.772958Z",
     "iopub.status.idle": "2022-03-27T15:15:54.781247Z",
     "shell.execute_reply": "2022-03-27T15:15:54.781814Z",
     "shell.execute_reply.started": "2022-03-27T14:54:04.015632Z"
    },
    "papermill": {
     "duration": 0.084741,
     "end_time": "2022-03-27T15:15:54.781979",
     "exception": false,
     "start_time": "2022-03-27T15:15:54.697238",
     "status": "completed"
    },
    "tags": []
   },
   "outputs": [
    {
     "data": {
      "text/html": [
       "<div>\n",
       "<style scoped>\n",
       "    .dataframe tbody tr th:only-of-type {\n",
       "        vertical-align: middle;\n",
       "    }\n",
       "\n",
       "    .dataframe tbody tr th {\n",
       "        vertical-align: top;\n",
       "    }\n",
       "\n",
       "    .dataframe thead th {\n",
       "        text-align: right;\n",
       "    }\n",
       "</style>\n",
       "<table border=\"1\" class=\"dataframe\">\n",
       "  <thead>\n",
       "    <tr style=\"text-align: right;\">\n",
       "      <th></th>\n",
       "      <th>Name</th>\n",
       "      <th>Score</th>\n",
       "      <th>Gender</th>\n",
       "    </tr>\n",
       "  </thead>\n",
       "  <tbody>\n",
       "    <tr>\n",
       "      <th>4</th>\n",
       "      <td>EV</td>\n",
       "      <td>45</td>\n",
       "      <td>Female</td>\n",
       "    </tr>\n",
       "    <tr>\n",
       "      <th>5</th>\n",
       "      <td>WallE</td>\n",
       "      <td>56</td>\n",
       "      <td>Male</td>\n",
       "    </tr>\n",
       "    <tr>\n",
       "      <th>3</th>\n",
       "      <td>Jambo</td>\n",
       "      <td>60</td>\n",
       "      <td>Female</td>\n",
       "    </tr>\n",
       "    <tr>\n",
       "      <th>2</th>\n",
       "      <td>Brent</td>\n",
       "      <td>75</td>\n",
       "      <td>Male</td>\n",
       "    </tr>\n",
       "    <tr>\n",
       "      <th>1</th>\n",
       "      <td>Belle</td>\n",
       "      <td>98</td>\n",
       "      <td>Female</td>\n",
       "    </tr>\n",
       "    <tr>\n",
       "      <th>0</th>\n",
       "      <td>Jang</td>\n",
       "      <td>99</td>\n",
       "      <td>Female</td>\n",
       "    </tr>\n",
       "  </tbody>\n",
       "</table>\n",
       "</div>"
      ],
      "text/plain": [
       "    Name  Score  Gender\n",
       "4     EV     45  Female\n",
       "5  WallE     56    Male\n",
       "3  Jambo     60  Female\n",
       "2  Brent     75    Male\n",
       "1  Belle     98  Female\n",
       "0   Jang     99  Female"
      ]
     },
     "execution_count": 41,
     "metadata": {},
     "output_type": "execute_result"
    }
   ],
   "source": [
    "df1.sort_values(by = 'Score')"
   ]
  },
  {
   "cell_type": "code",
   "execution_count": 42,
   "id": "c510f244",
   "metadata": {
    "execution": {
     "iopub.execute_input": "2022-03-27T15:15:54.929978Z",
     "iopub.status.busy": "2022-03-27T15:15:54.928990Z",
     "iopub.status.idle": "2022-03-27T15:15:54.938747Z",
     "shell.execute_reply": "2022-03-27T15:15:54.939347Z",
     "shell.execute_reply.started": "2022-03-27T14:55:26.767041Z"
    },
    "papermill": {
     "duration": 0.085342,
     "end_time": "2022-03-27T15:15:54.939515",
     "exception": false,
     "start_time": "2022-03-27T15:15:54.854173",
     "status": "completed"
    },
    "tags": []
   },
   "outputs": [
    {
     "data": {
      "text/html": [
       "<div>\n",
       "<style scoped>\n",
       "    .dataframe tbody tr th:only-of-type {\n",
       "        vertical-align: middle;\n",
       "    }\n",
       "\n",
       "    .dataframe tbody tr th {\n",
       "        vertical-align: top;\n",
       "    }\n",
       "\n",
       "    .dataframe thead th {\n",
       "        text-align: right;\n",
       "    }\n",
       "</style>\n",
       "<table border=\"1\" class=\"dataframe\">\n",
       "  <thead>\n",
       "    <tr style=\"text-align: right;\">\n",
       "      <th></th>\n",
       "      <th>Name</th>\n",
       "      <th>Score</th>\n",
       "      <th>Gender</th>\n",
       "    </tr>\n",
       "  </thead>\n",
       "  <tbody>\n",
       "    <tr>\n",
       "      <th>0</th>\n",
       "      <td>Jang</td>\n",
       "      <td>99</td>\n",
       "      <td>Female</td>\n",
       "    </tr>\n",
       "    <tr>\n",
       "      <th>1</th>\n",
       "      <td>Belle</td>\n",
       "      <td>98</td>\n",
       "      <td>Female</td>\n",
       "    </tr>\n",
       "    <tr>\n",
       "      <th>2</th>\n",
       "      <td>Brent</td>\n",
       "      <td>75</td>\n",
       "      <td>Male</td>\n",
       "    </tr>\n",
       "    <tr>\n",
       "      <th>3</th>\n",
       "      <td>Jambo</td>\n",
       "      <td>60</td>\n",
       "      <td>Female</td>\n",
       "    </tr>\n",
       "    <tr>\n",
       "      <th>5</th>\n",
       "      <td>WallE</td>\n",
       "      <td>56</td>\n",
       "      <td>Male</td>\n",
       "    </tr>\n",
       "    <tr>\n",
       "      <th>4</th>\n",
       "      <td>EV</td>\n",
       "      <td>45</td>\n",
       "      <td>Female</td>\n",
       "    </tr>\n",
       "  </tbody>\n",
       "</table>\n",
       "</div>"
      ],
      "text/plain": [
       "    Name  Score  Gender\n",
       "0   Jang     99  Female\n",
       "1  Belle     98  Female\n",
       "2  Brent     75    Male\n",
       "3  Jambo     60  Female\n",
       "5  WallE     56    Male\n",
       "4     EV     45  Female"
      ]
     },
     "execution_count": 42,
     "metadata": {},
     "output_type": "execute_result"
    }
   ],
   "source": [
    "df1.sort_values(by = 'Score', ascending = False)"
   ]
  },
  {
   "cell_type": "code",
   "execution_count": 43,
   "id": "d235c167",
   "metadata": {
    "execution": {
     "iopub.execute_input": "2022-03-27T15:15:55.088875Z",
     "iopub.status.busy": "2022-03-27T15:15:55.087877Z",
     "iopub.status.idle": "2022-03-27T15:15:55.100547Z",
     "shell.execute_reply": "2022-03-27T15:15:55.101030Z",
     "shell.execute_reply.started": "2022-03-27T15:00:08.873536Z"
    },
    "papermill": {
     "duration": 0.088704,
     "end_time": "2022-03-27T15:15:55.101221",
     "exception": false,
     "start_time": "2022-03-27T15:15:55.012517",
     "status": "completed"
    },
    "tags": []
   },
   "outputs": [
    {
     "data": {
      "text/html": [
       "<div>\n",
       "<style scoped>\n",
       "    .dataframe tbody tr th:only-of-type {\n",
       "        vertical-align: middle;\n",
       "    }\n",
       "\n",
       "    .dataframe tbody tr th {\n",
       "        vertical-align: top;\n",
       "    }\n",
       "\n",
       "    .dataframe thead th {\n",
       "        text-align: right;\n",
       "    }\n",
       "</style>\n",
       "<table border=\"1\" class=\"dataframe\">\n",
       "  <thead>\n",
       "    <tr style=\"text-align: right;\">\n",
       "      <th></th>\n",
       "      <th>Name</th>\n",
       "      <th>Score</th>\n",
       "      <th>Gender</th>\n",
       "    </tr>\n",
       "  </thead>\n",
       "  <tbody>\n",
       "    <tr>\n",
       "      <th>0</th>\n",
       "      <td>Jang</td>\n",
       "      <td>99</td>\n",
       "      <td>Female</td>\n",
       "    </tr>\n",
       "    <tr>\n",
       "      <th>1</th>\n",
       "      <td>Belle</td>\n",
       "      <td>98</td>\n",
       "      <td>Female</td>\n",
       "    </tr>\n",
       "    <tr>\n",
       "      <th>2</th>\n",
       "      <td>Brent</td>\n",
       "      <td>75</td>\n",
       "      <td>Male</td>\n",
       "    </tr>\n",
       "    <tr>\n",
       "      <th>3</th>\n",
       "      <td>Jambo</td>\n",
       "      <td>60</td>\n",
       "      <td>Female</td>\n",
       "    </tr>\n",
       "    <tr>\n",
       "      <th>5</th>\n",
       "      <td>WallE</td>\n",
       "      <td>56</td>\n",
       "      <td>Male</td>\n",
       "    </tr>\n",
       "    <tr>\n",
       "      <th>4</th>\n",
       "      <td>EV</td>\n",
       "      <td>45</td>\n",
       "      <td>Female</td>\n",
       "    </tr>\n",
       "  </tbody>\n",
       "</table>\n",
       "</div>"
      ],
      "text/plain": [
       "    Name  Score  Gender\n",
       "0   Jang     99  Female\n",
       "1  Belle     98  Female\n",
       "2  Brent     75    Male\n",
       "3  Jambo     60  Female\n",
       "5  WallE     56    Male\n",
       "4     EV     45  Female"
      ]
     },
     "execution_count": 43,
     "metadata": {},
     "output_type": "execute_result"
    }
   ],
   "source": [
    "### sort mmultiple column : need []***\n",
    "\n",
    "df1.sort_values(by = ['Score', 'Name'], ascending = False)\n",
    "\n",
    "## sort Score first then Name"
   ]
  },
  {
   "cell_type": "code",
   "execution_count": 44,
   "id": "a4523765",
   "metadata": {
    "execution": {
     "iopub.execute_input": "2022-03-27T15:15:55.251790Z",
     "iopub.status.busy": "2022-03-27T15:15:55.250855Z",
     "iopub.status.idle": "2022-03-27T15:15:55.260710Z",
     "shell.execute_reply": "2022-03-27T15:15:55.261318Z",
     "shell.execute_reply.started": "2022-03-27T15:06:49.738982Z"
    },
    "papermill": {
     "duration": 0.088288,
     "end_time": "2022-03-27T15:15:55.261499",
     "exception": false,
     "start_time": "2022-03-27T15:15:55.173211",
     "status": "completed"
    },
    "tags": []
   },
   "outputs": [
    {
     "data": {
      "text/html": [
       "<div>\n",
       "<style scoped>\n",
       "    .dataframe tbody tr th:only-of-type {\n",
       "        vertical-align: middle;\n",
       "    }\n",
       "\n",
       "    .dataframe tbody tr th {\n",
       "        vertical-align: top;\n",
       "    }\n",
       "\n",
       "    .dataframe thead th {\n",
       "        text-align: right;\n",
       "    }\n",
       "</style>\n",
       "<table border=\"1\" class=\"dataframe\">\n",
       "  <thead>\n",
       "    <tr style=\"text-align: right;\">\n",
       "      <th></th>\n",
       "      <th>Name</th>\n",
       "      <th>Score</th>\n",
       "      <th>Gender</th>\n",
       "    </tr>\n",
       "  </thead>\n",
       "  <tbody>\n",
       "    <tr>\n",
       "      <th>0</th>\n",
       "      <td>Jang</td>\n",
       "      <td>99</td>\n",
       "      <td>Female</td>\n",
       "    </tr>\n",
       "    <tr>\n",
       "      <th>1</th>\n",
       "      <td>Belle</td>\n",
       "      <td>98</td>\n",
       "      <td>Female</td>\n",
       "    </tr>\n",
       "    <tr>\n",
       "      <th>3</th>\n",
       "      <td>Jambo</td>\n",
       "      <td>60</td>\n",
       "      <td>Female</td>\n",
       "    </tr>\n",
       "    <tr>\n",
       "      <th>4</th>\n",
       "      <td>EV</td>\n",
       "      <td>45</td>\n",
       "      <td>Female</td>\n",
       "    </tr>\n",
       "  </tbody>\n",
       "</table>\n",
       "</div>"
      ],
      "text/plain": [
       "    Name  Score  Gender\n",
       "0   Jang     99  Female\n",
       "1  Belle     98  Female\n",
       "3  Jambo     60  Female\n",
       "4     EV     45  Female"
      ]
     },
     "execution_count": 44,
     "metadata": {},
     "output_type": "execute_result"
    }
   ],
   "source": [
    "## Show only female data\n",
    "\n",
    "df1[df1['Gender'] == 'Female']"
   ]
  },
  {
   "cell_type": "code",
   "execution_count": 45,
   "id": "a4249261",
   "metadata": {
    "execution": {
     "iopub.execute_input": "2022-03-27T15:15:55.412330Z",
     "iopub.status.busy": "2022-03-27T15:15:55.411357Z",
     "iopub.status.idle": "2022-03-27T15:15:55.418596Z",
     "shell.execute_reply": "2022-03-27T15:15:55.419213Z",
     "shell.execute_reply.started": "2022-03-27T15:09:51.423324Z"
    },
    "papermill": {
     "duration": 0.084674,
     "end_time": "2022-03-27T15:15:55.419388",
     "exception": false,
     "start_time": "2022-03-27T15:15:55.334714",
     "status": "completed"
    },
    "tags": []
   },
   "outputs": [
    {
     "data": {
      "text/plain": [
       "0     Jang\n",
       "1    Belle\n",
       "3    Jambo\n",
       "4       EV\n",
       "Name: Name, dtype: object"
      ]
     },
     "execution_count": 45,
     "metadata": {},
     "output_type": "execute_result"
    }
   ],
   "source": [
    "df1[df1['Gender'] == 'Female']['Name']\n",
    "\n",
    "#female and only name column"
   ]
  },
  {
   "cell_type": "code",
   "execution_count": 46,
   "id": "16cf99fe",
   "metadata": {
    "execution": {
     "iopub.execute_input": "2022-03-27T15:15:55.570842Z",
     "iopub.status.busy": "2022-03-27T15:15:55.569870Z",
     "iopub.status.idle": "2022-03-27T15:15:55.580603Z",
     "shell.execute_reply": "2022-03-27T15:15:55.579991Z",
     "shell.execute_reply.started": "2022-03-27T15:10:21.702100Z"
    },
    "papermill": {
     "duration": 0.087341,
     "end_time": "2022-03-27T15:15:55.580747",
     "exception": false,
     "start_time": "2022-03-27T15:15:55.493406",
     "status": "completed"
    },
    "tags": []
   },
   "outputs": [
    {
     "data": {
      "text/html": [
       "<div>\n",
       "<style scoped>\n",
       "    .dataframe tbody tr th:only-of-type {\n",
       "        vertical-align: middle;\n",
       "    }\n",
       "\n",
       "    .dataframe tbody tr th {\n",
       "        vertical-align: top;\n",
       "    }\n",
       "\n",
       "    .dataframe thead th {\n",
       "        text-align: right;\n",
       "    }\n",
       "</style>\n",
       "<table border=\"1\" class=\"dataframe\">\n",
       "  <thead>\n",
       "    <tr style=\"text-align: right;\">\n",
       "      <th></th>\n",
       "      <th>Name</th>\n",
       "      <th>Score</th>\n",
       "    </tr>\n",
       "  </thead>\n",
       "  <tbody>\n",
       "    <tr>\n",
       "      <th>0</th>\n",
       "      <td>Jang</td>\n",
       "      <td>99</td>\n",
       "    </tr>\n",
       "    <tr>\n",
       "      <th>1</th>\n",
       "      <td>Belle</td>\n",
       "      <td>98</td>\n",
       "    </tr>\n",
       "    <tr>\n",
       "      <th>3</th>\n",
       "      <td>Jambo</td>\n",
       "      <td>60</td>\n",
       "    </tr>\n",
       "    <tr>\n",
       "      <th>4</th>\n",
       "      <td>EV</td>\n",
       "      <td>45</td>\n",
       "    </tr>\n",
       "  </tbody>\n",
       "</table>\n",
       "</div>"
      ],
      "text/plain": [
       "    Name  Score\n",
       "0   Jang     99\n",
       "1  Belle     98\n",
       "3  Jambo     60\n",
       "4     EV     45"
      ]
     },
     "execution_count": 46,
     "metadata": {},
     "output_type": "execute_result"
    }
   ],
   "source": [
    "## Show only female data , and only name and score\n",
    "\n",
    "df1[df1['Gender'] == 'Female'][['Name','Score']]"
   ]
  },
  {
   "cell_type": "code",
   "execution_count": 47,
   "id": "cc9e8ec3",
   "metadata": {
    "execution": {
     "iopub.execute_input": "2022-03-27T15:15:55.732969Z",
     "iopub.status.busy": "2022-03-27T15:15:55.732041Z",
     "iopub.status.idle": "2022-03-27T15:15:55.741698Z",
     "shell.execute_reply": "2022-03-27T15:15:55.742335Z",
     "shell.execute_reply.started": "2022-03-27T15:13:32.487892Z"
    },
    "papermill": {
     "duration": 0.087174,
     "end_time": "2022-03-27T15:15:55.742505",
     "exception": false,
     "start_time": "2022-03-27T15:15:55.655331",
     "status": "completed"
    },
    "tags": []
   },
   "outputs": [
    {
     "data": {
      "text/html": [
       "<div>\n",
       "<style scoped>\n",
       "    .dataframe tbody tr th:only-of-type {\n",
       "        vertical-align: middle;\n",
       "    }\n",
       "\n",
       "    .dataframe tbody tr th {\n",
       "        vertical-align: top;\n",
       "    }\n",
       "\n",
       "    .dataframe thead th {\n",
       "        text-align: right;\n",
       "    }\n",
       "</style>\n",
       "<table border=\"1\" class=\"dataframe\">\n",
       "  <thead>\n",
       "    <tr style=\"text-align: right;\">\n",
       "      <th></th>\n",
       "      <th>Name</th>\n",
       "      <th>Score</th>\n",
       "      <th>Gender</th>\n",
       "    </tr>\n",
       "  </thead>\n",
       "  <tbody>\n",
       "    <tr>\n",
       "      <th>0</th>\n",
       "      <td>Jang</td>\n",
       "      <td>99</td>\n",
       "      <td>Female</td>\n",
       "    </tr>\n",
       "    <tr>\n",
       "      <th>1</th>\n",
       "      <td>Belle</td>\n",
       "      <td>98</td>\n",
       "      <td>Female</td>\n",
       "    </tr>\n",
       "    <tr>\n",
       "      <th>3</th>\n",
       "      <td>Jambo</td>\n",
       "      <td>60</td>\n",
       "      <td>Female</td>\n",
       "    </tr>\n",
       "    <tr>\n",
       "      <th>4</th>\n",
       "      <td>EV</td>\n",
       "      <td>45</td>\n",
       "      <td>Female</td>\n",
       "    </tr>\n",
       "  </tbody>\n",
       "</table>\n",
       "</div>"
      ],
      "text/plain": [
       "    Name  Score  Gender\n",
       "0   Jang     99  Female\n",
       "1  Belle     98  Female\n",
       "3  Jambo     60  Female\n",
       "4     EV     45  Female"
      ]
     },
     "execution_count": 47,
     "metadata": {},
     "output_type": "execute_result"
    }
   ],
   "source": [
    "## isin function\n",
    "\n",
    "df1[df1['Gender'].isin(['Female'])]"
   ]
  },
  {
   "cell_type": "code",
   "execution_count": 48,
   "id": "ecee3993",
   "metadata": {
    "execution": {
     "iopub.execute_input": "2022-03-27T15:15:55.902262Z",
     "iopub.status.busy": "2022-03-27T15:15:55.901464Z",
     "iopub.status.idle": "2022-03-27T15:15:55.904587Z",
     "shell.execute_reply": "2022-03-27T15:15:55.905053Z",
     "shell.execute_reply.started": "2022-03-27T15:14:28.196572Z"
    },
    "papermill": {
     "duration": 0.088491,
     "end_time": "2022-03-27T15:15:55.905247",
     "exception": false,
     "start_time": "2022-03-27T15:15:55.816756",
     "status": "completed"
    },
    "tags": []
   },
   "outputs": [
    {
     "data": {
      "text/html": [
       "<div>\n",
       "<style scoped>\n",
       "    .dataframe tbody tr th:only-of-type {\n",
       "        vertical-align: middle;\n",
       "    }\n",
       "\n",
       "    .dataframe tbody tr th {\n",
       "        vertical-align: top;\n",
       "    }\n",
       "\n",
       "    .dataframe thead th {\n",
       "        text-align: right;\n",
       "    }\n",
       "</style>\n",
       "<table border=\"1\" class=\"dataframe\">\n",
       "  <thead>\n",
       "    <tr style=\"text-align: right;\">\n",
       "      <th></th>\n",
       "      <th>Name</th>\n",
       "      <th>Score</th>\n",
       "    </tr>\n",
       "  </thead>\n",
       "  <tbody>\n",
       "    <tr>\n",
       "      <th>0</th>\n",
       "      <td>Jang</td>\n",
       "      <td>99</td>\n",
       "    </tr>\n",
       "    <tr>\n",
       "      <th>1</th>\n",
       "      <td>Belle</td>\n",
       "      <td>98</td>\n",
       "    </tr>\n",
       "    <tr>\n",
       "      <th>3</th>\n",
       "      <td>Jambo</td>\n",
       "      <td>60</td>\n",
       "    </tr>\n",
       "    <tr>\n",
       "      <th>4</th>\n",
       "      <td>EV</td>\n",
       "      <td>45</td>\n",
       "    </tr>\n",
       "  </tbody>\n",
       "</table>\n",
       "</div>"
      ],
      "text/plain": [
       "    Name  Score\n",
       "0   Jang     99\n",
       "1  Belle     98\n",
       "3  Jambo     60\n",
       "4     EV     45"
      ]
     },
     "execution_count": 48,
     "metadata": {},
     "output_type": "execute_result"
    }
   ],
   "source": [
    "df1[df1['Gender'].isin(['Female'])][['Name','Score']]"
   ]
  },
  {
   "cell_type": "code",
   "execution_count": null,
   "id": "5f5a6d00",
   "metadata": {
    "papermill": {
     "duration": 0.075155,
     "end_time": "2022-03-27T15:15:56.056998",
     "exception": false,
     "start_time": "2022-03-27T15:15:55.981843",
     "status": "completed"
    },
    "tags": []
   },
   "outputs": [],
   "source": []
  },
  {
   "cell_type": "code",
   "execution_count": null,
   "id": "d8eea023",
   "metadata": {
    "papermill": {
     "duration": 0.075316,
     "end_time": "2022-03-27T15:15:56.208012",
     "exception": false,
     "start_time": "2022-03-27T15:15:56.132696",
     "status": "completed"
    },
    "tags": []
   },
   "outputs": [],
   "source": []
  }
 ],
 "metadata": {
  "kernelspec": {
   "display_name": "Python 3",
   "language": "python",
   "name": "python3"
  },
  "language_info": {
   "codemirror_mode": {
    "name": "ipython",
    "version": 3
   },
   "file_extension": ".py",
   "mimetype": "text/x-python",
   "name": "python",
   "nbconvert_exporter": "python",
   "pygments_lexer": "ipython3",
   "version": "3.7.12"
  },
  "papermill": {
   "default_parameters": {},
   "duration": 19.123343,
   "end_time": "2022-03-27T15:15:56.893727",
   "environment_variables": {},
   "exception": null,
   "input_path": "__notebook__.ipynb",
   "output_path": "__notebook__.ipynb",
   "parameters": {},
   "start_time": "2022-03-27T15:15:37.770384",
   "version": "2.3.3"
  }
 },
 "nbformat": 4,
 "nbformat_minor": 5
}
