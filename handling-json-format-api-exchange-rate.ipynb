{
 "cells": [
  {
   "cell_type": "code",
   "execution_count": 1,
   "id": "7c7ef1cc",
   "metadata": {
    "execution": {
     "iopub.execute_input": "2021-12-26T13:25:22.918959Z",
     "iopub.status.busy": "2021-12-26T13:25:22.918125Z",
     "iopub.status.idle": "2021-12-26T13:25:22.922559Z",
     "shell.execute_reply": "2021-12-26T13:25:22.921815Z",
     "shell.execute_reply.started": "2021-12-26T13:09:21.999493Z"
    },
    "papermill": {
     "duration": 0.02963,
     "end_time": "2021-12-26T13:25:22.922737",
     "exception": false,
     "start_time": "2021-12-26T13:25:22.893107",
     "status": "completed"
    },
    "tags": []
   },
   "outputs": [],
   "source": [
    "base_url = \"http://api.exchangeratesapi.io/v1/latest?access_key=4cd0ff4c3ea4c1dab5b21a37d3450660\""
   ]
  },
  {
   "cell_type": "markdown",
   "id": "eb04f580",
   "metadata": {
    "papermill": {
     "duration": 0.014399,
     "end_time": "2021-12-26T13:25:22.954983",
     "exception": false,
     "start_time": "2021-12-26T13:25:22.940584",
     "status": "completed"
    },
    "tags": []
   },
   "source": [
    "Extracting data on exchange rate\n",
    "\n",
    "sending a get request and install in the variable\n"
   ]
  },
  {
   "cell_type": "code",
   "execution_count": 2,
   "id": "535da03a",
   "metadata": {
    "execution": {
     "iopub.execute_input": "2021-12-26T13:25:22.989477Z",
     "iopub.status.busy": "2021-12-26T13:25:22.988457Z",
     "iopub.status.idle": "2021-12-26T13:25:22.992335Z",
     "shell.execute_reply": "2021-12-26T13:25:22.992945Z",
     "shell.execute_reply.started": "2021-12-26T13:09:22.028181Z"
    },
    "papermill": {
     "duration": 0.023432,
     "end_time": "2021-12-26T13:25:22.993109",
     "exception": false,
     "start_time": "2021-12-26T13:25:22.969677",
     "status": "completed"
    },
    "tags": []
   },
   "outputs": [],
   "source": [
    "import requests"
   ]
  },
  {
   "cell_type": "code",
   "execution_count": 3,
   "id": "686ff0a5",
   "metadata": {
    "execution": {
     "iopub.execute_input": "2021-12-26T13:25:23.026466Z",
     "iopub.status.busy": "2021-12-26T13:25:23.025483Z",
     "iopub.status.idle": "2021-12-26T13:25:23.782418Z",
     "shell.execute_reply": "2021-12-26T13:25:23.781814Z",
     "shell.execute_reply.started": "2021-12-26T13:09:22.033546Z"
    },
    "papermill": {
     "duration": 0.774644,
     "end_time": "2021-12-26T13:25:23.782581",
     "exception": false,
     "start_time": "2021-12-26T13:25:23.007937",
     "status": "completed"
    },
    "tags": []
   },
   "outputs": [],
   "source": [
    "response = requests.get(base_url)"
   ]
  },
  {
   "cell_type": "markdown",
   "id": "2427b55f",
   "metadata": {
    "papermill": {
     "duration": 0.015627,
     "end_time": "2021-12-26T13:25:23.812901",
     "exception": false,
     "start_time": "2021-12-26T13:25:23.797274",
     "status": "completed"
    },
    "tags": []
   },
   "source": [
    "Investigating the response : is it work?"
   ]
  },
  {
   "cell_type": "code",
   "execution_count": 4,
   "id": "9f17a42c",
   "metadata": {
    "execution": {
     "iopub.execute_input": "2021-12-26T13:25:23.849519Z",
     "iopub.status.busy": "2021-12-26T13:25:23.848824Z",
     "iopub.status.idle": "2021-12-26T13:25:23.852356Z",
     "shell.execute_reply": "2021-12-26T13:25:23.852852Z",
     "shell.execute_reply.started": "2021-12-26T13:09:22.146888Z"
    },
    "papermill": {
     "duration": 0.025451,
     "end_time": "2021-12-26T13:25:23.853015",
     "exception": false,
     "start_time": "2021-12-26T13:25:23.827564",
     "status": "completed"
    },
    "tags": []
   },
   "outputs": [
    {
     "data": {
      "text/plain": [
       "True"
      ]
     },
     "execution_count": 4,
     "metadata": {},
     "output_type": "execute_result"
    }
   ],
   "source": [
    "response.ok\n"
   ]
  },
  {
   "cell_type": "code",
   "execution_count": 5,
   "id": "fcea53d0",
   "metadata": {
    "execution": {
     "iopub.execute_input": "2021-12-26T13:25:23.887231Z",
     "iopub.status.busy": "2021-12-26T13:25:23.886235Z",
     "iopub.status.idle": "2021-12-26T13:25:23.891471Z",
     "shell.execute_reply": "2021-12-26T13:25:23.892053Z",
     "shell.execute_reply.started": "2021-12-26T13:09:22.156326Z"
    },
    "papermill": {
     "duration": 0.023712,
     "end_time": "2021-12-26T13:25:23.892247",
     "exception": false,
     "start_time": "2021-12-26T13:25:23.868535",
     "status": "completed"
    },
    "tags": []
   },
   "outputs": [
    {
     "data": {
      "text/plain": [
       "200"
      ]
     },
     "execution_count": 5,
     "metadata": {},
     "output_type": "execute_result"
    }
   ],
   "source": [
    "response.status_code"
   ]
  },
  {
   "cell_type": "code",
   "execution_count": 6,
   "id": "095f33ac",
   "metadata": {
    "execution": {
     "iopub.execute_input": "2021-12-26T13:25:23.926643Z",
     "iopub.status.busy": "2021-12-26T13:25:23.925685Z",
     "iopub.status.idle": "2021-12-26T13:25:23.931389Z",
     "shell.execute_reply": "2021-12-26T13:25:23.931885Z",
     "shell.execute_reply.started": "2021-12-26T13:09:22.170346Z"
    },
    "papermill": {
     "duration": 0.02431,
     "end_time": "2021-12-26T13:25:23.932049",
     "exception": false,
     "start_time": "2021-12-26T13:25:23.907739",
     "status": "completed"
    },
    "tags": []
   },
   "outputs": [
    {
     "data": {
      "text/plain": [
       "'{\"success\":true,\"timestamp\":1640522944,\"base\":\"EUR\",\"date\":\"2021-12-26\",\"rates\":{\"AED\":4.165371,\"AFN\":117.377534,\"ALL\":120.492072,\"AMD\":542.036945,\"ANG\":2.043896,\"AOA\":639.942633,\"ARS\":115.930958,\"AUD\":1.57165,\"AWG\":2.04127,\"AZN\":1.932368,\"BAM\":1.958029,\"BBD\":2.289772,\"BDT\":97.211085,\"BGN\":1.95937,\"BHD\":0.427374,\"BIF\":2270.34552,\"BMD\":1.134039,\"BND\":1.537627,\"BOB\":7.830595,\"BRL\":6.435513,\"BSD\":1.134074,\"BTC\":2.2692219e-5,\"BTN\":85.058035,\"BWP\":13.179002,\"BYN\":2.855842,\"BYR\":22227.158936,\"BZD\":2.285867,\"CAD\":1.452988,\"CDF\":2270.34593,\"CHF\":1.043883,\"CLF\":0.035568,\"CLP\":981.420239,\"CNY\":7.22111,\"COP\":4526.515556,\"CRC\":728.818589,\"CUC\":1.134039,\"CUP\":30.052026,\"CVE\":111.02681,\"CZK\":25.070312,\"DJF\":201.541808,\"DKK\":7.450072,\"DOP\":64.984826,\"DZD\":157.439775,\"EGP\":17.810092,\"ERN\":17.010669,\"ETB\":55.458889,\"EUR\":1,\"FJD\":2.416682,\"FKP\":0.855495,\"GBP\":0.847088,\"GEL\":3.481942,\"GGP\":0.855495,\"GHS\":6.974781,\"GIP\":0.855495,\"GMD\":59.594177,\"GNF\":10603.262447,\"GTQ\":8.753504,\"GYD\":237.33657,\"HKD\":8.845786,\"HNL\":27.630899,\"HRK\":7.526053,\"HTG\":113.887916,\"HUF\":369.855828,\"IDR\":16091.272329,\"ILS\":3.574275,\"IMP\":0.855495,\"INR\":85.500894,\"IQD\":1656.263552,\"IRR\":47913.136371,\"ISK\":147.493514,\"JEP\":0.855495,\"JMD\":174.383863,\"JOD\":0.804078,\"JPY\":129.741406,\"KES\":128.316918,\"KGS\":96.1539,\"KHR\":4621.208187,\"KMF\":493.732153,\"KPW\":1020.634761,\"KRW\":1346.127078,\"KWD\":0.343183,\"KYD\":0.945061,\"KZT\":491.471832,\"LAK\":12655.872525,\"LBP\":1714.809623,\"LKR\":229.645932,\"LRD\":162.536144,\"LSL\":17.600714,\"LTL\":3.348522,\"LVL\":0.685969,\"LYD\":5.220848,\"MAD\":10.50163,\"MDL\":20.214504,\"MGA\":4485.123536,\"MKD\":61.67421,\"MMK\":2016.347807,\"MNT\":3241.518877,\"MOP\":9.110032,\"MRO\":404.851628,\"MUR\":49.538137,\"MVR\":17.521327,\"MWK\":919.705794,\"MXN\":23.381388,\"MYR\":4.757336,\"MZN\":72.38612,\"NAD\":17.600709,\"NGN\":466.0223,\"NIO\":40.156738,\"NOK\":10.032051,\"NPR\":136.092856,\"NZD\":1.663667,\"OMR\":0.436478,\"PAB\":1.134074,\"PEN\":4.540128,\"PGK\":4.003582,\"PHP\":56.718462,\"PKR\":201.976496,\"PLN\":4.627727,\"PYG\":7729.681767,\"QAR\":4.129079,\"RON\":4.958475,\"RSD\":117.804366,\"RUB\":83.536132,\"RWF\":1139.708915,\"SAR\":4.257849,\"SBD\":9.182524,\"SCR\":15.077782,\"SDG\":496.146112,\"SEK\":10.352077,\"SGD\":1.541276,\"SHP\":1.562029,\"SLL\":12854.329289,\"SOS\":664.547074,\"SRD\":23.323818,\"STD\":23472.311914,\"SVC\":9.923145,\"SYP\":2849.264103,\"SZL\":17.6007,\"THB\":37.899993,\"TJS\":12.80139,\"TMT\":3.969136,\"TND\":3.257531,\"TOP\":2.583624,\"TRY\":12.464678,\"TTD\":7.71016,\"TWD\":31.406413,\"TZS\":2615.093672,\"UAH\":30.862129,\"UGX\":4013.853455,\"USD\":1.134039,\"UYU\":50.351553,\"UZS\":12247.618569,\"VEF\":242491751898.406,\"VND\":25912.78478,\"VUV\":128.432894,\"WST\":2.948695,\"XAF\":656.694581,\"XAG\":0.049643,\"XAU\":0.000628,\"XCD\":3.064797,\"XDR\":0.81031,\"XOF\":655.474758,\"XPF\":120.151815,\"YER\":283.793603,\"ZAR\":17.667689,\"ZMK\":10207.713412,\"ZMW\":18.740249,\"ZWL\":365.160006}}'"
      ]
     },
     "execution_count": 6,
     "metadata": {},
     "output_type": "execute_result"
    }
   ],
   "source": [
    "response.text\n"
   ]
  },
  {
   "cell_type": "code",
   "execution_count": 7,
   "id": "41ec97c2",
   "metadata": {
    "execution": {
     "iopub.execute_input": "2021-12-26T13:25:23.967682Z",
     "iopub.status.busy": "2021-12-26T13:25:23.966705Z",
     "iopub.status.idle": "2021-12-26T13:25:23.972243Z",
     "shell.execute_reply": "2021-12-26T13:25:23.972847Z",
     "shell.execute_reply.started": "2021-12-26T13:09:22.184214Z"
    },
    "papermill": {
     "duration": 0.025402,
     "end_time": "2021-12-26T13:25:23.973014",
     "exception": false,
     "start_time": "2021-12-26T13:25:23.947612",
     "status": "completed"
    },
    "tags": []
   },
   "outputs": [
    {
     "data": {
      "text/plain": [
       "b'{\"success\":true,\"timestamp\":1640522944,\"base\":\"EUR\",\"date\":\"2021-12-26\",\"rates\":{\"AED\":4.165371,\"AFN\":117.377534,\"ALL\":120.492072,\"AMD\":542.036945,\"ANG\":2.043896,\"AOA\":639.942633,\"ARS\":115.930958,\"AUD\":1.57165,\"AWG\":2.04127,\"AZN\":1.932368,\"BAM\":1.958029,\"BBD\":2.289772,\"BDT\":97.211085,\"BGN\":1.95937,\"BHD\":0.427374,\"BIF\":2270.34552,\"BMD\":1.134039,\"BND\":1.537627,\"BOB\":7.830595,\"BRL\":6.435513,\"BSD\":1.134074,\"BTC\":2.2692219e-5,\"BTN\":85.058035,\"BWP\":13.179002,\"BYN\":2.855842,\"BYR\":22227.158936,\"BZD\":2.285867,\"CAD\":1.452988,\"CDF\":2270.34593,\"CHF\":1.043883,\"CLF\":0.035568,\"CLP\":981.420239,\"CNY\":7.22111,\"COP\":4526.515556,\"CRC\":728.818589,\"CUC\":1.134039,\"CUP\":30.052026,\"CVE\":111.02681,\"CZK\":25.070312,\"DJF\":201.541808,\"DKK\":7.450072,\"DOP\":64.984826,\"DZD\":157.439775,\"EGP\":17.810092,\"ERN\":17.010669,\"ETB\":55.458889,\"EUR\":1,\"FJD\":2.416682,\"FKP\":0.855495,\"GBP\":0.847088,\"GEL\":3.481942,\"GGP\":0.855495,\"GHS\":6.974781,\"GIP\":0.855495,\"GMD\":59.594177,\"GNF\":10603.262447,\"GTQ\":8.753504,\"GYD\":237.33657,\"HKD\":8.845786,\"HNL\":27.630899,\"HRK\":7.526053,\"HTG\":113.887916,\"HUF\":369.855828,\"IDR\":16091.272329,\"ILS\":3.574275,\"IMP\":0.855495,\"INR\":85.500894,\"IQD\":1656.263552,\"IRR\":47913.136371,\"ISK\":147.493514,\"JEP\":0.855495,\"JMD\":174.383863,\"JOD\":0.804078,\"JPY\":129.741406,\"KES\":128.316918,\"KGS\":96.1539,\"KHR\":4621.208187,\"KMF\":493.732153,\"KPW\":1020.634761,\"KRW\":1346.127078,\"KWD\":0.343183,\"KYD\":0.945061,\"KZT\":491.471832,\"LAK\":12655.872525,\"LBP\":1714.809623,\"LKR\":229.645932,\"LRD\":162.536144,\"LSL\":17.600714,\"LTL\":3.348522,\"LVL\":0.685969,\"LYD\":5.220848,\"MAD\":10.50163,\"MDL\":20.214504,\"MGA\":4485.123536,\"MKD\":61.67421,\"MMK\":2016.347807,\"MNT\":3241.518877,\"MOP\":9.110032,\"MRO\":404.851628,\"MUR\":49.538137,\"MVR\":17.521327,\"MWK\":919.705794,\"MXN\":23.381388,\"MYR\":4.757336,\"MZN\":72.38612,\"NAD\":17.600709,\"NGN\":466.0223,\"NIO\":40.156738,\"NOK\":10.032051,\"NPR\":136.092856,\"NZD\":1.663667,\"OMR\":0.436478,\"PAB\":1.134074,\"PEN\":4.540128,\"PGK\":4.003582,\"PHP\":56.718462,\"PKR\":201.976496,\"PLN\":4.627727,\"PYG\":7729.681767,\"QAR\":4.129079,\"RON\":4.958475,\"RSD\":117.804366,\"RUB\":83.536132,\"RWF\":1139.708915,\"SAR\":4.257849,\"SBD\":9.182524,\"SCR\":15.077782,\"SDG\":496.146112,\"SEK\":10.352077,\"SGD\":1.541276,\"SHP\":1.562029,\"SLL\":12854.329289,\"SOS\":664.547074,\"SRD\":23.323818,\"STD\":23472.311914,\"SVC\":9.923145,\"SYP\":2849.264103,\"SZL\":17.6007,\"THB\":37.899993,\"TJS\":12.80139,\"TMT\":3.969136,\"TND\":3.257531,\"TOP\":2.583624,\"TRY\":12.464678,\"TTD\":7.71016,\"TWD\":31.406413,\"TZS\":2615.093672,\"UAH\":30.862129,\"UGX\":4013.853455,\"USD\":1.134039,\"UYU\":50.351553,\"UZS\":12247.618569,\"VEF\":242491751898.406,\"VND\":25912.78478,\"VUV\":128.432894,\"WST\":2.948695,\"XAF\":656.694581,\"XAG\":0.049643,\"XAU\":0.000628,\"XCD\":3.064797,\"XDR\":0.81031,\"XOF\":655.474758,\"XPF\":120.151815,\"YER\":283.793603,\"ZAR\":17.667689,\"ZMK\":10207.713412,\"ZMW\":18.740249,\"ZWL\":365.160006}}'"
      ]
     },
     "execution_count": 7,
     "metadata": {},
     "output_type": "execute_result"
    }
   ],
   "source": [
    "response.content\n"
   ]
  },
  {
   "cell_type": "markdown",
   "id": "4702fd46",
   "metadata": {
    "papermill": {
     "duration": 0.015651,
     "end_time": "2021-12-26T13:25:24.004623",
     "exception": false,
     "start_time": "2021-12-26T13:25:23.988972",
     "status": "completed"
    },
    "tags": []
   },
   "source": [
    "handling Json format"
   ]
  },
  {
   "cell_type": "code",
   "execution_count": 8,
   "id": "b6647d97",
   "metadata": {
    "execution": {
     "iopub.execute_input": "2021-12-26T13:25:24.040439Z",
     "iopub.status.busy": "2021-12-26T13:25:24.039474Z",
     "iopub.status.idle": "2021-12-26T13:25:24.050065Z",
     "shell.execute_reply": "2021-12-26T13:25:24.050654Z",
     "shell.execute_reply.started": "2021-12-26T13:09:22.197949Z"
    },
    "papermill": {
     "duration": 0.030091,
     "end_time": "2021-12-26T13:25:24.050831",
     "exception": false,
     "start_time": "2021-12-26T13:25:24.020740",
     "status": "completed"
    },
    "tags": []
   },
   "outputs": [
    {
     "data": {
      "text/plain": [
       "{'success': True,\n",
       " 'timestamp': 1640522944,\n",
       " 'base': 'EUR',\n",
       " 'date': '2021-12-26',\n",
       " 'rates': {'AED': 4.165371,\n",
       "  'AFN': 117.377534,\n",
       "  'ALL': 120.492072,\n",
       "  'AMD': 542.036945,\n",
       "  'ANG': 2.043896,\n",
       "  'AOA': 639.942633,\n",
       "  'ARS': 115.930958,\n",
       "  'AUD': 1.57165,\n",
       "  'AWG': 2.04127,\n",
       "  'AZN': 1.932368,\n",
       "  'BAM': 1.958029,\n",
       "  'BBD': 2.289772,\n",
       "  'BDT': 97.211085,\n",
       "  'BGN': 1.95937,\n",
       "  'BHD': 0.427374,\n",
       "  'BIF': 2270.34552,\n",
       "  'BMD': 1.134039,\n",
       "  'BND': 1.537627,\n",
       "  'BOB': 7.830595,\n",
       "  'BRL': 6.435513,\n",
       "  'BSD': 1.134074,\n",
       "  'BTC': 2.2692219e-05,\n",
       "  'BTN': 85.058035,\n",
       "  'BWP': 13.179002,\n",
       "  'BYN': 2.855842,\n",
       "  'BYR': 22227.158936,\n",
       "  'BZD': 2.285867,\n",
       "  'CAD': 1.452988,\n",
       "  'CDF': 2270.34593,\n",
       "  'CHF': 1.043883,\n",
       "  'CLF': 0.035568,\n",
       "  'CLP': 981.420239,\n",
       "  'CNY': 7.22111,\n",
       "  'COP': 4526.515556,\n",
       "  'CRC': 728.818589,\n",
       "  'CUC': 1.134039,\n",
       "  'CUP': 30.052026,\n",
       "  'CVE': 111.02681,\n",
       "  'CZK': 25.070312,\n",
       "  'DJF': 201.541808,\n",
       "  'DKK': 7.450072,\n",
       "  'DOP': 64.984826,\n",
       "  'DZD': 157.439775,\n",
       "  'EGP': 17.810092,\n",
       "  'ERN': 17.010669,\n",
       "  'ETB': 55.458889,\n",
       "  'EUR': 1,\n",
       "  'FJD': 2.416682,\n",
       "  'FKP': 0.855495,\n",
       "  'GBP': 0.847088,\n",
       "  'GEL': 3.481942,\n",
       "  'GGP': 0.855495,\n",
       "  'GHS': 6.974781,\n",
       "  'GIP': 0.855495,\n",
       "  'GMD': 59.594177,\n",
       "  'GNF': 10603.262447,\n",
       "  'GTQ': 8.753504,\n",
       "  'GYD': 237.33657,\n",
       "  'HKD': 8.845786,\n",
       "  'HNL': 27.630899,\n",
       "  'HRK': 7.526053,\n",
       "  'HTG': 113.887916,\n",
       "  'HUF': 369.855828,\n",
       "  'IDR': 16091.272329,\n",
       "  'ILS': 3.574275,\n",
       "  'IMP': 0.855495,\n",
       "  'INR': 85.500894,\n",
       "  'IQD': 1656.263552,\n",
       "  'IRR': 47913.136371,\n",
       "  'ISK': 147.493514,\n",
       "  'JEP': 0.855495,\n",
       "  'JMD': 174.383863,\n",
       "  'JOD': 0.804078,\n",
       "  'JPY': 129.741406,\n",
       "  'KES': 128.316918,\n",
       "  'KGS': 96.1539,\n",
       "  'KHR': 4621.208187,\n",
       "  'KMF': 493.732153,\n",
       "  'KPW': 1020.634761,\n",
       "  'KRW': 1346.127078,\n",
       "  'KWD': 0.343183,\n",
       "  'KYD': 0.945061,\n",
       "  'KZT': 491.471832,\n",
       "  'LAK': 12655.872525,\n",
       "  'LBP': 1714.809623,\n",
       "  'LKR': 229.645932,\n",
       "  'LRD': 162.536144,\n",
       "  'LSL': 17.600714,\n",
       "  'LTL': 3.348522,\n",
       "  'LVL': 0.685969,\n",
       "  'LYD': 5.220848,\n",
       "  'MAD': 10.50163,\n",
       "  'MDL': 20.214504,\n",
       "  'MGA': 4485.123536,\n",
       "  'MKD': 61.67421,\n",
       "  'MMK': 2016.347807,\n",
       "  'MNT': 3241.518877,\n",
       "  'MOP': 9.110032,\n",
       "  'MRO': 404.851628,\n",
       "  'MUR': 49.538137,\n",
       "  'MVR': 17.521327,\n",
       "  'MWK': 919.705794,\n",
       "  'MXN': 23.381388,\n",
       "  'MYR': 4.757336,\n",
       "  'MZN': 72.38612,\n",
       "  'NAD': 17.600709,\n",
       "  'NGN': 466.0223,\n",
       "  'NIO': 40.156738,\n",
       "  'NOK': 10.032051,\n",
       "  'NPR': 136.092856,\n",
       "  'NZD': 1.663667,\n",
       "  'OMR': 0.436478,\n",
       "  'PAB': 1.134074,\n",
       "  'PEN': 4.540128,\n",
       "  'PGK': 4.003582,\n",
       "  'PHP': 56.718462,\n",
       "  'PKR': 201.976496,\n",
       "  'PLN': 4.627727,\n",
       "  'PYG': 7729.681767,\n",
       "  'QAR': 4.129079,\n",
       "  'RON': 4.958475,\n",
       "  'RSD': 117.804366,\n",
       "  'RUB': 83.536132,\n",
       "  'RWF': 1139.708915,\n",
       "  'SAR': 4.257849,\n",
       "  'SBD': 9.182524,\n",
       "  'SCR': 15.077782,\n",
       "  'SDG': 496.146112,\n",
       "  'SEK': 10.352077,\n",
       "  'SGD': 1.541276,\n",
       "  'SHP': 1.562029,\n",
       "  'SLL': 12854.329289,\n",
       "  'SOS': 664.547074,\n",
       "  'SRD': 23.323818,\n",
       "  'STD': 23472.311914,\n",
       "  'SVC': 9.923145,\n",
       "  'SYP': 2849.264103,\n",
       "  'SZL': 17.6007,\n",
       "  'THB': 37.899993,\n",
       "  'TJS': 12.80139,\n",
       "  'TMT': 3.969136,\n",
       "  'TND': 3.257531,\n",
       "  'TOP': 2.583624,\n",
       "  'TRY': 12.464678,\n",
       "  'TTD': 7.71016,\n",
       "  'TWD': 31.406413,\n",
       "  'TZS': 2615.093672,\n",
       "  'UAH': 30.862129,\n",
       "  'UGX': 4013.853455,\n",
       "  'USD': 1.134039,\n",
       "  'UYU': 50.351553,\n",
       "  'UZS': 12247.618569,\n",
       "  'VEF': 242491751898.406,\n",
       "  'VND': 25912.78478,\n",
       "  'VUV': 128.432894,\n",
       "  'WST': 2.948695,\n",
       "  'XAF': 656.694581,\n",
       "  'XAG': 0.049643,\n",
       "  'XAU': 0.000628,\n",
       "  'XCD': 3.064797,\n",
       "  'XDR': 0.81031,\n",
       "  'XOF': 655.474758,\n",
       "  'XPF': 120.151815,\n",
       "  'YER': 283.793603,\n",
       "  'ZAR': 17.667689,\n",
       "  'ZMK': 10207.713412,\n",
       "  'ZMW': 18.740249,\n",
       "  'ZWL': 365.160006}}"
      ]
     },
     "execution_count": 8,
     "metadata": {},
     "output_type": "execute_result"
    }
   ],
   "source": [
    "response.json()"
   ]
  },
  {
   "cell_type": "code",
   "execution_count": 9,
   "id": "c6f9591d",
   "metadata": {
    "execution": {
     "iopub.execute_input": "2021-12-26T13:25:24.087634Z",
     "iopub.status.busy": "2021-12-26T13:25:24.086659Z",
     "iopub.status.idle": "2021-12-26T13:25:24.091957Z",
     "shell.execute_reply": "2021-12-26T13:25:24.092549Z",
     "shell.execute_reply.started": "2021-12-26T13:09:22.217182Z"
    },
    "papermill": {
     "duration": 0.025385,
     "end_time": "2021-12-26T13:25:24.092715",
     "exception": false,
     "start_time": "2021-12-26T13:25:24.067330",
     "status": "completed"
    },
    "tags": []
   },
   "outputs": [
    {
     "data": {
      "text/plain": [
       "dict"
      ]
     },
     "execution_count": 9,
     "metadata": {},
     "output_type": "execute_result"
    }
   ],
   "source": [
    "type(response.json())"
   ]
  },
  {
   "cell_type": "markdown",
   "id": "9b8b3589",
   "metadata": {
    "papermill": {
     "duration": 0.016496,
     "end_time": "2021-12-26T13:25:24.126019",
     "exception": false,
     "start_time": "2021-12-26T13:25:24.109523",
     "status": "completed"
    },
    "tags": []
   },
   "source": [
    "Improve readability , import Python's Json Package \n",
    "-loads(string):converts a Json formatted string to a python object\n",
    "-dumps(obj) : converts a python object back to a regular string, with options to make the string prettier"
   ]
  },
  {
   "cell_type": "code",
   "execution_count": 10,
   "id": "9a54ebd4",
   "metadata": {
    "execution": {
     "iopub.execute_input": "2021-12-26T13:25:24.163316Z",
     "iopub.status.busy": "2021-12-26T13:25:24.162369Z",
     "iopub.status.idle": "2021-12-26T13:25:24.166679Z",
     "shell.execute_reply": "2021-12-26T13:25:24.166154Z",
     "shell.execute_reply.started": "2021-12-26T13:09:22.233434Z"
    },
    "papermill": {
     "duration": 0.024027,
     "end_time": "2021-12-26T13:25:24.166821",
     "exception": false,
     "start_time": "2021-12-26T13:25:24.142794",
     "status": "completed"
    },
    "tags": []
   },
   "outputs": [],
   "source": [
    "import json"
   ]
  },
  {
   "cell_type": "code",
   "execution_count": 11,
   "id": "1913f3c5",
   "metadata": {
    "execution": {
     "iopub.execute_input": "2021-12-26T13:25:24.204032Z",
     "iopub.status.busy": "2021-12-26T13:25:24.203440Z",
     "iopub.status.idle": "2021-12-26T13:25:24.208537Z",
     "shell.execute_reply": "2021-12-26T13:25:24.209121Z",
     "shell.execute_reply.started": "2021-12-26T13:09:22.241826Z"
    },
    "papermill": {
     "duration": 0.025424,
     "end_time": "2021-12-26T13:25:24.209327",
     "exception": false,
     "start_time": "2021-12-26T13:25:24.183903",
     "status": "completed"
    },
    "tags": []
   },
   "outputs": [
    {
     "data": {
      "text/plain": [
       "'{\\n    \"success\": true,\\n    \"timestamp\": 1640522944,\\n    \"base\": \"EUR\",\\n    \"date\": \"2021-12-26\",\\n    \"rates\": {\\n        \"AED\": 4.165371,\\n        \"AFN\": 117.377534,\\n        \"ALL\": 120.492072,\\n        \"AMD\": 542.036945,\\n        \"ANG\": 2.043896,\\n        \"AOA\": 639.942633,\\n        \"ARS\": 115.930958,\\n        \"AUD\": 1.57165,\\n        \"AWG\": 2.04127,\\n        \"AZN\": 1.932368,\\n        \"BAM\": 1.958029,\\n        \"BBD\": 2.289772,\\n        \"BDT\": 97.211085,\\n        \"BGN\": 1.95937,\\n        \"BHD\": 0.427374,\\n        \"BIF\": 2270.34552,\\n        \"BMD\": 1.134039,\\n        \"BND\": 1.537627,\\n        \"BOB\": 7.830595,\\n        \"BRL\": 6.435513,\\n        \"BSD\": 1.134074,\\n        \"BTC\": 2.2692219e-05,\\n        \"BTN\": 85.058035,\\n        \"BWP\": 13.179002,\\n        \"BYN\": 2.855842,\\n        \"BYR\": 22227.158936,\\n        \"BZD\": 2.285867,\\n        \"CAD\": 1.452988,\\n        \"CDF\": 2270.34593,\\n        \"CHF\": 1.043883,\\n        \"CLF\": 0.035568,\\n        \"CLP\": 981.420239,\\n        \"CNY\": 7.22111,\\n        \"COP\": 4526.515556,\\n        \"CRC\": 728.818589,\\n        \"CUC\": 1.134039,\\n        \"CUP\": 30.052026,\\n        \"CVE\": 111.02681,\\n        \"CZK\": 25.070312,\\n        \"DJF\": 201.541808,\\n        \"DKK\": 7.450072,\\n        \"DOP\": 64.984826,\\n        \"DZD\": 157.439775,\\n        \"EGP\": 17.810092,\\n        \"ERN\": 17.010669,\\n        \"ETB\": 55.458889,\\n        \"EUR\": 1,\\n        \"FJD\": 2.416682,\\n        \"FKP\": 0.855495,\\n        \"GBP\": 0.847088,\\n        \"GEL\": 3.481942,\\n        \"GGP\": 0.855495,\\n        \"GHS\": 6.974781,\\n        \"GIP\": 0.855495,\\n        \"GMD\": 59.594177,\\n        \"GNF\": 10603.262447,\\n        \"GTQ\": 8.753504,\\n        \"GYD\": 237.33657,\\n        \"HKD\": 8.845786,\\n        \"HNL\": 27.630899,\\n        \"HRK\": 7.526053,\\n        \"HTG\": 113.887916,\\n        \"HUF\": 369.855828,\\n        \"IDR\": 16091.272329,\\n        \"ILS\": 3.574275,\\n        \"IMP\": 0.855495,\\n        \"INR\": 85.500894,\\n        \"IQD\": 1656.263552,\\n        \"IRR\": 47913.136371,\\n        \"ISK\": 147.493514,\\n        \"JEP\": 0.855495,\\n        \"JMD\": 174.383863,\\n        \"JOD\": 0.804078,\\n        \"JPY\": 129.741406,\\n        \"KES\": 128.316918,\\n        \"KGS\": 96.1539,\\n        \"KHR\": 4621.208187,\\n        \"KMF\": 493.732153,\\n        \"KPW\": 1020.634761,\\n        \"KRW\": 1346.127078,\\n        \"KWD\": 0.343183,\\n        \"KYD\": 0.945061,\\n        \"KZT\": 491.471832,\\n        \"LAK\": 12655.872525,\\n        \"LBP\": 1714.809623,\\n        \"LKR\": 229.645932,\\n        \"LRD\": 162.536144,\\n        \"LSL\": 17.600714,\\n        \"LTL\": 3.348522,\\n        \"LVL\": 0.685969,\\n        \"LYD\": 5.220848,\\n        \"MAD\": 10.50163,\\n        \"MDL\": 20.214504,\\n        \"MGA\": 4485.123536,\\n        \"MKD\": 61.67421,\\n        \"MMK\": 2016.347807,\\n        \"MNT\": 3241.518877,\\n        \"MOP\": 9.110032,\\n        \"MRO\": 404.851628,\\n        \"MUR\": 49.538137,\\n        \"MVR\": 17.521327,\\n        \"MWK\": 919.705794,\\n        \"MXN\": 23.381388,\\n        \"MYR\": 4.757336,\\n        \"MZN\": 72.38612,\\n        \"NAD\": 17.600709,\\n        \"NGN\": 466.0223,\\n        \"NIO\": 40.156738,\\n        \"NOK\": 10.032051,\\n        \"NPR\": 136.092856,\\n        \"NZD\": 1.663667,\\n        \"OMR\": 0.436478,\\n        \"PAB\": 1.134074,\\n        \"PEN\": 4.540128,\\n        \"PGK\": 4.003582,\\n        \"PHP\": 56.718462,\\n        \"PKR\": 201.976496,\\n        \"PLN\": 4.627727,\\n        \"PYG\": 7729.681767,\\n        \"QAR\": 4.129079,\\n        \"RON\": 4.958475,\\n        \"RSD\": 117.804366,\\n        \"RUB\": 83.536132,\\n        \"RWF\": 1139.708915,\\n        \"SAR\": 4.257849,\\n        \"SBD\": 9.182524,\\n        \"SCR\": 15.077782,\\n        \"SDG\": 496.146112,\\n        \"SEK\": 10.352077,\\n        \"SGD\": 1.541276,\\n        \"SHP\": 1.562029,\\n        \"SLL\": 12854.329289,\\n        \"SOS\": 664.547074,\\n        \"SRD\": 23.323818,\\n        \"STD\": 23472.311914,\\n        \"SVC\": 9.923145,\\n        \"SYP\": 2849.264103,\\n        \"SZL\": 17.6007,\\n        \"THB\": 37.899993,\\n        \"TJS\": 12.80139,\\n        \"TMT\": 3.969136,\\n        \"TND\": 3.257531,\\n        \"TOP\": 2.583624,\\n        \"TRY\": 12.464678,\\n        \"TTD\": 7.71016,\\n        \"TWD\": 31.406413,\\n        \"TZS\": 2615.093672,\\n        \"UAH\": 30.862129,\\n        \"UGX\": 4013.853455,\\n        \"USD\": 1.134039,\\n        \"UYU\": 50.351553,\\n        \"UZS\": 12247.618569,\\n        \"VEF\": 242491751898.406,\\n        \"VND\": 25912.78478,\\n        \"VUV\": 128.432894,\\n        \"WST\": 2.948695,\\n        \"XAF\": 656.694581,\\n        \"XAG\": 0.049643,\\n        \"XAU\": 0.000628,\\n        \"XCD\": 3.064797,\\n        \"XDR\": 0.81031,\\n        \"XOF\": 655.474758,\\n        \"XPF\": 120.151815,\\n        \"YER\": 283.793603,\\n        \"ZAR\": 17.667689,\\n        \"ZMK\": 10207.713412,\\n        \"ZMW\": 18.740249,\\n        \"ZWL\": 365.160006\\n    }\\n}'"
      ]
     },
     "execution_count": 11,
     "metadata": {},
     "output_type": "execute_result"
    }
   ],
   "source": [
    "json.dumps(response.json(), indent=4)"
   ]
  },
  {
   "cell_type": "markdown",
   "id": "ae2203ea",
   "metadata": {
    "papermill": {
     "duration": 0.017571,
     "end_time": "2021-12-26T13:25:24.244459",
     "exception": false,
     "start_time": "2021-12-26T13:25:24.226888",
     "status": "completed"
    },
    "tags": []
   },
   "source": [
    "manage by printing this string out"
   ]
  },
  {
   "cell_type": "code",
   "execution_count": 12,
   "id": "1736cb4d",
   "metadata": {
    "execution": {
     "iopub.execute_input": "2021-12-26T13:25:24.282340Z",
     "iopub.status.busy": "2021-12-26T13:25:24.281704Z",
     "iopub.status.idle": "2021-12-26T13:25:24.287241Z",
     "shell.execute_reply": "2021-12-26T13:25:24.287983Z",
     "shell.execute_reply.started": "2021-12-26T13:09:22.256336Z"
    },
    "papermill": {
     "duration": 0.026221,
     "end_time": "2021-12-26T13:25:24.288158",
     "exception": false,
     "start_time": "2021-12-26T13:25:24.261937",
     "status": "completed"
    },
    "tags": []
   },
   "outputs": [
    {
     "name": "stdout",
     "output_type": "stream",
     "text": [
      "{\n",
      "    \"success\": true,\n",
      "    \"timestamp\": 1640522944,\n",
      "    \"base\": \"EUR\",\n",
      "    \"date\": \"2021-12-26\",\n",
      "    \"rates\": {\n",
      "        \"AED\": 4.165371,\n",
      "        \"AFN\": 117.377534,\n",
      "        \"ALL\": 120.492072,\n",
      "        \"AMD\": 542.036945,\n",
      "        \"ANG\": 2.043896,\n",
      "        \"AOA\": 639.942633,\n",
      "        \"ARS\": 115.930958,\n",
      "        \"AUD\": 1.57165,\n",
      "        \"AWG\": 2.04127,\n",
      "        \"AZN\": 1.932368,\n",
      "        \"BAM\": 1.958029,\n",
      "        \"BBD\": 2.289772,\n",
      "        \"BDT\": 97.211085,\n",
      "        \"BGN\": 1.95937,\n",
      "        \"BHD\": 0.427374,\n",
      "        \"BIF\": 2270.34552,\n",
      "        \"BMD\": 1.134039,\n",
      "        \"BND\": 1.537627,\n",
      "        \"BOB\": 7.830595,\n",
      "        \"BRL\": 6.435513,\n",
      "        \"BSD\": 1.134074,\n",
      "        \"BTC\": 2.2692219e-05,\n",
      "        \"BTN\": 85.058035,\n",
      "        \"BWP\": 13.179002,\n",
      "        \"BYN\": 2.855842,\n",
      "        \"BYR\": 22227.158936,\n",
      "        \"BZD\": 2.285867,\n",
      "        \"CAD\": 1.452988,\n",
      "        \"CDF\": 2270.34593,\n",
      "        \"CHF\": 1.043883,\n",
      "        \"CLF\": 0.035568,\n",
      "        \"CLP\": 981.420239,\n",
      "        \"CNY\": 7.22111,\n",
      "        \"COP\": 4526.515556,\n",
      "        \"CRC\": 728.818589,\n",
      "        \"CUC\": 1.134039,\n",
      "        \"CUP\": 30.052026,\n",
      "        \"CVE\": 111.02681,\n",
      "        \"CZK\": 25.070312,\n",
      "        \"DJF\": 201.541808,\n",
      "        \"DKK\": 7.450072,\n",
      "        \"DOP\": 64.984826,\n",
      "        \"DZD\": 157.439775,\n",
      "        \"EGP\": 17.810092,\n",
      "        \"ERN\": 17.010669,\n",
      "        \"ETB\": 55.458889,\n",
      "        \"EUR\": 1,\n",
      "        \"FJD\": 2.416682,\n",
      "        \"FKP\": 0.855495,\n",
      "        \"GBP\": 0.847088,\n",
      "        \"GEL\": 3.481942,\n",
      "        \"GGP\": 0.855495,\n",
      "        \"GHS\": 6.974781,\n",
      "        \"GIP\": 0.855495,\n",
      "        \"GMD\": 59.594177,\n",
      "        \"GNF\": 10603.262447,\n",
      "        \"GTQ\": 8.753504,\n",
      "        \"GYD\": 237.33657,\n",
      "        \"HKD\": 8.845786,\n",
      "        \"HNL\": 27.630899,\n",
      "        \"HRK\": 7.526053,\n",
      "        \"HTG\": 113.887916,\n",
      "        \"HUF\": 369.855828,\n",
      "        \"IDR\": 16091.272329,\n",
      "        \"ILS\": 3.574275,\n",
      "        \"IMP\": 0.855495,\n",
      "        \"INR\": 85.500894,\n",
      "        \"IQD\": 1656.263552,\n",
      "        \"IRR\": 47913.136371,\n",
      "        \"ISK\": 147.493514,\n",
      "        \"JEP\": 0.855495,\n",
      "        \"JMD\": 174.383863,\n",
      "        \"JOD\": 0.804078,\n",
      "        \"JPY\": 129.741406,\n",
      "        \"KES\": 128.316918,\n",
      "        \"KGS\": 96.1539,\n",
      "        \"KHR\": 4621.208187,\n",
      "        \"KMF\": 493.732153,\n",
      "        \"KPW\": 1020.634761,\n",
      "        \"KRW\": 1346.127078,\n",
      "        \"KWD\": 0.343183,\n",
      "        \"KYD\": 0.945061,\n",
      "        \"KZT\": 491.471832,\n",
      "        \"LAK\": 12655.872525,\n",
      "        \"LBP\": 1714.809623,\n",
      "        \"LKR\": 229.645932,\n",
      "        \"LRD\": 162.536144,\n",
      "        \"LSL\": 17.600714,\n",
      "        \"LTL\": 3.348522,\n",
      "        \"LVL\": 0.685969,\n",
      "        \"LYD\": 5.220848,\n",
      "        \"MAD\": 10.50163,\n",
      "        \"MDL\": 20.214504,\n",
      "        \"MGA\": 4485.123536,\n",
      "        \"MKD\": 61.67421,\n",
      "        \"MMK\": 2016.347807,\n",
      "        \"MNT\": 3241.518877,\n",
      "        \"MOP\": 9.110032,\n",
      "        \"MRO\": 404.851628,\n",
      "        \"MUR\": 49.538137,\n",
      "        \"MVR\": 17.521327,\n",
      "        \"MWK\": 919.705794,\n",
      "        \"MXN\": 23.381388,\n",
      "        \"MYR\": 4.757336,\n",
      "        \"MZN\": 72.38612,\n",
      "        \"NAD\": 17.600709,\n",
      "        \"NGN\": 466.0223,\n",
      "        \"NIO\": 40.156738,\n",
      "        \"NOK\": 10.032051,\n",
      "        \"NPR\": 136.092856,\n",
      "        \"NZD\": 1.663667,\n",
      "        \"OMR\": 0.436478,\n",
      "        \"PAB\": 1.134074,\n",
      "        \"PEN\": 4.540128,\n",
      "        \"PGK\": 4.003582,\n",
      "        \"PHP\": 56.718462,\n",
      "        \"PKR\": 201.976496,\n",
      "        \"PLN\": 4.627727,\n",
      "        \"PYG\": 7729.681767,\n",
      "        \"QAR\": 4.129079,\n",
      "        \"RON\": 4.958475,\n",
      "        \"RSD\": 117.804366,\n",
      "        \"RUB\": 83.536132,\n",
      "        \"RWF\": 1139.708915,\n",
      "        \"SAR\": 4.257849,\n",
      "        \"SBD\": 9.182524,\n",
      "        \"SCR\": 15.077782,\n",
      "        \"SDG\": 496.146112,\n",
      "        \"SEK\": 10.352077,\n",
      "        \"SGD\": 1.541276,\n",
      "        \"SHP\": 1.562029,\n",
      "        \"SLL\": 12854.329289,\n",
      "        \"SOS\": 664.547074,\n",
      "        \"SRD\": 23.323818,\n",
      "        \"STD\": 23472.311914,\n",
      "        \"SVC\": 9.923145,\n",
      "        \"SYP\": 2849.264103,\n",
      "        \"SZL\": 17.6007,\n",
      "        \"THB\": 37.899993,\n",
      "        \"TJS\": 12.80139,\n",
      "        \"TMT\": 3.969136,\n",
      "        \"TND\": 3.257531,\n",
      "        \"TOP\": 2.583624,\n",
      "        \"TRY\": 12.464678,\n",
      "        \"TTD\": 7.71016,\n",
      "        \"TWD\": 31.406413,\n",
      "        \"TZS\": 2615.093672,\n",
      "        \"UAH\": 30.862129,\n",
      "        \"UGX\": 4013.853455,\n",
      "        \"USD\": 1.134039,\n",
      "        \"UYU\": 50.351553,\n",
      "        \"UZS\": 12247.618569,\n",
      "        \"VEF\": 242491751898.406,\n",
      "        \"VND\": 25912.78478,\n",
      "        \"VUV\": 128.432894,\n",
      "        \"WST\": 2.948695,\n",
      "        \"XAF\": 656.694581,\n",
      "        \"XAG\": 0.049643,\n",
      "        \"XAU\": 0.000628,\n",
      "        \"XCD\": 3.064797,\n",
      "        \"XDR\": 0.81031,\n",
      "        \"XOF\": 655.474758,\n",
      "        \"XPF\": 120.151815,\n",
      "        \"YER\": 283.793603,\n",
      "        \"ZAR\": 17.667689,\n",
      "        \"ZMK\": 10207.713412,\n",
      "        \"ZMW\": 18.740249,\n",
      "        \"ZWL\": 365.160006\n",
      "    }\n",
      "}\n"
     ]
    }
   ],
   "source": [
    "print(json.dumps(response.json(), indent=4))"
   ]
  },
  {
   "cell_type": "code",
   "execution_count": 13,
   "id": "20eec457",
   "metadata": {
    "execution": {
     "iopub.execute_input": "2021-12-26T13:25:24.327484Z",
     "iopub.status.busy": "2021-12-26T13:25:24.326852Z",
     "iopub.status.idle": "2021-12-26T13:25:24.331659Z",
     "shell.execute_reply": "2021-12-26T13:25:24.332279Z",
     "shell.execute_reply.started": "2021-12-26T13:09:22.269757Z"
    },
    "papermill": {
     "duration": 0.026131,
     "end_time": "2021-12-26T13:25:24.332455",
     "exception": false,
     "start_time": "2021-12-26T13:25:24.306324",
     "status": "completed"
    },
    "tags": []
   },
   "outputs": [
    {
     "data": {
      "text/plain": [
       "dict_keys(['success', 'timestamp', 'base', 'date', 'rates'])"
      ]
     },
     "execution_count": 13,
     "metadata": {},
     "output_type": "execute_result"
    }
   ],
   "source": [
    "response.json().keys()"
   ]
  },
  {
   "cell_type": "markdown",
   "id": "53a34cfe",
   "metadata": {
    "papermill": {
     "duration": 0.018112,
     "end_time": "2021-12-26T13:25:24.368773",
     "exception": false,
     "start_time": "2021-12-26T13:25:24.350661",
     "status": "completed"
    },
    "tags": []
   },
   "source": [
    "found 5 keys : base(currency),date,time,rate"
   ]
  },
  {
   "cell_type": "markdown",
   "id": "6b063108",
   "metadata": {
    "papermill": {
     "duration": 0.018313,
     "end_time": "2021-12-26T13:25:24.405561",
     "exception": false,
     "start_time": "2021-12-26T13:25:24.387248",
     "status": "completed"
    },
    "tags": []
   },
   "source": [
    "SUMMARY : I got exchange rate API from search engine, read that URL data by sending a get request (requests.get()) \n",
    "put those data in a variable name \"response\"\n",
    "\n",
    "checking if coding status is ok (response.status_)or (response.ok)\n",
    "response.content (will show Json dictionary which compose of keys and values ;|strings |:| ,|)\n",
    "made it is prettier Json format : response.json()\n",
    "and had to import python's json package : to dump(python object) --convert to prittier strings\n",
    "   json.dumps(response.json(), indent=4\n",
    "printed out \n",
    "   print(json.dumps(response.json(), indent=4))\n",
    "check how many keys\n",
    "   response.json().keys()"
   ]
  }
 ],
 "metadata": {
  "kernelspec": {
   "display_name": "Python 3",
   "language": "python",
   "name": "python3"
  },
  "language_info": {
   "codemirror_mode": {
    "name": "ipython",
    "version": 3
   },
   "file_extension": ".py",
   "mimetype": "text/x-python",
   "name": "python",
   "nbconvert_exporter": "python",
   "pygments_lexer": "ipython3",
   "version": "3.7.12"
  },
  "papermill": {
   "default_parameters": {},
   "duration": 13.130912,
   "end_time": "2021-12-26T13:25:25.033566",
   "environment_variables": {},
   "exception": null,
   "input_path": "__notebook__.ipynb",
   "output_path": "__notebook__.ipynb",
   "parameters": {},
   "start_time": "2021-12-26T13:25:11.902654",
   "version": "2.3.3"
  }
 },
 "nbformat": 4,
 "nbformat_minor": 5
}
