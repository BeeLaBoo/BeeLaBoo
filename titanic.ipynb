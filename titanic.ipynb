{
 "cells": [
  {
   "cell_type": "code",
   "execution_count": 1,
   "id": "878a56cf",
   "metadata": {
    "_cell_guid": "b1076dfc-b9ad-4769-8c92-a6c4dae69d19",
    "_uuid": "8f2839f25d086af736a60e9eeb907d3b93b6e0e5",
    "execution": {
     "iopub.execute_input": "2022-03-29T00:46:09.430450Z",
     "iopub.status.busy": "2022-03-29T00:46:09.429698Z",
     "iopub.status.idle": "2022-03-29T00:46:09.441953Z",
     "shell.execute_reply": "2022-03-29T00:46:09.442609Z",
     "shell.execute_reply.started": "2022-03-29T00:44:35.930451Z"
    },
    "papermill": {
     "duration": 0.101263,
     "end_time": "2022-03-29T00:46:09.442929",
     "exception": false,
     "start_time": "2022-03-29T00:46:09.341666",
     "status": "completed"
    },
    "tags": []
   },
   "outputs": [
    {
     "name": "stdout",
     "output_type": "stream",
     "text": [
      "/kaggle/input/titanic-with-python/train.csv\n",
      "/kaggle/input/titanic-with-python/test.csv\n",
      "/kaggle/input/titanic-with-python/gender_submission.csv\n"
     ]
    }
   ],
   "source": [
    "# This Python 3 environment comes with many helpful analytics libraries installed\n",
    "# It is defined by the kaggle/python Docker image: https://github.com/kaggle/docker-python\n",
    "# For example, here's several helpful packages to load\n",
    "\n",
    "import numpy as np # linear algebra\n",
    "import pandas as pd # data processing, CSV file I/O (e.g. pd.read_csv)\n",
    "\n",
    "# Input data files are available in the read-only \"../input/\" directory\n",
    "# For example, running this (by clicking run or pressing Shift+Enter) will list all files under the input directory\n",
    "\n",
    "import os\n",
    "for dirname, _, filenames in os.walk('/kaggle/input'):\n",
    "    for filename in filenames:\n",
    "        print(os.path.join(dirname, filename))\n",
    "\n",
    "# You can write up to 20GB to the current directory (/kaggle/working/) that gets preserved as output when you create a version using \"Save & Run All\" \n",
    "# You can also write temporary files to /kaggle/temp/, but they won't be saved outside of the current session"
   ]
  },
  {
   "cell_type": "markdown",
   "id": "8c7a0ed2",
   "metadata": {
    "papermill": {
     "duration": 0.073661,
     "end_time": "2022-03-29T00:46:09.594714",
     "exception": false,
     "start_time": "2022-03-29T00:46:09.521053",
     "status": "completed"
    },
    "tags": []
   },
   "source": [
    "* * Features of the dataset: \n",
    "* \n",
    "* - survival - Survival (0 = No; 1 = Yes)\n",
    "* - class - Passenger Class (1 = 1st; 2 = 2nd; 3 = 3rd)\n",
    "* - name - Name\n",
    "* - sex - Sex\n",
    "* - age - Age\n",
    "* - sibsp - Number of Siblings/Spouses Aboard\n",
    "* - parch - Number of Parents/Children Aboard\n",
    "* - ticket - Ticket Number\n",
    "* - fare - Passenger Fare\n",
    "* - cabin - Cabin\n",
    "* - embarked - Port of Embarkation (C = Cherbourg; Q = Queenstown; S = Southampton)"
   ]
  },
  {
   "cell_type": "markdown",
   "id": "772e2e35",
   "metadata": {
    "papermill": {
     "duration": 0.073945,
     "end_time": "2022-03-29T00:46:09.742634",
     "exception": false,
     "start_time": "2022-03-29T00:46:09.668689",
     "status": "completed"
    },
    "tags": []
   },
   "source": [
    "* * Questions : \n",
    "* \n",
    "* \n",
    "* 1. Display Top 5 Rows of The Dataset\n",
    "* 2. Check the Last 3 Rows of The Dataset\n",
    "* 3. Find Shape of Our Dataset (Number of Rows & Number of Columns)\n",
    "* 4. Get Information About Our Dataset Like Total Number Rows, Total Number of Columns, Datatypes of Each Column And Memory Requirement\n",
    "* 5. Get Overall Statistics About The Dataframe\n",
    "* 6. Data Filtering\n",
    "* 7.Check Null Values In The Dataset\n",
    "* 8. Drop the Column\n",
    "* 9. Handle Missing Values\n",
    "* 10. Categorical Data Encoding"
   ]
  },
  {
   "cell_type": "code",
   "execution_count": 2,
   "id": "4a9ecaf0",
   "metadata": {
    "execution": {
     "iopub.execute_input": "2022-03-29T00:46:09.895354Z",
     "iopub.status.busy": "2022-03-29T00:46:09.894578Z",
     "iopub.status.idle": "2022-03-29T00:46:09.908835Z",
     "shell.execute_reply": "2022-03-29T00:46:09.909400Z",
     "shell.execute_reply.started": "2022-03-29T00:44:36.001988Z"
    },
    "papermill": {
     "duration": 0.09258,
     "end_time": "2022-03-29T00:46:09.909562",
     "exception": false,
     "start_time": "2022-03-29T00:46:09.816982",
     "status": "completed"
    },
    "tags": []
   },
   "outputs": [],
   "source": [
    "data = pd.read_csv('../input/titanic-with-python/test.csv')"
   ]
  },
  {
   "cell_type": "code",
   "execution_count": 3,
   "id": "6156e566",
   "metadata": {
    "execution": {
     "iopub.execute_input": "2022-03-29T00:46:10.060575Z",
     "iopub.status.busy": "2022-03-29T00:46:10.059729Z",
     "iopub.status.idle": "2022-03-29T00:46:10.090553Z",
     "shell.execute_reply": "2022-03-29T00:46:10.090945Z",
     "shell.execute_reply.started": "2022-03-29T00:44:36.093888Z"
    },
    "papermill": {
     "duration": 0.107532,
     "end_time": "2022-03-29T00:46:10.091111",
     "exception": false,
     "start_time": "2022-03-29T00:46:09.983579",
     "status": "completed"
    },
    "tags": []
   },
   "outputs": [
    {
     "data": {
      "text/html": [
       "<div>\n",
       "<style scoped>\n",
       "    .dataframe tbody tr th:only-of-type {\n",
       "        vertical-align: middle;\n",
       "    }\n",
       "\n",
       "    .dataframe tbody tr th {\n",
       "        vertical-align: top;\n",
       "    }\n",
       "\n",
       "    .dataframe thead th {\n",
       "        text-align: right;\n",
       "    }\n",
       "</style>\n",
       "<table border=\"1\" class=\"dataframe\">\n",
       "  <thead>\n",
       "    <tr style=\"text-align: right;\">\n",
       "      <th></th>\n",
       "      <th>PassengerId</th>\n",
       "      <th>Pclass</th>\n",
       "      <th>Name</th>\n",
       "      <th>Sex</th>\n",
       "      <th>Age</th>\n",
       "      <th>SibSp</th>\n",
       "      <th>Parch</th>\n",
       "      <th>Ticket</th>\n",
       "      <th>Fare</th>\n",
       "      <th>Cabin</th>\n",
       "      <th>Embarked</th>\n",
       "    </tr>\n",
       "  </thead>\n",
       "  <tbody>\n",
       "    <tr>\n",
       "      <th>0</th>\n",
       "      <td>892</td>\n",
       "      <td>3</td>\n",
       "      <td>Kelly, Mr. James</td>\n",
       "      <td>male</td>\n",
       "      <td>34.5</td>\n",
       "      <td>0</td>\n",
       "      <td>0</td>\n",
       "      <td>330911</td>\n",
       "      <td>7.8292</td>\n",
       "      <td>NaN</td>\n",
       "      <td>Q</td>\n",
       "    </tr>\n",
       "    <tr>\n",
       "      <th>1</th>\n",
       "      <td>893</td>\n",
       "      <td>3</td>\n",
       "      <td>Wilkes, Mrs. James (Ellen Needs)</td>\n",
       "      <td>female</td>\n",
       "      <td>47.0</td>\n",
       "      <td>1</td>\n",
       "      <td>0</td>\n",
       "      <td>363272</td>\n",
       "      <td>7.0000</td>\n",
       "      <td>NaN</td>\n",
       "      <td>S</td>\n",
       "    </tr>\n",
       "    <tr>\n",
       "      <th>2</th>\n",
       "      <td>894</td>\n",
       "      <td>2</td>\n",
       "      <td>Myles, Mr. Thomas Francis</td>\n",
       "      <td>male</td>\n",
       "      <td>62.0</td>\n",
       "      <td>0</td>\n",
       "      <td>0</td>\n",
       "      <td>240276</td>\n",
       "      <td>9.6875</td>\n",
       "      <td>NaN</td>\n",
       "      <td>Q</td>\n",
       "    </tr>\n",
       "    <tr>\n",
       "      <th>3</th>\n",
       "      <td>895</td>\n",
       "      <td>3</td>\n",
       "      <td>Wirz, Mr. Albert</td>\n",
       "      <td>male</td>\n",
       "      <td>27.0</td>\n",
       "      <td>0</td>\n",
       "      <td>0</td>\n",
       "      <td>315154</td>\n",
       "      <td>8.6625</td>\n",
       "      <td>NaN</td>\n",
       "      <td>S</td>\n",
       "    </tr>\n",
       "    <tr>\n",
       "      <th>4</th>\n",
       "      <td>896</td>\n",
       "      <td>3</td>\n",
       "      <td>Hirvonen, Mrs. Alexander (Helga E Lindqvist)</td>\n",
       "      <td>female</td>\n",
       "      <td>22.0</td>\n",
       "      <td>1</td>\n",
       "      <td>1</td>\n",
       "      <td>3101298</td>\n",
       "      <td>12.2875</td>\n",
       "      <td>NaN</td>\n",
       "      <td>S</td>\n",
       "    </tr>\n",
       "    <tr>\n",
       "      <th>...</th>\n",
       "      <td>...</td>\n",
       "      <td>...</td>\n",
       "      <td>...</td>\n",
       "      <td>...</td>\n",
       "      <td>...</td>\n",
       "      <td>...</td>\n",
       "      <td>...</td>\n",
       "      <td>...</td>\n",
       "      <td>...</td>\n",
       "      <td>...</td>\n",
       "      <td>...</td>\n",
       "    </tr>\n",
       "    <tr>\n",
       "      <th>413</th>\n",
       "      <td>1305</td>\n",
       "      <td>3</td>\n",
       "      <td>Spector, Mr. Woolf</td>\n",
       "      <td>male</td>\n",
       "      <td>NaN</td>\n",
       "      <td>0</td>\n",
       "      <td>0</td>\n",
       "      <td>A.5. 3236</td>\n",
       "      <td>8.0500</td>\n",
       "      <td>NaN</td>\n",
       "      <td>S</td>\n",
       "    </tr>\n",
       "    <tr>\n",
       "      <th>414</th>\n",
       "      <td>1306</td>\n",
       "      <td>1</td>\n",
       "      <td>Oliva y Ocana, Dona. Fermina</td>\n",
       "      <td>female</td>\n",
       "      <td>39.0</td>\n",
       "      <td>0</td>\n",
       "      <td>0</td>\n",
       "      <td>PC 17758</td>\n",
       "      <td>108.9000</td>\n",
       "      <td>C105</td>\n",
       "      <td>C</td>\n",
       "    </tr>\n",
       "    <tr>\n",
       "      <th>415</th>\n",
       "      <td>1307</td>\n",
       "      <td>3</td>\n",
       "      <td>Saether, Mr. Simon Sivertsen</td>\n",
       "      <td>male</td>\n",
       "      <td>38.5</td>\n",
       "      <td>0</td>\n",
       "      <td>0</td>\n",
       "      <td>SOTON/O.Q. 3101262</td>\n",
       "      <td>7.2500</td>\n",
       "      <td>NaN</td>\n",
       "      <td>S</td>\n",
       "    </tr>\n",
       "    <tr>\n",
       "      <th>416</th>\n",
       "      <td>1308</td>\n",
       "      <td>3</td>\n",
       "      <td>Ware, Mr. Frederick</td>\n",
       "      <td>male</td>\n",
       "      <td>NaN</td>\n",
       "      <td>0</td>\n",
       "      <td>0</td>\n",
       "      <td>359309</td>\n",
       "      <td>8.0500</td>\n",
       "      <td>NaN</td>\n",
       "      <td>S</td>\n",
       "    </tr>\n",
       "    <tr>\n",
       "      <th>417</th>\n",
       "      <td>1309</td>\n",
       "      <td>3</td>\n",
       "      <td>Peter, Master. Michael J</td>\n",
       "      <td>male</td>\n",
       "      <td>NaN</td>\n",
       "      <td>1</td>\n",
       "      <td>1</td>\n",
       "      <td>2668</td>\n",
       "      <td>22.3583</td>\n",
       "      <td>NaN</td>\n",
       "      <td>C</td>\n",
       "    </tr>\n",
       "  </tbody>\n",
       "</table>\n",
       "<p>418 rows × 11 columns</p>\n",
       "</div>"
      ],
      "text/plain": [
       "     PassengerId  Pclass                                          Name  \\\n",
       "0            892       3                              Kelly, Mr. James   \n",
       "1            893       3              Wilkes, Mrs. James (Ellen Needs)   \n",
       "2            894       2                     Myles, Mr. Thomas Francis   \n",
       "3            895       3                              Wirz, Mr. Albert   \n",
       "4            896       3  Hirvonen, Mrs. Alexander (Helga E Lindqvist)   \n",
       "..           ...     ...                                           ...   \n",
       "413         1305       3                            Spector, Mr. Woolf   \n",
       "414         1306       1                  Oliva y Ocana, Dona. Fermina   \n",
       "415         1307       3                  Saether, Mr. Simon Sivertsen   \n",
       "416         1308       3                           Ware, Mr. Frederick   \n",
       "417         1309       3                      Peter, Master. Michael J   \n",
       "\n",
       "        Sex   Age  SibSp  Parch              Ticket      Fare Cabin Embarked  \n",
       "0      male  34.5      0      0              330911    7.8292   NaN        Q  \n",
       "1    female  47.0      1      0              363272    7.0000   NaN        S  \n",
       "2      male  62.0      0      0              240276    9.6875   NaN        Q  \n",
       "3      male  27.0      0      0              315154    8.6625   NaN        S  \n",
       "4    female  22.0      1      1             3101298   12.2875   NaN        S  \n",
       "..      ...   ...    ...    ...                 ...       ...   ...      ...  \n",
       "413    male   NaN      0      0           A.5. 3236    8.0500   NaN        S  \n",
       "414  female  39.0      0      0            PC 17758  108.9000  C105        C  \n",
       "415    male  38.5      0      0  SOTON/O.Q. 3101262    7.2500   NaN        S  \n",
       "416    male   NaN      0      0              359309    8.0500   NaN        S  \n",
       "417    male   NaN      1      1                2668   22.3583   NaN        C  \n",
       "\n",
       "[418 rows x 11 columns]"
      ]
     },
     "execution_count": 3,
     "metadata": {},
     "output_type": "execute_result"
    }
   ],
   "source": [
    "data"
   ]
  },
  {
   "cell_type": "code",
   "execution_count": 4,
   "id": "a995f8b1",
   "metadata": {
    "execution": {
     "iopub.execute_input": "2022-03-29T00:46:10.202494Z",
     "iopub.status.busy": "2022-03-29T00:46:10.201975Z",
     "iopub.status.idle": "2022-03-29T00:46:10.204114Z",
     "shell.execute_reply": "2022-03-29T00:46:10.204587Z",
     "shell.execute_reply.started": "2022-03-29T00:44:36.178643Z"
    },
    "papermill": {
     "duration": 0.06474,
     "end_time": "2022-03-29T00:46:10.204708",
     "exception": false,
     "start_time": "2022-03-29T00:46:10.139968",
     "status": "completed"
    },
    "tags": []
   },
   "outputs": [
    {
     "data": {
      "text/html": [
       "<div>\n",
       "<style scoped>\n",
       "    .dataframe tbody tr th:only-of-type {\n",
       "        vertical-align: middle;\n",
       "    }\n",
       "\n",
       "    .dataframe tbody tr th {\n",
       "        vertical-align: top;\n",
       "    }\n",
       "\n",
       "    .dataframe thead th {\n",
       "        text-align: right;\n",
       "    }\n",
       "</style>\n",
       "<table border=\"1\" class=\"dataframe\">\n",
       "  <thead>\n",
       "    <tr style=\"text-align: right;\">\n",
       "      <th></th>\n",
       "      <th>PassengerId</th>\n",
       "      <th>Pclass</th>\n",
       "      <th>Name</th>\n",
       "      <th>Sex</th>\n",
       "      <th>Age</th>\n",
       "      <th>SibSp</th>\n",
       "      <th>Parch</th>\n",
       "      <th>Ticket</th>\n",
       "      <th>Fare</th>\n",
       "      <th>Cabin</th>\n",
       "      <th>Embarked</th>\n",
       "    </tr>\n",
       "  </thead>\n",
       "  <tbody>\n",
       "    <tr>\n",
       "      <th>0</th>\n",
       "      <td>892</td>\n",
       "      <td>3</td>\n",
       "      <td>Kelly, Mr. James</td>\n",
       "      <td>male</td>\n",
       "      <td>34.5</td>\n",
       "      <td>0</td>\n",
       "      <td>0</td>\n",
       "      <td>330911</td>\n",
       "      <td>7.8292</td>\n",
       "      <td>NaN</td>\n",
       "      <td>Q</td>\n",
       "    </tr>\n",
       "    <tr>\n",
       "      <th>1</th>\n",
       "      <td>893</td>\n",
       "      <td>3</td>\n",
       "      <td>Wilkes, Mrs. James (Ellen Needs)</td>\n",
       "      <td>female</td>\n",
       "      <td>47.0</td>\n",
       "      <td>1</td>\n",
       "      <td>0</td>\n",
       "      <td>363272</td>\n",
       "      <td>7.0000</td>\n",
       "      <td>NaN</td>\n",
       "      <td>S</td>\n",
       "    </tr>\n",
       "    <tr>\n",
       "      <th>2</th>\n",
       "      <td>894</td>\n",
       "      <td>2</td>\n",
       "      <td>Myles, Mr. Thomas Francis</td>\n",
       "      <td>male</td>\n",
       "      <td>62.0</td>\n",
       "      <td>0</td>\n",
       "      <td>0</td>\n",
       "      <td>240276</td>\n",
       "      <td>9.6875</td>\n",
       "      <td>NaN</td>\n",
       "      <td>Q</td>\n",
       "    </tr>\n",
       "    <tr>\n",
       "      <th>3</th>\n",
       "      <td>895</td>\n",
       "      <td>3</td>\n",
       "      <td>Wirz, Mr. Albert</td>\n",
       "      <td>male</td>\n",
       "      <td>27.0</td>\n",
       "      <td>0</td>\n",
       "      <td>0</td>\n",
       "      <td>315154</td>\n",
       "      <td>8.6625</td>\n",
       "      <td>NaN</td>\n",
       "      <td>S</td>\n",
       "    </tr>\n",
       "    <tr>\n",
       "      <th>4</th>\n",
       "      <td>896</td>\n",
       "      <td>3</td>\n",
       "      <td>Hirvonen, Mrs. Alexander (Helga E Lindqvist)</td>\n",
       "      <td>female</td>\n",
       "      <td>22.0</td>\n",
       "      <td>1</td>\n",
       "      <td>1</td>\n",
       "      <td>3101298</td>\n",
       "      <td>12.2875</td>\n",
       "      <td>NaN</td>\n",
       "      <td>S</td>\n",
       "    </tr>\n",
       "  </tbody>\n",
       "</table>\n",
       "</div>"
      ],
      "text/plain": [
       "   PassengerId  Pclass                                          Name     Sex  \\\n",
       "0          892       3                              Kelly, Mr. James    male   \n",
       "1          893       3              Wilkes, Mrs. James (Ellen Needs)  female   \n",
       "2          894       2                     Myles, Mr. Thomas Francis    male   \n",
       "3          895       3                              Wirz, Mr. Albert    male   \n",
       "4          896       3  Hirvonen, Mrs. Alexander (Helga E Lindqvist)  female   \n",
       "\n",
       "    Age  SibSp  Parch   Ticket     Fare Cabin Embarked  \n",
       "0  34.5      0      0   330911   7.8292   NaN        Q  \n",
       "1  47.0      1      0   363272   7.0000   NaN        S  \n",
       "2  62.0      0      0   240276   9.6875   NaN        Q  \n",
       "3  27.0      0      0   315154   8.6625   NaN        S  \n",
       "4  22.0      1      1  3101298  12.2875   NaN        S  "
      ]
     },
     "execution_count": 4,
     "metadata": {},
     "output_type": "execute_result"
    }
   ],
   "source": [
    "data.head(5)"
   ]
  },
  {
   "cell_type": "code",
   "execution_count": 5,
   "id": "01bc28f4",
   "metadata": {
    "execution": {
     "iopub.execute_input": "2022-03-29T00:46:10.303345Z",
     "iopub.status.busy": "2022-03-29T00:46:10.302855Z",
     "iopub.status.idle": "2022-03-29T00:46:10.317274Z",
     "shell.execute_reply": "2022-03-29T00:46:10.317765Z",
     "shell.execute_reply.started": "2022-03-29T00:44:36.268872Z"
    },
    "papermill": {
     "duration": 0.065278,
     "end_time": "2022-03-29T00:46:10.317944",
     "exception": false,
     "start_time": "2022-03-29T00:46:10.252666",
     "status": "completed"
    },
    "tags": []
   },
   "outputs": [
    {
     "data": {
      "text/html": [
       "<div>\n",
       "<style scoped>\n",
       "    .dataframe tbody tr th:only-of-type {\n",
       "        vertical-align: middle;\n",
       "    }\n",
       "\n",
       "    .dataframe tbody tr th {\n",
       "        vertical-align: top;\n",
       "    }\n",
       "\n",
       "    .dataframe thead th {\n",
       "        text-align: right;\n",
       "    }\n",
       "</style>\n",
       "<table border=\"1\" class=\"dataframe\">\n",
       "  <thead>\n",
       "    <tr style=\"text-align: right;\">\n",
       "      <th></th>\n",
       "      <th>PassengerId</th>\n",
       "      <th>Pclass</th>\n",
       "      <th>Name</th>\n",
       "      <th>Sex</th>\n",
       "      <th>Age</th>\n",
       "      <th>SibSp</th>\n",
       "      <th>Parch</th>\n",
       "      <th>Ticket</th>\n",
       "      <th>Fare</th>\n",
       "      <th>Cabin</th>\n",
       "      <th>Embarked</th>\n",
       "    </tr>\n",
       "  </thead>\n",
       "  <tbody>\n",
       "    <tr>\n",
       "      <th>415</th>\n",
       "      <td>1307</td>\n",
       "      <td>3</td>\n",
       "      <td>Saether, Mr. Simon Sivertsen</td>\n",
       "      <td>male</td>\n",
       "      <td>38.5</td>\n",
       "      <td>0</td>\n",
       "      <td>0</td>\n",
       "      <td>SOTON/O.Q. 3101262</td>\n",
       "      <td>7.2500</td>\n",
       "      <td>NaN</td>\n",
       "      <td>S</td>\n",
       "    </tr>\n",
       "    <tr>\n",
       "      <th>416</th>\n",
       "      <td>1308</td>\n",
       "      <td>3</td>\n",
       "      <td>Ware, Mr. Frederick</td>\n",
       "      <td>male</td>\n",
       "      <td>NaN</td>\n",
       "      <td>0</td>\n",
       "      <td>0</td>\n",
       "      <td>359309</td>\n",
       "      <td>8.0500</td>\n",
       "      <td>NaN</td>\n",
       "      <td>S</td>\n",
       "    </tr>\n",
       "    <tr>\n",
       "      <th>417</th>\n",
       "      <td>1309</td>\n",
       "      <td>3</td>\n",
       "      <td>Peter, Master. Michael J</td>\n",
       "      <td>male</td>\n",
       "      <td>NaN</td>\n",
       "      <td>1</td>\n",
       "      <td>1</td>\n",
       "      <td>2668</td>\n",
       "      <td>22.3583</td>\n",
       "      <td>NaN</td>\n",
       "      <td>C</td>\n",
       "    </tr>\n",
       "  </tbody>\n",
       "</table>\n",
       "</div>"
      ],
      "text/plain": [
       "     PassengerId  Pclass                          Name   Sex   Age  SibSp  \\\n",
       "415         1307       3  Saether, Mr. Simon Sivertsen  male  38.5      0   \n",
       "416         1308       3           Ware, Mr. Frederick  male   NaN      0   \n",
       "417         1309       3      Peter, Master. Michael J  male   NaN      1   \n",
       "\n",
       "     Parch              Ticket     Fare Cabin Embarked  \n",
       "415      0  SOTON/O.Q. 3101262   7.2500   NaN        S  \n",
       "416      0              359309   8.0500   NaN        S  \n",
       "417      1                2668  22.3583   NaN        C  "
      ]
     },
     "execution_count": 5,
     "metadata": {},
     "output_type": "execute_result"
    }
   ],
   "source": [
    "data.tail(3)"
   ]
  },
  {
   "cell_type": "code",
   "execution_count": 6,
   "id": "b63ad16e",
   "metadata": {
    "execution": {
     "iopub.execute_input": "2022-03-29T00:46:10.475690Z",
     "iopub.status.busy": "2022-03-29T00:46:10.475096Z",
     "iopub.status.idle": "2022-03-29T00:46:10.478678Z",
     "shell.execute_reply": "2022-03-29T00:46:10.479204Z",
     "shell.execute_reply.started": "2022-03-29T00:44:36.341185Z"
    },
    "papermill": {
     "duration": 0.085143,
     "end_time": "2022-03-29T00:46:10.479368",
     "exception": false,
     "start_time": "2022-03-29T00:46:10.394225",
     "status": "completed"
    },
    "tags": []
   },
   "outputs": [
    {
     "data": {
      "text/plain": [
       "(418, 11)"
      ]
     },
     "execution_count": 6,
     "metadata": {},
     "output_type": "execute_result"
    }
   ],
   "source": [
    "data.shape"
   ]
  },
  {
   "cell_type": "code",
   "execution_count": 7,
   "id": "565eebd0",
   "metadata": {
    "execution": {
     "iopub.execute_input": "2022-03-29T00:46:10.635078Z",
     "iopub.status.busy": "2022-03-29T00:46:10.634475Z",
     "iopub.status.idle": "2022-03-29T00:46:10.638488Z",
     "shell.execute_reply": "2022-03-29T00:46:10.639068Z",
     "shell.execute_reply.started": "2022-03-29T00:44:36.439254Z"
    },
    "papermill": {
     "duration": 0.083219,
     "end_time": "2022-03-29T00:46:10.639202",
     "exception": false,
     "start_time": "2022-03-29T00:46:10.555983",
     "status": "completed"
    },
    "tags": []
   },
   "outputs": [
    {
     "data": {
      "text/plain": [
       "418"
      ]
     },
     "execution_count": 7,
     "metadata": {},
     "output_type": "execute_result"
    }
   ],
   "source": [
    "data.shape[0]"
   ]
  },
  {
   "cell_type": "code",
   "execution_count": 8,
   "id": "70705134",
   "metadata": {
    "execution": {
     "iopub.execute_input": "2022-03-29T00:46:10.786624Z",
     "iopub.status.busy": "2022-03-29T00:46:10.786017Z",
     "iopub.status.idle": "2022-03-29T00:46:10.788689Z",
     "shell.execute_reply": "2022-03-29T00:46:10.788172Z",
     "shell.execute_reply.started": "2022-03-29T00:44:36.496491Z"
    },
    "papermill": {
     "duration": 0.072051,
     "end_time": "2022-03-29T00:46:10.788797",
     "exception": false,
     "start_time": "2022-03-29T00:46:10.716746",
     "status": "completed"
    },
    "tags": []
   },
   "outputs": [
    {
     "data": {
      "text/plain": [
       "11"
      ]
     },
     "execution_count": 8,
     "metadata": {},
     "output_type": "execute_result"
    }
   ],
   "source": [
    "data.shape[1]"
   ]
  },
  {
   "cell_type": "markdown",
   "id": "2a04cc09",
   "metadata": {
    "papermill": {
     "duration": 0.049571,
     "end_time": "2022-03-29T00:46:10.891751",
     "exception": false,
     "start_time": "2022-03-29T00:46:10.842180",
     "status": "completed"
    },
    "tags": []
   },
   "source": [
    "418 rows, 11 columns"
   ]
  },
  {
   "cell_type": "code",
   "execution_count": 9,
   "id": "2f5b3f6d",
   "metadata": {
    "execution": {
     "iopub.execute_input": "2022-03-29T00:46:10.996946Z",
     "iopub.status.busy": "2022-03-29T00:46:10.996495Z",
     "iopub.status.idle": "2022-03-29T00:46:11.013050Z",
     "shell.execute_reply": "2022-03-29T00:46:11.013471Z",
     "shell.execute_reply.started": "2022-03-29T00:44:36.579588Z"
    },
    "papermill": {
     "duration": 0.071811,
     "end_time": "2022-03-29T00:46:11.013599",
     "exception": false,
     "start_time": "2022-03-29T00:46:10.941788",
     "status": "completed"
    },
    "tags": []
   },
   "outputs": [
    {
     "name": "stdout",
     "output_type": "stream",
     "text": [
      "<class 'pandas.core.frame.DataFrame'>\n",
      "RangeIndex: 418 entries, 0 to 417\n",
      "Data columns (total 11 columns):\n",
      " #   Column       Non-Null Count  Dtype  \n",
      "---  ------       --------------  -----  \n",
      " 0   PassengerId  418 non-null    int64  \n",
      " 1   Pclass       418 non-null    int64  \n",
      " 2   Name         418 non-null    object \n",
      " 3   Sex          418 non-null    object \n",
      " 4   Age          332 non-null    float64\n",
      " 5   SibSp        418 non-null    int64  \n",
      " 6   Parch        418 non-null    int64  \n",
      " 7   Ticket       418 non-null    object \n",
      " 8   Fare         417 non-null    float64\n",
      " 9   Cabin        91 non-null     object \n",
      " 10  Embarked     418 non-null    object \n",
      "dtypes: float64(2), int64(4), object(5)\n",
      "memory usage: 36.0+ KB\n"
     ]
    }
   ],
   "source": [
    "data.info()"
   ]
  },
  {
   "cell_type": "code",
   "execution_count": 10,
   "id": "a1d0d09b",
   "metadata": {
    "execution": {
     "iopub.execute_input": "2022-03-29T00:46:11.116610Z",
     "iopub.status.busy": "2022-03-29T00:46:11.116137Z",
     "iopub.status.idle": "2022-03-29T00:46:11.141246Z",
     "shell.execute_reply": "2022-03-29T00:46:11.141654Z",
     "shell.execute_reply.started": "2022-03-29T00:44:36.665032Z"
    },
    "papermill": {
     "duration": 0.077831,
     "end_time": "2022-03-29T00:46:11.141793",
     "exception": false,
     "start_time": "2022-03-29T00:46:11.063962",
     "status": "completed"
    },
    "tags": []
   },
   "outputs": [
    {
     "data": {
      "text/html": [
       "<div>\n",
       "<style scoped>\n",
       "    .dataframe tbody tr th:only-of-type {\n",
       "        vertical-align: middle;\n",
       "    }\n",
       "\n",
       "    .dataframe tbody tr th {\n",
       "        vertical-align: top;\n",
       "    }\n",
       "\n",
       "    .dataframe thead th {\n",
       "        text-align: right;\n",
       "    }\n",
       "</style>\n",
       "<table border=\"1\" class=\"dataframe\">\n",
       "  <thead>\n",
       "    <tr style=\"text-align: right;\">\n",
       "      <th></th>\n",
       "      <th>PassengerId</th>\n",
       "      <th>Pclass</th>\n",
       "      <th>Age</th>\n",
       "      <th>SibSp</th>\n",
       "      <th>Parch</th>\n",
       "      <th>Fare</th>\n",
       "    </tr>\n",
       "  </thead>\n",
       "  <tbody>\n",
       "    <tr>\n",
       "      <th>count</th>\n",
       "      <td>418.000000</td>\n",
       "      <td>418.000000</td>\n",
       "      <td>332.000000</td>\n",
       "      <td>418.000000</td>\n",
       "      <td>418.000000</td>\n",
       "      <td>417.000000</td>\n",
       "    </tr>\n",
       "    <tr>\n",
       "      <th>mean</th>\n",
       "      <td>1100.500000</td>\n",
       "      <td>2.265550</td>\n",
       "      <td>30.272590</td>\n",
       "      <td>0.447368</td>\n",
       "      <td>0.392344</td>\n",
       "      <td>35.627188</td>\n",
       "    </tr>\n",
       "    <tr>\n",
       "      <th>std</th>\n",
       "      <td>120.810458</td>\n",
       "      <td>0.841838</td>\n",
       "      <td>14.181209</td>\n",
       "      <td>0.896760</td>\n",
       "      <td>0.981429</td>\n",
       "      <td>55.907576</td>\n",
       "    </tr>\n",
       "    <tr>\n",
       "      <th>min</th>\n",
       "      <td>892.000000</td>\n",
       "      <td>1.000000</td>\n",
       "      <td>0.170000</td>\n",
       "      <td>0.000000</td>\n",
       "      <td>0.000000</td>\n",
       "      <td>0.000000</td>\n",
       "    </tr>\n",
       "    <tr>\n",
       "      <th>25%</th>\n",
       "      <td>996.250000</td>\n",
       "      <td>1.000000</td>\n",
       "      <td>21.000000</td>\n",
       "      <td>0.000000</td>\n",
       "      <td>0.000000</td>\n",
       "      <td>7.895800</td>\n",
       "    </tr>\n",
       "    <tr>\n",
       "      <th>50%</th>\n",
       "      <td>1100.500000</td>\n",
       "      <td>3.000000</td>\n",
       "      <td>27.000000</td>\n",
       "      <td>0.000000</td>\n",
       "      <td>0.000000</td>\n",
       "      <td>14.454200</td>\n",
       "    </tr>\n",
       "    <tr>\n",
       "      <th>75%</th>\n",
       "      <td>1204.750000</td>\n",
       "      <td>3.000000</td>\n",
       "      <td>39.000000</td>\n",
       "      <td>1.000000</td>\n",
       "      <td>0.000000</td>\n",
       "      <td>31.500000</td>\n",
       "    </tr>\n",
       "    <tr>\n",
       "      <th>max</th>\n",
       "      <td>1309.000000</td>\n",
       "      <td>3.000000</td>\n",
       "      <td>76.000000</td>\n",
       "      <td>8.000000</td>\n",
       "      <td>9.000000</td>\n",
       "      <td>512.329200</td>\n",
       "    </tr>\n",
       "  </tbody>\n",
       "</table>\n",
       "</div>"
      ],
      "text/plain": [
       "       PassengerId      Pclass         Age       SibSp       Parch        Fare\n",
       "count   418.000000  418.000000  332.000000  418.000000  418.000000  417.000000\n",
       "mean   1100.500000    2.265550   30.272590    0.447368    0.392344   35.627188\n",
       "std     120.810458    0.841838   14.181209    0.896760    0.981429   55.907576\n",
       "min     892.000000    1.000000    0.170000    0.000000    0.000000    0.000000\n",
       "25%     996.250000    1.000000   21.000000    0.000000    0.000000    7.895800\n",
       "50%    1100.500000    3.000000   27.000000    0.000000    0.000000   14.454200\n",
       "75%    1204.750000    3.000000   39.000000    1.000000    0.000000   31.500000\n",
       "max    1309.000000    3.000000   76.000000    8.000000    9.000000  512.329200"
      ]
     },
     "execution_count": 10,
     "metadata": {},
     "output_type": "execute_result"
    }
   ],
   "source": [
    "data.describe()"
   ]
  },
  {
   "cell_type": "code",
   "execution_count": 11,
   "id": "17c55437",
   "metadata": {
    "execution": {
     "iopub.execute_input": "2022-03-29T00:46:11.248137Z",
     "iopub.status.busy": "2022-03-29T00:46:11.247622Z",
     "iopub.status.idle": "2022-03-29T00:46:11.283652Z",
     "shell.execute_reply": "2022-03-29T00:46:11.284038Z",
     "shell.execute_reply.started": "2022-03-29T00:44:36.750127Z"
    },
    "papermill": {
     "duration": 0.090292,
     "end_time": "2022-03-29T00:46:11.284165",
     "exception": false,
     "start_time": "2022-03-29T00:46:11.193873",
     "status": "completed"
    },
    "tags": []
   },
   "outputs": [
    {
     "data": {
      "text/html": [
       "<div>\n",
       "<style scoped>\n",
       "    .dataframe tbody tr th:only-of-type {\n",
       "        vertical-align: middle;\n",
       "    }\n",
       "\n",
       "    .dataframe tbody tr th {\n",
       "        vertical-align: top;\n",
       "    }\n",
       "\n",
       "    .dataframe thead th {\n",
       "        text-align: right;\n",
       "    }\n",
       "</style>\n",
       "<table border=\"1\" class=\"dataframe\">\n",
       "  <thead>\n",
       "    <tr style=\"text-align: right;\">\n",
       "      <th></th>\n",
       "      <th>PassengerId</th>\n",
       "      <th>Pclass</th>\n",
       "      <th>Name</th>\n",
       "      <th>Sex</th>\n",
       "      <th>Age</th>\n",
       "      <th>SibSp</th>\n",
       "      <th>Parch</th>\n",
       "      <th>Ticket</th>\n",
       "      <th>Fare</th>\n",
       "      <th>Cabin</th>\n",
       "      <th>Embarked</th>\n",
       "    </tr>\n",
       "  </thead>\n",
       "  <tbody>\n",
       "    <tr>\n",
       "      <th>count</th>\n",
       "      <td>418.000000</td>\n",
       "      <td>418.000000</td>\n",
       "      <td>418</td>\n",
       "      <td>418</td>\n",
       "      <td>332.000000</td>\n",
       "      <td>418.000000</td>\n",
       "      <td>418.000000</td>\n",
       "      <td>418</td>\n",
       "      <td>417.000000</td>\n",
       "      <td>91</td>\n",
       "      <td>418</td>\n",
       "    </tr>\n",
       "    <tr>\n",
       "      <th>unique</th>\n",
       "      <td>NaN</td>\n",
       "      <td>NaN</td>\n",
       "      <td>418</td>\n",
       "      <td>2</td>\n",
       "      <td>NaN</td>\n",
       "      <td>NaN</td>\n",
       "      <td>NaN</td>\n",
       "      <td>363</td>\n",
       "      <td>NaN</td>\n",
       "      <td>76</td>\n",
       "      <td>3</td>\n",
       "    </tr>\n",
       "    <tr>\n",
       "      <th>top</th>\n",
       "      <td>NaN</td>\n",
       "      <td>NaN</td>\n",
       "      <td>Kelly, Mr. James</td>\n",
       "      <td>male</td>\n",
       "      <td>NaN</td>\n",
       "      <td>NaN</td>\n",
       "      <td>NaN</td>\n",
       "      <td>PC 17608</td>\n",
       "      <td>NaN</td>\n",
       "      <td>B57 B59 B63 B66</td>\n",
       "      <td>S</td>\n",
       "    </tr>\n",
       "    <tr>\n",
       "      <th>freq</th>\n",
       "      <td>NaN</td>\n",
       "      <td>NaN</td>\n",
       "      <td>1</td>\n",
       "      <td>266</td>\n",
       "      <td>NaN</td>\n",
       "      <td>NaN</td>\n",
       "      <td>NaN</td>\n",
       "      <td>5</td>\n",
       "      <td>NaN</td>\n",
       "      <td>3</td>\n",
       "      <td>270</td>\n",
       "    </tr>\n",
       "    <tr>\n",
       "      <th>mean</th>\n",
       "      <td>1100.500000</td>\n",
       "      <td>2.265550</td>\n",
       "      <td>NaN</td>\n",
       "      <td>NaN</td>\n",
       "      <td>30.272590</td>\n",
       "      <td>0.447368</td>\n",
       "      <td>0.392344</td>\n",
       "      <td>NaN</td>\n",
       "      <td>35.627188</td>\n",
       "      <td>NaN</td>\n",
       "      <td>NaN</td>\n",
       "    </tr>\n",
       "    <tr>\n",
       "      <th>std</th>\n",
       "      <td>120.810458</td>\n",
       "      <td>0.841838</td>\n",
       "      <td>NaN</td>\n",
       "      <td>NaN</td>\n",
       "      <td>14.181209</td>\n",
       "      <td>0.896760</td>\n",
       "      <td>0.981429</td>\n",
       "      <td>NaN</td>\n",
       "      <td>55.907576</td>\n",
       "      <td>NaN</td>\n",
       "      <td>NaN</td>\n",
       "    </tr>\n",
       "    <tr>\n",
       "      <th>min</th>\n",
       "      <td>892.000000</td>\n",
       "      <td>1.000000</td>\n",
       "      <td>NaN</td>\n",
       "      <td>NaN</td>\n",
       "      <td>0.170000</td>\n",
       "      <td>0.000000</td>\n",
       "      <td>0.000000</td>\n",
       "      <td>NaN</td>\n",
       "      <td>0.000000</td>\n",
       "      <td>NaN</td>\n",
       "      <td>NaN</td>\n",
       "    </tr>\n",
       "    <tr>\n",
       "      <th>25%</th>\n",
       "      <td>996.250000</td>\n",
       "      <td>1.000000</td>\n",
       "      <td>NaN</td>\n",
       "      <td>NaN</td>\n",
       "      <td>21.000000</td>\n",
       "      <td>0.000000</td>\n",
       "      <td>0.000000</td>\n",
       "      <td>NaN</td>\n",
       "      <td>7.895800</td>\n",
       "      <td>NaN</td>\n",
       "      <td>NaN</td>\n",
       "    </tr>\n",
       "    <tr>\n",
       "      <th>50%</th>\n",
       "      <td>1100.500000</td>\n",
       "      <td>3.000000</td>\n",
       "      <td>NaN</td>\n",
       "      <td>NaN</td>\n",
       "      <td>27.000000</td>\n",
       "      <td>0.000000</td>\n",
       "      <td>0.000000</td>\n",
       "      <td>NaN</td>\n",
       "      <td>14.454200</td>\n",
       "      <td>NaN</td>\n",
       "      <td>NaN</td>\n",
       "    </tr>\n",
       "    <tr>\n",
       "      <th>75%</th>\n",
       "      <td>1204.750000</td>\n",
       "      <td>3.000000</td>\n",
       "      <td>NaN</td>\n",
       "      <td>NaN</td>\n",
       "      <td>39.000000</td>\n",
       "      <td>1.000000</td>\n",
       "      <td>0.000000</td>\n",
       "      <td>NaN</td>\n",
       "      <td>31.500000</td>\n",
       "      <td>NaN</td>\n",
       "      <td>NaN</td>\n",
       "    </tr>\n",
       "    <tr>\n",
       "      <th>max</th>\n",
       "      <td>1309.000000</td>\n",
       "      <td>3.000000</td>\n",
       "      <td>NaN</td>\n",
       "      <td>NaN</td>\n",
       "      <td>76.000000</td>\n",
       "      <td>8.000000</td>\n",
       "      <td>9.000000</td>\n",
       "      <td>NaN</td>\n",
       "      <td>512.329200</td>\n",
       "      <td>NaN</td>\n",
       "      <td>NaN</td>\n",
       "    </tr>\n",
       "  </tbody>\n",
       "</table>\n",
       "</div>"
      ],
      "text/plain": [
       "        PassengerId      Pclass              Name   Sex         Age  \\\n",
       "count    418.000000  418.000000               418   418  332.000000   \n",
       "unique          NaN         NaN               418     2         NaN   \n",
       "top             NaN         NaN  Kelly, Mr. James  male         NaN   \n",
       "freq            NaN         NaN                 1   266         NaN   \n",
       "mean    1100.500000    2.265550               NaN   NaN   30.272590   \n",
       "std      120.810458    0.841838               NaN   NaN   14.181209   \n",
       "min      892.000000    1.000000               NaN   NaN    0.170000   \n",
       "25%      996.250000    1.000000               NaN   NaN   21.000000   \n",
       "50%     1100.500000    3.000000               NaN   NaN   27.000000   \n",
       "75%     1204.750000    3.000000               NaN   NaN   39.000000   \n",
       "max     1309.000000    3.000000               NaN   NaN   76.000000   \n",
       "\n",
       "             SibSp       Parch    Ticket        Fare            Cabin Embarked  \n",
       "count   418.000000  418.000000       418  417.000000               91      418  \n",
       "unique         NaN         NaN       363         NaN               76        3  \n",
       "top            NaN         NaN  PC 17608         NaN  B57 B59 B63 B66        S  \n",
       "freq           NaN         NaN         5         NaN                3      270  \n",
       "mean      0.447368    0.392344       NaN   35.627188              NaN      NaN  \n",
       "std       0.896760    0.981429       NaN   55.907576              NaN      NaN  \n",
       "min       0.000000    0.000000       NaN    0.000000              NaN      NaN  \n",
       "25%       0.000000    0.000000       NaN    7.895800              NaN      NaN  \n",
       "50%       0.000000    0.000000       NaN   14.454200              NaN      NaN  \n",
       "75%       1.000000    0.000000       NaN   31.500000              NaN      NaN  \n",
       "max       8.000000    9.000000       NaN  512.329200              NaN      NaN  "
      ]
     },
     "execution_count": 11,
     "metadata": {},
     "output_type": "execute_result"
    }
   ],
   "source": [
    "data.describe(include='all')\n",
    "\n",
    "## will display all : numeric and category values"
   ]
  },
  {
   "cell_type": "markdown",
   "id": "c682d504",
   "metadata": {
    "papermill": {
     "duration": 0.052731,
     "end_time": "2022-03-29T00:46:11.387667",
     "exception": false,
     "start_time": "2022-03-29T00:46:11.334936",
     "status": "completed"
    },
    "tags": []
   },
   "source": [
    "# Data filtering : select only particular columns, only desired category"
   ]
  },
  {
   "cell_type": "code",
   "execution_count": 12,
   "id": "c9f474be",
   "metadata": {
    "execution": {
     "iopub.execute_input": "2022-03-29T00:46:11.493247Z",
     "iopub.status.busy": "2022-03-29T00:46:11.492722Z",
     "iopub.status.idle": "2022-03-29T00:46:11.497625Z",
     "shell.execute_reply": "2022-03-29T00:46:11.498028Z",
     "shell.execute_reply.started": "2022-03-29T00:44:36.830277Z"
    },
    "papermill": {
     "duration": 0.058692,
     "end_time": "2022-03-29T00:46:11.498159",
     "exception": false,
     "start_time": "2022-03-29T00:46:11.439467",
     "status": "completed"
    },
    "tags": []
   },
   "outputs": [
    {
     "data": {
      "text/plain": [
       "Index(['PassengerId', 'Pclass', 'Name', 'Sex', 'Age', 'SibSp', 'Parch',\n",
       "       'Ticket', 'Fare', 'Cabin', 'Embarked'],\n",
       "      dtype='object')"
      ]
     },
     "execution_count": 12,
     "metadata": {},
     "output_type": "execute_result"
    }
   ],
   "source": [
    "data.columns"
   ]
  },
  {
   "cell_type": "code",
   "execution_count": 13,
   "id": "92cb7b16",
   "metadata": {
    "execution": {
     "iopub.execute_input": "2022-03-29T00:46:11.620495Z",
     "iopub.status.busy": "2022-03-29T00:46:11.619890Z",
     "iopub.status.idle": "2022-03-29T00:46:11.623418Z",
     "shell.execute_reply": "2022-03-29T00:46:11.622954Z",
     "shell.execute_reply.started": "2022-03-29T00:44:36.916578Z"
    },
    "papermill": {
     "duration": 0.073721,
     "end_time": "2022-03-29T00:46:11.623527",
     "exception": false,
     "start_time": "2022-03-29T00:46:11.549806",
     "status": "completed"
    },
    "tags": []
   },
   "outputs": [
    {
     "data": {
      "text/html": [
       "<div>\n",
       "<style scoped>\n",
       "    .dataframe tbody tr th:only-of-type {\n",
       "        vertical-align: middle;\n",
       "    }\n",
       "\n",
       "    .dataframe tbody tr th {\n",
       "        vertical-align: top;\n",
       "    }\n",
       "\n",
       "    .dataframe thead th {\n",
       "        text-align: right;\n",
       "    }\n",
       "</style>\n",
       "<table border=\"1\" class=\"dataframe\">\n",
       "  <thead>\n",
       "    <tr style=\"text-align: right;\">\n",
       "      <th></th>\n",
       "      <th>Pclass</th>\n",
       "      <th>Name</th>\n",
       "      <th>Sex</th>\n",
       "      <th>Age</th>\n",
       "      <th>Ticket</th>\n",
       "      <th>Cabin</th>\n",
       "    </tr>\n",
       "  </thead>\n",
       "  <tbody>\n",
       "    <tr>\n",
       "      <th>0</th>\n",
       "      <td>3</td>\n",
       "      <td>Kelly, Mr. James</td>\n",
       "      <td>male</td>\n",
       "      <td>34.5</td>\n",
       "      <td>330911</td>\n",
       "      <td>NaN</td>\n",
       "    </tr>\n",
       "    <tr>\n",
       "      <th>1</th>\n",
       "      <td>3</td>\n",
       "      <td>Wilkes, Mrs. James (Ellen Needs)</td>\n",
       "      <td>female</td>\n",
       "      <td>47.0</td>\n",
       "      <td>363272</td>\n",
       "      <td>NaN</td>\n",
       "    </tr>\n",
       "    <tr>\n",
       "      <th>2</th>\n",
       "      <td>2</td>\n",
       "      <td>Myles, Mr. Thomas Francis</td>\n",
       "      <td>male</td>\n",
       "      <td>62.0</td>\n",
       "      <td>240276</td>\n",
       "      <td>NaN</td>\n",
       "    </tr>\n",
       "    <tr>\n",
       "      <th>3</th>\n",
       "      <td>3</td>\n",
       "      <td>Wirz, Mr. Albert</td>\n",
       "      <td>male</td>\n",
       "      <td>27.0</td>\n",
       "      <td>315154</td>\n",
       "      <td>NaN</td>\n",
       "    </tr>\n",
       "    <tr>\n",
       "      <th>4</th>\n",
       "      <td>3</td>\n",
       "      <td>Hirvonen, Mrs. Alexander (Helga E Lindqvist)</td>\n",
       "      <td>female</td>\n",
       "      <td>22.0</td>\n",
       "      <td>3101298</td>\n",
       "      <td>NaN</td>\n",
       "    </tr>\n",
       "    <tr>\n",
       "      <th>...</th>\n",
       "      <td>...</td>\n",
       "      <td>...</td>\n",
       "      <td>...</td>\n",
       "      <td>...</td>\n",
       "      <td>...</td>\n",
       "      <td>...</td>\n",
       "    </tr>\n",
       "    <tr>\n",
       "      <th>413</th>\n",
       "      <td>3</td>\n",
       "      <td>Spector, Mr. Woolf</td>\n",
       "      <td>male</td>\n",
       "      <td>NaN</td>\n",
       "      <td>A.5. 3236</td>\n",
       "      <td>NaN</td>\n",
       "    </tr>\n",
       "    <tr>\n",
       "      <th>414</th>\n",
       "      <td>1</td>\n",
       "      <td>Oliva y Ocana, Dona. Fermina</td>\n",
       "      <td>female</td>\n",
       "      <td>39.0</td>\n",
       "      <td>PC 17758</td>\n",
       "      <td>C105</td>\n",
       "    </tr>\n",
       "    <tr>\n",
       "      <th>415</th>\n",
       "      <td>3</td>\n",
       "      <td>Saether, Mr. Simon Sivertsen</td>\n",
       "      <td>male</td>\n",
       "      <td>38.5</td>\n",
       "      <td>SOTON/O.Q. 3101262</td>\n",
       "      <td>NaN</td>\n",
       "    </tr>\n",
       "    <tr>\n",
       "      <th>416</th>\n",
       "      <td>3</td>\n",
       "      <td>Ware, Mr. Frederick</td>\n",
       "      <td>male</td>\n",
       "      <td>NaN</td>\n",
       "      <td>359309</td>\n",
       "      <td>NaN</td>\n",
       "    </tr>\n",
       "    <tr>\n",
       "      <th>417</th>\n",
       "      <td>3</td>\n",
       "      <td>Peter, Master. Michael J</td>\n",
       "      <td>male</td>\n",
       "      <td>NaN</td>\n",
       "      <td>2668</td>\n",
       "      <td>NaN</td>\n",
       "    </tr>\n",
       "  </tbody>\n",
       "</table>\n",
       "<p>418 rows × 6 columns</p>\n",
       "</div>"
      ],
      "text/plain": [
       "     Pclass                                          Name     Sex   Age  \\\n",
       "0         3                              Kelly, Mr. James    male  34.5   \n",
       "1         3              Wilkes, Mrs. James (Ellen Needs)  female  47.0   \n",
       "2         2                     Myles, Mr. Thomas Francis    male  62.0   \n",
       "3         3                              Wirz, Mr. Albert    male  27.0   \n",
       "4         3  Hirvonen, Mrs. Alexander (Helga E Lindqvist)  female  22.0   \n",
       "..      ...                                           ...     ...   ...   \n",
       "413       3                            Spector, Mr. Woolf    male   NaN   \n",
       "414       1                  Oliva y Ocana, Dona. Fermina  female  39.0   \n",
       "415       3                  Saether, Mr. Simon Sivertsen    male  38.5   \n",
       "416       3                           Ware, Mr. Frederick    male   NaN   \n",
       "417       3                      Peter, Master. Michael J    male   NaN   \n",
       "\n",
       "                 Ticket Cabin  \n",
       "0                330911   NaN  \n",
       "1                363272   NaN  \n",
       "2                240276   NaN  \n",
       "3                315154   NaN  \n",
       "4               3101298   NaN  \n",
       "..                  ...   ...  \n",
       "413           A.5. 3236   NaN  \n",
       "414            PC 17758  C105  \n",
       "415  SOTON/O.Q. 3101262   NaN  \n",
       "416              359309   NaN  \n",
       "417                2668   NaN  \n",
       "\n",
       "[418 rows x 6 columns]"
      ]
     },
     "execution_count": 13,
     "metadata": {},
     "output_type": "execute_result"
    }
   ],
   "source": [
    "##I want data values from 'Pclass', 'Name', 'Sex', 'Age', 'Ticket', 'Cabin'\n",
    "\n",
    "data[['Pclass', 'Name', 'Sex', 'Age', 'Ticket', 'Cabin']]"
   ]
  },
  {
   "cell_type": "code",
   "execution_count": 14,
   "id": "2cc0c144",
   "metadata": {
    "execution": {
     "iopub.execute_input": "2022-03-29T00:46:11.752679Z",
     "iopub.status.busy": "2022-03-29T00:46:11.752026Z",
     "iopub.status.idle": "2022-03-29T00:46:11.756670Z",
     "shell.execute_reply": "2022-03-29T00:46:11.756124Z",
     "shell.execute_reply.started": "2022-03-29T00:44:37.046279Z"
    },
    "papermill": {
     "duration": 0.080604,
     "end_time": "2022-03-29T00:46:11.756823",
     "exception": false,
     "start_time": "2022-03-29T00:46:11.676219",
     "status": "completed"
    },
    "tags": []
   },
   "outputs": [
    {
     "data": {
      "text/html": [
       "<div>\n",
       "<style scoped>\n",
       "    .dataframe tbody tr th:only-of-type {\n",
       "        vertical-align: middle;\n",
       "    }\n",
       "\n",
       "    .dataframe tbody tr th {\n",
       "        vertical-align: top;\n",
       "    }\n",
       "\n",
       "    .dataframe thead th {\n",
       "        text-align: right;\n",
       "    }\n",
       "</style>\n",
       "<table border=\"1\" class=\"dataframe\">\n",
       "  <thead>\n",
       "    <tr style=\"text-align: right;\">\n",
       "      <th></th>\n",
       "      <th>PassengerId</th>\n",
       "      <th>Pclass</th>\n",
       "      <th>Name</th>\n",
       "      <th>Sex</th>\n",
       "      <th>Age</th>\n",
       "      <th>SibSp</th>\n",
       "      <th>Parch</th>\n",
       "      <th>Ticket</th>\n",
       "      <th>Fare</th>\n",
       "      <th>Cabin</th>\n",
       "      <th>Embarked</th>\n",
       "    </tr>\n",
       "  </thead>\n",
       "  <tbody>\n",
       "    <tr>\n",
       "      <th>0</th>\n",
       "      <td>892</td>\n",
       "      <td>3</td>\n",
       "      <td>Kelly, Mr. James</td>\n",
       "      <td>male</td>\n",
       "      <td>34.5</td>\n",
       "      <td>0</td>\n",
       "      <td>0</td>\n",
       "      <td>330911</td>\n",
       "      <td>7.8292</td>\n",
       "      <td>NaN</td>\n",
       "      <td>Q</td>\n",
       "    </tr>\n",
       "    <tr>\n",
       "      <th>2</th>\n",
       "      <td>894</td>\n",
       "      <td>2</td>\n",
       "      <td>Myles, Mr. Thomas Francis</td>\n",
       "      <td>male</td>\n",
       "      <td>62.0</td>\n",
       "      <td>0</td>\n",
       "      <td>0</td>\n",
       "      <td>240276</td>\n",
       "      <td>9.6875</td>\n",
       "      <td>NaN</td>\n",
       "      <td>Q</td>\n",
       "    </tr>\n",
       "    <tr>\n",
       "      <th>3</th>\n",
       "      <td>895</td>\n",
       "      <td>3</td>\n",
       "      <td>Wirz, Mr. Albert</td>\n",
       "      <td>male</td>\n",
       "      <td>27.0</td>\n",
       "      <td>0</td>\n",
       "      <td>0</td>\n",
       "      <td>315154</td>\n",
       "      <td>8.6625</td>\n",
       "      <td>NaN</td>\n",
       "      <td>S</td>\n",
       "    </tr>\n",
       "    <tr>\n",
       "      <th>5</th>\n",
       "      <td>897</td>\n",
       "      <td>3</td>\n",
       "      <td>Svensson, Mr. Johan Cervin</td>\n",
       "      <td>male</td>\n",
       "      <td>14.0</td>\n",
       "      <td>0</td>\n",
       "      <td>0</td>\n",
       "      <td>7538</td>\n",
       "      <td>9.2250</td>\n",
       "      <td>NaN</td>\n",
       "      <td>S</td>\n",
       "    </tr>\n",
       "    <tr>\n",
       "      <th>7</th>\n",
       "      <td>899</td>\n",
       "      <td>2</td>\n",
       "      <td>Caldwell, Mr. Albert Francis</td>\n",
       "      <td>male</td>\n",
       "      <td>26.0</td>\n",
       "      <td>1</td>\n",
       "      <td>1</td>\n",
       "      <td>248738</td>\n",
       "      <td>29.0000</td>\n",
       "      <td>NaN</td>\n",
       "      <td>S</td>\n",
       "    </tr>\n",
       "    <tr>\n",
       "      <th>...</th>\n",
       "      <td>...</td>\n",
       "      <td>...</td>\n",
       "      <td>...</td>\n",
       "      <td>...</td>\n",
       "      <td>...</td>\n",
       "      <td>...</td>\n",
       "      <td>...</td>\n",
       "      <td>...</td>\n",
       "      <td>...</td>\n",
       "      <td>...</td>\n",
       "      <td>...</td>\n",
       "    </tr>\n",
       "    <tr>\n",
       "      <th>407</th>\n",
       "      <td>1299</td>\n",
       "      <td>1</td>\n",
       "      <td>Widener, Mr. George Dunton</td>\n",
       "      <td>male</td>\n",
       "      <td>50.0</td>\n",
       "      <td>1</td>\n",
       "      <td>1</td>\n",
       "      <td>113503</td>\n",
       "      <td>211.5000</td>\n",
       "      <td>C80</td>\n",
       "      <td>C</td>\n",
       "    </tr>\n",
       "    <tr>\n",
       "      <th>413</th>\n",
       "      <td>1305</td>\n",
       "      <td>3</td>\n",
       "      <td>Spector, Mr. Woolf</td>\n",
       "      <td>male</td>\n",
       "      <td>NaN</td>\n",
       "      <td>0</td>\n",
       "      <td>0</td>\n",
       "      <td>A.5. 3236</td>\n",
       "      <td>8.0500</td>\n",
       "      <td>NaN</td>\n",
       "      <td>S</td>\n",
       "    </tr>\n",
       "    <tr>\n",
       "      <th>415</th>\n",
       "      <td>1307</td>\n",
       "      <td>3</td>\n",
       "      <td>Saether, Mr. Simon Sivertsen</td>\n",
       "      <td>male</td>\n",
       "      <td>38.5</td>\n",
       "      <td>0</td>\n",
       "      <td>0</td>\n",
       "      <td>SOTON/O.Q. 3101262</td>\n",
       "      <td>7.2500</td>\n",
       "      <td>NaN</td>\n",
       "      <td>S</td>\n",
       "    </tr>\n",
       "    <tr>\n",
       "      <th>416</th>\n",
       "      <td>1308</td>\n",
       "      <td>3</td>\n",
       "      <td>Ware, Mr. Frederick</td>\n",
       "      <td>male</td>\n",
       "      <td>NaN</td>\n",
       "      <td>0</td>\n",
       "      <td>0</td>\n",
       "      <td>359309</td>\n",
       "      <td>8.0500</td>\n",
       "      <td>NaN</td>\n",
       "      <td>S</td>\n",
       "    </tr>\n",
       "    <tr>\n",
       "      <th>417</th>\n",
       "      <td>1309</td>\n",
       "      <td>3</td>\n",
       "      <td>Peter, Master. Michael J</td>\n",
       "      <td>male</td>\n",
       "      <td>NaN</td>\n",
       "      <td>1</td>\n",
       "      <td>1</td>\n",
       "      <td>2668</td>\n",
       "      <td>22.3583</td>\n",
       "      <td>NaN</td>\n",
       "      <td>C</td>\n",
       "    </tr>\n",
       "  </tbody>\n",
       "</table>\n",
       "<p>266 rows × 11 columns</p>\n",
       "</div>"
      ],
      "text/plain": [
       "     PassengerId  Pclass                          Name   Sex   Age  SibSp  \\\n",
       "0            892       3              Kelly, Mr. James  male  34.5      0   \n",
       "2            894       2     Myles, Mr. Thomas Francis  male  62.0      0   \n",
       "3            895       3              Wirz, Mr. Albert  male  27.0      0   \n",
       "5            897       3    Svensson, Mr. Johan Cervin  male  14.0      0   \n",
       "7            899       2  Caldwell, Mr. Albert Francis  male  26.0      1   \n",
       "..           ...     ...                           ...   ...   ...    ...   \n",
       "407         1299       1    Widener, Mr. George Dunton  male  50.0      1   \n",
       "413         1305       3            Spector, Mr. Woolf  male   NaN      0   \n",
       "415         1307       3  Saether, Mr. Simon Sivertsen  male  38.5      0   \n",
       "416         1308       3           Ware, Mr. Frederick  male   NaN      0   \n",
       "417         1309       3      Peter, Master. Michael J  male   NaN      1   \n",
       "\n",
       "     Parch              Ticket      Fare Cabin Embarked  \n",
       "0        0              330911    7.8292   NaN        Q  \n",
       "2        0              240276    9.6875   NaN        Q  \n",
       "3        0              315154    8.6625   NaN        S  \n",
       "5        0                7538    9.2250   NaN        S  \n",
       "7        1              248738   29.0000   NaN        S  \n",
       "..     ...                 ...       ...   ...      ...  \n",
       "407      1              113503  211.5000   C80        C  \n",
       "413      0           A.5. 3236    8.0500   NaN        S  \n",
       "415      0  SOTON/O.Q. 3101262    7.2500   NaN        S  \n",
       "416      0              359309    8.0500   NaN        S  \n",
       "417      1                2668   22.3583   NaN        C  \n",
       "\n",
       "[266 rows x 11 columns]"
      ]
     },
     "execution_count": 14,
     "metadata": {},
     "output_type": "execute_result"
    }
   ],
   "source": [
    "# display only male passengers\n",
    "data[data['Sex'] == 'male']"
   ]
  },
  {
   "cell_type": "code",
   "execution_count": 15,
   "id": "7b4bb2a3",
   "metadata": {
    "execution": {
     "iopub.execute_input": "2022-03-29T00:46:11.927134Z",
     "iopub.status.busy": "2022-03-29T00:46:11.926491Z",
     "iopub.status.idle": "2022-03-29T00:46:11.932154Z",
     "shell.execute_reply": "2022-03-29T00:46:11.931691Z",
     "shell.execute_reply.started": "2022-03-29T00:44:37.163254Z"
    },
    "papermill": {
     "duration": 0.093271,
     "end_time": "2022-03-29T00:46:11.932383",
     "exception": false,
     "start_time": "2022-03-29T00:46:11.839112",
     "status": "completed"
    },
    "tags": []
   },
   "outputs": [
    {
     "data": {
      "text/plain": [
       "266"
      ]
     },
     "execution_count": 15,
     "metadata": {},
     "output_type": "execute_result"
    }
   ],
   "source": [
    "sum(data['Sex'] == 'male')"
   ]
  },
  {
   "cell_type": "code",
   "execution_count": 16,
   "id": "d5a1a393",
   "metadata": {
    "execution": {
     "iopub.execute_input": "2022-03-29T00:46:12.043548Z",
     "iopub.status.busy": "2022-03-29T00:46:12.043075Z",
     "iopub.status.idle": "2022-03-29T00:46:12.050376Z",
     "shell.execute_reply": "2022-03-29T00:46:12.049917Z",
     "shell.execute_reply.started": "2022-03-29T00:44:37.230969Z"
    },
    "papermill": {
     "duration": 0.064034,
     "end_time": "2022-03-29T00:46:12.050481",
     "exception": false,
     "start_time": "2022-03-29T00:46:11.986447",
     "status": "completed"
    },
    "tags": []
   },
   "outputs": [],
   "source": [
    "data1 = pd.read_csv('../input/titanic-with-python/gender_submission.csv')"
   ]
  },
  {
   "cell_type": "code",
   "execution_count": 17,
   "id": "4599011b",
   "metadata": {
    "execution": {
     "iopub.execute_input": "2022-03-29T00:46:12.166218Z",
     "iopub.status.busy": "2022-03-29T00:46:12.165688Z",
     "iopub.status.idle": "2022-03-29T00:46:12.169885Z",
     "shell.execute_reply": "2022-03-29T00:46:12.169427Z",
     "shell.execute_reply.started": "2022-03-29T00:44:37.308026Z"
    },
    "papermill": {
     "duration": 0.066009,
     "end_time": "2022-03-29T00:46:12.170044",
     "exception": false,
     "start_time": "2022-03-29T00:46:12.104035",
     "status": "completed"
    },
    "tags": []
   },
   "outputs": [
    {
     "data": {
      "text/html": [
       "<div>\n",
       "<style scoped>\n",
       "    .dataframe tbody tr th:only-of-type {\n",
       "        vertical-align: middle;\n",
       "    }\n",
       "\n",
       "    .dataframe tbody tr th {\n",
       "        vertical-align: top;\n",
       "    }\n",
       "\n",
       "    .dataframe thead th {\n",
       "        text-align: right;\n",
       "    }\n",
       "</style>\n",
       "<table border=\"1\" class=\"dataframe\">\n",
       "  <thead>\n",
       "    <tr style=\"text-align: right;\">\n",
       "      <th></th>\n",
       "      <th>PassengerId</th>\n",
       "      <th>Survived</th>\n",
       "    </tr>\n",
       "  </thead>\n",
       "  <tbody>\n",
       "    <tr>\n",
       "      <th>0</th>\n",
       "      <td>892</td>\n",
       "      <td>0</td>\n",
       "    </tr>\n",
       "    <tr>\n",
       "      <th>1</th>\n",
       "      <td>893</td>\n",
       "      <td>1</td>\n",
       "    </tr>\n",
       "    <tr>\n",
       "      <th>2</th>\n",
       "      <td>894</td>\n",
       "      <td>0</td>\n",
       "    </tr>\n",
       "    <tr>\n",
       "      <th>3</th>\n",
       "      <td>895</td>\n",
       "      <td>0</td>\n",
       "    </tr>\n",
       "    <tr>\n",
       "      <th>4</th>\n",
       "      <td>896</td>\n",
       "      <td>1</td>\n",
       "    </tr>\n",
       "    <tr>\n",
       "      <th>...</th>\n",
       "      <td>...</td>\n",
       "      <td>...</td>\n",
       "    </tr>\n",
       "    <tr>\n",
       "      <th>413</th>\n",
       "      <td>1305</td>\n",
       "      <td>0</td>\n",
       "    </tr>\n",
       "    <tr>\n",
       "      <th>414</th>\n",
       "      <td>1306</td>\n",
       "      <td>1</td>\n",
       "    </tr>\n",
       "    <tr>\n",
       "      <th>415</th>\n",
       "      <td>1307</td>\n",
       "      <td>0</td>\n",
       "    </tr>\n",
       "    <tr>\n",
       "      <th>416</th>\n",
       "      <td>1308</td>\n",
       "      <td>0</td>\n",
       "    </tr>\n",
       "    <tr>\n",
       "      <th>417</th>\n",
       "      <td>1309</td>\n",
       "      <td>0</td>\n",
       "    </tr>\n",
       "  </tbody>\n",
       "</table>\n",
       "<p>418 rows × 2 columns</p>\n",
       "</div>"
      ],
      "text/plain": [
       "     PassengerId  Survived\n",
       "0            892         0\n",
       "1            893         1\n",
       "2            894         0\n",
       "3            895         0\n",
       "4            896         1\n",
       "..           ...       ...\n",
       "413         1305         0\n",
       "414         1306         1\n",
       "415         1307         0\n",
       "416         1308         0\n",
       "417         1309         0\n",
       "\n",
       "[418 rows x 2 columns]"
      ]
     },
     "execution_count": 17,
     "metadata": {},
     "output_type": "execute_result"
    }
   ],
   "source": [
    "data1"
   ]
  },
  {
   "cell_type": "code",
   "execution_count": 18,
   "id": "bc6d1e23",
   "metadata": {
    "execution": {
     "iopub.execute_input": "2022-03-29T00:46:12.284072Z",
     "iopub.status.busy": "2022-03-29T00:46:12.283546Z",
     "iopub.status.idle": "2022-03-29T00:46:12.286383Z",
     "shell.execute_reply": "2022-03-29T00:46:12.285876Z",
     "shell.execute_reply.started": "2022-03-29T00:44:37.374757Z"
    },
    "papermill": {
     "duration": 0.061849,
     "end_time": "2022-03-29T00:46:12.286489",
     "exception": false,
     "start_time": "2022-03-29T00:46:12.224640",
     "status": "completed"
    },
    "tags": []
   },
   "outputs": [
    {
     "data": {
      "text/plain": [
       "Index(['PassengerId', 'Survived'], dtype='object')"
      ]
     },
     "execution_count": 18,
     "metadata": {},
     "output_type": "execute_result"
    }
   ],
   "source": [
    "data1.columns"
   ]
  },
  {
   "cell_type": "code",
   "execution_count": 19,
   "id": "94d6b278",
   "metadata": {
    "execution": {
     "iopub.execute_input": "2022-03-29T00:46:12.421524Z",
     "iopub.status.busy": "2022-03-29T00:46:12.420955Z",
     "iopub.status.idle": "2022-03-29T00:46:12.424391Z",
     "shell.execute_reply": "2022-03-29T00:46:12.423974Z",
     "shell.execute_reply.started": "2022-03-29T00:44:37.440796Z"
    },
    "papermill": {
     "duration": 0.082418,
     "end_time": "2022-03-29T00:46:12.424496",
     "exception": false,
     "start_time": "2022-03-29T00:46:12.342078",
     "status": "completed"
    },
    "tags": []
   },
   "outputs": [
    {
     "data": {
      "text/html": [
       "<div>\n",
       "<style scoped>\n",
       "    .dataframe tbody tr th:only-of-type {\n",
       "        vertical-align: middle;\n",
       "    }\n",
       "\n",
       "    .dataframe tbody tr th {\n",
       "        vertical-align: top;\n",
       "    }\n",
       "\n",
       "    .dataframe thead th {\n",
       "        text-align: right;\n",
       "    }\n",
       "</style>\n",
       "<table border=\"1\" class=\"dataframe\">\n",
       "  <thead>\n",
       "    <tr style=\"text-align: right;\">\n",
       "      <th></th>\n",
       "      <th>PassengerId</th>\n",
       "      <th>Pclass</th>\n",
       "      <th>Name</th>\n",
       "      <th>Sex</th>\n",
       "      <th>Age</th>\n",
       "      <th>SibSp</th>\n",
       "      <th>Parch</th>\n",
       "      <th>Ticket</th>\n",
       "      <th>Fare</th>\n",
       "      <th>Cabin</th>\n",
       "      <th>Embarked</th>\n",
       "    </tr>\n",
       "  </thead>\n",
       "  <tbody>\n",
       "    <tr>\n",
       "      <th>1</th>\n",
       "      <td>893</td>\n",
       "      <td>3</td>\n",
       "      <td>Wilkes, Mrs. James (Ellen Needs)</td>\n",
       "      <td>female</td>\n",
       "      <td>47.0</td>\n",
       "      <td>1</td>\n",
       "      <td>0</td>\n",
       "      <td>363272</td>\n",
       "      <td>7.0000</td>\n",
       "      <td>NaN</td>\n",
       "      <td>S</td>\n",
       "    </tr>\n",
       "    <tr>\n",
       "      <th>4</th>\n",
       "      <td>896</td>\n",
       "      <td>3</td>\n",
       "      <td>Hirvonen, Mrs. Alexander (Helga E Lindqvist)</td>\n",
       "      <td>female</td>\n",
       "      <td>22.0</td>\n",
       "      <td>1</td>\n",
       "      <td>1</td>\n",
       "      <td>3101298</td>\n",
       "      <td>12.2875</td>\n",
       "      <td>NaN</td>\n",
       "      <td>S</td>\n",
       "    </tr>\n",
       "    <tr>\n",
       "      <th>6</th>\n",
       "      <td>898</td>\n",
       "      <td>3</td>\n",
       "      <td>Connolly, Miss. Kate</td>\n",
       "      <td>female</td>\n",
       "      <td>30.0</td>\n",
       "      <td>0</td>\n",
       "      <td>0</td>\n",
       "      <td>330972</td>\n",
       "      <td>7.6292</td>\n",
       "      <td>NaN</td>\n",
       "      <td>Q</td>\n",
       "    </tr>\n",
       "    <tr>\n",
       "      <th>8</th>\n",
       "      <td>900</td>\n",
       "      <td>3</td>\n",
       "      <td>Abrahim, Mrs. Joseph (Sophie Halaut Easu)</td>\n",
       "      <td>female</td>\n",
       "      <td>18.0</td>\n",
       "      <td>0</td>\n",
       "      <td>0</td>\n",
       "      <td>2657</td>\n",
       "      <td>7.2292</td>\n",
       "      <td>NaN</td>\n",
       "      <td>C</td>\n",
       "    </tr>\n",
       "    <tr>\n",
       "      <th>12</th>\n",
       "      <td>904</td>\n",
       "      <td>1</td>\n",
       "      <td>Snyder, Mrs. John Pillsbury (Nelle Stevenson)</td>\n",
       "      <td>female</td>\n",
       "      <td>23.0</td>\n",
       "      <td>1</td>\n",
       "      <td>0</td>\n",
       "      <td>21228</td>\n",
       "      <td>82.2667</td>\n",
       "      <td>B45</td>\n",
       "      <td>S</td>\n",
       "    </tr>\n",
       "    <tr>\n",
       "      <th>...</th>\n",
       "      <td>...</td>\n",
       "      <td>...</td>\n",
       "      <td>...</td>\n",
       "      <td>...</td>\n",
       "      <td>...</td>\n",
       "      <td>...</td>\n",
       "      <td>...</td>\n",
       "      <td>...</td>\n",
       "      <td>...</td>\n",
       "      <td>...</td>\n",
       "      <td>...</td>\n",
       "    </tr>\n",
       "    <tr>\n",
       "      <th>409</th>\n",
       "      <td>1301</td>\n",
       "      <td>3</td>\n",
       "      <td>Peacock, Miss. Treasteall</td>\n",
       "      <td>female</td>\n",
       "      <td>3.0</td>\n",
       "      <td>1</td>\n",
       "      <td>1</td>\n",
       "      <td>SOTON/O.Q. 3101315</td>\n",
       "      <td>13.7750</td>\n",
       "      <td>NaN</td>\n",
       "      <td>S</td>\n",
       "    </tr>\n",
       "    <tr>\n",
       "      <th>410</th>\n",
       "      <td>1302</td>\n",
       "      <td>3</td>\n",
       "      <td>Naughton, Miss. Hannah</td>\n",
       "      <td>female</td>\n",
       "      <td>NaN</td>\n",
       "      <td>0</td>\n",
       "      <td>0</td>\n",
       "      <td>365237</td>\n",
       "      <td>7.7500</td>\n",
       "      <td>NaN</td>\n",
       "      <td>Q</td>\n",
       "    </tr>\n",
       "    <tr>\n",
       "      <th>411</th>\n",
       "      <td>1303</td>\n",
       "      <td>1</td>\n",
       "      <td>Minahan, Mrs. William Edward (Lillian E Thorpe)</td>\n",
       "      <td>female</td>\n",
       "      <td>37.0</td>\n",
       "      <td>1</td>\n",
       "      <td>0</td>\n",
       "      <td>19928</td>\n",
       "      <td>90.0000</td>\n",
       "      <td>C78</td>\n",
       "      <td>Q</td>\n",
       "    </tr>\n",
       "    <tr>\n",
       "      <th>412</th>\n",
       "      <td>1304</td>\n",
       "      <td>3</td>\n",
       "      <td>Henriksson, Miss. Jenny Lovisa</td>\n",
       "      <td>female</td>\n",
       "      <td>28.0</td>\n",
       "      <td>0</td>\n",
       "      <td>0</td>\n",
       "      <td>347086</td>\n",
       "      <td>7.7750</td>\n",
       "      <td>NaN</td>\n",
       "      <td>S</td>\n",
       "    </tr>\n",
       "    <tr>\n",
       "      <th>414</th>\n",
       "      <td>1306</td>\n",
       "      <td>1</td>\n",
       "      <td>Oliva y Ocana, Dona. Fermina</td>\n",
       "      <td>female</td>\n",
       "      <td>39.0</td>\n",
       "      <td>0</td>\n",
       "      <td>0</td>\n",
       "      <td>PC 17758</td>\n",
       "      <td>108.9000</td>\n",
       "      <td>C105</td>\n",
       "      <td>C</td>\n",
       "    </tr>\n",
       "  </tbody>\n",
       "</table>\n",
       "<p>152 rows × 11 columns</p>\n",
       "</div>"
      ],
      "text/plain": [
       "     PassengerId  Pclass                                             Name  \\\n",
       "1            893       3                 Wilkes, Mrs. James (Ellen Needs)   \n",
       "4            896       3     Hirvonen, Mrs. Alexander (Helga E Lindqvist)   \n",
       "6            898       3                             Connolly, Miss. Kate   \n",
       "8            900       3        Abrahim, Mrs. Joseph (Sophie Halaut Easu)   \n",
       "12           904       1    Snyder, Mrs. John Pillsbury (Nelle Stevenson)   \n",
       "..           ...     ...                                              ...   \n",
       "409         1301       3                        Peacock, Miss. Treasteall   \n",
       "410         1302       3                           Naughton, Miss. Hannah   \n",
       "411         1303       1  Minahan, Mrs. William Edward (Lillian E Thorpe)   \n",
       "412         1304       3                   Henriksson, Miss. Jenny Lovisa   \n",
       "414         1306       1                     Oliva y Ocana, Dona. Fermina   \n",
       "\n",
       "        Sex   Age  SibSp  Parch              Ticket      Fare Cabin Embarked  \n",
       "1    female  47.0      1      0              363272    7.0000   NaN        S  \n",
       "4    female  22.0      1      1             3101298   12.2875   NaN        S  \n",
       "6    female  30.0      0      0              330972    7.6292   NaN        Q  \n",
       "8    female  18.0      0      0                2657    7.2292   NaN        C  \n",
       "12   female  23.0      1      0               21228   82.2667   B45        S  \n",
       "..      ...   ...    ...    ...                 ...       ...   ...      ...  \n",
       "409  female   3.0      1      1  SOTON/O.Q. 3101315   13.7750   NaN        S  \n",
       "410  female   NaN      0      0              365237    7.7500   NaN        Q  \n",
       "411  female  37.0      1      0               19928   90.0000   C78        Q  \n",
       "412  female  28.0      0      0              347086    7.7750   NaN        S  \n",
       "414  female  39.0      0      0            PC 17758  108.9000  C105        C  \n",
       "\n",
       "[152 rows x 11 columns]"
      ]
     },
     "execution_count": 19,
     "metadata": {},
     "output_type": "execute_result"
    }
   ],
   "source": [
    "data[data1['Survived']==1]"
   ]
  },
  {
   "cell_type": "markdown",
   "id": "a6d8eaa9",
   "metadata": {
    "papermill": {
     "duration": 0.055784,
     "end_time": "2022-03-29T00:46:12.536163",
     "exception": false,
     "start_time": "2022-03-29T00:46:12.480379",
     "status": "completed"
    },
    "tags": []
   },
   "source": [
    "152 survivors"
   ]
  },
  {
   "cell_type": "code",
   "execution_count": 20,
   "id": "006dd564",
   "metadata": {
    "execution": {
     "iopub.execute_input": "2022-03-29T00:46:12.653196Z",
     "iopub.status.busy": "2022-03-29T00:46:12.652669Z",
     "iopub.status.idle": "2022-03-29T00:46:12.655478Z",
     "shell.execute_reply": "2022-03-29T00:46:12.655824Z",
     "shell.execute_reply.started": "2022-03-29T00:44:37.555086Z"
    },
    "papermill": {
     "duration": 0.06499,
     "end_time": "2022-03-29T00:46:12.655962",
     "exception": false,
     "start_time": "2022-03-29T00:46:12.590972",
     "status": "completed"
    },
    "tags": []
   },
   "outputs": [
    {
     "data": {
      "text/plain": [
       "PassengerId      0\n",
       "Pclass           0\n",
       "Name             0\n",
       "Sex              0\n",
       "Age             86\n",
       "SibSp            0\n",
       "Parch            0\n",
       "Ticket           0\n",
       "Fare             1\n",
       "Cabin          327\n",
       "Embarked         0\n",
       "dtype: int64"
      ]
     },
     "execution_count": 20,
     "metadata": {},
     "output_type": "execute_result"
    }
   ],
   "source": [
    "data.isnull().sum()"
   ]
  },
  {
   "cell_type": "code",
   "execution_count": 21,
   "id": "d6aca111",
   "metadata": {
    "execution": {
     "iopub.execute_input": "2022-03-29T00:46:12.771006Z",
     "iopub.status.busy": "2022-03-29T00:46:12.770547Z",
     "iopub.status.idle": "2022-03-29T00:46:13.807659Z",
     "shell.execute_reply": "2022-03-29T00:46:13.807164Z",
     "shell.execute_reply.started": "2022-03-29T00:44:37.650434Z"
    },
    "papermill": {
     "duration": 1.096731,
     "end_time": "2022-03-29T00:46:13.807778",
     "exception": false,
     "start_time": "2022-03-29T00:46:12.711047",
     "status": "completed"
    },
    "tags": []
   },
   "outputs": [],
   "source": [
    "import seaborn as sns\n",
    "import matplotlib.pyplot as plt"
   ]
  },
  {
   "cell_type": "code",
   "execution_count": 22,
   "id": "2b859988",
   "metadata": {
    "execution": {
     "iopub.execute_input": "2022-03-29T00:46:13.925727Z",
     "iopub.status.busy": "2022-03-29T00:46:13.925237Z",
     "iopub.status.idle": "2022-03-29T00:46:14.278473Z",
     "shell.execute_reply": "2022-03-29T00:46:14.277960Z",
     "shell.execute_reply.started": "2022-03-29T00:44:37.713104Z"
    },
    "papermill": {
     "duration": 0.414425,
     "end_time": "2022-03-29T00:46:14.278577",
     "exception": false,
     "start_time": "2022-03-29T00:46:13.864152",
     "status": "completed"
    },
    "tags": []
   },
   "outputs": [
    {
     "data": {
      "text/plain": [
       "<AxesSubplot:>"
      ]
     },
     "execution_count": 22,
     "metadata": {},
     "output_type": "execute_result"
    },
    {
     "data": {
      "image/png": "[encoded data removed]",
      "text/plain": [
       "<Figure size 432x288 with 2 Axes>"
      ]
     },
     "metadata": {
      "needs_background": "light"
     },
     "output_type": "display_data"
    }
   ],
   "source": [
    "sns.heatmap(data.isnull())"
   ]
  },
  {
   "cell_type": "code",
   "execution_count": 23,
   "id": "5375669e",
   "metadata": {
    "execution": {
     "iopub.execute_input": "2022-03-29T00:46:14.397958Z",
     "iopub.status.busy": "2022-03-29T00:46:14.397242Z",
     "iopub.status.idle": "2022-03-29T00:46:14.400603Z",
     "shell.execute_reply": "2022-03-29T00:46:14.401109Z",
     "shell.execute_reply.started": "2022-03-29T00:44:38.108643Z"
    },
    "papermill": {
     "duration": 0.065933,
     "end_time": "2022-03-29T00:46:14.401249",
     "exception": false,
     "start_time": "2022-03-29T00:46:14.335316",
     "status": "completed"
    },
    "tags": []
   },
   "outputs": [],
   "source": [
    "# percentage of missing values\n",
    "\n",
    "per_missing = data.isnull().sum()*100/len(data)"
   ]
  },
  {
   "cell_type": "code",
   "execution_count": 24,
   "id": "b9119c97",
   "metadata": {
    "execution": {
     "iopub.execute_input": "2022-03-29T00:46:14.517847Z",
     "iopub.status.busy": "2022-03-29T00:46:14.517220Z",
     "iopub.status.idle": "2022-03-29T00:46:14.522382Z",
     "shell.execute_reply": "2022-03-29T00:46:14.522811Z",
     "shell.execute_reply.started": "2022-03-29T00:44:38.118232Z"
    },
    "papermill": {
     "duration": 0.064217,
     "end_time": "2022-03-29T00:46:14.522930",
     "exception": false,
     "start_time": "2022-03-29T00:46:14.458713",
     "status": "completed"
    },
    "tags": []
   },
   "outputs": [
    {
     "data": {
      "text/plain": [
       "PassengerId     0.000000\n",
       "Pclass          0.000000\n",
       "Name            0.000000\n",
       "Sex             0.000000\n",
       "Age            20.574163\n",
       "SibSp           0.000000\n",
       "Parch           0.000000\n",
       "Ticket          0.000000\n",
       "Fare            0.239234\n",
       "Cabin          78.229665\n",
       "Embarked        0.000000\n",
       "dtype: float64"
      ]
     },
     "execution_count": 24,
     "metadata": {},
     "output_type": "execute_result"
    }
   ],
   "source": [
    "per_missing"
   ]
  },
  {
   "cell_type": "markdown",
   "id": "5cab9a65",
   "metadata": {
    "papermill": {
     "duration": 0.055326,
     "end_time": "2022-03-29T00:46:14.634456",
     "exception": false,
     "start_time": "2022-03-29T00:46:14.579130",
     "status": "completed"
    },
    "tags": []
   },
   "source": [
    "Cabin column : 78% of data was missing"
   ]
  },
  {
   "cell_type": "markdown",
   "id": "f10d7553",
   "metadata": {
    "papermill": {
     "duration": 0.055562,
     "end_time": "2022-03-29T00:46:14.746125",
     "exception": false,
     "start_time": "2022-03-29T00:46:14.690563",
     "status": "completed"
    },
    "tags": []
   },
   "source": [
    "# drop column"
   ]
  },
  {
   "cell_type": "code",
   "execution_count": 25,
   "id": "dce0f4e5",
   "metadata": {
    "execution": {
     "iopub.execute_input": "2022-03-29T00:46:14.863355Z",
     "iopub.status.busy": "2022-03-29T00:46:14.862691Z",
     "iopub.status.idle": "2022-03-29T00:46:14.868486Z",
     "shell.execute_reply": "2022-03-29T00:46:14.868847Z",
     "shell.execute_reply.started": "2022-03-29T00:44:38.133324Z"
    },
    "papermill": {
     "duration": 0.06488,
     "end_time": "2022-03-29T00:46:14.868983",
     "exception": false,
     "start_time": "2022-03-29T00:46:14.804103",
     "status": "completed"
    },
    "tags": []
   },
   "outputs": [],
   "source": [
    "## cabin column is not useful for this analysis\n",
    "data.drop('Cabin',axis=1, inplace = True)"
   ]
  },
  {
   "cell_type": "code",
   "execution_count": 26,
   "id": "db371fc3",
   "metadata": {
    "execution": {
     "iopub.execute_input": "2022-03-29T00:46:15.002427Z",
     "iopub.status.busy": "2022-03-29T00:46:15.001705Z",
     "iopub.status.idle": "2022-03-29T00:46:15.005136Z",
     "shell.execute_reply": "2022-03-29T00:46:15.005495Z",
     "shell.execute_reply.started": "2022-03-29T00:44:38.141356Z"
    },
    "papermill": {
     "duration": 0.081046,
     "end_time": "2022-03-29T00:46:15.005628",
     "exception": false,
     "start_time": "2022-03-29T00:46:14.924582",
     "status": "completed"
    },
    "tags": []
   },
   "outputs": [
    {
     "data": {
      "text/html": [
       "<div>\n",
       "<style scoped>\n",
       "    .dataframe tbody tr th:only-of-type {\n",
       "        vertical-align: middle;\n",
       "    }\n",
       "\n",
       "    .dataframe tbody tr th {\n",
       "        vertical-align: top;\n",
       "    }\n",
       "\n",
       "    .dataframe thead th {\n",
       "        text-align: right;\n",
       "    }\n",
       "</style>\n",
       "<table border=\"1\" class=\"dataframe\">\n",
       "  <thead>\n",
       "    <tr style=\"text-align: right;\">\n",
       "      <th></th>\n",
       "      <th>PassengerId</th>\n",
       "      <th>Pclass</th>\n",
       "      <th>Name</th>\n",
       "      <th>Sex</th>\n",
       "      <th>Age</th>\n",
       "      <th>SibSp</th>\n",
       "      <th>Parch</th>\n",
       "      <th>Ticket</th>\n",
       "      <th>Fare</th>\n",
       "      <th>Embarked</th>\n",
       "    </tr>\n",
       "  </thead>\n",
       "  <tbody>\n",
       "    <tr>\n",
       "      <th>0</th>\n",
       "      <td>892</td>\n",
       "      <td>3</td>\n",
       "      <td>Kelly, Mr. James</td>\n",
       "      <td>male</td>\n",
       "      <td>34.5</td>\n",
       "      <td>0</td>\n",
       "      <td>0</td>\n",
       "      <td>330911</td>\n",
       "      <td>7.8292</td>\n",
       "      <td>Q</td>\n",
       "    </tr>\n",
       "    <tr>\n",
       "      <th>1</th>\n",
       "      <td>893</td>\n",
       "      <td>3</td>\n",
       "      <td>Wilkes, Mrs. James (Ellen Needs)</td>\n",
       "      <td>female</td>\n",
       "      <td>47.0</td>\n",
       "      <td>1</td>\n",
       "      <td>0</td>\n",
       "      <td>363272</td>\n",
       "      <td>7.0000</td>\n",
       "      <td>S</td>\n",
       "    </tr>\n",
       "    <tr>\n",
       "      <th>2</th>\n",
       "      <td>894</td>\n",
       "      <td>2</td>\n",
       "      <td>Myles, Mr. Thomas Francis</td>\n",
       "      <td>male</td>\n",
       "      <td>62.0</td>\n",
       "      <td>0</td>\n",
       "      <td>0</td>\n",
       "      <td>240276</td>\n",
       "      <td>9.6875</td>\n",
       "      <td>Q</td>\n",
       "    </tr>\n",
       "    <tr>\n",
       "      <th>3</th>\n",
       "      <td>895</td>\n",
       "      <td>3</td>\n",
       "      <td>Wirz, Mr. Albert</td>\n",
       "      <td>male</td>\n",
       "      <td>27.0</td>\n",
       "      <td>0</td>\n",
       "      <td>0</td>\n",
       "      <td>315154</td>\n",
       "      <td>8.6625</td>\n",
       "      <td>S</td>\n",
       "    </tr>\n",
       "    <tr>\n",
       "      <th>4</th>\n",
       "      <td>896</td>\n",
       "      <td>3</td>\n",
       "      <td>Hirvonen, Mrs. Alexander (Helga E Lindqvist)</td>\n",
       "      <td>female</td>\n",
       "      <td>22.0</td>\n",
       "      <td>1</td>\n",
       "      <td>1</td>\n",
       "      <td>3101298</td>\n",
       "      <td>12.2875</td>\n",
       "      <td>S</td>\n",
       "    </tr>\n",
       "    <tr>\n",
       "      <th>...</th>\n",
       "      <td>...</td>\n",
       "      <td>...</td>\n",
       "      <td>...</td>\n",
       "      <td>...</td>\n",
       "      <td>...</td>\n",
       "      <td>...</td>\n",
       "      <td>...</td>\n",
       "      <td>...</td>\n",
       "      <td>...</td>\n",
       "      <td>...</td>\n",
       "    </tr>\n",
       "    <tr>\n",
       "      <th>413</th>\n",
       "      <td>1305</td>\n",
       "      <td>3</td>\n",
       "      <td>Spector, Mr. Woolf</td>\n",
       "      <td>male</td>\n",
       "      <td>NaN</td>\n",
       "      <td>0</td>\n",
       "      <td>0</td>\n",
       "      <td>A.5. 3236</td>\n",
       "      <td>8.0500</td>\n",
       "      <td>S</td>\n",
       "    </tr>\n",
       "    <tr>\n",
       "      <th>414</th>\n",
       "      <td>1306</td>\n",
       "      <td>1</td>\n",
       "      <td>Oliva y Ocana, Dona. Fermina</td>\n",
       "      <td>female</td>\n",
       "      <td>39.0</td>\n",
       "      <td>0</td>\n",
       "      <td>0</td>\n",
       "      <td>PC 17758</td>\n",
       "      <td>108.9000</td>\n",
       "      <td>C</td>\n",
       "    </tr>\n",
       "    <tr>\n",
       "      <th>415</th>\n",
       "      <td>1307</td>\n",
       "      <td>3</td>\n",
       "      <td>Saether, Mr. Simon Sivertsen</td>\n",
       "      <td>male</td>\n",
       "      <td>38.5</td>\n",
       "      <td>0</td>\n",
       "      <td>0</td>\n",
       "      <td>SOTON/O.Q. 3101262</td>\n",
       "      <td>7.2500</td>\n",
       "      <td>S</td>\n",
       "    </tr>\n",
       "    <tr>\n",
       "      <th>416</th>\n",
       "      <td>1308</td>\n",
       "      <td>3</td>\n",
       "      <td>Ware, Mr. Frederick</td>\n",
       "      <td>male</td>\n",
       "      <td>NaN</td>\n",
       "      <td>0</td>\n",
       "      <td>0</td>\n",
       "      <td>359309</td>\n",
       "      <td>8.0500</td>\n",
       "      <td>S</td>\n",
       "    </tr>\n",
       "    <tr>\n",
       "      <th>417</th>\n",
       "      <td>1309</td>\n",
       "      <td>3</td>\n",
       "      <td>Peter, Master. Michael J</td>\n",
       "      <td>male</td>\n",
       "      <td>NaN</td>\n",
       "      <td>1</td>\n",
       "      <td>1</td>\n",
       "      <td>2668</td>\n",
       "      <td>22.3583</td>\n",
       "      <td>C</td>\n",
       "    </tr>\n",
       "  </tbody>\n",
       "</table>\n",
       "<p>418 rows × 10 columns</p>\n",
       "</div>"
      ],
      "text/plain": [
       "     PassengerId  Pclass                                          Name  \\\n",
       "0            892       3                              Kelly, Mr. James   \n",
       "1            893       3              Wilkes, Mrs. James (Ellen Needs)   \n",
       "2            894       2                     Myles, Mr. Thomas Francis   \n",
       "3            895       3                              Wirz, Mr. Albert   \n",
       "4            896       3  Hirvonen, Mrs. Alexander (Helga E Lindqvist)   \n",
       "..           ...     ...                                           ...   \n",
       "413         1305       3                            Spector, Mr. Woolf   \n",
       "414         1306       1                  Oliva y Ocana, Dona. Fermina   \n",
       "415         1307       3                  Saether, Mr. Simon Sivertsen   \n",
       "416         1308       3                           Ware, Mr. Frederick   \n",
       "417         1309       3                      Peter, Master. Michael J   \n",
       "\n",
       "        Sex   Age  SibSp  Parch              Ticket      Fare Embarked  \n",
       "0      male  34.5      0      0              330911    7.8292        Q  \n",
       "1    female  47.0      1      0              363272    7.0000        S  \n",
       "2      male  62.0      0      0              240276    9.6875        Q  \n",
       "3      male  27.0      0      0              315154    8.6625        S  \n",
       "4    female  22.0      1      1             3101298   12.2875        S  \n",
       "..      ...   ...    ...    ...                 ...       ...      ...  \n",
       "413    male   NaN      0      0           A.5. 3236    8.0500        S  \n",
       "414  female  39.0      0      0            PC 17758  108.9000        C  \n",
       "415    male  38.5      0      0  SOTON/O.Q. 3101262    7.2500        S  \n",
       "416    male   NaN      0      0              359309    8.0500        S  \n",
       "417    male   NaN      1      1                2668   22.3583        C  \n",
       "\n",
       "[418 rows x 10 columns]"
      ]
     },
     "execution_count": 26,
     "metadata": {},
     "output_type": "execute_result"
    }
   ],
   "source": [
    "data"
   ]
  },
  {
   "cell_type": "markdown",
   "id": "5c08912e",
   "metadata": {
    "papermill": {
     "duration": 0.055774,
     "end_time": "2022-03-29T00:46:15.117439",
     "exception": false,
     "start_time": "2022-03-29T00:46:15.061665",
     "status": "completed"
    },
    "tags": []
   },
   "source": [
    "# drop missing value : NaN"
   ]
  },
  {
   "cell_type": "markdown",
   "id": "40aa2945",
   "metadata": {
    "papermill": {
     "duration": 0.05541,
     "end_time": "2022-03-29T00:46:15.228827",
     "exception": false,
     "start_time": "2022-03-29T00:46:15.173417",
     "status": "completed"
    },
    "tags": []
   },
   "source": [
    "now we still have some missing values in age, embark, fare column"
   ]
  },
  {
   "cell_type": "code",
   "execution_count": 27,
   "id": "dc792dc4",
   "metadata": {
    "execution": {
     "iopub.execute_input": "2022-03-29T00:46:15.345878Z",
     "iopub.status.busy": "2022-03-29T00:46:15.345388Z",
     "iopub.status.idle": "2022-03-29T00:46:15.348852Z",
     "shell.execute_reply": "2022-03-29T00:46:15.348482Z",
     "shell.execute_reply.started": "2022-03-29T00:44:38.170390Z"
    },
    "papermill": {
     "duration": 0.06392,
     "end_time": "2022-03-29T00:46:15.348957",
     "exception": false,
     "start_time": "2022-03-29T00:46:15.285037",
     "status": "completed"
    },
    "tags": []
   },
   "outputs": [
    {
     "data": {
      "text/plain": [
       "Index(['PassengerId', 'Pclass', 'Name', 'Sex', 'Age', 'SibSp', 'Parch',\n",
       "       'Ticket', 'Fare', 'Embarked'],\n",
       "      dtype='object')"
      ]
     },
     "execution_count": 27,
     "metadata": {},
     "output_type": "execute_result"
    }
   ],
   "source": [
    "data.columns"
   ]
  },
  {
   "cell_type": "code",
   "execution_count": 28,
   "id": "15f52c18",
   "metadata": {
    "execution": {
     "iopub.execute_input": "2022-03-29T00:46:15.469454Z",
     "iopub.status.busy": "2022-03-29T00:46:15.468930Z",
     "iopub.status.idle": "2022-03-29T00:46:15.475520Z",
     "shell.execute_reply": "2022-03-29T00:46:15.475968Z",
     "shell.execute_reply.started": "2022-03-29T00:44:38.178046Z"
    },
    "papermill": {
     "duration": 0.070764,
     "end_time": "2022-03-29T00:46:15.476104",
     "exception": false,
     "start_time": "2022-03-29T00:46:15.405340",
     "status": "completed"
    },
    "tags": []
   },
   "outputs": [],
   "source": [
    "no_nan = data[['Fare', 'Embarked']].dropna()"
   ]
  },
  {
   "cell_type": "code",
   "execution_count": 29,
   "id": "db889a63",
   "metadata": {
    "execution": {
     "iopub.execute_input": "2022-03-29T00:46:15.594486Z",
     "iopub.status.busy": "2022-03-29T00:46:15.593968Z",
     "iopub.status.idle": "2022-03-29T00:46:15.603842Z",
     "shell.execute_reply": "2022-03-29T00:46:15.604295Z",
     "shell.execute_reply.started": "2022-03-29T00:44:38.193614Z"
    },
    "papermill": {
     "duration": 0.069894,
     "end_time": "2022-03-29T00:46:15.604431",
     "exception": false,
     "start_time": "2022-03-29T00:46:15.534537",
     "status": "completed"
    },
    "tags": []
   },
   "outputs": [
    {
     "data": {
      "text/html": [
       "<div>\n",
       "<style scoped>\n",
       "    .dataframe tbody tr th:only-of-type {\n",
       "        vertical-align: middle;\n",
       "    }\n",
       "\n",
       "    .dataframe tbody tr th {\n",
       "        vertical-align: top;\n",
       "    }\n",
       "\n",
       "    .dataframe thead th {\n",
       "        text-align: right;\n",
       "    }\n",
       "</style>\n",
       "<table border=\"1\" class=\"dataframe\">\n",
       "  <thead>\n",
       "    <tr style=\"text-align: right;\">\n",
       "      <th></th>\n",
       "      <th>Fare</th>\n",
       "      <th>Embarked</th>\n",
       "    </tr>\n",
       "  </thead>\n",
       "  <tbody>\n",
       "    <tr>\n",
       "      <th>0</th>\n",
       "      <td>7.8292</td>\n",
       "      <td>Q</td>\n",
       "    </tr>\n",
       "    <tr>\n",
       "      <th>1</th>\n",
       "      <td>7.0000</td>\n",
       "      <td>S</td>\n",
       "    </tr>\n",
       "    <tr>\n",
       "      <th>2</th>\n",
       "      <td>9.6875</td>\n",
       "      <td>Q</td>\n",
       "    </tr>\n",
       "    <tr>\n",
       "      <th>3</th>\n",
       "      <td>8.6625</td>\n",
       "      <td>S</td>\n",
       "    </tr>\n",
       "    <tr>\n",
       "      <th>4</th>\n",
       "      <td>12.2875</td>\n",
       "      <td>S</td>\n",
       "    </tr>\n",
       "    <tr>\n",
       "      <th>...</th>\n",
       "      <td>...</td>\n",
       "      <td>...</td>\n",
       "    </tr>\n",
       "    <tr>\n",
       "      <th>413</th>\n",
       "      <td>8.0500</td>\n",
       "      <td>S</td>\n",
       "    </tr>\n",
       "    <tr>\n",
       "      <th>414</th>\n",
       "      <td>108.9000</td>\n",
       "      <td>C</td>\n",
       "    </tr>\n",
       "    <tr>\n",
       "      <th>415</th>\n",
       "      <td>7.2500</td>\n",
       "      <td>S</td>\n",
       "    </tr>\n",
       "    <tr>\n",
       "      <th>416</th>\n",
       "      <td>8.0500</td>\n",
       "      <td>S</td>\n",
       "    </tr>\n",
       "    <tr>\n",
       "      <th>417</th>\n",
       "      <td>22.3583</td>\n",
       "      <td>C</td>\n",
       "    </tr>\n",
       "  </tbody>\n",
       "</table>\n",
       "<p>417 rows × 2 columns</p>\n",
       "</div>"
      ],
      "text/plain": [
       "         Fare Embarked\n",
       "0      7.8292        Q\n",
       "1      7.0000        S\n",
       "2      9.6875        Q\n",
       "3      8.6625        S\n",
       "4     12.2875        S\n",
       "..        ...      ...\n",
       "413    8.0500        S\n",
       "414  108.9000        C\n",
       "415    7.2500        S\n",
       "416    8.0500        S\n",
       "417   22.3583        C\n",
       "\n",
       "[417 rows x 2 columns]"
      ]
     },
     "execution_count": 29,
     "metadata": {},
     "output_type": "execute_result"
    }
   ],
   "source": [
    "no_nan"
   ]
  },
  {
   "cell_type": "code",
   "execution_count": 30,
   "id": "87f240ae",
   "metadata": {
    "execution": {
     "iopub.execute_input": "2022-03-29T00:46:15.720801Z",
     "iopub.status.busy": "2022-03-29T00:46:15.720365Z",
     "iopub.status.idle": "2022-03-29T00:46:15.726360Z",
     "shell.execute_reply": "2022-03-29T00:46:15.726781Z",
     "shell.execute_reply.started": "2022-03-29T00:44:38.215621Z"
    },
    "papermill": {
     "duration": 0.065521,
     "end_time": "2022-03-29T00:46:15.726894",
     "exception": false,
     "start_time": "2022-03-29T00:46:15.661373",
     "status": "completed"
    },
    "tags": []
   },
   "outputs": [
    {
     "data": {
      "text/plain": [
       "Fare        0\n",
       "Embarked    0\n",
       "dtype: int64"
      ]
     },
     "execution_count": 30,
     "metadata": {},
     "output_type": "execute_result"
    }
   ],
   "source": [
    "no_nan.isnull().sum()"
   ]
  },
  {
   "cell_type": "markdown",
   "id": "ea237711",
   "metadata": {
    "papermill": {
     "duration": 0.057901,
     "end_time": "2022-03-29T00:46:15.842661",
     "exception": false,
     "start_time": "2022-03-29T00:46:15.784760",
     "status": "completed"
    },
    "tags": []
   },
   "source": [
    "# Mode"
   ]
  },
  {
   "cell_type": "markdown",
   "id": "372f2c77",
   "metadata": {
    "papermill": {
     "duration": 0.057432,
     "end_time": "2022-03-29T00:46:15.958185",
     "exception": false,
     "start_time": "2022-03-29T00:46:15.900753",
     "status": "completed"
    },
    "tags": []
   },
   "source": [
    "# Handling Missing Data"
   ]
  },
  {
   "cell_type": "code",
   "execution_count": 31,
   "id": "17661e07",
   "metadata": {
    "execution": {
     "iopub.execute_input": "2022-03-29T00:46:16.076667Z",
     "iopub.status.busy": "2022-03-29T00:46:16.076194Z",
     "iopub.status.idle": "2022-03-29T00:46:16.081704Z",
     "shell.execute_reply": "2022-03-29T00:46:16.082142Z",
     "shell.execute_reply.started": "2022-03-29T00:44:38.284934Z"
    },
    "papermill": {
     "duration": 0.066433,
     "end_time": "2022-03-29T00:46:16.082252",
     "exception": false,
     "start_time": "2022-03-29T00:46:16.015819",
     "status": "completed"
    },
    "tags": []
   },
   "outputs": [
    {
     "data": {
      "text/plain": [
       "0    S\n",
       "dtype: object"
      ]
     },
     "execution_count": 31,
     "metadata": {},
     "output_type": "execute_result"
    }
   ],
   "source": [
    "data['Embarked'].mode()"
   ]
  },
  {
   "cell_type": "markdown",
   "id": "dd04ddf0",
   "metadata": {
    "papermill": {
     "duration": 0.057344,
     "end_time": "2022-03-29T00:46:16.197459",
     "exception": false,
     "start_time": "2022-03-29T00:46:16.140115",
     "status": "completed"
    },
    "tags": []
   },
   "source": [
    "most frequent value in Embarked column is S"
   ]
  },
  {
   "cell_type": "code",
   "execution_count": 32,
   "id": "90f28391",
   "metadata": {
    "execution": {
     "iopub.execute_input": "2022-03-29T00:46:16.315092Z",
     "iopub.status.busy": "2022-03-29T00:46:16.314579Z",
     "iopub.status.idle": "2022-03-29T00:46:16.318388Z",
     "shell.execute_reply": "2022-03-29T00:46:16.318727Z",
     "shell.execute_reply.started": "2022-03-29T00:44:38.349742Z"
    },
    "papermill": {
     "duration": 0.063494,
     "end_time": "2022-03-29T00:46:16.318859",
     "exception": false,
     "start_time": "2022-03-29T00:46:16.255365",
     "status": "completed"
    },
    "tags": []
   },
   "outputs": [],
   "source": [
    "data['Embarked'].fillna('S',inplace = True)"
   ]
  },
  {
   "cell_type": "code",
   "execution_count": 33,
   "id": "867fcaf5",
   "metadata": {
    "execution": {
     "iopub.execute_input": "2022-03-29T00:46:16.459432Z",
     "iopub.status.busy": "2022-03-29T00:46:16.458863Z",
     "iopub.status.idle": "2022-03-29T00:46:16.462704Z",
     "shell.execute_reply": "2022-03-29T00:46:16.462208Z",
     "shell.execute_reply.started": "2022-03-29T00:44:38.397582Z"
    },
    "papermill": {
     "duration": 0.085562,
     "end_time": "2022-03-29T00:46:16.462809",
     "exception": false,
     "start_time": "2022-03-29T00:46:16.377247",
     "status": "completed"
    },
    "tags": []
   },
   "outputs": [
    {
     "data": {
      "text/html": [
       "<div>\n",
       "<style scoped>\n",
       "    .dataframe tbody tr th:only-of-type {\n",
       "        vertical-align: middle;\n",
       "    }\n",
       "\n",
       "    .dataframe tbody tr th {\n",
       "        vertical-align: top;\n",
       "    }\n",
       "\n",
       "    .dataframe thead th {\n",
       "        text-align: right;\n",
       "    }\n",
       "</style>\n",
       "<table border=\"1\" class=\"dataframe\">\n",
       "  <thead>\n",
       "    <tr style=\"text-align: right;\">\n",
       "      <th></th>\n",
       "      <th>PassengerId</th>\n",
       "      <th>Pclass</th>\n",
       "      <th>Name</th>\n",
       "      <th>Sex</th>\n",
       "      <th>Age</th>\n",
       "      <th>SibSp</th>\n",
       "      <th>Parch</th>\n",
       "      <th>Ticket</th>\n",
       "      <th>Fare</th>\n",
       "      <th>Embarked</th>\n",
       "    </tr>\n",
       "  </thead>\n",
       "  <tbody>\n",
       "    <tr>\n",
       "      <th>0</th>\n",
       "      <td>892</td>\n",
       "      <td>3</td>\n",
       "      <td>Kelly, Mr. James</td>\n",
       "      <td>male</td>\n",
       "      <td>34.5</td>\n",
       "      <td>0</td>\n",
       "      <td>0</td>\n",
       "      <td>330911</td>\n",
       "      <td>7.8292</td>\n",
       "      <td>Q</td>\n",
       "    </tr>\n",
       "    <tr>\n",
       "      <th>1</th>\n",
       "      <td>893</td>\n",
       "      <td>3</td>\n",
       "      <td>Wilkes, Mrs. James (Ellen Needs)</td>\n",
       "      <td>female</td>\n",
       "      <td>47.0</td>\n",
       "      <td>1</td>\n",
       "      <td>0</td>\n",
       "      <td>363272</td>\n",
       "      <td>7.0000</td>\n",
       "      <td>S</td>\n",
       "    </tr>\n",
       "    <tr>\n",
       "      <th>2</th>\n",
       "      <td>894</td>\n",
       "      <td>2</td>\n",
       "      <td>Myles, Mr. Thomas Francis</td>\n",
       "      <td>male</td>\n",
       "      <td>62.0</td>\n",
       "      <td>0</td>\n",
       "      <td>0</td>\n",
       "      <td>240276</td>\n",
       "      <td>9.6875</td>\n",
       "      <td>Q</td>\n",
       "    </tr>\n",
       "    <tr>\n",
       "      <th>3</th>\n",
       "      <td>895</td>\n",
       "      <td>3</td>\n",
       "      <td>Wirz, Mr. Albert</td>\n",
       "      <td>male</td>\n",
       "      <td>27.0</td>\n",
       "      <td>0</td>\n",
       "      <td>0</td>\n",
       "      <td>315154</td>\n",
       "      <td>8.6625</td>\n",
       "      <td>S</td>\n",
       "    </tr>\n",
       "    <tr>\n",
       "      <th>4</th>\n",
       "      <td>896</td>\n",
       "      <td>3</td>\n",
       "      <td>Hirvonen, Mrs. Alexander (Helga E Lindqvist)</td>\n",
       "      <td>female</td>\n",
       "      <td>22.0</td>\n",
       "      <td>1</td>\n",
       "      <td>1</td>\n",
       "      <td>3101298</td>\n",
       "      <td>12.2875</td>\n",
       "      <td>S</td>\n",
       "    </tr>\n",
       "    <tr>\n",
       "      <th>...</th>\n",
       "      <td>...</td>\n",
       "      <td>...</td>\n",
       "      <td>...</td>\n",
       "      <td>...</td>\n",
       "      <td>...</td>\n",
       "      <td>...</td>\n",
       "      <td>...</td>\n",
       "      <td>...</td>\n",
       "      <td>...</td>\n",
       "      <td>...</td>\n",
       "    </tr>\n",
       "    <tr>\n",
       "      <th>413</th>\n",
       "      <td>1305</td>\n",
       "      <td>3</td>\n",
       "      <td>Spector, Mr. Woolf</td>\n",
       "      <td>male</td>\n",
       "      <td>NaN</td>\n",
       "      <td>0</td>\n",
       "      <td>0</td>\n",
       "      <td>A.5. 3236</td>\n",
       "      <td>8.0500</td>\n",
       "      <td>S</td>\n",
       "    </tr>\n",
       "    <tr>\n",
       "      <th>414</th>\n",
       "      <td>1306</td>\n",
       "      <td>1</td>\n",
       "      <td>Oliva y Ocana, Dona. Fermina</td>\n",
       "      <td>female</td>\n",
       "      <td>39.0</td>\n",
       "      <td>0</td>\n",
       "      <td>0</td>\n",
       "      <td>PC 17758</td>\n",
       "      <td>108.9000</td>\n",
       "      <td>C</td>\n",
       "    </tr>\n",
       "    <tr>\n",
       "      <th>415</th>\n",
       "      <td>1307</td>\n",
       "      <td>3</td>\n",
       "      <td>Saether, Mr. Simon Sivertsen</td>\n",
       "      <td>male</td>\n",
       "      <td>38.5</td>\n",
       "      <td>0</td>\n",
       "      <td>0</td>\n",
       "      <td>SOTON/O.Q. 3101262</td>\n",
       "      <td>7.2500</td>\n",
       "      <td>S</td>\n",
       "    </tr>\n",
       "    <tr>\n",
       "      <th>416</th>\n",
       "      <td>1308</td>\n",
       "      <td>3</td>\n",
       "      <td>Ware, Mr. Frederick</td>\n",
       "      <td>male</td>\n",
       "      <td>NaN</td>\n",
       "      <td>0</td>\n",
       "      <td>0</td>\n",
       "      <td>359309</td>\n",
       "      <td>8.0500</td>\n",
       "      <td>S</td>\n",
       "    </tr>\n",
       "    <tr>\n",
       "      <th>417</th>\n",
       "      <td>1309</td>\n",
       "      <td>3</td>\n",
       "      <td>Peter, Master. Michael J</td>\n",
       "      <td>male</td>\n",
       "      <td>NaN</td>\n",
       "      <td>1</td>\n",
       "      <td>1</td>\n",
       "      <td>2668</td>\n",
       "      <td>22.3583</td>\n",
       "      <td>C</td>\n",
       "    </tr>\n",
       "  </tbody>\n",
       "</table>\n",
       "<p>418 rows × 10 columns</p>\n",
       "</div>"
      ],
      "text/plain": [
       "     PassengerId  Pclass                                          Name  \\\n",
       "0            892       3                              Kelly, Mr. James   \n",
       "1            893       3              Wilkes, Mrs. James (Ellen Needs)   \n",
       "2            894       2                     Myles, Mr. Thomas Francis   \n",
       "3            895       3                              Wirz, Mr. Albert   \n",
       "4            896       3  Hirvonen, Mrs. Alexander (Helga E Lindqvist)   \n",
       "..           ...     ...                                           ...   \n",
       "413         1305       3                            Spector, Mr. Woolf   \n",
       "414         1306       1                  Oliva y Ocana, Dona. Fermina   \n",
       "415         1307       3                  Saether, Mr. Simon Sivertsen   \n",
       "416         1308       3                           Ware, Mr. Frederick   \n",
       "417         1309       3                      Peter, Master. Michael J   \n",
       "\n",
       "        Sex   Age  SibSp  Parch              Ticket      Fare Embarked  \n",
       "0      male  34.5      0      0              330911    7.8292        Q  \n",
       "1    female  47.0      1      0              363272    7.0000        S  \n",
       "2      male  62.0      0      0              240276    9.6875        Q  \n",
       "3      male  27.0      0      0              315154    8.6625        S  \n",
       "4    female  22.0      1      1             3101298   12.2875        S  \n",
       "..      ...   ...    ...    ...                 ...       ...      ...  \n",
       "413    male   NaN      0      0           A.5. 3236    8.0500        S  \n",
       "414  female  39.0      0      0            PC 17758  108.9000        C  \n",
       "415    male  38.5      0      0  SOTON/O.Q. 3101262    7.2500        S  \n",
       "416    male   NaN      0      0              359309    8.0500        S  \n",
       "417    male   NaN      1      1                2668   22.3583        C  \n",
       "\n",
       "[418 rows x 10 columns]"
      ]
     },
     "execution_count": 33,
     "metadata": {},
     "output_type": "execute_result"
    }
   ],
   "source": [
    "data"
   ]
  },
  {
   "cell_type": "code",
   "execution_count": 34,
   "id": "ef3c3442",
   "metadata": {
    "execution": {
     "iopub.execute_input": "2022-03-29T00:46:16.591664Z",
     "iopub.status.busy": "2022-03-29T00:46:16.591009Z",
     "iopub.status.idle": "2022-03-29T00:46:16.593554Z",
     "shell.execute_reply": "2022-03-29T00:46:16.593976Z",
     "shell.execute_reply.started": "2022-03-29T00:44:38.423998Z"
    },
    "papermill": {
     "duration": 0.069982,
     "end_time": "2022-03-29T00:46:16.594128",
     "exception": false,
     "start_time": "2022-03-29T00:46:16.524146",
     "status": "completed"
    },
    "tags": []
   },
   "outputs": [
    {
     "data": {
      "text/plain": [
       "PassengerId     0\n",
       "Pclass          0\n",
       "Name            0\n",
       "Sex             0\n",
       "Age            86\n",
       "SibSp           0\n",
       "Parch           0\n",
       "Ticket          0\n",
       "Fare            1\n",
       "Embarked        0\n",
       "dtype: int64"
      ]
     },
     "execution_count": 34,
     "metadata": {},
     "output_type": "execute_result"
    }
   ],
   "source": [
    "data.isnull().sum()"
   ]
  },
  {
   "cell_type": "markdown",
   "id": "4f762784",
   "metadata": {
    "papermill": {
     "duration": 0.058267,
     "end_time": "2022-03-29T00:46:16.710557",
     "exception": false,
     "start_time": "2022-03-29T00:46:16.652290",
     "status": "completed"
    },
    "tags": []
   },
   "source": [
    "no missing value in 'Embarked'"
   ]
  },
  {
   "cell_type": "markdown",
   "id": "36600acf",
   "metadata": {
    "papermill": {
     "duration": 0.060869,
     "end_time": "2022-03-29T00:46:16.830579",
     "exception": false,
     "start_time": "2022-03-29T00:46:16.769710",
     "status": "completed"
    },
    "tags": []
   },
   "source": [
    "# Handle missing value in age column"
   ]
  },
  {
   "cell_type": "code",
   "execution_count": 35,
   "id": "15dcf08e",
   "metadata": {
    "execution": {
     "iopub.execute_input": "2022-03-29T00:46:16.952692Z",
     "iopub.status.busy": "2022-03-29T00:46:16.952203Z",
     "iopub.status.idle": "2022-03-29T00:46:16.958398Z",
     "shell.execute_reply": "2022-03-29T00:46:16.958861Z",
     "shell.execute_reply.started": "2022-03-29T00:44:38.498839Z"
    },
    "papermill": {
     "duration": 0.06891,
     "end_time": "2022-03-29T00:46:16.959011",
     "exception": false,
     "start_time": "2022-03-29T00:46:16.890101",
     "status": "completed"
    },
    "tags": []
   },
   "outputs": [
    {
     "data": {
      "text/plain": [
       "86"
      ]
     },
     "execution_count": 35,
     "metadata": {},
     "output_type": "execute_result"
    }
   ],
   "source": [
    "data['Age'].isnull().sum()"
   ]
  },
  {
   "cell_type": "markdown",
   "id": "51da0e37",
   "metadata": {
    "papermill": {
     "duration": 0.059761,
     "end_time": "2022-03-29T00:46:17.079587",
     "exception": false,
     "start_time": "2022-03-29T00:46:17.019826",
     "status": "completed"
    },
    "tags": []
   },
   "source": [
    "fill NaN with AVG age"
   ]
  },
  {
   "cell_type": "code",
   "execution_count": 36,
   "id": "5a4cdafa",
   "metadata": {
    "execution": {
     "iopub.execute_input": "2022-03-29T00:46:17.204920Z",
     "iopub.status.busy": "2022-03-29T00:46:17.204454Z",
     "iopub.status.idle": "2022-03-29T00:46:17.207747Z",
     "shell.execute_reply": "2022-03-29T00:46:17.208165Z",
     "shell.execute_reply.started": "2022-03-29T00:44:38.639861Z"
    },
    "papermill": {
     "duration": 0.067437,
     "end_time": "2022-03-29T00:46:17.208370",
     "exception": false,
     "start_time": "2022-03-29T00:46:17.140933",
     "status": "completed"
    },
    "tags": []
   },
   "outputs": [],
   "source": [
    "data['Age'].fillna(data['Age'].mean(),inplace=True)"
   ]
  },
  {
   "cell_type": "code",
   "execution_count": 37,
   "id": "e8ac0270",
   "metadata": {
    "execution": {
     "iopub.execute_input": "2022-03-29T00:46:17.330031Z",
     "iopub.status.busy": "2022-03-29T00:46:17.329554Z",
     "iopub.status.idle": "2022-03-29T00:46:17.336146Z",
     "shell.execute_reply": "2022-03-29T00:46:17.335516Z",
     "shell.execute_reply.started": "2022-03-29T00:44:38.720234Z"
    },
    "papermill": {
     "duration": 0.068583,
     "end_time": "2022-03-29T00:46:17.336292",
     "exception": false,
     "start_time": "2022-03-29T00:46:17.267709",
     "status": "completed"
    },
    "tags": []
   },
   "outputs": [
    {
     "data": {
      "text/plain": [
       "0"
      ]
     },
     "execution_count": 37,
     "metadata": {},
     "output_type": "execute_result"
    }
   ],
   "source": [
    "# recheck\n",
    "\n",
    "data['Age'].isnull().sum()"
   ]
  },
  {
   "cell_type": "markdown",
   "id": "85ebd8c2",
   "metadata": {
    "papermill": {
     "duration": 0.091554,
     "end_time": "2022-03-29T00:46:17.520211",
     "exception": false,
     "start_time": "2022-03-29T00:46:17.428657",
     "status": "completed"
    },
    "tags": []
   },
   "source": [
    "zero"
   ]
  },
  {
   "cell_type": "code",
   "execution_count": 38,
   "id": "b72afeea",
   "metadata": {
    "execution": {
     "iopub.execute_input": "2022-03-29T00:46:17.709201Z",
     "iopub.status.busy": "2022-03-29T00:46:17.708128Z",
     "iopub.status.idle": "2022-03-29T00:46:17.712049Z",
     "shell.execute_reply": "2022-03-29T00:46:17.712671Z",
     "shell.execute_reply.started": "2022-03-29T00:44:38.751360Z"
    },
    "papermill": {
     "duration": 0.100423,
     "end_time": "2022-03-29T00:46:17.712835",
     "exception": false,
     "start_time": "2022-03-29T00:46:17.612412",
     "status": "completed"
    },
    "tags": []
   },
   "outputs": [],
   "source": [
    "data['Fare'].fillna(data['Fare'].mean(),inplace=True)"
   ]
  },
  {
   "cell_type": "code",
   "execution_count": 39,
   "id": "e5f110f8",
   "metadata": {
    "execution": {
     "iopub.execute_input": "2022-03-29T00:46:17.904798Z",
     "iopub.status.busy": "2022-03-29T00:46:17.901773Z",
     "iopub.status.idle": "2022-03-29T00:46:17.909211Z",
     "shell.execute_reply": "2022-03-29T00:46:17.908548Z",
     "shell.execute_reply.started": "2022-03-29T00:44:38.803607Z"
    },
    "papermill": {
     "duration": 0.102761,
     "end_time": "2022-03-29T00:46:17.909338",
     "exception": false,
     "start_time": "2022-03-29T00:46:17.806577",
     "status": "completed"
    },
    "tags": []
   },
   "outputs": [
    {
     "data": {
      "text/plain": [
       "0"
      ]
     },
     "execution_count": 39,
     "metadata": {},
     "output_type": "execute_result"
    }
   ],
   "source": [
    "data['Fare'].isnull().sum()"
   ]
  },
  {
   "cell_type": "code",
   "execution_count": 40,
   "id": "84956785",
   "metadata": {
    "execution": {
     "iopub.execute_input": "2022-03-29T00:46:18.100349Z",
     "iopub.status.busy": "2022-03-29T00:46:18.099699Z",
     "iopub.status.idle": "2022-03-29T00:46:18.105479Z",
     "shell.execute_reply": "2022-03-29T00:46:18.106035Z",
     "shell.execute_reply.started": "2022-03-29T00:44:38.818885Z"
    },
    "papermill": {
     "duration": 0.102752,
     "end_time": "2022-03-29T00:46:18.106178",
     "exception": false,
     "start_time": "2022-03-29T00:46:18.003426",
     "status": "completed"
    },
    "tags": []
   },
   "outputs": [
    {
     "data": {
      "text/plain": [
       "PassengerId    0\n",
       "Pclass         0\n",
       "Name           0\n",
       "Sex            0\n",
       "Age            0\n",
       "SibSp          0\n",
       "Parch          0\n",
       "Ticket         0\n",
       "Fare           0\n",
       "Embarked       0\n",
       "dtype: int64"
      ]
     },
     "execution_count": 40,
     "metadata": {},
     "output_type": "execute_result"
    }
   ],
   "source": [
    "# recheck all\n",
    " \n",
    "data.isnull().sum()"
   ]
  },
  {
   "cell_type": "markdown",
   "id": "67b9257e",
   "metadata": {
    "papermill": {
     "duration": 0.095854,
     "end_time": "2022-03-29T00:46:18.296706",
     "exception": false,
     "start_time": "2022-03-29T00:46:18.200852",
     "status": "completed"
    },
    "tags": []
   },
   "source": [
    "# Change Data type"
   ]
  },
  {
   "cell_type": "markdown",
   "id": "4e8806f7",
   "metadata": {
    "papermill": {
     "duration": 0.09532,
     "end_time": "2022-03-29T00:46:18.486487",
     "exception": false,
     "start_time": "2022-03-29T00:46:18.391167",
     "status": "completed"
    },
    "tags": []
   },
   "source": [
    "because in futsure we will use the dataset to perform ML and it can handle string data type"
   ]
  },
  {
   "cell_type": "markdown",
   "id": "88f54b4b",
   "metadata": {
    "papermill": {
     "duration": 0.092824,
     "end_time": "2022-03-29T00:46:18.673748",
     "exception": false,
     "start_time": "2022-03-29T00:46:18.580924",
     "status": "completed"
    },
    "tags": []
   },
   "source": [
    "Encoding sex and embarked column"
   ]
  },
  {
   "cell_type": "code",
   "execution_count": 41,
   "id": "f9f581de",
   "metadata": {
    "execution": {
     "iopub.execute_input": "2022-03-29T00:46:18.864114Z",
     "iopub.status.busy": "2022-03-29T00:46:18.863431Z",
     "iopub.status.idle": "2022-03-29T00:46:18.869807Z",
     "shell.execute_reply": "2022-03-29T00:46:18.870327Z",
     "shell.execute_reply.started": "2022-03-29T00:44:38.838481Z"
    },
    "papermill": {
     "duration": 0.103618,
     "end_time": "2022-03-29T00:46:18.870478",
     "exception": false,
     "start_time": "2022-03-29T00:46:18.766860",
     "status": "completed"
    },
    "tags": []
   },
   "outputs": [
    {
     "data": {
      "text/plain": [
       "PassengerId      int64\n",
       "Pclass           int64\n",
       "Name            object\n",
       "Sex             object\n",
       "Age            float64\n",
       "SibSp            int64\n",
       "Parch            int64\n",
       "Ticket          object\n",
       "Fare           float64\n",
       "Embarked        object\n",
       "dtype: object"
      ]
     },
     "execution_count": 41,
     "metadata": {},
     "output_type": "execute_result"
    }
   ],
   "source": [
    "data.dtypes"
   ]
  },
  {
   "cell_type": "markdown",
   "id": "032263e9",
   "metadata": {
    "papermill": {
     "duration": 0.060424,
     "end_time": "2022-03-29T00:46:18.992222",
     "exception": false,
     "start_time": "2022-03-29T00:46:18.931798",
     "status": "completed"
    },
    "tags": []
   },
   "source": [
    "Use map({}) for dict"
   ]
  },
  {
   "cell_type": "code",
   "execution_count": 42,
   "id": "58b04eb1",
   "metadata": {
    "execution": {
     "iopub.execute_input": "2022-03-29T00:46:19.121774Z",
     "iopub.status.busy": "2022-03-29T00:46:19.121253Z",
     "iopub.status.idle": "2022-03-29T00:46:19.123271Z",
     "shell.execute_reply": "2022-03-29T00:46:19.123726Z",
     "shell.execute_reply.started": "2022-03-29T00:44:38.857130Z"
    },
    "papermill": {
     "duration": 0.071112,
     "end_time": "2022-03-29T00:46:19.123861",
     "exception": false,
     "start_time": "2022-03-29T00:46:19.052749",
     "status": "completed"
    },
    "tags": []
   },
   "outputs": [
    {
     "data": {
      "text/plain": [
       "0      1\n",
       "1      0\n",
       "2      1\n",
       "3      1\n",
       "4      0\n",
       "      ..\n",
       "413    1\n",
       "414    0\n",
       "415    1\n",
       "416    1\n",
       "417    1\n",
       "Name: Sex, Length: 418, dtype: int64"
      ]
     },
     "execution_count": 42,
     "metadata": {},
     "output_type": "execute_result"
    }
   ],
   "source": [
    "data['Sex'].map({'male':1,'female':0})"
   ]
  },
  {
   "cell_type": "code",
   "execution_count": 43,
   "id": "5ef177c9",
   "metadata": {
    "execution": {
     "iopub.execute_input": "2022-03-29T00:46:19.247934Z",
     "iopub.status.busy": "2022-03-29T00:46:19.247487Z",
     "iopub.status.idle": "2022-03-29T00:46:19.253918Z",
     "shell.execute_reply": "2022-03-29T00:46:19.253468Z",
     "shell.execute_reply.started": "2022-03-29T00:44:38.872378Z"
    },
    "papermill": {
     "duration": 0.069413,
     "end_time": "2022-03-29T00:46:19.254052",
     "exception": false,
     "start_time": "2022-03-29T00:46:19.184639",
     "status": "completed"
    },
    "tags": []
   },
   "outputs": [],
   "source": [
    "data['Gender'] =data['Sex'].map({'male':1,'female':0})"
   ]
  },
  {
   "cell_type": "code",
   "execution_count": 44,
   "id": "42f99e2b",
   "metadata": {
    "execution": {
     "iopub.execute_input": "2022-03-29T00:46:19.393654Z",
     "iopub.status.busy": "2022-03-29T00:46:19.393157Z",
     "iopub.status.idle": "2022-03-29T00:46:19.395258Z",
     "shell.execute_reply": "2022-03-29T00:46:19.395683Z",
     "shell.execute_reply.started": "2022-03-29T00:44:38.900379Z"
    },
    "papermill": {
     "duration": 0.081211,
     "end_time": "2022-03-29T00:46:19.395809",
     "exception": false,
     "start_time": "2022-03-29T00:46:19.314598",
     "status": "completed"
    },
    "tags": []
   },
   "outputs": [
    {
     "data": {
      "text/html": [
       "<div>\n",
       "<style scoped>\n",
       "    .dataframe tbody tr th:only-of-type {\n",
       "        vertical-align: middle;\n",
       "    }\n",
       "\n",
       "    .dataframe tbody tr th {\n",
       "        vertical-align: top;\n",
       "    }\n",
       "\n",
       "    .dataframe thead th {\n",
       "        text-align: right;\n",
       "    }\n",
       "</style>\n",
       "<table border=\"1\" class=\"dataframe\">\n",
       "  <thead>\n",
       "    <tr style=\"text-align: right;\">\n",
       "      <th></th>\n",
       "      <th>PassengerId</th>\n",
       "      <th>Pclass</th>\n",
       "      <th>Name</th>\n",
       "      <th>Sex</th>\n",
       "      <th>Age</th>\n",
       "      <th>SibSp</th>\n",
       "      <th>Parch</th>\n",
       "      <th>Ticket</th>\n",
       "      <th>Fare</th>\n",
       "      <th>Embarked</th>\n",
       "      <th>Gender</th>\n",
       "    </tr>\n",
       "  </thead>\n",
       "  <tbody>\n",
       "    <tr>\n",
       "      <th>0</th>\n",
       "      <td>892</td>\n",
       "      <td>3</td>\n",
       "      <td>Kelly, Mr. James</td>\n",
       "      <td>male</td>\n",
       "      <td>34.50000</td>\n",
       "      <td>0</td>\n",
       "      <td>0</td>\n",
       "      <td>330911</td>\n",
       "      <td>7.8292</td>\n",
       "      <td>Q</td>\n",
       "      <td>1</td>\n",
       "    </tr>\n",
       "    <tr>\n",
       "      <th>1</th>\n",
       "      <td>893</td>\n",
       "      <td>3</td>\n",
       "      <td>Wilkes, Mrs. James (Ellen Needs)</td>\n",
       "      <td>female</td>\n",
       "      <td>47.00000</td>\n",
       "      <td>1</td>\n",
       "      <td>0</td>\n",
       "      <td>363272</td>\n",
       "      <td>7.0000</td>\n",
       "      <td>S</td>\n",
       "      <td>0</td>\n",
       "    </tr>\n",
       "    <tr>\n",
       "      <th>2</th>\n",
       "      <td>894</td>\n",
       "      <td>2</td>\n",
       "      <td>Myles, Mr. Thomas Francis</td>\n",
       "      <td>male</td>\n",
       "      <td>62.00000</td>\n",
       "      <td>0</td>\n",
       "      <td>0</td>\n",
       "      <td>240276</td>\n",
       "      <td>9.6875</td>\n",
       "      <td>Q</td>\n",
       "      <td>1</td>\n",
       "    </tr>\n",
       "    <tr>\n",
       "      <th>3</th>\n",
       "      <td>895</td>\n",
       "      <td>3</td>\n",
       "      <td>Wirz, Mr. Albert</td>\n",
       "      <td>male</td>\n",
       "      <td>27.00000</td>\n",
       "      <td>0</td>\n",
       "      <td>0</td>\n",
       "      <td>315154</td>\n",
       "      <td>8.6625</td>\n",
       "      <td>S</td>\n",
       "      <td>1</td>\n",
       "    </tr>\n",
       "    <tr>\n",
       "      <th>4</th>\n",
       "      <td>896</td>\n",
       "      <td>3</td>\n",
       "      <td>Hirvonen, Mrs. Alexander (Helga E Lindqvist)</td>\n",
       "      <td>female</td>\n",
       "      <td>22.00000</td>\n",
       "      <td>1</td>\n",
       "      <td>1</td>\n",
       "      <td>3101298</td>\n",
       "      <td>12.2875</td>\n",
       "      <td>S</td>\n",
       "      <td>0</td>\n",
       "    </tr>\n",
       "    <tr>\n",
       "      <th>...</th>\n",
       "      <td>...</td>\n",
       "      <td>...</td>\n",
       "      <td>...</td>\n",
       "      <td>...</td>\n",
       "      <td>...</td>\n",
       "      <td>...</td>\n",
       "      <td>...</td>\n",
       "      <td>...</td>\n",
       "      <td>...</td>\n",
       "      <td>...</td>\n",
       "      <td>...</td>\n",
       "    </tr>\n",
       "    <tr>\n",
       "      <th>413</th>\n",
       "      <td>1305</td>\n",
       "      <td>3</td>\n",
       "      <td>Spector, Mr. Woolf</td>\n",
       "      <td>male</td>\n",
       "      <td>30.27259</td>\n",
       "      <td>0</td>\n",
       "      <td>0</td>\n",
       "      <td>A.5. 3236</td>\n",
       "      <td>8.0500</td>\n",
       "      <td>S</td>\n",
       "      <td>1</td>\n",
       "    </tr>\n",
       "    <tr>\n",
       "      <th>414</th>\n",
       "      <td>1306</td>\n",
       "      <td>1</td>\n",
       "      <td>Oliva y Ocana, Dona. Fermina</td>\n",
       "      <td>female</td>\n",
       "      <td>39.00000</td>\n",
       "      <td>0</td>\n",
       "      <td>0</td>\n",
       "      <td>PC 17758</td>\n",
       "      <td>108.9000</td>\n",
       "      <td>C</td>\n",
       "      <td>0</td>\n",
       "    </tr>\n",
       "    <tr>\n",
       "      <th>415</th>\n",
       "      <td>1307</td>\n",
       "      <td>3</td>\n",
       "      <td>Saether, Mr. Simon Sivertsen</td>\n",
       "      <td>male</td>\n",
       "      <td>38.50000</td>\n",
       "      <td>0</td>\n",
       "      <td>0</td>\n",
       "      <td>SOTON/O.Q. 3101262</td>\n",
       "      <td>7.2500</td>\n",
       "      <td>S</td>\n",
       "      <td>1</td>\n",
       "    </tr>\n",
       "    <tr>\n",
       "      <th>416</th>\n",
       "      <td>1308</td>\n",
       "      <td>3</td>\n",
       "      <td>Ware, Mr. Frederick</td>\n",
       "      <td>male</td>\n",
       "      <td>30.27259</td>\n",
       "      <td>0</td>\n",
       "      <td>0</td>\n",
       "      <td>359309</td>\n",
       "      <td>8.0500</td>\n",
       "      <td>S</td>\n",
       "      <td>1</td>\n",
       "    </tr>\n",
       "    <tr>\n",
       "      <th>417</th>\n",
       "      <td>1309</td>\n",
       "      <td>3</td>\n",
       "      <td>Peter, Master. Michael J</td>\n",
       "      <td>male</td>\n",
       "      <td>30.27259</td>\n",
       "      <td>1</td>\n",
       "      <td>1</td>\n",
       "      <td>2668</td>\n",
       "      <td>22.3583</td>\n",
       "      <td>C</td>\n",
       "      <td>1</td>\n",
       "    </tr>\n",
       "  </tbody>\n",
       "</table>\n",
       "<p>418 rows × 11 columns</p>\n",
       "</div>"
      ],
      "text/plain": [
       "     PassengerId  Pclass                                          Name  \\\n",
       "0            892       3                              Kelly, Mr. James   \n",
       "1            893       3              Wilkes, Mrs. James (Ellen Needs)   \n",
       "2            894       2                     Myles, Mr. Thomas Francis   \n",
       "3            895       3                              Wirz, Mr. Albert   \n",
       "4            896       3  Hirvonen, Mrs. Alexander (Helga E Lindqvist)   \n",
       "..           ...     ...                                           ...   \n",
       "413         1305       3                            Spector, Mr. Woolf   \n",
       "414         1306       1                  Oliva y Ocana, Dona. Fermina   \n",
       "415         1307       3                  Saether, Mr. Simon Sivertsen   \n",
       "416         1308       3                           Ware, Mr. Frederick   \n",
       "417         1309       3                      Peter, Master. Michael J   \n",
       "\n",
       "        Sex       Age  SibSp  Parch              Ticket      Fare Embarked  \\\n",
       "0      male  34.50000      0      0              330911    7.8292        Q   \n",
       "1    female  47.00000      1      0              363272    7.0000        S   \n",
       "2      male  62.00000      0      0              240276    9.6875        Q   \n",
       "3      male  27.00000      0      0              315154    8.6625        S   \n",
       "4    female  22.00000      1      1             3101298   12.2875        S   \n",
       "..      ...       ...    ...    ...                 ...       ...      ...   \n",
       "413    male  30.27259      0      0           A.5. 3236    8.0500        S   \n",
       "414  female  39.00000      0      0            PC 17758  108.9000        C   \n",
       "415    male  38.50000      0      0  SOTON/O.Q. 3101262    7.2500        S   \n",
       "416    male  30.27259      0      0              359309    8.0500        S   \n",
       "417    male  30.27259      1      1                2668   22.3583        C   \n",
       "\n",
       "     Gender  \n",
       "0         1  \n",
       "1         0  \n",
       "2         1  \n",
       "3         1  \n",
       "4         0  \n",
       "..      ...  \n",
       "413       1  \n",
       "414       0  \n",
       "415       1  \n",
       "416       1  \n",
       "417       1  \n",
       "\n",
       "[418 rows x 11 columns]"
      ]
     },
     "execution_count": 44,
     "metadata": {},
     "output_type": "execute_result"
    }
   ],
   "source": [
    "data"
   ]
  },
  {
   "cell_type": "markdown",
   "id": "2184661a",
   "metadata": {
    "papermill": {
     "duration": 0.070305,
     "end_time": "2022-03-29T00:46:19.528413",
     "exception": false,
     "start_time": "2022-03-29T00:46:19.458108",
     "status": "completed"
    },
    "tags": []
   },
   "source": [
    "# Insert : \n",
    "I want new column 'Gender' sits left before 'Age' column (index 5)\n"
   ]
  },
  {
   "cell_type": "code",
   "execution_count": 45,
   "id": "4a066b8a",
   "metadata": {
    "execution": {
     "iopub.execute_input": "2022-03-29T00:46:19.664448Z",
     "iopub.status.busy": "2022-03-29T00:46:19.661359Z",
     "iopub.status.idle": "2022-03-29T00:46:19.667129Z",
     "shell.execute_reply": "2022-03-29T00:46:19.667501Z",
     "shell.execute_reply.started": "2022-03-29T00:44:38.924214Z"
    },
    "papermill": {
     "duration": 0.070232,
     "end_time": "2022-03-29T00:46:19.667653",
     "exception": false,
     "start_time": "2022-03-29T00:46:19.597421",
     "status": "completed"
    },
    "tags": []
   },
   "outputs": [],
   "source": [
    "varieble = data['Sex'].map({'male':1,'female':0})"
   ]
  },
  {
   "cell_type": "markdown",
   "id": "3b9f3122",
   "metadata": {
    "papermill": {
     "duration": 0.061135,
     "end_time": "2022-03-29T00:46:19.790103",
     "exception": false,
     "start_time": "2022-03-29T00:46:19.728968",
     "status": "completed"
    },
    "tags": []
   },
   "source": [
    "data.insert(loc, column, value, allow_duplicates: 'bool' = False)\n",
    "\n",
    "*** use shift+tab for documentation"
   ]
  },
  {
   "cell_type": "code",
   "execution_count": 46,
   "id": "5fa54ba5",
   "metadata": {
    "execution": {
     "iopub.execute_input": "2022-03-29T00:46:19.920795Z",
     "iopub.status.busy": "2022-03-29T00:46:19.920283Z",
     "iopub.status.idle": "2022-03-29T00:46:19.921740Z",
     "shell.execute_reply": "2022-03-29T00:46:19.922223Z",
     "shell.execute_reply.started": "2022-03-29T00:44:38.930586Z"
    },
    "papermill": {
     "duration": 0.069082,
     "end_time": "2022-03-29T00:46:19.922361",
     "exception": false,
     "start_time": "2022-03-29T00:46:19.853279",
     "status": "completed"
    },
    "tags": []
   },
   "outputs": [],
   "source": [
    "data.insert(4,'Gender1',varieble)"
   ]
  },
  {
   "cell_type": "code",
   "execution_count": 47,
   "id": "545f2835",
   "metadata": {
    "execution": {
     "iopub.execute_input": "2022-03-29T00:46:20.047980Z",
     "iopub.status.busy": "2022-03-29T00:46:20.047521Z",
     "iopub.status.idle": "2022-03-29T00:46:20.063447Z",
     "shell.execute_reply": "2022-03-29T00:46:20.062904Z",
     "shell.execute_reply.started": "2022-03-29T00:44:38.943234Z"
    },
    "papermill": {
     "duration": 0.079328,
     "end_time": "2022-03-29T00:46:20.063562",
     "exception": false,
     "start_time": "2022-03-29T00:46:19.984234",
     "status": "completed"
    },
    "tags": []
   },
   "outputs": [
    {
     "data": {
      "text/html": [
       "<div>\n",
       "<style scoped>\n",
       "    .dataframe tbody tr th:only-of-type {\n",
       "        vertical-align: middle;\n",
       "    }\n",
       "\n",
       "    .dataframe tbody tr th {\n",
       "        vertical-align: top;\n",
       "    }\n",
       "\n",
       "    .dataframe thead th {\n",
       "        text-align: right;\n",
       "    }\n",
       "</style>\n",
       "<table border=\"1\" class=\"dataframe\">\n",
       "  <thead>\n",
       "    <tr style=\"text-align: right;\">\n",
       "      <th></th>\n",
       "      <th>PassengerId</th>\n",
       "      <th>Pclass</th>\n",
       "      <th>Name</th>\n",
       "      <th>Sex</th>\n",
       "      <th>Gender1</th>\n",
       "      <th>Age</th>\n",
       "      <th>SibSp</th>\n",
       "      <th>Parch</th>\n",
       "      <th>Ticket</th>\n",
       "      <th>Fare</th>\n",
       "      <th>Embarked</th>\n",
       "      <th>Gender</th>\n",
       "    </tr>\n",
       "  </thead>\n",
       "  <tbody>\n",
       "    <tr>\n",
       "      <th>0</th>\n",
       "      <td>892</td>\n",
       "      <td>3</td>\n",
       "      <td>Kelly, Mr. James</td>\n",
       "      <td>male</td>\n",
       "      <td>1</td>\n",
       "      <td>34.5</td>\n",
       "      <td>0</td>\n",
       "      <td>0</td>\n",
       "      <td>330911</td>\n",
       "      <td>7.8292</td>\n",
       "      <td>Q</td>\n",
       "      <td>1</td>\n",
       "    </tr>\n",
       "    <tr>\n",
       "      <th>1</th>\n",
       "      <td>893</td>\n",
       "      <td>3</td>\n",
       "      <td>Wilkes, Mrs. James (Ellen Needs)</td>\n",
       "      <td>female</td>\n",
       "      <td>0</td>\n",
       "      <td>47.0</td>\n",
       "      <td>1</td>\n",
       "      <td>0</td>\n",
       "      <td>363272</td>\n",
       "      <td>7.0000</td>\n",
       "      <td>S</td>\n",
       "      <td>0</td>\n",
       "    </tr>\n",
       "    <tr>\n",
       "      <th>2</th>\n",
       "      <td>894</td>\n",
       "      <td>2</td>\n",
       "      <td>Myles, Mr. Thomas Francis</td>\n",
       "      <td>male</td>\n",
       "      <td>1</td>\n",
       "      <td>62.0</td>\n",
       "      <td>0</td>\n",
       "      <td>0</td>\n",
       "      <td>240276</td>\n",
       "      <td>9.6875</td>\n",
       "      <td>Q</td>\n",
       "      <td>1</td>\n",
       "    </tr>\n",
       "    <tr>\n",
       "      <th>3</th>\n",
       "      <td>895</td>\n",
       "      <td>3</td>\n",
       "      <td>Wirz, Mr. Albert</td>\n",
       "      <td>male</td>\n",
       "      <td>1</td>\n",
       "      <td>27.0</td>\n",
       "      <td>0</td>\n",
       "      <td>0</td>\n",
       "      <td>315154</td>\n",
       "      <td>8.6625</td>\n",
       "      <td>S</td>\n",
       "      <td>1</td>\n",
       "    </tr>\n",
       "    <tr>\n",
       "      <th>4</th>\n",
       "      <td>896</td>\n",
       "      <td>3</td>\n",
       "      <td>Hirvonen, Mrs. Alexander (Helga E Lindqvist)</td>\n",
       "      <td>female</td>\n",
       "      <td>0</td>\n",
       "      <td>22.0</td>\n",
       "      <td>1</td>\n",
       "      <td>1</td>\n",
       "      <td>3101298</td>\n",
       "      <td>12.2875</td>\n",
       "      <td>S</td>\n",
       "      <td>0</td>\n",
       "    </tr>\n",
       "  </tbody>\n",
       "</table>\n",
       "</div>"
      ],
      "text/plain": [
       "   PassengerId  Pclass                                          Name     Sex  \\\n",
       "0          892       3                              Kelly, Mr. James    male   \n",
       "1          893       3              Wilkes, Mrs. James (Ellen Needs)  female   \n",
       "2          894       2                     Myles, Mr. Thomas Francis    male   \n",
       "3          895       3                              Wirz, Mr. Albert    male   \n",
       "4          896       3  Hirvonen, Mrs. Alexander (Helga E Lindqvist)  female   \n",
       "\n",
       "   Gender1   Age  SibSp  Parch   Ticket     Fare Embarked  Gender  \n",
       "0        1  34.5      0      0   330911   7.8292        Q       1  \n",
       "1        0  47.0      1      0   363272   7.0000        S       0  \n",
       "2        1  62.0      0      0   240276   9.6875        Q       1  \n",
       "3        1  27.0      0      0   315154   8.6625        S       1  \n",
       "4        0  22.0      1      1  3101298  12.2875        S       0  "
      ]
     },
     "execution_count": 47,
     "metadata": {},
     "output_type": "execute_result"
    }
   ],
   "source": [
    "data.head(5)"
   ]
  },
  {
   "cell_type": "code",
   "execution_count": 48,
   "id": "8be4021a",
   "metadata": {
    "execution": {
     "iopub.execute_input": "2022-03-29T00:46:20.193757Z",
     "iopub.status.busy": "2022-03-29T00:46:20.193122Z",
     "iopub.status.idle": "2022-03-29T00:46:20.208616Z",
     "shell.execute_reply": "2022-03-29T00:46:20.209148Z",
     "shell.execute_reply.started": "2022-03-29T00:45:37.285522Z"
    },
    "papermill": {
     "duration": 0.083615,
     "end_time": "2022-03-29T00:46:20.209306",
     "exception": false,
     "start_time": "2022-03-29T00:46:20.125691",
     "status": "completed"
    },
    "tags": []
   },
   "outputs": [
    {
     "data": {
      "text/html": [
       "<div>\n",
       "<style scoped>\n",
       "    .dataframe tbody tr th:only-of-type {\n",
       "        vertical-align: middle;\n",
       "    }\n",
       "\n",
       "    .dataframe tbody tr th {\n",
       "        vertical-align: top;\n",
       "    }\n",
       "\n",
       "    .dataframe thead th {\n",
       "        text-align: right;\n",
       "    }\n",
       "</style>\n",
       "<table border=\"1\" class=\"dataframe\">\n",
       "  <thead>\n",
       "    <tr style=\"text-align: right;\">\n",
       "      <th></th>\n",
       "      <th>PassengerId</th>\n",
       "      <th>Pclass</th>\n",
       "      <th>Name</th>\n",
       "      <th>Gender1</th>\n",
       "      <th>Age</th>\n",
       "      <th>SibSp</th>\n",
       "      <th>Parch</th>\n",
       "      <th>Ticket</th>\n",
       "      <th>Fare</th>\n",
       "      <th>Embarked</th>\n",
       "    </tr>\n",
       "  </thead>\n",
       "  <tbody>\n",
       "    <tr>\n",
       "      <th>0</th>\n",
       "      <td>892</td>\n",
       "      <td>3</td>\n",
       "      <td>Kelly, Mr. James</td>\n",
       "      <td>1</td>\n",
       "      <td>34.50000</td>\n",
       "      <td>0</td>\n",
       "      <td>0</td>\n",
       "      <td>330911</td>\n",
       "      <td>7.8292</td>\n",
       "      <td>Q</td>\n",
       "    </tr>\n",
       "    <tr>\n",
       "      <th>1</th>\n",
       "      <td>893</td>\n",
       "      <td>3</td>\n",
       "      <td>Wilkes, Mrs. James (Ellen Needs)</td>\n",
       "      <td>0</td>\n",
       "      <td>47.00000</td>\n",
       "      <td>1</td>\n",
       "      <td>0</td>\n",
       "      <td>363272</td>\n",
       "      <td>7.0000</td>\n",
       "      <td>S</td>\n",
       "    </tr>\n",
       "    <tr>\n",
       "      <th>2</th>\n",
       "      <td>894</td>\n",
       "      <td>2</td>\n",
       "      <td>Myles, Mr. Thomas Francis</td>\n",
       "      <td>1</td>\n",
       "      <td>62.00000</td>\n",
       "      <td>0</td>\n",
       "      <td>0</td>\n",
       "      <td>240276</td>\n",
       "      <td>9.6875</td>\n",
       "      <td>Q</td>\n",
       "    </tr>\n",
       "    <tr>\n",
       "      <th>3</th>\n",
       "      <td>895</td>\n",
       "      <td>3</td>\n",
       "      <td>Wirz, Mr. Albert</td>\n",
       "      <td>1</td>\n",
       "      <td>27.00000</td>\n",
       "      <td>0</td>\n",
       "      <td>0</td>\n",
       "      <td>315154</td>\n",
       "      <td>8.6625</td>\n",
       "      <td>S</td>\n",
       "    </tr>\n",
       "    <tr>\n",
       "      <th>4</th>\n",
       "      <td>896</td>\n",
       "      <td>3</td>\n",
       "      <td>Hirvonen, Mrs. Alexander (Helga E Lindqvist)</td>\n",
       "      <td>0</td>\n",
       "      <td>22.00000</td>\n",
       "      <td>1</td>\n",
       "      <td>1</td>\n",
       "      <td>3101298</td>\n",
       "      <td>12.2875</td>\n",
       "      <td>S</td>\n",
       "    </tr>\n",
       "    <tr>\n",
       "      <th>...</th>\n",
       "      <td>...</td>\n",
       "      <td>...</td>\n",
       "      <td>...</td>\n",
       "      <td>...</td>\n",
       "      <td>...</td>\n",
       "      <td>...</td>\n",
       "      <td>...</td>\n",
       "      <td>...</td>\n",
       "      <td>...</td>\n",
       "      <td>...</td>\n",
       "    </tr>\n",
       "    <tr>\n",
       "      <th>413</th>\n",
       "      <td>1305</td>\n",
       "      <td>3</td>\n",
       "      <td>Spector, Mr. Woolf</td>\n",
       "      <td>1</td>\n",
       "      <td>30.27259</td>\n",
       "      <td>0</td>\n",
       "      <td>0</td>\n",
       "      <td>A.5. 3236</td>\n",
       "      <td>8.0500</td>\n",
       "      <td>S</td>\n",
       "    </tr>\n",
       "    <tr>\n",
       "      <th>414</th>\n",
       "      <td>1306</td>\n",
       "      <td>1</td>\n",
       "      <td>Oliva y Ocana, Dona. Fermina</td>\n",
       "      <td>0</td>\n",
       "      <td>39.00000</td>\n",
       "      <td>0</td>\n",
       "      <td>0</td>\n",
       "      <td>PC 17758</td>\n",
       "      <td>108.9000</td>\n",
       "      <td>C</td>\n",
       "    </tr>\n",
       "    <tr>\n",
       "      <th>415</th>\n",
       "      <td>1307</td>\n",
       "      <td>3</td>\n",
       "      <td>Saether, Mr. Simon Sivertsen</td>\n",
       "      <td>1</td>\n",
       "      <td>38.50000</td>\n",
       "      <td>0</td>\n",
       "      <td>0</td>\n",
       "      <td>SOTON/O.Q. 3101262</td>\n",
       "      <td>7.2500</td>\n",
       "      <td>S</td>\n",
       "    </tr>\n",
       "    <tr>\n",
       "      <th>416</th>\n",
       "      <td>1308</td>\n",
       "      <td>3</td>\n",
       "      <td>Ware, Mr. Frederick</td>\n",
       "      <td>1</td>\n",
       "      <td>30.27259</td>\n",
       "      <td>0</td>\n",
       "      <td>0</td>\n",
       "      <td>359309</td>\n",
       "      <td>8.0500</td>\n",
       "      <td>S</td>\n",
       "    </tr>\n",
       "    <tr>\n",
       "      <th>417</th>\n",
       "      <td>1309</td>\n",
       "      <td>3</td>\n",
       "      <td>Peter, Master. Michael J</td>\n",
       "      <td>1</td>\n",
       "      <td>30.27259</td>\n",
       "      <td>1</td>\n",
       "      <td>1</td>\n",
       "      <td>2668</td>\n",
       "      <td>22.3583</td>\n",
       "      <td>C</td>\n",
       "    </tr>\n",
       "  </tbody>\n",
       "</table>\n",
       "<p>418 rows × 10 columns</p>\n",
       "</div>"
      ],
      "text/plain": [
       "     PassengerId  Pclass                                          Name  \\\n",
       "0            892       3                              Kelly, Mr. James   \n",
       "1            893       3              Wilkes, Mrs. James (Ellen Needs)   \n",
       "2            894       2                     Myles, Mr. Thomas Francis   \n",
       "3            895       3                              Wirz, Mr. Albert   \n",
       "4            896       3  Hirvonen, Mrs. Alexander (Helga E Lindqvist)   \n",
       "..           ...     ...                                           ...   \n",
       "413         1305       3                            Spector, Mr. Woolf   \n",
       "414         1306       1                  Oliva y Ocana, Dona. Fermina   \n",
       "415         1307       3                  Saether, Mr. Simon Sivertsen   \n",
       "416         1308       3                           Ware, Mr. Frederick   \n",
       "417         1309       3                      Peter, Master. Michael J   \n",
       "\n",
       "     Gender1       Age  SibSp  Parch              Ticket      Fare Embarked  \n",
       "0          1  34.50000      0      0              330911    7.8292        Q  \n",
       "1          0  47.00000      1      0              363272    7.0000        S  \n",
       "2          1  62.00000      0      0              240276    9.6875        Q  \n",
       "3          1  27.00000      0      0              315154    8.6625        S  \n",
       "4          0  22.00000      1      1             3101298   12.2875        S  \n",
       "..       ...       ...    ...    ...                 ...       ...      ...  \n",
       "413        1  30.27259      0      0           A.5. 3236    8.0500        S  \n",
       "414        0  39.00000      0      0            PC 17758  108.9000        C  \n",
       "415        1  38.50000      0      0  SOTON/O.Q. 3101262    7.2500        S  \n",
       "416        1  30.27259      0      0              359309    8.0500        S  \n",
       "417        1  30.27259      1      1                2668   22.3583        C  \n",
       "\n",
       "[418 rows x 10 columns]"
      ]
     },
     "execution_count": 48,
     "metadata": {},
     "output_type": "execute_result"
    }
   ],
   "source": [
    "data.drop(['Sex','Gender'],axis=1)"
   ]
  }
 ],
 "metadata": {
  "kernelspec": {
   "display_name": "Python 3",
   "language": "python",
   "name": "python3"
  },
  "language_info": {
   "codemirror_mode": {
    "name": "ipython",
    "version": 3
   },
   "file_extension": ".py",
   "mimetype": "text/x-python",
   "name": "python",
   "nbconvert_exporter": "python",
   "pygments_lexer": "ipython3",
   "version": "3.7.12"
  },
  "papermill": {
   "default_parameters": {},
   "duration": 21.890088,
   "end_time": "2022-03-29T00:46:21.014727",
   "environment_variables": {},
   "exception": null,
   "input_path": "__notebook__.ipynb",
   "output_path": "__notebook__.ipynb",
   "parameters": {},
   "start_time": "2022-03-29T00:45:59.124639",
   "version": "2.3.3"
  }
 },
 "nbformat": 4,
 "nbformat_minor": 5
}
