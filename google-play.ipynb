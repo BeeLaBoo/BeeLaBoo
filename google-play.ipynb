{
 "cells": [
  {
   "cell_type": "code",
   "execution_count": 1,
   "id": "b831cf58",
   "metadata": {
    "_cell_guid": "b1076dfc-b9ad-4769-8c92-a6c4dae69d19",
    "_uuid": "8f2839f25d086af736a60e9eeb907d3b93b6e0e5",
    "execution": {
     "iopub.execute_input": "2022-03-29T02:24:30.415142Z",
     "iopub.status.busy": "2022-03-29T02:24:30.414490Z",
     "iopub.status.idle": "2022-03-29T02:24:30.428885Z",
     "shell.execute_reply": "2022-03-29T02:24:30.429528Z",
     "shell.execute_reply.started": "2022-03-29T01:48:00.993999Z"
    },
    "papermill": {
     "duration": 0.064149,
     "end_time": "2022-03-29T02:24:30.429837",
     "exception": false,
     "start_time": "2022-03-29T02:24:30.365688",
     "status": "completed"
    },
    "tags": []
   },
   "outputs": [
    {
     "name": "stdout",
     "output_type": "stream",
     "text": [
      "/kaggle/input/google-play-store-apps/googleplaystore.csv\n",
      "/kaggle/input/google-play-store-apps/license.txt\n",
      "/kaggle/input/google-play-store-apps/googleplaystore_user_reviews.csv\n"
     ]
    }
   ],
   "source": [
    "# This Python 3 environment comes with many helpful analytics libraries installed\n",
    "# It is defined by the kaggle/python Docker image: https://github.com/kaggle/docker-python\n",
    "# For example, here's several helpful packages to load\n",
    "\n",
    "import numpy as np # linear algebra\n",
    "import pandas as pd # data processing, CSV file I/O (e.g. pd.read_csv)\n",
    "\n",
    "# Input data files are available in the read-only \"../input/\" directory\n",
    "# For example, running this (by clicking run or pressing Shift+Enter) will list all files under the input directory\n",
    "\n",
    "import os\n",
    "for dirname, _, filenames in os.walk('/kaggle/input'):\n",
    "    for filename in filenames:\n",
    "        print(os.path.join(dirname, filename))\n",
    "\n",
    "# You can write up to 20GB to the current directory (/kaggle/working/) that gets preserved as output when you create a version using \"Save & Run All\" \n",
    "# You can also write temporary files to /kaggle/temp/, but they won't be saved outside of the current session"
   ]
  },
  {
   "cell_type": "code",
   "execution_count": 2,
   "id": "55f5b54e",
   "metadata": {
    "execution": {
     "iopub.execute_input": "2022-03-29T02:24:30.515300Z",
     "iopub.status.busy": "2022-03-29T02:24:30.514476Z",
     "iopub.status.idle": "2022-03-29T02:24:31.670089Z",
     "shell.execute_reply": "2022-03-29T02:24:31.670665Z",
     "shell.execute_reply.started": "2022-03-29T01:50:33.618884Z"
    },
    "papermill": {
     "duration": 1.199699,
     "end_time": "2022-03-29T02:24:31.670853",
     "exception": false,
     "start_time": "2022-03-29T02:24:30.471154",
     "status": "completed"
    },
    "tags": []
   },
   "outputs": [],
   "source": [
    "import pandas as pd\n",
    "import seaborn as sns\n",
    "import matplotlib.pyplot as plt\n",
    "import numpy as np"
   ]
  },
  {
   "cell_type": "markdown",
   "id": "e4ee6bbd",
   "metadata": {
    "papermill": {
     "duration": 0.039118,
     "end_time": "2022-03-29T02:24:31.749644",
     "exception": false,
     "start_time": "2022-03-29T02:24:31.710526",
     "status": "completed"
    },
    "tags": []
   },
   "source": [
    "* * Questions:\n",
    "* 1. Display Top 5 Rows of The Dataset\n",
    "* 2. Check the Last 3 Rows of The Dataset\n",
    "* 3. Find Shape of Our Dataset (Number of Rows & Number of Columns)\n",
    "* 4. Get Information About Our Dataset Like Total Number Rows, Total Number of Columns, Datatypes of Each Column And Memory Requirement\n",
    "* 5. Get Overall Statistics About The Dataframe\n",
    "* 6. Total Number of App Titles Contain Astrology\n",
    "* 7. Find Average App Rating\n",
    "* 8.  Find Total Number of Unique Category\n",
    "* 9. Which Category Getting The Highest Average Rating?\n",
    "* 10. Find Total Number of App having 5 Star Rating\n",
    "* 11. Find Average Value of Reviews\n",
    "* 12. Find Total Number of Free and Paid Apps\n",
    "* 13.  Which App Has Maximum Reviews?\n",
    "* 14. Display Top 5 Apps Having Highest Reviews\n",
    "* 15. Find Average Rating of Free and Paid Apps\n",
    "* 16. Display Top  5 Apps Having Maximum Installs"
   ]
  },
  {
   "cell_type": "code",
   "execution_count": 3,
   "id": "eef9455f",
   "metadata": {
    "execution": {
     "iopub.execute_input": "2022-03-29T02:24:31.834018Z",
     "iopub.status.busy": "2022-03-29T02:24:31.833356Z",
     "iopub.status.idle": "2022-03-29T02:24:31.911411Z",
     "shell.execute_reply": "2022-03-29T02:24:31.911950Z",
     "shell.execute_reply.started": "2022-03-29T01:51:38.998736Z"
    },
    "papermill": {
     "duration": 0.1227,
     "end_time": "2022-03-29T02:24:31.912153",
     "exception": false,
     "start_time": "2022-03-29T02:24:31.789453",
     "status": "completed"
    },
    "tags": []
   },
   "outputs": [],
   "source": [
    "data = pd.read_csv('../input/google-play-store-apps/googleplaystore.csv')"
   ]
  },
  {
   "cell_type": "code",
   "execution_count": 4,
   "id": "10d137c1",
   "metadata": {
    "execution": {
     "iopub.execute_input": "2022-03-29T02:24:31.997928Z",
     "iopub.status.busy": "2022-03-29T02:24:31.997309Z",
     "iopub.status.idle": "2022-03-29T02:24:32.030729Z",
     "shell.execute_reply": "2022-03-29T02:24:32.031328Z",
     "shell.execute_reply.started": "2022-03-29T01:51:44.046398Z"
    },
    "papermill": {
     "duration": 0.077743,
     "end_time": "2022-03-29T02:24:32.031521",
     "exception": false,
     "start_time": "2022-03-29T02:24:31.953778",
     "status": "completed"
    },
    "tags": []
   },
   "outputs": [
    {
     "data": {
      "text/html": [
       "<div>\n",
       "<style scoped>\n",
       "    .dataframe tbody tr th:only-of-type {\n",
       "        vertical-align: middle;\n",
       "    }\n",
       "\n",
       "    .dataframe tbody tr th {\n",
       "        vertical-align: top;\n",
       "    }\n",
       "\n",
       "    .dataframe thead th {\n",
       "        text-align: right;\n",
       "    }\n",
       "</style>\n",
       "<table border=\"1\" class=\"dataframe\">\n",
       "  <thead>\n",
       "    <tr style=\"text-align: right;\">\n",
       "      <th></th>\n",
       "      <th>App</th>\n",
       "      <th>Category</th>\n",
       "      <th>Rating</th>\n",
       "      <th>Reviews</th>\n",
       "      <th>Size</th>\n",
       "      <th>Installs</th>\n",
       "      <th>Type</th>\n",
       "      <th>Price</th>\n",
       "      <th>Content Rating</th>\n",
       "      <th>Genres</th>\n",
       "      <th>Last Updated</th>\n",
       "      <th>Current Ver</th>\n",
       "      <th>Android Ver</th>\n",
       "    </tr>\n",
       "  </thead>\n",
       "  <tbody>\n",
       "    <tr>\n",
       "      <th>0</th>\n",
       "      <td>Photo Editor &amp; Candy Camera &amp; Grid &amp; ScrapBook</td>\n",
       "      <td>ART_AND_DESIGN</td>\n",
       "      <td>4.1</td>\n",
       "      <td>159</td>\n",
       "      <td>19M</td>\n",
       "      <td>10,000+</td>\n",
       "      <td>Free</td>\n",
       "      <td>0</td>\n",
       "      <td>Everyone</td>\n",
       "      <td>Art &amp; Design</td>\n",
       "      <td>January 7, 2018</td>\n",
       "      <td>1.0.0</td>\n",
       "      <td>4.0.3 and up</td>\n",
       "    </tr>\n",
       "    <tr>\n",
       "      <th>1</th>\n",
       "      <td>Coloring book moana</td>\n",
       "      <td>ART_AND_DESIGN</td>\n",
       "      <td>3.9</td>\n",
       "      <td>967</td>\n",
       "      <td>14M</td>\n",
       "      <td>500,000+</td>\n",
       "      <td>Free</td>\n",
       "      <td>0</td>\n",
       "      <td>Everyone</td>\n",
       "      <td>Art &amp; Design;Pretend Play</td>\n",
       "      <td>January 15, 2018</td>\n",
       "      <td>2.0.0</td>\n",
       "      <td>4.0.3 and up</td>\n",
       "    </tr>\n",
       "    <tr>\n",
       "      <th>2</th>\n",
       "      <td>U Launcher Lite – FREE Live Cool Themes, Hide ...</td>\n",
       "      <td>ART_AND_DESIGN</td>\n",
       "      <td>4.7</td>\n",
       "      <td>87510</td>\n",
       "      <td>8.7M</td>\n",
       "      <td>5,000,000+</td>\n",
       "      <td>Free</td>\n",
       "      <td>0</td>\n",
       "      <td>Everyone</td>\n",
       "      <td>Art &amp; Design</td>\n",
       "      <td>August 1, 2018</td>\n",
       "      <td>1.2.4</td>\n",
       "      <td>4.0.3 and up</td>\n",
       "    </tr>\n",
       "    <tr>\n",
       "      <th>3</th>\n",
       "      <td>Sketch - Draw &amp; Paint</td>\n",
       "      <td>ART_AND_DESIGN</td>\n",
       "      <td>4.5</td>\n",
       "      <td>215644</td>\n",
       "      <td>25M</td>\n",
       "      <td>50,000,000+</td>\n",
       "      <td>Free</td>\n",
       "      <td>0</td>\n",
       "      <td>Teen</td>\n",
       "      <td>Art &amp; Design</td>\n",
       "      <td>June 8, 2018</td>\n",
       "      <td>Varies with device</td>\n",
       "      <td>4.2 and up</td>\n",
       "    </tr>\n",
       "    <tr>\n",
       "      <th>4</th>\n",
       "      <td>Pixel Draw - Number Art Coloring Book</td>\n",
       "      <td>ART_AND_DESIGN</td>\n",
       "      <td>4.3</td>\n",
       "      <td>967</td>\n",
       "      <td>2.8M</td>\n",
       "      <td>100,000+</td>\n",
       "      <td>Free</td>\n",
       "      <td>0</td>\n",
       "      <td>Everyone</td>\n",
       "      <td>Art &amp; Design;Creativity</td>\n",
       "      <td>June 20, 2018</td>\n",
       "      <td>1.1</td>\n",
       "      <td>4.4 and up</td>\n",
       "    </tr>\n",
       "    <tr>\n",
       "      <th>...</th>\n",
       "      <td>...</td>\n",
       "      <td>...</td>\n",
       "      <td>...</td>\n",
       "      <td>...</td>\n",
       "      <td>...</td>\n",
       "      <td>...</td>\n",
       "      <td>...</td>\n",
       "      <td>...</td>\n",
       "      <td>...</td>\n",
       "      <td>...</td>\n",
       "      <td>...</td>\n",
       "      <td>...</td>\n",
       "      <td>...</td>\n",
       "    </tr>\n",
       "    <tr>\n",
       "      <th>10836</th>\n",
       "      <td>Sya9a Maroc - FR</td>\n",
       "      <td>FAMILY</td>\n",
       "      <td>4.5</td>\n",
       "      <td>38</td>\n",
       "      <td>53M</td>\n",
       "      <td>5,000+</td>\n",
       "      <td>Free</td>\n",
       "      <td>0</td>\n",
       "      <td>Everyone</td>\n",
       "      <td>Education</td>\n",
       "      <td>July 25, 2017</td>\n",
       "      <td>1.48</td>\n",
       "      <td>4.1 and up</td>\n",
       "    </tr>\n",
       "    <tr>\n",
       "      <th>10837</th>\n",
       "      <td>Fr. Mike Schmitz Audio Teachings</td>\n",
       "      <td>FAMILY</td>\n",
       "      <td>5.0</td>\n",
       "      <td>4</td>\n",
       "      <td>3.6M</td>\n",
       "      <td>100+</td>\n",
       "      <td>Free</td>\n",
       "      <td>0</td>\n",
       "      <td>Everyone</td>\n",
       "      <td>Education</td>\n",
       "      <td>July 6, 2018</td>\n",
       "      <td>1.0</td>\n",
       "      <td>4.1 and up</td>\n",
       "    </tr>\n",
       "    <tr>\n",
       "      <th>10838</th>\n",
       "      <td>Parkinson Exercices FR</td>\n",
       "      <td>MEDICAL</td>\n",
       "      <td>NaN</td>\n",
       "      <td>3</td>\n",
       "      <td>9.5M</td>\n",
       "      <td>1,000+</td>\n",
       "      <td>Free</td>\n",
       "      <td>0</td>\n",
       "      <td>Everyone</td>\n",
       "      <td>Medical</td>\n",
       "      <td>January 20, 2017</td>\n",
       "      <td>1.0</td>\n",
       "      <td>2.2 and up</td>\n",
       "    </tr>\n",
       "    <tr>\n",
       "      <th>10839</th>\n",
       "      <td>The SCP Foundation DB fr nn5n</td>\n",
       "      <td>BOOKS_AND_REFERENCE</td>\n",
       "      <td>4.5</td>\n",
       "      <td>114</td>\n",
       "      <td>Varies with device</td>\n",
       "      <td>1,000+</td>\n",
       "      <td>Free</td>\n",
       "      <td>0</td>\n",
       "      <td>Mature 17+</td>\n",
       "      <td>Books &amp; Reference</td>\n",
       "      <td>January 19, 2015</td>\n",
       "      <td>Varies with device</td>\n",
       "      <td>Varies with device</td>\n",
       "    </tr>\n",
       "    <tr>\n",
       "      <th>10840</th>\n",
       "      <td>iHoroscope - 2018 Daily Horoscope &amp; Astrology</td>\n",
       "      <td>LIFESTYLE</td>\n",
       "      <td>4.5</td>\n",
       "      <td>398307</td>\n",
       "      <td>19M</td>\n",
       "      <td>10,000,000+</td>\n",
       "      <td>Free</td>\n",
       "      <td>0</td>\n",
       "      <td>Everyone</td>\n",
       "      <td>Lifestyle</td>\n",
       "      <td>July 25, 2018</td>\n",
       "      <td>Varies with device</td>\n",
       "      <td>Varies with device</td>\n",
       "    </tr>\n",
       "  </tbody>\n",
       "</table>\n",
       "<p>10841 rows × 13 columns</p>\n",
       "</div>"
      ],
      "text/plain": [
       "                                                     App             Category  \\\n",
       "0         Photo Editor & Candy Camera & Grid & ScrapBook       ART_AND_DESIGN   \n",
       "1                                    Coloring book moana       ART_AND_DESIGN   \n",
       "2      U Launcher Lite – FREE Live Cool Themes, Hide ...       ART_AND_DESIGN   \n",
       "3                                  Sketch - Draw & Paint       ART_AND_DESIGN   \n",
       "4                  Pixel Draw - Number Art Coloring Book       ART_AND_DESIGN   \n",
       "...                                                  ...                  ...   \n",
       "10836                                   Sya9a Maroc - FR               FAMILY   \n",
       "10837                   Fr. Mike Schmitz Audio Teachings               FAMILY   \n",
       "10838                             Parkinson Exercices FR              MEDICAL   \n",
       "10839                      The SCP Foundation DB fr nn5n  BOOKS_AND_REFERENCE   \n",
       "10840      iHoroscope - 2018 Daily Horoscope & Astrology            LIFESTYLE   \n",
       "\n",
       "       Rating Reviews                Size     Installs  Type Price  \\\n",
       "0         4.1     159                 19M      10,000+  Free     0   \n",
       "1         3.9     967                 14M     500,000+  Free     0   \n",
       "2         4.7   87510                8.7M   5,000,000+  Free     0   \n",
       "3         4.5  215644                 25M  50,000,000+  Free     0   \n",
       "4         4.3     967                2.8M     100,000+  Free     0   \n",
       "...       ...     ...                 ...          ...   ...   ...   \n",
       "10836     4.5      38                 53M       5,000+  Free     0   \n",
       "10837     5.0       4                3.6M         100+  Free     0   \n",
       "10838     NaN       3                9.5M       1,000+  Free     0   \n",
       "10839     4.5     114  Varies with device       1,000+  Free     0   \n",
       "10840     4.5  398307                 19M  10,000,000+  Free     0   \n",
       "\n",
       "      Content Rating                     Genres      Last Updated  \\\n",
       "0           Everyone               Art & Design   January 7, 2018   \n",
       "1           Everyone  Art & Design;Pretend Play  January 15, 2018   \n",
       "2           Everyone               Art & Design    August 1, 2018   \n",
       "3               Teen               Art & Design      June 8, 2018   \n",
       "4           Everyone    Art & Design;Creativity     June 20, 2018   \n",
       "...              ...                        ...               ...   \n",
       "10836       Everyone                  Education     July 25, 2017   \n",
       "10837       Everyone                  Education      July 6, 2018   \n",
       "10838       Everyone                    Medical  January 20, 2017   \n",
       "10839     Mature 17+          Books & Reference  January 19, 2015   \n",
       "10840       Everyone                  Lifestyle     July 25, 2018   \n",
       "\n",
       "              Current Ver         Android Ver  \n",
       "0                   1.0.0        4.0.3 and up  \n",
       "1                   2.0.0        4.0.3 and up  \n",
       "2                   1.2.4        4.0.3 and up  \n",
       "3      Varies with device          4.2 and up  \n",
       "4                     1.1          4.4 and up  \n",
       "...                   ...                 ...  \n",
       "10836                1.48          4.1 and up  \n",
       "10837                 1.0          4.1 and up  \n",
       "10838                 1.0          2.2 and up  \n",
       "10839  Varies with device  Varies with device  \n",
       "10840  Varies with device  Varies with device  \n",
       "\n",
       "[10841 rows x 13 columns]"
      ]
     },
     "execution_count": 4,
     "metadata": {},
     "output_type": "execute_result"
    }
   ],
   "source": [
    "data"
   ]
  },
  {
   "cell_type": "markdown",
   "id": "786a8dca",
   "metadata": {
    "papermill": {
     "duration": 0.040813,
     "end_time": "2022-03-29T02:24:32.115215",
     "exception": false,
     "start_time": "2022-03-29T02:24:32.074402",
     "status": "completed"
    },
    "tags": []
   },
   "source": []
  },
  {
   "cell_type": "markdown",
   "id": "7fb8a9e6",
   "metadata": {
    "papermill": {
     "duration": 0.040429,
     "end_time": "2022-03-29T02:24:32.196636",
     "exception": false,
     "start_time": "2022-03-29T02:24:32.156207",
     "status": "completed"
    },
    "tags": []
   },
   "source": [
    "* Display Top 5 Rows of The Dataset\n",
    "* Check the Last 3 Rows of The Dataset\n",
    "* Find Shape of Our Dataset (Number of Rows & Number of Columns)\n",
    "* Get Information About Our Dataset Like Total Number Rows, Total Number of Columns, Datatypes of Each Column And Memory Requirement\n",
    "* Get Overall Statistics About The Dataframe"
   ]
  },
  {
   "cell_type": "code",
   "execution_count": 5,
   "id": "c6332c78",
   "metadata": {
    "execution": {
     "iopub.execute_input": "2022-03-29T02:24:32.290663Z",
     "iopub.status.busy": "2022-03-29T02:24:32.289899Z",
     "iopub.status.idle": "2022-03-29T02:24:32.299672Z",
     "shell.execute_reply": "2022-03-29T02:24:32.299013Z",
     "shell.execute_reply.started": "2022-03-29T01:52:36.712607Z"
    },
    "papermill": {
     "duration": 0.062623,
     "end_time": "2022-03-29T02:24:32.299808",
     "exception": false,
     "start_time": "2022-03-29T02:24:32.237185",
     "status": "completed"
    },
    "tags": []
   },
   "outputs": [
    {
     "data": {
      "text/html": [
       "<div>\n",
       "<style scoped>\n",
       "    .dataframe tbody tr th:only-of-type {\n",
       "        vertical-align: middle;\n",
       "    }\n",
       "\n",
       "    .dataframe tbody tr th {\n",
       "        vertical-align: top;\n",
       "    }\n",
       "\n",
       "    .dataframe thead th {\n",
       "        text-align: right;\n",
       "    }\n",
       "</style>\n",
       "<table border=\"1\" class=\"dataframe\">\n",
       "  <thead>\n",
       "    <tr style=\"text-align: right;\">\n",
       "      <th></th>\n",
       "      <th>App</th>\n",
       "      <th>Category</th>\n",
       "      <th>Rating</th>\n",
       "      <th>Reviews</th>\n",
       "      <th>Size</th>\n",
       "      <th>Installs</th>\n",
       "      <th>Type</th>\n",
       "      <th>Price</th>\n",
       "      <th>Content Rating</th>\n",
       "      <th>Genres</th>\n",
       "      <th>Last Updated</th>\n",
       "      <th>Current Ver</th>\n",
       "      <th>Android Ver</th>\n",
       "    </tr>\n",
       "  </thead>\n",
       "  <tbody>\n",
       "    <tr>\n",
       "      <th>0</th>\n",
       "      <td>Photo Editor &amp; Candy Camera &amp; Grid &amp; ScrapBook</td>\n",
       "      <td>ART_AND_DESIGN</td>\n",
       "      <td>4.1</td>\n",
       "      <td>159</td>\n",
       "      <td>19M</td>\n",
       "      <td>10,000+</td>\n",
       "      <td>Free</td>\n",
       "      <td>0</td>\n",
       "      <td>Everyone</td>\n",
       "      <td>Art &amp; Design</td>\n",
       "      <td>January 7, 2018</td>\n",
       "      <td>1.0.0</td>\n",
       "      <td>4.0.3 and up</td>\n",
       "    </tr>\n",
       "    <tr>\n",
       "      <th>1</th>\n",
       "      <td>Coloring book moana</td>\n",
       "      <td>ART_AND_DESIGN</td>\n",
       "      <td>3.9</td>\n",
       "      <td>967</td>\n",
       "      <td>14M</td>\n",
       "      <td>500,000+</td>\n",
       "      <td>Free</td>\n",
       "      <td>0</td>\n",
       "      <td>Everyone</td>\n",
       "      <td>Art &amp; Design;Pretend Play</td>\n",
       "      <td>January 15, 2018</td>\n",
       "      <td>2.0.0</td>\n",
       "      <td>4.0.3 and up</td>\n",
       "    </tr>\n",
       "    <tr>\n",
       "      <th>2</th>\n",
       "      <td>U Launcher Lite – FREE Live Cool Themes, Hide ...</td>\n",
       "      <td>ART_AND_DESIGN</td>\n",
       "      <td>4.7</td>\n",
       "      <td>87510</td>\n",
       "      <td>8.7M</td>\n",
       "      <td>5,000,000+</td>\n",
       "      <td>Free</td>\n",
       "      <td>0</td>\n",
       "      <td>Everyone</td>\n",
       "      <td>Art &amp; Design</td>\n",
       "      <td>August 1, 2018</td>\n",
       "      <td>1.2.4</td>\n",
       "      <td>4.0.3 and up</td>\n",
       "    </tr>\n",
       "    <tr>\n",
       "      <th>3</th>\n",
       "      <td>Sketch - Draw &amp; Paint</td>\n",
       "      <td>ART_AND_DESIGN</td>\n",
       "      <td>4.5</td>\n",
       "      <td>215644</td>\n",
       "      <td>25M</td>\n",
       "      <td>50,000,000+</td>\n",
       "      <td>Free</td>\n",
       "      <td>0</td>\n",
       "      <td>Teen</td>\n",
       "      <td>Art &amp; Design</td>\n",
       "      <td>June 8, 2018</td>\n",
       "      <td>Varies with device</td>\n",
       "      <td>4.2 and up</td>\n",
       "    </tr>\n",
       "    <tr>\n",
       "      <th>4</th>\n",
       "      <td>Pixel Draw - Number Art Coloring Book</td>\n",
       "      <td>ART_AND_DESIGN</td>\n",
       "      <td>4.3</td>\n",
       "      <td>967</td>\n",
       "      <td>2.8M</td>\n",
       "      <td>100,000+</td>\n",
       "      <td>Free</td>\n",
       "      <td>0</td>\n",
       "      <td>Everyone</td>\n",
       "      <td>Art &amp; Design;Creativity</td>\n",
       "      <td>June 20, 2018</td>\n",
       "      <td>1.1</td>\n",
       "      <td>4.4 and up</td>\n",
       "    </tr>\n",
       "  </tbody>\n",
       "</table>\n",
       "</div>"
      ],
      "text/plain": [
       "                                                 App        Category  Rating  \\\n",
       "0     Photo Editor & Candy Camera & Grid & ScrapBook  ART_AND_DESIGN     4.1   \n",
       "1                                Coloring book moana  ART_AND_DESIGN     3.9   \n",
       "2  U Launcher Lite – FREE Live Cool Themes, Hide ...  ART_AND_DESIGN     4.7   \n",
       "3                              Sketch - Draw & Paint  ART_AND_DESIGN     4.5   \n",
       "4              Pixel Draw - Number Art Coloring Book  ART_AND_DESIGN     4.3   \n",
       "\n",
       "  Reviews  Size     Installs  Type Price Content Rating  \\\n",
       "0     159   19M      10,000+  Free     0       Everyone   \n",
       "1     967   14M     500,000+  Free     0       Everyone   \n",
       "2   87510  8.7M   5,000,000+  Free     0       Everyone   \n",
       "3  215644   25M  50,000,000+  Free     0           Teen   \n",
       "4     967  2.8M     100,000+  Free     0       Everyone   \n",
       "\n",
       "                      Genres      Last Updated         Current Ver  \\\n",
       "0               Art & Design   January 7, 2018               1.0.0   \n",
       "1  Art & Design;Pretend Play  January 15, 2018               2.0.0   \n",
       "2               Art & Design    August 1, 2018               1.2.4   \n",
       "3               Art & Design      June 8, 2018  Varies with device   \n",
       "4    Art & Design;Creativity     June 20, 2018                 1.1   \n",
       "\n",
       "    Android Ver  \n",
       "0  4.0.3 and up  \n",
       "1  4.0.3 and up  \n",
       "2  4.0.3 and up  \n",
       "3    4.2 and up  \n",
       "4    4.4 and up  "
      ]
     },
     "execution_count": 5,
     "metadata": {},
     "output_type": "execute_result"
    }
   ],
   "source": [
    "data.head(5)"
   ]
  },
  {
   "cell_type": "code",
   "execution_count": 6,
   "id": "f2baed6e",
   "metadata": {
    "execution": {
     "iopub.execute_input": "2022-03-29T02:24:32.400824Z",
     "iopub.status.busy": "2022-03-29T02:24:32.400170Z",
     "iopub.status.idle": "2022-03-29T02:24:32.403877Z",
     "shell.execute_reply": "2022-03-29T02:24:32.403268Z",
     "shell.execute_reply.started": "2022-03-29T01:52:48.739517Z"
    },
    "papermill": {
     "duration": 0.062528,
     "end_time": "2022-03-29T02:24:32.404013",
     "exception": false,
     "start_time": "2022-03-29T02:24:32.341485",
     "status": "completed"
    },
    "tags": []
   },
   "outputs": [
    {
     "data": {
      "text/html": [
       "<div>\n",
       "<style scoped>\n",
       "    .dataframe tbody tr th:only-of-type {\n",
       "        vertical-align: middle;\n",
       "    }\n",
       "\n",
       "    .dataframe tbody tr th {\n",
       "        vertical-align: top;\n",
       "    }\n",
       "\n",
       "    .dataframe thead th {\n",
       "        text-align: right;\n",
       "    }\n",
       "</style>\n",
       "<table border=\"1\" class=\"dataframe\">\n",
       "  <thead>\n",
       "    <tr style=\"text-align: right;\">\n",
       "      <th></th>\n",
       "      <th>App</th>\n",
       "      <th>Category</th>\n",
       "      <th>Rating</th>\n",
       "      <th>Reviews</th>\n",
       "      <th>Size</th>\n",
       "      <th>Installs</th>\n",
       "      <th>Type</th>\n",
       "      <th>Price</th>\n",
       "      <th>Content Rating</th>\n",
       "      <th>Genres</th>\n",
       "      <th>Last Updated</th>\n",
       "      <th>Current Ver</th>\n",
       "      <th>Android Ver</th>\n",
       "    </tr>\n",
       "  </thead>\n",
       "  <tbody>\n",
       "    <tr>\n",
       "      <th>10838</th>\n",
       "      <td>Parkinson Exercices FR</td>\n",
       "      <td>MEDICAL</td>\n",
       "      <td>NaN</td>\n",
       "      <td>3</td>\n",
       "      <td>9.5M</td>\n",
       "      <td>1,000+</td>\n",
       "      <td>Free</td>\n",
       "      <td>0</td>\n",
       "      <td>Everyone</td>\n",
       "      <td>Medical</td>\n",
       "      <td>January 20, 2017</td>\n",
       "      <td>1.0</td>\n",
       "      <td>2.2 and up</td>\n",
       "    </tr>\n",
       "    <tr>\n",
       "      <th>10839</th>\n",
       "      <td>The SCP Foundation DB fr nn5n</td>\n",
       "      <td>BOOKS_AND_REFERENCE</td>\n",
       "      <td>4.5</td>\n",
       "      <td>114</td>\n",
       "      <td>Varies with device</td>\n",
       "      <td>1,000+</td>\n",
       "      <td>Free</td>\n",
       "      <td>0</td>\n",
       "      <td>Mature 17+</td>\n",
       "      <td>Books &amp; Reference</td>\n",
       "      <td>January 19, 2015</td>\n",
       "      <td>Varies with device</td>\n",
       "      <td>Varies with device</td>\n",
       "    </tr>\n",
       "    <tr>\n",
       "      <th>10840</th>\n",
       "      <td>iHoroscope - 2018 Daily Horoscope &amp; Astrology</td>\n",
       "      <td>LIFESTYLE</td>\n",
       "      <td>4.5</td>\n",
       "      <td>398307</td>\n",
       "      <td>19M</td>\n",
       "      <td>10,000,000+</td>\n",
       "      <td>Free</td>\n",
       "      <td>0</td>\n",
       "      <td>Everyone</td>\n",
       "      <td>Lifestyle</td>\n",
       "      <td>July 25, 2018</td>\n",
       "      <td>Varies with device</td>\n",
       "      <td>Varies with device</td>\n",
       "    </tr>\n",
       "  </tbody>\n",
       "</table>\n",
       "</div>"
      ],
      "text/plain": [
       "                                                 App             Category  \\\n",
       "10838                         Parkinson Exercices FR              MEDICAL   \n",
       "10839                  The SCP Foundation DB fr nn5n  BOOKS_AND_REFERENCE   \n",
       "10840  iHoroscope - 2018 Daily Horoscope & Astrology            LIFESTYLE   \n",
       "\n",
       "       Rating Reviews                Size     Installs  Type Price  \\\n",
       "10838     NaN       3                9.5M       1,000+  Free     0   \n",
       "10839     4.5     114  Varies with device       1,000+  Free     0   \n",
       "10840     4.5  398307                 19M  10,000,000+  Free     0   \n",
       "\n",
       "      Content Rating             Genres      Last Updated         Current Ver  \\\n",
       "10838       Everyone            Medical  January 20, 2017                 1.0   \n",
       "10839     Mature 17+  Books & Reference  January 19, 2015  Varies with device   \n",
       "10840       Everyone          Lifestyle     July 25, 2018  Varies with device   \n",
       "\n",
       "              Android Ver  \n",
       "10838          2.2 and up  \n",
       "10839  Varies with device  \n",
       "10840  Varies with device  "
      ]
     },
     "execution_count": 6,
     "metadata": {},
     "output_type": "execute_result"
    }
   ],
   "source": [
    "data.tail(3)"
   ]
  },
  {
   "cell_type": "code",
   "execution_count": 7,
   "id": "0e80b1e2",
   "metadata": {
    "execution": {
     "iopub.execute_input": "2022-03-29T02:24:32.493809Z",
     "iopub.status.busy": "2022-03-29T02:24:32.493148Z",
     "iopub.status.idle": "2022-03-29T02:24:32.496918Z",
     "shell.execute_reply": "2022-03-29T02:24:32.497392Z",
     "shell.execute_reply.started": "2022-03-29T01:53:02.150344Z"
    },
    "papermill": {
     "duration": 0.051324,
     "end_time": "2022-03-29T02:24:32.497559",
     "exception": false,
     "start_time": "2022-03-29T02:24:32.446235",
     "status": "completed"
    },
    "tags": []
   },
   "outputs": [
    {
     "data": {
      "text/plain": [
       "10841"
      ]
     },
     "execution_count": 7,
     "metadata": {},
     "output_type": "execute_result"
    }
   ],
   "source": [
    "data.shape[0]"
   ]
  },
  {
   "cell_type": "markdown",
   "id": "4411de33",
   "metadata": {
    "papermill": {
     "duration": 0.041998,
     "end_time": "2022-03-29T02:24:32.581971",
     "exception": false,
     "start_time": "2022-03-29T02:24:32.539973",
     "status": "completed"
    },
    "tags": []
   },
   "source": [
    "rows"
   ]
  },
  {
   "cell_type": "code",
   "execution_count": 8,
   "id": "63e9c1f5",
   "metadata": {
    "execution": {
     "iopub.execute_input": "2022-03-29T02:24:32.673467Z",
     "iopub.status.busy": "2022-03-29T02:24:32.672738Z",
     "iopub.status.idle": "2022-03-29T02:24:32.677520Z",
     "shell.execute_reply": "2022-03-29T02:24:32.676824Z",
     "shell.execute_reply.started": "2022-03-29T01:53:19.244446Z"
    },
    "papermill": {
     "duration": 0.053365,
     "end_time": "2022-03-29T02:24:32.677670",
     "exception": false,
     "start_time": "2022-03-29T02:24:32.624305",
     "status": "completed"
    },
    "tags": []
   },
   "outputs": [
    {
     "data": {
      "text/plain": [
       "13"
      ]
     },
     "execution_count": 8,
     "metadata": {},
     "output_type": "execute_result"
    }
   ],
   "source": [
    "data.shape[1]"
   ]
  },
  {
   "cell_type": "markdown",
   "id": "4325e4fd",
   "metadata": {
    "papermill": {
     "duration": 0.042433,
     "end_time": "2022-03-29T02:24:32.763097",
     "exception": false,
     "start_time": "2022-03-29T02:24:32.720664",
     "status": "completed"
    },
    "tags": []
   },
   "source": [
    "columns"
   ]
  },
  {
   "cell_type": "code",
   "execution_count": 9,
   "id": "ada89390",
   "metadata": {
    "execution": {
     "iopub.execute_input": "2022-03-29T02:24:32.880411Z",
     "iopub.status.busy": "2022-03-29T02:24:32.871989Z",
     "iopub.status.idle": "2022-03-29T02:24:32.891831Z",
     "shell.execute_reply": "2022-03-29T02:24:32.891194Z",
     "shell.execute_reply.started": "2022-03-29T01:53:44.738672Z"
    },
    "papermill": {
     "duration": 0.085775,
     "end_time": "2022-03-29T02:24:32.891968",
     "exception": false,
     "start_time": "2022-03-29T02:24:32.806193",
     "status": "completed"
    },
    "tags": []
   },
   "outputs": [
    {
     "name": "stdout",
     "output_type": "stream",
     "text": [
      "<class 'pandas.core.frame.DataFrame'>\n",
      "RangeIndex: 10841 entries, 0 to 10840\n",
      "Data columns (total 13 columns):\n",
      " #   Column          Non-Null Count  Dtype  \n",
      "---  ------          --------------  -----  \n",
      " 0   App             10841 non-null  object \n",
      " 1   Category        10841 non-null  object \n",
      " 2   Rating          9367 non-null   float64\n",
      " 3   Reviews         10841 non-null  object \n",
      " 4   Size            10841 non-null  object \n",
      " 5   Installs        10841 non-null  object \n",
      " 6   Type            10840 non-null  object \n",
      " 7   Price           10841 non-null  object \n",
      " 8   Content Rating  10840 non-null  object \n",
      " 9   Genres          10841 non-null  object \n",
      " 10  Last Updated    10841 non-null  object \n",
      " 11  Current Ver     10833 non-null  object \n",
      " 12  Android Ver     10838 non-null  object \n",
      "dtypes: float64(1), object(12)\n",
      "memory usage: 1.1+ MB\n"
     ]
    }
   ],
   "source": [
    "data.info()"
   ]
  },
  {
   "cell_type": "code",
   "execution_count": 10,
   "id": "5e3c9846",
   "metadata": {
    "execution": {
     "iopub.execute_input": "2022-03-29T02:24:32.983139Z",
     "iopub.status.busy": "2022-03-29T02:24:32.980873Z",
     "iopub.status.idle": "2022-03-29T02:24:32.998355Z",
     "shell.execute_reply": "2022-03-29T02:24:32.998838Z",
     "shell.execute_reply.started": "2022-03-29T01:54:00.533483Z"
    },
    "papermill": {
     "duration": 0.063764,
     "end_time": "2022-03-29T02:24:32.999002",
     "exception": false,
     "start_time": "2022-03-29T02:24:32.935238",
     "status": "completed"
    },
    "tags": []
   },
   "outputs": [
    {
     "data": {
      "text/html": [
       "<div>\n",
       "<style scoped>\n",
       "    .dataframe tbody tr th:only-of-type {\n",
       "        vertical-align: middle;\n",
       "    }\n",
       "\n",
       "    .dataframe tbody tr th {\n",
       "        vertical-align: top;\n",
       "    }\n",
       "\n",
       "    .dataframe thead th {\n",
       "        text-align: right;\n",
       "    }\n",
       "</style>\n",
       "<table border=\"1\" class=\"dataframe\">\n",
       "  <thead>\n",
       "    <tr style=\"text-align: right;\">\n",
       "      <th></th>\n",
       "      <th>Rating</th>\n",
       "    </tr>\n",
       "  </thead>\n",
       "  <tbody>\n",
       "    <tr>\n",
       "      <th>count</th>\n",
       "      <td>9367.000000</td>\n",
       "    </tr>\n",
       "    <tr>\n",
       "      <th>mean</th>\n",
       "      <td>4.193338</td>\n",
       "    </tr>\n",
       "    <tr>\n",
       "      <th>std</th>\n",
       "      <td>0.537431</td>\n",
       "    </tr>\n",
       "    <tr>\n",
       "      <th>min</th>\n",
       "      <td>1.000000</td>\n",
       "    </tr>\n",
       "    <tr>\n",
       "      <th>25%</th>\n",
       "      <td>4.000000</td>\n",
       "    </tr>\n",
       "    <tr>\n",
       "      <th>50%</th>\n",
       "      <td>4.300000</td>\n",
       "    </tr>\n",
       "    <tr>\n",
       "      <th>75%</th>\n",
       "      <td>4.500000</td>\n",
       "    </tr>\n",
       "    <tr>\n",
       "      <th>max</th>\n",
       "      <td>19.000000</td>\n",
       "    </tr>\n",
       "  </tbody>\n",
       "</table>\n",
       "</div>"
      ],
      "text/plain": [
       "            Rating\n",
       "count  9367.000000\n",
       "mean      4.193338\n",
       "std       0.537431\n",
       "min       1.000000\n",
       "25%       4.000000\n",
       "50%       4.300000\n",
       "75%       4.500000\n",
       "max      19.000000"
      ]
     },
     "execution_count": 10,
     "metadata": {},
     "output_type": "execute_result"
    }
   ],
   "source": [
    "data.describe()"
   ]
  },
  {
   "cell_type": "code",
   "execution_count": 11,
   "id": "091ec6f0",
   "metadata": {
    "execution": {
     "iopub.execute_input": "2022-03-29T02:24:33.096658Z",
     "iopub.status.busy": "2022-03-29T02:24:33.096004Z",
     "iopub.status.idle": "2022-03-29T02:24:33.167608Z",
     "shell.execute_reply": "2022-03-29T02:24:33.168131Z",
     "shell.execute_reply.started": "2022-03-29T01:54:57.356947Z"
    },
    "papermill": {
     "duration": 0.12562,
     "end_time": "2022-03-29T02:24:33.168321",
     "exception": false,
     "start_time": "2022-03-29T02:24:33.042701",
     "status": "completed"
    },
    "tags": []
   },
   "outputs": [
    {
     "data": {
      "text/html": [
       "<div>\n",
       "<style scoped>\n",
       "    .dataframe tbody tr th:only-of-type {\n",
       "        vertical-align: middle;\n",
       "    }\n",
       "\n",
       "    .dataframe tbody tr th {\n",
       "        vertical-align: top;\n",
       "    }\n",
       "\n",
       "    .dataframe thead th {\n",
       "        text-align: right;\n",
       "    }\n",
       "</style>\n",
       "<table border=\"1\" class=\"dataframe\">\n",
       "  <thead>\n",
       "    <tr style=\"text-align: right;\">\n",
       "      <th></th>\n",
       "      <th>App</th>\n",
       "      <th>Category</th>\n",
       "      <th>Rating</th>\n",
       "      <th>Reviews</th>\n",
       "      <th>Size</th>\n",
       "      <th>Installs</th>\n",
       "      <th>Type</th>\n",
       "      <th>Price</th>\n",
       "      <th>Content Rating</th>\n",
       "      <th>Genres</th>\n",
       "      <th>Last Updated</th>\n",
       "      <th>Current Ver</th>\n",
       "      <th>Android Ver</th>\n",
       "    </tr>\n",
       "  </thead>\n",
       "  <tbody>\n",
       "    <tr>\n",
       "      <th>count</th>\n",
       "      <td>10841</td>\n",
       "      <td>10841</td>\n",
       "      <td>9367.000000</td>\n",
       "      <td>10841</td>\n",
       "      <td>10841</td>\n",
       "      <td>10841</td>\n",
       "      <td>10840</td>\n",
       "      <td>10841</td>\n",
       "      <td>10840</td>\n",
       "      <td>10841</td>\n",
       "      <td>10841</td>\n",
       "      <td>10833</td>\n",
       "      <td>10838</td>\n",
       "    </tr>\n",
       "    <tr>\n",
       "      <th>unique</th>\n",
       "      <td>9660</td>\n",
       "      <td>34</td>\n",
       "      <td>NaN</td>\n",
       "      <td>6002</td>\n",
       "      <td>462</td>\n",
       "      <td>22</td>\n",
       "      <td>3</td>\n",
       "      <td>93</td>\n",
       "      <td>6</td>\n",
       "      <td>120</td>\n",
       "      <td>1378</td>\n",
       "      <td>2832</td>\n",
       "      <td>33</td>\n",
       "    </tr>\n",
       "    <tr>\n",
       "      <th>top</th>\n",
       "      <td>ROBLOX</td>\n",
       "      <td>FAMILY</td>\n",
       "      <td>NaN</td>\n",
       "      <td>0</td>\n",
       "      <td>Varies with device</td>\n",
       "      <td>1,000,000+</td>\n",
       "      <td>Free</td>\n",
       "      <td>0</td>\n",
       "      <td>Everyone</td>\n",
       "      <td>Tools</td>\n",
       "      <td>August 3, 2018</td>\n",
       "      <td>Varies with device</td>\n",
       "      <td>4.1 and up</td>\n",
       "    </tr>\n",
       "    <tr>\n",
       "      <th>freq</th>\n",
       "      <td>9</td>\n",
       "      <td>1972</td>\n",
       "      <td>NaN</td>\n",
       "      <td>596</td>\n",
       "      <td>1695</td>\n",
       "      <td>1579</td>\n",
       "      <td>10039</td>\n",
       "      <td>10040</td>\n",
       "      <td>8714</td>\n",
       "      <td>842</td>\n",
       "      <td>326</td>\n",
       "      <td>1459</td>\n",
       "      <td>2451</td>\n",
       "    </tr>\n",
       "    <tr>\n",
       "      <th>mean</th>\n",
       "      <td>NaN</td>\n",
       "      <td>NaN</td>\n",
       "      <td>4.193338</td>\n",
       "      <td>NaN</td>\n",
       "      <td>NaN</td>\n",
       "      <td>NaN</td>\n",
       "      <td>NaN</td>\n",
       "      <td>NaN</td>\n",
       "      <td>NaN</td>\n",
       "      <td>NaN</td>\n",
       "      <td>NaN</td>\n",
       "      <td>NaN</td>\n",
       "      <td>NaN</td>\n",
       "    </tr>\n",
       "    <tr>\n",
       "      <th>std</th>\n",
       "      <td>NaN</td>\n",
       "      <td>NaN</td>\n",
       "      <td>0.537431</td>\n",
       "      <td>NaN</td>\n",
       "      <td>NaN</td>\n",
       "      <td>NaN</td>\n",
       "      <td>NaN</td>\n",
       "      <td>NaN</td>\n",
       "      <td>NaN</td>\n",
       "      <td>NaN</td>\n",
       "      <td>NaN</td>\n",
       "      <td>NaN</td>\n",
       "      <td>NaN</td>\n",
       "    </tr>\n",
       "    <tr>\n",
       "      <th>min</th>\n",
       "      <td>NaN</td>\n",
       "      <td>NaN</td>\n",
       "      <td>1.000000</td>\n",
       "      <td>NaN</td>\n",
       "      <td>NaN</td>\n",
       "      <td>NaN</td>\n",
       "      <td>NaN</td>\n",
       "      <td>NaN</td>\n",
       "      <td>NaN</td>\n",
       "      <td>NaN</td>\n",
       "      <td>NaN</td>\n",
       "      <td>NaN</td>\n",
       "      <td>NaN</td>\n",
       "    </tr>\n",
       "    <tr>\n",
       "      <th>25%</th>\n",
       "      <td>NaN</td>\n",
       "      <td>NaN</td>\n",
       "      <td>4.000000</td>\n",
       "      <td>NaN</td>\n",
       "      <td>NaN</td>\n",
       "      <td>NaN</td>\n",
       "      <td>NaN</td>\n",
       "      <td>NaN</td>\n",
       "      <td>NaN</td>\n",
       "      <td>NaN</td>\n",
       "      <td>NaN</td>\n",
       "      <td>NaN</td>\n",
       "      <td>NaN</td>\n",
       "    </tr>\n",
       "    <tr>\n",
       "      <th>50%</th>\n",
       "      <td>NaN</td>\n",
       "      <td>NaN</td>\n",
       "      <td>4.300000</td>\n",
       "      <td>NaN</td>\n",
       "      <td>NaN</td>\n",
       "      <td>NaN</td>\n",
       "      <td>NaN</td>\n",
       "      <td>NaN</td>\n",
       "      <td>NaN</td>\n",
       "      <td>NaN</td>\n",
       "      <td>NaN</td>\n",
       "      <td>NaN</td>\n",
       "      <td>NaN</td>\n",
       "    </tr>\n",
       "    <tr>\n",
       "      <th>75%</th>\n",
       "      <td>NaN</td>\n",
       "      <td>NaN</td>\n",
       "      <td>4.500000</td>\n",
       "      <td>NaN</td>\n",
       "      <td>NaN</td>\n",
       "      <td>NaN</td>\n",
       "      <td>NaN</td>\n",
       "      <td>NaN</td>\n",
       "      <td>NaN</td>\n",
       "      <td>NaN</td>\n",
       "      <td>NaN</td>\n",
       "      <td>NaN</td>\n",
       "      <td>NaN</td>\n",
       "    </tr>\n",
       "    <tr>\n",
       "      <th>max</th>\n",
       "      <td>NaN</td>\n",
       "      <td>NaN</td>\n",
       "      <td>19.000000</td>\n",
       "      <td>NaN</td>\n",
       "      <td>NaN</td>\n",
       "      <td>NaN</td>\n",
       "      <td>NaN</td>\n",
       "      <td>NaN</td>\n",
       "      <td>NaN</td>\n",
       "      <td>NaN</td>\n",
       "      <td>NaN</td>\n",
       "      <td>NaN</td>\n",
       "      <td>NaN</td>\n",
       "    </tr>\n",
       "  </tbody>\n",
       "</table>\n",
       "</div>"
      ],
      "text/plain": [
       "           App Category       Rating Reviews                Size    Installs  \\\n",
       "count    10841    10841  9367.000000   10841               10841       10841   \n",
       "unique    9660       34          NaN    6002                 462          22   \n",
       "top     ROBLOX   FAMILY          NaN       0  Varies with device  1,000,000+   \n",
       "freq         9     1972          NaN     596                1695        1579   \n",
       "mean       NaN      NaN     4.193338     NaN                 NaN         NaN   \n",
       "std        NaN      NaN     0.537431     NaN                 NaN         NaN   \n",
       "min        NaN      NaN     1.000000     NaN                 NaN         NaN   \n",
       "25%        NaN      NaN     4.000000     NaN                 NaN         NaN   \n",
       "50%        NaN      NaN     4.300000     NaN                 NaN         NaN   \n",
       "75%        NaN      NaN     4.500000     NaN                 NaN         NaN   \n",
       "max        NaN      NaN    19.000000     NaN                 NaN         NaN   \n",
       "\n",
       "         Type  Price Content Rating Genres    Last Updated  \\\n",
       "count   10840  10841          10840  10841           10841   \n",
       "unique      3     93              6    120            1378   \n",
       "top      Free      0       Everyone  Tools  August 3, 2018   \n",
       "freq    10039  10040           8714    842             326   \n",
       "mean      NaN    NaN            NaN    NaN             NaN   \n",
       "std       NaN    NaN            NaN    NaN             NaN   \n",
       "min       NaN    NaN            NaN    NaN             NaN   \n",
       "25%       NaN    NaN            NaN    NaN             NaN   \n",
       "50%       NaN    NaN            NaN    NaN             NaN   \n",
       "75%       NaN    NaN            NaN    NaN             NaN   \n",
       "max       NaN    NaN            NaN    NaN             NaN   \n",
       "\n",
       "               Current Ver Android Ver  \n",
       "count                10833       10838  \n",
       "unique                2832          33  \n",
       "top     Varies with device  4.1 and up  \n",
       "freq                  1459        2451  \n",
       "mean                   NaN         NaN  \n",
       "std                    NaN         NaN  \n",
       "min                    NaN         NaN  \n",
       "25%                    NaN         NaN  \n",
       "50%                    NaN         NaN  \n",
       "75%                    NaN         NaN  \n",
       "max                    NaN         NaN  "
      ]
     },
     "execution_count": 11,
     "metadata": {},
     "output_type": "execute_result"
    }
   ],
   "source": [
    "## describe for all values : numeric and non numberic\n",
    "data.describe(include ='all')"
   ]
  },
  {
   "cell_type": "markdown",
   "id": "a0171090",
   "metadata": {
    "papermill": {
     "duration": 0.043793,
     "end_time": "2022-03-29T02:24:33.256682",
     "exception": false,
     "start_time": "2022-03-29T02:24:33.212889",
     "status": "completed"
    },
    "tags": []
   },
   "source": [
    "Total Number of App Titles Contain Astrology"
   ]
  },
  {
   "cell_type": "code",
   "execution_count": 12,
   "id": "228fab70",
   "metadata": {
    "execution": {
     "iopub.execute_input": "2022-03-29T02:24:33.349435Z",
     "iopub.status.busy": "2022-03-29T02:24:33.348477Z",
     "iopub.status.idle": "2022-03-29T02:24:33.353969Z",
     "shell.execute_reply": "2022-03-29T02:24:33.354474Z",
     "shell.execute_reply.started": "2022-03-29T01:55:55.539303Z"
    },
    "papermill": {
     "duration": 0.053583,
     "end_time": "2022-03-29T02:24:33.354639",
     "exception": false,
     "start_time": "2022-03-29T02:24:33.301056",
     "status": "completed"
    },
    "tags": []
   },
   "outputs": [
    {
     "data": {
      "text/plain": [
       "Index(['App', 'Category', 'Rating', 'Reviews', 'Size', 'Installs', 'Type',\n",
       "       'Price', 'Content Rating', 'Genres', 'Last Updated', 'Current Ver',\n",
       "       'Android Ver'],\n",
       "      dtype='object')"
      ]
     },
     "execution_count": 12,
     "metadata": {},
     "output_type": "execute_result"
    }
   ],
   "source": [
    "data.columns"
   ]
  },
  {
   "cell_type": "code",
   "execution_count": 13,
   "id": "385f575b",
   "metadata": {
    "execution": {
     "iopub.execute_input": "2022-03-29T02:24:33.448058Z",
     "iopub.status.busy": "2022-03-29T02:24:33.447135Z",
     "iopub.status.idle": "2022-03-29T02:24:33.476452Z",
     "shell.execute_reply": "2022-03-29T02:24:33.476938Z",
     "shell.execute_reply.started": "2022-03-29T01:58:15.022303Z"
    },
    "papermill": {
     "duration": 0.077755,
     "end_time": "2022-03-29T02:24:33.477129",
     "exception": false,
     "start_time": "2022-03-29T02:24:33.399374",
     "status": "completed"
    },
    "tags": []
   },
   "outputs": [
    {
     "data": {
      "text/html": [
       "<div>\n",
       "<style scoped>\n",
       "    .dataframe tbody tr th:only-of-type {\n",
       "        vertical-align: middle;\n",
       "    }\n",
       "\n",
       "    .dataframe tbody tr th {\n",
       "        vertical-align: top;\n",
       "    }\n",
       "\n",
       "    .dataframe thead th {\n",
       "        text-align: right;\n",
       "    }\n",
       "</style>\n",
       "<table border=\"1\" class=\"dataframe\">\n",
       "  <thead>\n",
       "    <tr style=\"text-align: right;\">\n",
       "      <th></th>\n",
       "      <th>App</th>\n",
       "      <th>Category</th>\n",
       "      <th>Rating</th>\n",
       "      <th>Reviews</th>\n",
       "      <th>Size</th>\n",
       "      <th>Installs</th>\n",
       "      <th>Type</th>\n",
       "      <th>Price</th>\n",
       "      <th>Content Rating</th>\n",
       "      <th>Genres</th>\n",
       "      <th>Last Updated</th>\n",
       "      <th>Current Ver</th>\n",
       "      <th>Android Ver</th>\n",
       "    </tr>\n",
       "  </thead>\n",
       "  <tbody>\n",
       "    <tr>\n",
       "      <th>1570</th>\n",
       "      <td>Horoscopes – Daily Zodiac Horoscope and Astrology</td>\n",
       "      <td>LIFESTYLE</td>\n",
       "      <td>4.6</td>\n",
       "      <td>161143</td>\n",
       "      <td>11M</td>\n",
       "      <td>10,000,000+</td>\n",
       "      <td>Free</td>\n",
       "      <td>0</td>\n",
       "      <td>Everyone 10+</td>\n",
       "      <td>Lifestyle</td>\n",
       "      <td>June 25, 2018</td>\n",
       "      <td>5.2.4(881)</td>\n",
       "      <td>4.0.3 and up</td>\n",
       "    </tr>\n",
       "    <tr>\n",
       "      <th>1592</th>\n",
       "      <td>သိင်္ Astrology - Min Thein Kha BayDin</td>\n",
       "      <td>LIFESTYLE</td>\n",
       "      <td>4.7</td>\n",
       "      <td>2225</td>\n",
       "      <td>15M</td>\n",
       "      <td>100,000+</td>\n",
       "      <td>Free</td>\n",
       "      <td>0</td>\n",
       "      <td>Everyone</td>\n",
       "      <td>Lifestyle</td>\n",
       "      <td>July 26, 2018</td>\n",
       "      <td>4.2.1</td>\n",
       "      <td>4.0.3 and up</td>\n",
       "    </tr>\n",
       "    <tr>\n",
       "      <th>10840</th>\n",
       "      <td>iHoroscope - 2018 Daily Horoscope &amp; Astrology</td>\n",
       "      <td>LIFESTYLE</td>\n",
       "      <td>4.5</td>\n",
       "      <td>398307</td>\n",
       "      <td>19M</td>\n",
       "      <td>10,000,000+</td>\n",
       "      <td>Free</td>\n",
       "      <td>0</td>\n",
       "      <td>Everyone</td>\n",
       "      <td>Lifestyle</td>\n",
       "      <td>July 25, 2018</td>\n",
       "      <td>Varies with device</td>\n",
       "      <td>Varies with device</td>\n",
       "    </tr>\n",
       "  </tbody>\n",
       "</table>\n",
       "</div>"
      ],
      "text/plain": [
       "                                                     App   Category  Rating  \\\n",
       "1570   Horoscopes – Daily Zodiac Horoscope and Astrology  LIFESTYLE     4.6   \n",
       "1592              သိင်္ Astrology - Min Thein Kha BayDin  LIFESTYLE     4.7   \n",
       "10840      iHoroscope - 2018 Daily Horoscope & Astrology  LIFESTYLE     4.5   \n",
       "\n",
       "      Reviews Size     Installs  Type Price Content Rating     Genres  \\\n",
       "1570   161143  11M  10,000,000+  Free     0   Everyone 10+  Lifestyle   \n",
       "1592     2225  15M     100,000+  Free     0       Everyone  Lifestyle   \n",
       "10840  398307  19M  10,000,000+  Free     0       Everyone  Lifestyle   \n",
       "\n",
       "        Last Updated         Current Ver         Android Ver  \n",
       "1570   June 25, 2018          5.2.4(881)        4.0.3 and up  \n",
       "1592   July 26, 2018               4.2.1        4.0.3 and up  \n",
       "10840  July 25, 2018  Varies with device  Varies with device  "
      ]
     },
     "execution_count": 13,
     "metadata": {},
     "output_type": "execute_result"
    }
   ],
   "source": [
    "data[data['App'].str.contains('astrology',case = False)]"
   ]
  },
  {
   "cell_type": "markdown",
   "id": "d32a2d44",
   "metadata": {
    "papermill": {
     "duration": 0.045231,
     "end_time": "2022-03-29T02:24:33.567786",
     "exception": false,
     "start_time": "2022-03-29T02:24:33.522555",
     "status": "completed"
    },
    "tags": []
   },
   "source": [
    "Find Average App Rating"
   ]
  },
  {
   "cell_type": "code",
   "execution_count": 14,
   "id": "a88e4228",
   "metadata": {
    "execution": {
     "iopub.execute_input": "2022-03-29T02:24:33.663530Z",
     "iopub.status.busy": "2022-03-29T02:24:33.662564Z",
     "iopub.status.idle": "2022-03-29T02:24:33.668191Z",
     "shell.execute_reply": "2022-03-29T02:24:33.668774Z",
     "shell.execute_reply.started": "2022-03-29T01:59:03.880059Z"
    },
    "papermill": {
     "duration": 0.055705,
     "end_time": "2022-03-29T02:24:33.668938",
     "exception": false,
     "start_time": "2022-03-29T02:24:33.613233",
     "status": "completed"
    },
    "tags": []
   },
   "outputs": [
    {
     "data": {
      "text/plain": [
       "4.193338315362448"
      ]
     },
     "execution_count": 14,
     "metadata": {},
     "output_type": "execute_result"
    }
   ],
   "source": [
    "data['Rating'].mean()"
   ]
  },
  {
   "cell_type": "markdown",
   "id": "7e0ec975",
   "metadata": {
    "papermill": {
     "duration": 0.04656,
     "end_time": "2022-03-29T02:24:33.761282",
     "exception": false,
     "start_time": "2022-03-29T02:24:33.714722",
     "status": "completed"
    },
    "tags": []
   },
   "source": [
    "Total Number of Unique Category"
   ]
  },
  {
   "cell_type": "code",
   "execution_count": 15,
   "id": "61c802b7",
   "metadata": {
    "execution": {
     "iopub.execute_input": "2022-03-29T02:24:33.861033Z",
     "iopub.status.busy": "2022-03-29T02:24:33.859977Z",
     "iopub.status.idle": "2022-03-29T02:24:33.870547Z",
     "shell.execute_reply": "2022-03-29T02:24:33.869901Z",
     "shell.execute_reply.started": "2022-03-29T02:00:03.000986Z"
    },
    "papermill": {
     "duration": 0.06298,
     "end_time": "2022-03-29T02:24:33.870682",
     "exception": false,
     "start_time": "2022-03-29T02:24:33.807702",
     "status": "completed"
    },
    "tags": []
   },
   "outputs": [
    {
     "data": {
      "text/plain": [
       "FAMILY                 1972\n",
       "GAME                   1144\n",
       "TOOLS                   843\n",
       "MEDICAL                 463\n",
       "BUSINESS                460\n",
       "PRODUCTIVITY            424\n",
       "PERSONALIZATION         392\n",
       "COMMUNICATION           387\n",
       "SPORTS                  384\n",
       "LIFESTYLE               382\n",
       "FINANCE                 366\n",
       "HEALTH_AND_FITNESS      341\n",
       "PHOTOGRAPHY             335\n",
       "SOCIAL                  295\n",
       "NEWS_AND_MAGAZINES      283\n",
       "SHOPPING                260\n",
       "TRAVEL_AND_LOCAL        258\n",
       "DATING                  234\n",
       "BOOKS_AND_REFERENCE     231\n",
       "VIDEO_PLAYERS           175\n",
       "EDUCATION               156\n",
       "ENTERTAINMENT           149\n",
       "MAPS_AND_NAVIGATION     137\n",
       "FOOD_AND_DRINK          127\n",
       "HOUSE_AND_HOME           88\n",
       "LIBRARIES_AND_DEMO       85\n",
       "AUTO_AND_VEHICLES        85\n",
       "WEATHER                  82\n",
       "ART_AND_DESIGN           65\n",
       "EVENTS                   64\n",
       "PARENTING                60\n",
       "COMICS                   60\n",
       "BEAUTY                   53\n",
       "1.9                       1\n",
       "Name: Category, dtype: int64"
      ]
     },
     "execution_count": 15,
     "metadata": {},
     "output_type": "execute_result"
    }
   ],
   "source": [
    "data['Category'].value_counts()"
   ]
  },
  {
   "cell_type": "markdown",
   "id": "1ce134dd",
   "metadata": {
    "papermill": {
     "duration": 0.047365,
     "end_time": "2022-03-29T02:24:33.966332",
     "exception": false,
     "start_time": "2022-03-29T02:24:33.918967",
     "status": "completed"
    },
    "tags": []
   },
   "source": [
    "Which Category Getting The Highest Average Rating?"
   ]
  },
  {
   "cell_type": "markdown",
   "id": "115bc297",
   "metadata": {
    "papermill": {
     "duration": 0.046076,
     "end_time": "2022-03-29T02:24:34.059274",
     "exception": false,
     "start_time": "2022-03-29T02:24:34.013198",
     "status": "completed"
    },
    "tags": []
   },
   "source": [
    "ART_AND_DESIGN"
   ]
  },
  {
   "cell_type": "code",
   "execution_count": 16,
   "id": "40e0cd7a",
   "metadata": {
    "execution": {
     "iopub.execute_input": "2022-03-29T02:24:34.158693Z",
     "iopub.status.busy": "2022-03-29T02:24:34.157967Z",
     "iopub.status.idle": "2022-03-29T02:24:34.167700Z",
     "shell.execute_reply": "2022-03-29T02:24:34.168326Z",
     "shell.execute_reply.started": "2022-03-29T02:01:30.591730Z"
    },
    "papermill": {
     "duration": 0.062609,
     "end_time": "2022-03-29T02:24:34.168499",
     "exception": false,
     "start_time": "2022-03-29T02:24:34.105890",
     "status": "completed"
    },
    "tags": []
   },
   "outputs": [
    {
     "data": {
      "text/plain": [
       "Category\n",
       "1.9                    19.0\n",
       "ART_AND_DESIGN          5.0\n",
       "AUTO_AND_VEHICLES       4.9\n",
       "BEAUTY                  4.9\n",
       "BOOKS_AND_REFERENCE     5.0\n",
       "BUSINESS                5.0\n",
       "COMICS                  5.0\n",
       "COMMUNICATION           5.0\n",
       "DATING                  5.0\n",
       "EDUCATION               4.9\n",
       "ENTERTAINMENT           4.7\n",
       "EVENTS                  5.0\n",
       "FAMILY                  5.0\n",
       "FINANCE                 5.0\n",
       "FOOD_AND_DRINK          5.0\n",
       "GAME                    5.0\n",
       "HEALTH_AND_FITNESS      5.0\n",
       "HOUSE_AND_HOME          4.8\n",
       "LIBRARIES_AND_DEMO      5.0\n",
       "LIFESTYLE               5.0\n",
       "MAPS_AND_NAVIGATION     4.9\n",
       "MEDICAL                 5.0\n",
       "NEWS_AND_MAGAZINES      5.0\n",
       "PARENTING               5.0\n",
       "PERSONALIZATION         5.0\n",
       "PHOTOGRAPHY             5.0\n",
       "PRODUCTIVITY            5.0\n",
       "SHOPPING                5.0\n",
       "SOCIAL                  5.0\n",
       "SPORTS                  5.0\n",
       "TOOLS                   5.0\n",
       "TRAVEL_AND_LOCAL        5.0\n",
       "VIDEO_PLAYERS           4.9\n",
       "WEATHER                 4.8\n",
       "Name: Rating, dtype: float64"
      ]
     },
     "execution_count": 16,
     "metadata": {},
     "output_type": "execute_result"
    }
   ],
   "source": [
    "data.groupby('Category')['Rating'].max()"
   ]
  },
  {
   "cell_type": "markdown",
   "id": "f1482ea3",
   "metadata": {
    "papermill": {
     "duration": 0.046853,
     "end_time": "2022-03-29T02:24:34.263265",
     "exception": false,
     "start_time": "2022-03-29T02:24:34.216412",
     "status": "completed"
    },
    "tags": []
   },
   "source": [
    "Total Number of App having 5 Star Rating"
   ]
  },
  {
   "cell_type": "code",
   "execution_count": 17,
   "id": "b0c28a63",
   "metadata": {
    "execution": {
     "iopub.execute_input": "2022-03-29T02:24:34.365611Z",
     "iopub.status.busy": "2022-03-29T02:24:34.364597Z",
     "iopub.status.idle": "2022-03-29T02:24:34.371707Z",
     "shell.execute_reply": "2022-03-29T02:24:34.372225Z",
     "shell.execute_reply.started": "2022-03-29T02:03:14.868409Z"
    },
    "papermill": {
     "duration": 0.058216,
     "end_time": "2022-03-29T02:24:34.372399",
     "exception": false,
     "start_time": "2022-03-29T02:24:34.314183",
     "status": "completed"
    },
    "tags": []
   },
   "outputs": [
    {
     "data": {
      "text/plain": [
       "274"
      ]
     },
     "execution_count": 17,
     "metadata": {},
     "output_type": "execute_result"
    }
   ],
   "source": [
    "len(data[data['Rating']==5])"
   ]
  },
  {
   "cell_type": "markdown",
   "id": "a36500a2",
   "metadata": {
    "papermill": {
     "duration": 0.047399,
     "end_time": "2022-03-29T02:24:34.467376",
     "exception": false,
     "start_time": "2022-03-29T02:24:34.419977",
     "status": "completed"
    },
    "tags": []
   },
   "source": [
    "Average Value of Reviews"
   ]
  },
  {
   "cell_type": "code",
   "execution_count": 18,
   "id": "142a6308",
   "metadata": {
    "execution": {
     "iopub.execute_input": "2022-03-29T02:24:34.592033Z",
     "iopub.status.busy": "2022-03-29T02:24:34.590942Z",
     "iopub.status.idle": "2022-03-29T02:24:34.596780Z",
     "shell.execute_reply": "2022-03-29T02:24:34.597493Z",
     "shell.execute_reply.started": "2022-03-29T02:04:58.886025Z"
    },
    "papermill": {
     "duration": 0.070037,
     "end_time": "2022-03-29T02:24:34.597734",
     "exception": false,
     "start_time": "2022-03-29T02:24:34.527697",
     "status": "completed"
    },
    "tags": []
   },
   "outputs": [
    {
     "data": {
      "text/plain": [
       "App                object\n",
       "Category           object\n",
       "Rating            float64\n",
       "Reviews            object\n",
       "Size               object\n",
       "Installs           object\n",
       "Type               object\n",
       "Price              object\n",
       "Content Rating     object\n",
       "Genres             object\n",
       "Last Updated       object\n",
       "Current Ver        object\n",
       "Android Ver        object\n",
       "dtype: object"
      ]
     },
     "execution_count": 18,
     "metadata": {},
     "output_type": "execute_result"
    }
   ],
   "source": [
    "data.dtypes"
   ]
  },
  {
   "cell_type": "code",
   "execution_count": 19,
   "id": "d5cd8323",
   "metadata": {
    "execution": {
     "iopub.execute_input": "2022-03-29T02:24:34.754801Z",
     "iopub.status.busy": "2022-03-29T02:24:34.753794Z",
     "iopub.status.idle": "2022-03-29T02:24:34.760043Z",
     "shell.execute_reply": "2022-03-29T02:24:34.760631Z",
     "shell.execute_reply.started": "2022-03-29T02:09:43.814165Z"
    },
    "papermill": {
     "duration": 0.086667,
     "end_time": "2022-03-29T02:24:34.760819",
     "exception": false,
     "start_time": "2022-03-29T02:24:34.674152",
     "status": "completed"
    },
    "tags": []
   },
   "outputs": [
    {
     "data": {
      "text/plain": [
       "10841"
      ]
     },
     "execution_count": 19,
     "metadata": {},
     "output_type": "execute_result"
    }
   ],
   "source": [
    "data['Reviews'].count()"
   ]
  },
  {
   "cell_type": "markdown",
   "id": "54baf561",
   "metadata": {
    "papermill": {
     "duration": 0.052217,
     "end_time": "2022-03-29T02:24:34.867685",
     "exception": false,
     "start_time": "2022-03-29T02:24:34.815468",
     "status": "completed"
    },
    "tags": []
   },
   "source": [
    "Total Number of Free and Paid Apps"
   ]
  },
  {
   "cell_type": "code",
   "execution_count": 20,
   "id": "8ae7fd6e",
   "metadata": {
    "execution": {
     "iopub.execute_input": "2022-03-29T02:24:34.982199Z",
     "iopub.status.busy": "2022-03-29T02:24:34.981482Z",
     "iopub.status.idle": "2022-03-29T02:24:34.989612Z",
     "shell.execute_reply": "2022-03-29T02:24:34.990267Z",
     "shell.execute_reply.started": "2022-03-29T02:11:01.680329Z"
    },
    "papermill": {
     "duration": 0.060117,
     "end_time": "2022-03-29T02:24:34.990446",
     "exception": false,
     "start_time": "2022-03-29T02:24:34.930329",
     "status": "completed"
    },
    "tags": []
   },
   "outputs": [
    {
     "data": {
      "text/plain": [
       "3"
      ]
     },
     "execution_count": 20,
     "metadata": {},
     "output_type": "execute_result"
    }
   ],
   "source": [
    "data['Type'].nunique()"
   ]
  },
  {
   "cell_type": "markdown",
   "id": "43fc9ecb",
   "metadata": {
    "papermill": {
     "duration": 0.049561,
     "end_time": "2022-03-29T02:24:35.090005",
     "exception": false,
     "start_time": "2022-03-29T02:24:35.040444",
     "status": "completed"
    },
    "tags": []
   },
   "source": [
    "3 types"
   ]
  },
  {
   "cell_type": "code",
   "execution_count": 21,
   "id": "6cc853db",
   "metadata": {
    "execution": {
     "iopub.execute_input": "2022-03-29T02:24:35.194380Z",
     "iopub.status.busy": "2022-03-29T02:24:35.193705Z",
     "iopub.status.idle": "2022-03-29T02:24:35.204297Z",
     "shell.execute_reply": "2022-03-29T02:24:35.204893Z",
     "shell.execute_reply.started": "2022-03-29T02:11:28.141938Z"
    },
    "papermill": {
     "duration": 0.064785,
     "end_time": "2022-03-29T02:24:35.205082",
     "exception": false,
     "start_time": "2022-03-29T02:24:35.140297",
     "status": "completed"
    },
    "tags": []
   },
   "outputs": [
    {
     "data": {
      "text/plain": [
       "Free    10039\n",
       "Paid      800\n",
       "0           1\n",
       "Name: Type, dtype: int64"
      ]
     },
     "execution_count": 21,
     "metadata": {},
     "output_type": "execute_result"
    }
   ],
   "source": [
    "data['Type'].value_counts()"
   ]
  },
  {
   "cell_type": "markdown",
   "id": "ea95c9ec",
   "metadata": {
    "papermill": {
     "duration": 0.049187,
     "end_time": "2022-03-29T02:24:35.304448",
     "exception": false,
     "start_time": "2022-03-29T02:24:35.255261",
     "status": "completed"
    },
    "tags": []
   },
   "source": [
    " App Has Maximum Reviews"
   ]
  },
  {
   "cell_type": "code",
   "execution_count": 22,
   "id": "eedd1e19",
   "metadata": {
    "execution": {
     "iopub.execute_input": "2022-03-29T02:24:35.411048Z",
     "iopub.status.busy": "2022-03-29T02:24:35.410157Z",
     "iopub.status.idle": "2022-03-29T02:24:35.433430Z",
     "shell.execute_reply": "2022-03-29T02:24:35.434267Z",
     "shell.execute_reply.started": "2022-03-29T02:14:22.485197Z"
    },
    "papermill": {
     "duration": 0.080541,
     "end_time": "2022-03-29T02:24:35.434469",
     "exception": false,
     "start_time": "2022-03-29T02:24:35.353928",
     "status": "completed"
    },
    "tags": []
   },
   "outputs": [
    {
     "data": {
      "text/plain": [
       "2989    9992\n",
       "4970     999\n",
       "2723    9975\n",
       "2705    9975\n",
       "3079    9971\n",
       "        ... \n",
       "7217       0\n",
       "6492       0\n",
       "7221       0\n",
       "5480       0\n",
       "4177       0\n",
       "Name: Reviews, Length: 10841, dtype: object"
      ]
     },
     "execution_count": 22,
     "metadata": {},
     "output_type": "execute_result"
    }
   ],
   "source": [
    "data['Reviews'].sort_values(ascending=False)"
   ]
  },
  {
   "cell_type": "code",
   "execution_count": null,
   "id": "090f85fb",
   "metadata": {
    "execution": {
     "iopub.execute_input": "2022-03-29T02:19:42.219056Z",
     "iopub.status.busy": "2022-03-29T02:19:42.218752Z",
     "iopub.status.idle": "2022-03-29T02:19:42.274126Z",
     "shell.execute_reply": "2022-03-29T02:19:42.273249Z",
     "shell.execute_reply.started": "2022-03-29T02:19:42.219026Z"
    },
    "papermill": {
     "duration": 0.049528,
     "end_time": "2022-03-29T02:24:35.535839",
     "exception": false,
     "start_time": "2022-03-29T02:24:35.486311",
     "status": "completed"
    },
    "tags": []
   },
   "outputs": [],
   "source": []
  },
  {
   "cell_type": "markdown",
   "id": "6ff53c36",
   "metadata": {
    "papermill": {
     "duration": 0.049465,
     "end_time": "2022-03-29T02:24:35.634713",
     "exception": false,
     "start_time": "2022-03-29T02:24:35.585248",
     "status": "completed"
    },
    "tags": []
   },
   "source": [
    " Top 5 Apps Having Highest Reviews"
   ]
  },
  {
   "cell_type": "code",
   "execution_count": 23,
   "id": "514de481",
   "metadata": {
    "execution": {
     "iopub.execute_input": "2022-03-29T02:24:35.748734Z",
     "iopub.status.busy": "2022-03-29T02:24:35.748013Z",
     "iopub.status.idle": "2022-03-29T02:24:35.755749Z",
     "shell.execute_reply": "2022-03-29T02:24:35.756260Z",
     "shell.execute_reply.started": "2022-03-29T02:23:18.209825Z"
    },
    "papermill": {
     "duration": 0.070539,
     "end_time": "2022-03-29T02:24:35.756433",
     "exception": false,
     "start_time": "2022-03-29T02:24:35.685894",
     "status": "completed"
    },
    "tags": []
   },
   "outputs": [
    {
     "data": {
      "text/plain": [
       "0         596\n",
       "1         272\n",
       "2         214\n",
       "3         175\n",
       "4         137\n",
       "         ... \n",
       "342912      1\n",
       "4272        1\n",
       "5517        1\n",
       "4057        1\n",
       "398307      1\n",
       "Name: Reviews, Length: 6002, dtype: int64"
      ]
     },
     "execution_count": 23,
     "metadata": {},
     "output_type": "execute_result"
    }
   ],
   "source": [
    "data['Reviews'].value_counts()"
   ]
  },
  {
   "cell_type": "markdown",
   "id": "2d362e57",
   "metadata": {
    "papermill": {
     "duration": 0.049733,
     "end_time": "2022-03-29T02:24:35.856597",
     "exception": false,
     "start_time": "2022-03-29T02:24:35.806864",
     "status": "completed"
    },
    "tags": []
   },
   "source": [
    " Average Rating of Free and Paid Apps"
   ]
  },
  {
   "cell_type": "code",
   "execution_count": null,
   "id": "d4aec332",
   "metadata": {
    "papermill": {
     "duration": 0.04961,
     "end_time": "2022-03-29T02:24:35.956525",
     "exception": false,
     "start_time": "2022-03-29T02:24:35.906915",
     "status": "completed"
    },
    "tags": []
   },
   "outputs": [],
   "source": []
  },
  {
   "cell_type": "markdown",
   "id": "bb3cdaa6",
   "metadata": {
    "papermill": {
     "duration": 0.050426,
     "end_time": "2022-03-29T02:24:36.056797",
     "exception": false,
     "start_time": "2022-03-29T02:24:36.006371",
     "status": "completed"
    },
    "tags": []
   },
   "source": [
    "Top  5 Apps Having Maximum Installs"
   ]
  },
  {
   "cell_type": "code",
   "execution_count": null,
   "id": "a0017aec",
   "metadata": {
    "papermill": {
     "duration": 0.050479,
     "end_time": "2022-03-29T02:24:36.157738",
     "exception": false,
     "start_time": "2022-03-29T02:24:36.107259",
     "status": "completed"
    },
    "tags": []
   },
   "outputs": [],
   "source": []
  },
  {
   "cell_type": "code",
   "execution_count": null,
   "id": "70557680",
   "metadata": {
    "papermill": {
     "duration": 0.049839,
     "end_time": "2022-03-29T02:24:36.257672",
     "exception": false,
     "start_time": "2022-03-29T02:24:36.207833",
     "status": "completed"
    },
    "tags": []
   },
   "outputs": [],
   "source": []
  },
  {
   "cell_type": "code",
   "execution_count": null,
   "id": "775cfb6e",
   "metadata": {
    "papermill": {
     "duration": 0.049939,
     "end_time": "2022-03-29T02:24:36.358149",
     "exception": false,
     "start_time": "2022-03-29T02:24:36.308210",
     "status": "completed"
    },
    "tags": []
   },
   "outputs": [],
   "source": []
  },
  {
   "cell_type": "code",
   "execution_count": null,
   "id": "7575274f",
   "metadata": {
    "papermill": {
     "duration": 0.049576,
     "end_time": "2022-03-29T02:24:36.457640",
     "exception": false,
     "start_time": "2022-03-29T02:24:36.408064",
     "status": "completed"
    },
    "tags": []
   },
   "outputs": [],
   "source": []
  },
  {
   "cell_type": "code",
   "execution_count": null,
   "id": "c9f79356",
   "metadata": {
    "papermill": {
     "duration": 0.050198,
     "end_time": "2022-03-29T02:24:36.558217",
     "exception": false,
     "start_time": "2022-03-29T02:24:36.508019",
     "status": "completed"
    },
    "tags": []
   },
   "outputs": [],
   "source": []
  }
 ],
 "metadata": {
  "kernelspec": {
   "display_name": "Python 3",
   "language": "python",
   "name": "python3"
  },
  "language_info": {
   "codemirror_mode": {
    "name": "ipython",
    "version": 3
   },
   "file_extension": ".py",
   "mimetype": "text/x-python",
   "name": "python",
   "nbconvert_exporter": "python",
   "pygments_lexer": "ipython3",
   "version": "3.7.12"
  },
  "papermill": {
   "default_parameters": {},
   "duration": 17.479832,
   "end_time": "2022-03-29T02:24:37.420929",
   "environment_variables": {},
   "exception": null,
   "input_path": "__notebook__.ipynb",
   "output_path": "__notebook__.ipynb",
   "parameters": {},
   "start_time": "2022-03-29T02:24:19.941097",
   "version": "2.3.3"
  }
 },
 "nbformat": 4,
 "nbformat_minor": 5
}
