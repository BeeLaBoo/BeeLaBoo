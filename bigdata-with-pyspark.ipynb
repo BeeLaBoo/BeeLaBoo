{
 "cells": [
  {
   "cell_type": "code",
   "execution_count": 1,
   "id": "4866784a",
   "metadata": {
    "execution": {
     "iopub.execute_input": "2022-03-30T20:07:38.708738Z",
     "iopub.status.busy": "2022-03-30T20:07:38.707534Z",
     "iopub.status.idle": "2022-03-30T20:07:38.716306Z",
     "shell.execute_reply": "2022-03-30T20:07:38.716877Z",
     "shell.execute_reply.started": "2022-03-30T19:45:05.002731Z"
    },
    "id": "vPQuBGOgaZrG",
    "papermill": {
     "duration": 0.068902,
     "end_time": "2022-03-30T20:07:38.717206",
     "exception": false,
     "start_time": "2022-03-30T20:07:38.648304",
     "status": "completed"
    },
    "tags": []
   },
   "outputs": [],
   "source": [
    "import pandas as pd\n"
   ]
  },
  {
   "cell_type": "markdown",
   "id": "01a55d15",
   "metadata": {
    "id": "gdDCvoFSl_2n",
    "papermill": {
     "duration": 0.052031,
     "end_time": "2022-03-30T20:07:38.820714",
     "exception": false,
     "start_time": "2022-03-30T20:07:38.768683",
     "status": "completed"
    },
    "tags": []
   },
   "source": [
    "\n",
    "\n",
    "\n",
    "*****Questions:*****\n",
    "\n",
    "1. Display Top 3 Rows of The \n",
    "\n",
    "2. Display Datatype of Each Column\n",
    "3. Display Column Names\n",
    "4. Count Number of Rows and Columns of The dataset\n",
    "5.Get Overall Statistics About The Dataset\n",
    "6.Find Unique Values Available in the Gender column\n",
    "7.Find the Total Number of Unique Values Available in the Gender column\n",
    "8.How Select Single Column?\n",
    "9.How Select Multiple Columns?\n",
    "10. Create New Column  ::: With  + 1 \n",
    "And Also Update Existing DataFrame\n",
    "11. Rename Name Column And Give New Name \n",
    "12. Display Name of customers who having ...( this condition***)...\n",
    "13.Display Name & Gender of the customers who having ...( this condition***)...\n",
    "14.Display Name of The Female customers who having ...( this condition***)...\n",
    "15.Display Name of The Male customers who having ...( this condition***)...\n",
    "16. Display Average value separate by gender\n",
    "\n",
    "*** set the condition that I want to explore ***\n",
    "\n"
   ]
  },
  {
   "cell_type": "code",
   "execution_count": 2,
   "id": "827c09b1",
   "metadata": {
    "execution": {
     "iopub.execute_input": "2022-03-30T20:07:38.921849Z",
     "iopub.status.busy": "2022-03-30T20:07:38.921177Z",
     "iopub.status.idle": "2022-03-30T20:08:24.914824Z",
     "shell.execute_reply": "2022-03-30T20:08:24.915537Z",
     "shell.execute_reply.started": "2022-03-30T19:45:05.028008Z"
    },
    "id": "Lrc6jSctdY__",
    "outputId": "b747f9c6-0e2d-4d8a-adc5-2c4a91a47358",
    "papermill": {
     "duration": 46.04594,
     "end_time": "2022-03-30T20:08:24.915973",
     "exception": false,
     "start_time": "2022-03-30T20:07:38.870033",
     "status": "completed"
    },
    "tags": []
   },
   "outputs": [
    {
     "name": "stdout",
     "output_type": "stream",
     "text": [
      "Collecting pyspark\r\n",
      "  Downloading pyspark-3.2.1.tar.gz (281.4 MB)\r\n",
      "     |████████████████████████████████| 281.4 MB 33 kB/s               \r\n",
      "\u001b[?25h  Preparing metadata (setup.py) ... \u001b[?25l-\b \b\\\b \bdone\r\n",
      "\u001b[?25hCollecting py4j==0.10.9.3\r\n",
      "  Downloading py4j-0.10.9.3-py2.py3-none-any.whl (198 kB)\r\n",
      "     |████████████████████████████████| 198 kB 71.0 MB/s            \r\n",
      "\u001b[?25hBuilding wheels for collected packages: pyspark\r\n",
      "  Building wheel for pyspark (setup.py) ... \u001b[?25l-\b \b\\\b \b|\b \b/\b \b-\b \b\\\b \b|\b \b/\b \b-\b \b\\\b \b|\b \b/\b \b-\b \b\\\b \b|\b \b/\b \b-\b \b\\\b \b|\b \b/\b \b-\b \b\\\b \b|\b \b/\b \b-\b \b\\\b \b|\b \b/\b \b-\b \b\\\b \b|\b \b/\b \b-\b \b\\\b \b|\b \b/\b \b-\b \b\\\b \b|\b \b/\b \b-\b \b\\\b \b|\b \b/\b \b-\b \b\\\b \b|\b \b/\b \b-\b \b\\\b \b|\b \b/\b \b-\b \b\\\b \b|\b \b/\b \b-\b \b\\\b \bdone\r\n",
      "\u001b[?25h  Created wheel for pyspark: filename=pyspark-3.2.1-py2.py3-none-any.whl size=281853642 sha256=096ee8107e2f6db9dc995037f14da3cb68da1d0dde464d61b76785e64fae0c80\r\n",
      "  Stored in directory: /root/.cache/pip/wheels/9f/f5/07/7cd8017084dce4e93e84e92efd1e1d5334db05f2e83bcef74f\r\n",
      "Successfully built pyspark\r\n",
      "Installing collected packages: py4j, pyspark\r\n",
      "  Attempting uninstall: py4j\r\n",
      "    Found existing installation: py4j 0.10.9.4\r\n",
      "    Uninstalling py4j-0.10.9.4:\r\n",
      "      Successfully uninstalled py4j-0.10.9.4\r\n",
      "Successfully installed py4j-0.10.9.3 pyspark-3.2.1\r\n",
      "\u001b[33mWARNING: Running pip as the 'root' user can result in broken permissions and conflicting behaviour with the system package manager. It is recommended to use a virtual environment instead: https://pip.pypa.io/warnings/venv\u001b[0m\r\n"
     ]
    }
   ],
   "source": [
    "!pip install pyspark"
   ]
  },
  {
   "cell_type": "code",
   "execution_count": 3,
   "id": "7b14f3ed",
   "metadata": {
    "execution": {
     "iopub.execute_input": "2022-03-30T20:08:25.311887Z",
     "iopub.status.busy": "2022-03-30T20:08:25.310813Z",
     "iopub.status.idle": "2022-03-30T20:08:25.363875Z",
     "shell.execute_reply": "2022-03-30T20:08:25.363270Z",
     "shell.execute_reply.started": "2022-03-30T19:46:17.740790Z"
    },
    "id": "JV6bxvUAervS",
    "papermill": {
     "duration": 0.248835,
     "end_time": "2022-03-30T20:08:25.364037",
     "exception": false,
     "start_time": "2022-03-30T20:08:25.115202",
     "status": "completed"
    },
    "tags": []
   },
   "outputs": [],
   "source": [
    "from pyspark.sql import SparkSession"
   ]
  },
  {
   "cell_type": "code",
   "execution_count": 4,
   "id": "90671d58",
   "metadata": {
    "execution": {
     "iopub.execute_input": "2022-03-30T20:08:25.732057Z",
     "iopub.status.busy": "2022-03-30T20:08:25.731219Z",
     "iopub.status.idle": "2022-03-30T20:08:32.375561Z",
     "shell.execute_reply": "2022-03-30T20:08:32.374821Z",
     "shell.execute_reply.started": "2022-03-30T19:46:21.958265Z"
    },
    "id": "DWZMUf1CgcEt",
    "papermill": {
     "duration": 6.828383,
     "end_time": "2022-03-30T20:08:32.375719",
     "exception": false,
     "start_time": "2022-03-30T20:08:25.547336",
     "status": "completed"
    },
    "tags": []
   },
   "outputs": [
    {
     "name": "stderr",
     "output_type": "stream",
     "text": [
      "WARNING: An illegal reflective access operation has occurred\n",
      "WARNING: Illegal reflective access by org.apache.spark.unsafe.Platform (file:/opt/conda/lib/python3.7/site-packages/pyspark/jars/spark-unsafe_2.12-3.2.1.jar) to constructor java.nio.DirectByteBuffer(long,int)\n",
      "WARNING: Please consider reporting this to the maintainers of org.apache.spark.unsafe.Platform\n",
      "WARNING: Use --illegal-access=warn to enable warnings of further illegal reflective access operations\n",
      "WARNING: All illegal access operations will be denied in a future release\n",
      "Using Spark's default log4j profile: org/apache/spark/log4j-defaults.properties\n",
      "Setting default log level to \"WARN\".\n",
      "To adjust logging level use sc.setLogLevel(newLevel). For SparkR, use setLogLevel(newLevel).\n",
      "22/03/30 20:08:28 WARN NativeCodeLoader: Unable to load native-hadoop library for your platform... using builtin-java classes where applicable\n"
     ]
    }
   ],
   "source": [
    "spark = SparkSession.builder.appName('Pyspark').getOrCreate()"
   ]
  },
  {
   "cell_type": "markdown",
   "id": "26bae653",
   "metadata": {
    "id": "wAlFBVCPnMnj",
    "papermill": {
     "duration": 0.241457,
     "end_time": "2022-03-30T20:08:32.891155",
     "exception": false,
     "start_time": "2022-03-30T20:08:32.649698",
     "status": "completed"
    },
    "tags": []
   },
   "source": [
    "Now spark session excuted successfully"
   ]
  },
  {
   "cell_type": "code",
   "execution_count": 5,
   "id": "29b941b8",
   "metadata": {
    "execution": {
     "iopub.execute_input": "2022-03-30T20:08:33.270037Z",
     "iopub.status.busy": "2022-03-30T20:08:33.268297Z",
     "iopub.status.idle": "2022-03-30T20:08:33.282192Z",
     "shell.execute_reply": "2022-03-30T20:08:33.282953Z",
     "shell.execute_reply.started": "2022-03-30T19:46:25.113427Z"
    },
    "id": "_paLYRf7nJSU",
    "outputId": "b54af7e2-574c-4108-dd56-449daaa58bc4",
    "papermill": {
     "duration": 0.204538,
     "end_time": "2022-03-30T20:08:33.283209",
     "exception": false,
     "start_time": "2022-03-30T20:08:33.078671",
     "status": "completed"
    },
    "tags": []
   },
   "outputs": [
    {
     "data": {
      "text/html": [
       "\n",
       "            <div>\n",
       "                <p><b>SparkSession - in-memory</b></p>\n",
       "                \n",
       "        <div>\n",
       "            <p><b>SparkContext</b></p>\n",
       "\n",
       "            <p><a href=\"http://797395e497f2:4040\">Spark UI</a></p>\n",
       "\n",
       "            <dl>\n",
       "              <dt>Version</dt>\n",
       "                <dd><code>v3.2.1</code></dd>\n",
       "              <dt>Master</dt>\n",
       "                <dd><code>local[*]</code></dd>\n",
       "              <dt>AppName</dt>\n",
       "                <dd><code>Pyspark</code></dd>\n",
       "            </dl>\n",
       "        </div>\n",
       "        \n",
       "            </div>\n",
       "        "
      ],
      "text/plain": [
       "<pyspark.sql.session.SparkSession at 0x7f46516b4950>"
      ]
     },
     "execution_count": 5,
     "metadata": {},
     "output_type": "execute_result"
    }
   ],
   "source": [
    "spark"
   ]
  },
  {
   "cell_type": "code",
   "execution_count": 6,
   "id": "e06871bc",
   "metadata": {
    "execution": {
     "iopub.execute_input": "2022-03-30T20:08:33.646430Z",
     "iopub.status.busy": "2022-03-30T20:08:33.645721Z",
     "iopub.status.idle": "2022-03-30T20:08:40.021113Z",
     "shell.execute_reply": "2022-03-30T20:08:40.019624Z",
     "shell.execute_reply.started": "2022-03-30T19:46:27.487553Z"
    },
    "id": "bgTk1iNHpeRs",
    "papermill": {
     "duration": 6.558635,
     "end_time": "2022-03-30T20:08:40.021328",
     "exception": false,
     "start_time": "2022-03-30T20:08:33.462693",
     "status": "completed"
    },
    "tags": []
   },
   "outputs": [
    {
     "name": "stderr",
     "output_type": "stream",
     "text": [
      "                                                                                \r"
     ]
    }
   ],
   "source": [
    "df = spark.read.csv('../input/superstore/Sample - Superstore.csv',header = True, inferSchema = True)\n",
    "\n",
    "#header = true : to remove the spark auto generate header (c1...c15)"
   ]
  },
  {
   "cell_type": "markdown",
   "id": "c2cea500",
   "metadata": {
    "id": "qZkmAWhnpvUZ",
    "papermill": {
     "duration": 0.178087,
     "end_time": "2022-03-30T20:08:40.420808",
     "exception": false,
     "start_time": "2022-03-30T20:08:40.242721",
     "status": "completed"
    },
    "tags": []
   },
   "source": [
    "copy path from dataset csv file and paste"
   ]
  },
  {
   "cell_type": "code",
   "execution_count": 7,
   "id": "bbd90568",
   "metadata": {
    "execution": {
     "iopub.execute_input": "2022-03-30T20:08:40.785247Z",
     "iopub.status.busy": "2022-03-30T20:08:40.784505Z",
     "iopub.status.idle": "2022-03-30T20:08:41.361958Z",
     "shell.execute_reply": "2022-03-30T20:08:41.363578Z",
     "shell.execute_reply.started": "2022-03-30T19:46:04.025375Z"
    },
    "id": "EfK8v056p4dk",
    "outputId": "115c3646-56f2-45d7-98f9-bc920951bd79",
    "papermill": {
     "duration": 0.769424,
     "end_time": "2022-03-30T20:08:41.364140",
     "exception": false,
     "start_time": "2022-03-30T20:08:40.594716",
     "status": "completed"
    },
    "tags": []
   },
   "outputs": [
    {
     "name": "stdout",
     "output_type": "stream",
     "text": [
      "+------+--------------+----------+----------+------------+-----------+---------------+---------+-------------+-----------+----------+-----------+------+---------------+---------------+------------+--------------------+------+--------+--------+-------+\n",
      "|Row ID|      Order ID|Order Date| Ship Date|   Ship Mode|Customer ID|  Customer Name|  Segment|      Country|       City|     State|Postal Code|Region|     Product ID|       Category|Sub-Category|        Product Name| Sales|Quantity|Discount| Profit|\n",
      "+------+--------------+----------+----------+------------+-----------+---------------+---------+-------------+-----------+----------+-----------+------+---------------+---------------+------------+--------------------+------+--------+--------+-------+\n",
      "|     1|CA-2016-152156| 11/8/2016|11/11/2016|Second Class|   CG-12520|    Claire Gute| Consumer|United States|  Henderson|  Kentucky|      42420| South|FUR-BO-10001798|      Furniture|   Bookcases|Bush Somerset Col...|261.96|       2|       0|41.9136|\n",
      "|     2|CA-2016-152156| 11/8/2016|11/11/2016|Second Class|   CG-12520|    Claire Gute| Consumer|United States|  Henderson|  Kentucky|      42420| South|FUR-CH-10000454|      Furniture|      Chairs|Hon Deluxe Fabric...|731.94|       3|       0|219.582|\n",
      "|     3|CA-2016-138688| 6/12/2016| 6/16/2016|Second Class|   DV-13045|Darrin Van Huff|Corporate|United States|Los Angeles|California|      90036|  West|OFF-LA-10000240|Office Supplies|      Labels|Self-Adhesive Add...| 14.62|       2|       0| 6.8714|\n",
      "+------+--------------+----------+----------+------------+-----------+---------------+---------+-------------+-----------+----------+-----------+------+---------------+---------------+------------+--------------------+------+--------+--------+-------+\n",
      "only showing top 3 rows\n",
      "\n"
     ]
    }
   ],
   "source": [
    "df.show(3)\n",
    "\n",
    "# show top 3 row"
   ]
  },
  {
   "cell_type": "code",
   "execution_count": 8,
   "id": "9f4bc434",
   "metadata": {
    "execution": {
     "iopub.execute_input": "2022-03-30T20:08:41.951365Z",
     "iopub.status.busy": "2022-03-30T20:08:41.950341Z",
     "iopub.status.idle": "2022-03-30T20:08:41.959883Z",
     "shell.execute_reply": "2022-03-30T20:08:41.960729Z",
     "shell.execute_reply.started": "2022-03-30T19:46:30.097587Z"
    },
    "id": "E016t-oarSnk",
    "outputId": "c76728c2-d418-438c-a17d-daf76e33ff60",
    "papermill": {
     "duration": 0.294125,
     "end_time": "2022-03-30T20:08:41.960980",
     "exception": false,
     "start_time": "2022-03-30T20:08:41.666855",
     "status": "completed"
    },
    "tags": []
   },
   "outputs": [
    {
     "name": "stdout",
     "output_type": "stream",
     "text": [
      "root\n",
      " |-- Row ID: integer (nullable = true)\n",
      " |-- Order ID: string (nullable = true)\n",
      " |-- Order Date: string (nullable = true)\n",
      " |-- Ship Date: string (nullable = true)\n",
      " |-- Ship Mode: string (nullable = true)\n",
      " |-- Customer ID: string (nullable = true)\n",
      " |-- Customer Name: string (nullable = true)\n",
      " |-- Segment: string (nullable = true)\n",
      " |-- Country: string (nullable = true)\n",
      " |-- City: string (nullable = true)\n",
      " |-- State: string (nullable = true)\n",
      " |-- Postal Code: integer (nullable = true)\n",
      " |-- Region: string (nullable = true)\n",
      " |-- Product ID: string (nullable = true)\n",
      " |-- Category: string (nullable = true)\n",
      " |-- Sub-Category: string (nullable = true)\n",
      " |-- Product Name: string (nullable = true)\n",
      " |-- Sales: string (nullable = true)\n",
      " |-- Quantity: string (nullable = true)\n",
      " |-- Discount: string (nullable = true)\n",
      " |-- Profit: double (nullable = true)\n",
      "\n"
     ]
    }
   ],
   "source": [
    "## datatype \n",
    "df.printSchema()"
   ]
  },
  {
   "cell_type": "markdown",
   "id": "8dc60c63",
   "metadata": {
    "id": "Vq9Lv8Ubs86G",
    "papermill": {
     "duration": 0.177574,
     "end_time": "2022-03-30T20:08:42.324937",
     "exception": false,
     "start_time": "2022-03-30T20:08:42.147363",
     "status": "completed"
    },
    "tags": []
   },
   "source": [
    "it is set by default : all string data type"
   ]
  },
  {
   "cell_type": "code",
   "execution_count": 9,
   "id": "9b4a082b",
   "metadata": {
    "execution": {
     "iopub.execute_input": "2022-03-30T20:08:42.684737Z",
     "iopub.status.busy": "2022-03-30T20:08:42.683664Z",
     "iopub.status.idle": "2022-03-30T20:08:42.686361Z",
     "shell.execute_reply": "2022-03-30T20:08:42.685736Z",
     "shell.execute_reply.started": "2022-03-30T19:46:32.972774Z"
    },
    "id": "LlaZGAlusBJc",
    "papermill": {
     "duration": 0.18432,
     "end_time": "2022-03-30T20:08:42.686511",
     "exception": false,
     "start_time": "2022-03-30T20:08:42.502191",
     "status": "completed"
    },
    "tags": []
   },
   "outputs": [],
   "source": [
    "## have to add ' inferSchema = True ' : on read csv code"
   ]
  },
  {
   "cell_type": "code",
   "execution_count": 10,
   "id": "b9d82778",
   "metadata": {
    "execution": {
     "iopub.execute_input": "2022-03-30T20:08:43.089846Z",
     "iopub.status.busy": "2022-03-30T20:08:43.089097Z",
     "iopub.status.idle": "2022-03-30T20:08:43.092244Z",
     "shell.execute_reply": "2022-03-30T20:08:43.092812Z",
     "shell.execute_reply.started": "2022-03-30T19:46:34.669194Z"
    },
    "id": "wYky2oHjtdJS",
    "outputId": "e897e0d4-feff-4610-a91e-5a024ecc6493",
    "papermill": {
     "duration": 0.225783,
     "end_time": "2022-03-30T20:08:43.092999",
     "exception": false,
     "start_time": "2022-03-30T20:08:42.867216",
     "status": "completed"
    },
    "tags": []
   },
   "outputs": [
    {
     "name": "stdout",
     "output_type": "stream",
     "text": [
      "root\n",
      " |-- Row ID: integer (nullable = true)\n",
      " |-- Order ID: string (nullable = true)\n",
      " |-- Order Date: string (nullable = true)\n",
      " |-- Ship Date: string (nullable = true)\n",
      " |-- Ship Mode: string (nullable = true)\n",
      " |-- Customer ID: string (nullable = true)\n",
      " |-- Customer Name: string (nullable = true)\n",
      " |-- Segment: string (nullable = true)\n",
      " |-- Country: string (nullable = true)\n",
      " |-- City: string (nullable = true)\n",
      " |-- State: string (nullable = true)\n",
      " |-- Postal Code: integer (nullable = true)\n",
      " |-- Region: string (nullable = true)\n",
      " |-- Product ID: string (nullable = true)\n",
      " |-- Category: string (nullable = true)\n",
      " |-- Sub-Category: string (nullable = true)\n",
      " |-- Product Name: string (nullable = true)\n",
      " |-- Sales: string (nullable = true)\n",
      " |-- Quantity: string (nullable = true)\n",
      " |-- Discount: string (nullable = true)\n",
      " |-- Profit: double (nullable = true)\n",
      "\n"
     ]
    }
   ],
   "source": [
    "df.printSchema()"
   ]
  },
  {
   "cell_type": "code",
   "execution_count": 11,
   "id": "9234a470",
   "metadata": {
    "execution": {
     "iopub.execute_input": "2022-03-30T20:08:43.453182Z",
     "iopub.status.busy": "2022-03-30T20:08:43.451654Z",
     "iopub.status.idle": "2022-03-30T20:08:43.479640Z",
     "shell.execute_reply": "2022-03-30T20:08:43.480150Z",
     "shell.execute_reply.started": "2022-03-30T19:46:04.687221Z"
    },
    "id": "79Yg8WELtmT9",
    "outputId": "fff4dc5f-b1f3-414c-c87d-dd9d003b5f62",
    "papermill": {
     "duration": 0.208659,
     "end_time": "2022-03-30T20:08:43.480343",
     "exception": false,
     "start_time": "2022-03-30T20:08:43.271684",
     "status": "completed"
    },
    "tags": []
   },
   "outputs": [
    {
     "data": {
      "text/plain": [
       "['Row ID',\n",
       " 'Order ID',\n",
       " 'Order Date',\n",
       " 'Ship Date',\n",
       " 'Ship Mode',\n",
       " 'Customer ID',\n",
       " 'Customer Name',\n",
       " 'Segment',\n",
       " 'Country',\n",
       " 'City',\n",
       " 'State',\n",
       " 'Postal Code',\n",
       " 'Region',\n",
       " 'Product ID',\n",
       " 'Category',\n",
       " 'Sub-Category',\n",
       " 'Product Name',\n",
       " 'Sales',\n",
       " 'Quantity',\n",
       " 'Discount',\n",
       " 'Profit']"
      ]
     },
     "execution_count": 11,
     "metadata": {},
     "output_type": "execute_result"
    }
   ],
   "source": [
    "df.columns"
   ]
  },
  {
   "cell_type": "code",
   "execution_count": 12,
   "id": "a0781326",
   "metadata": {
    "execution": {
     "iopub.execute_input": "2022-03-30T20:08:43.850693Z",
     "iopub.status.busy": "2022-03-30T20:08:43.849834Z",
     "iopub.status.idle": "2022-03-30T20:08:44.615100Z",
     "shell.execute_reply": "2022-03-30T20:08:44.613986Z",
     "shell.execute_reply.started": "2022-03-30T19:46:04.720381Z"
    },
    "id": "4mX8dn2CtoFT",
    "outputId": "50af8a26-4240-41be-a3a1-231e497f9cf8",
    "papermill": {
     "duration": 0.947907,
     "end_time": "2022-03-30T20:08:44.615318",
     "exception": false,
     "start_time": "2022-03-30T20:08:43.667411",
     "status": "completed"
    },
    "tags": []
   },
   "outputs": [
    {
     "data": {
      "text/plain": [
       "9994"
      ]
     },
     "execution_count": 12,
     "metadata": {},
     "output_type": "execute_result"
    }
   ],
   "source": [
    "df.count()\n",
    "\n",
    "# no. of rows"
   ]
  },
  {
   "cell_type": "code",
   "execution_count": 13,
   "id": "daf4d985",
   "metadata": {
    "execution": {
     "iopub.execute_input": "2022-03-30T20:08:45.029948Z",
     "iopub.status.busy": "2022-03-30T20:08:45.029276Z",
     "iopub.status.idle": "2022-03-30T20:08:45.032969Z",
     "shell.execute_reply": "2022-03-30T20:08:45.032461Z",
     "shell.execute_reply.started": "2022-03-30T19:46:05.508668Z"
    },
    "id": "YKrlTIkotxRM",
    "outputId": "7d502d20-dbbe-4bb5-bbd4-2c3710115a2f",
    "papermill": {
     "duration": 0.19838,
     "end_time": "2022-03-30T20:08:45.033128",
     "exception": false,
     "start_time": "2022-03-30T20:08:44.834748",
     "status": "completed"
    },
    "tags": []
   },
   "outputs": [
    {
     "data": {
      "text/plain": [
       "21"
      ]
     },
     "execution_count": 13,
     "metadata": {},
     "output_type": "execute_result"
    }
   ],
   "source": [
    "len(df.columns)\n",
    "\n",
    "# no.of columns"
   ]
  },
  {
   "cell_type": "code",
   "execution_count": 14,
   "id": "1a0b6196",
   "metadata": {
    "execution": {
     "iopub.execute_input": "2022-03-30T20:08:45.391911Z",
     "iopub.status.busy": "2022-03-30T20:08:45.391264Z",
     "iopub.status.idle": "2022-03-30T20:08:49.218258Z",
     "shell.execute_reply": "2022-03-30T20:08:49.219181Z",
     "shell.execute_reply.started": "2022-03-30T19:46:37.892766Z"
    },
    "id": "wMpvgTydt-g8",
    "outputId": "ae38dbda-38b3-4903-dc01-3a2ee60286e6",
    "papermill": {
     "duration": 4.010535,
     "end_time": "2022-03-30T20:08:49.219443",
     "exception": false,
     "start_time": "2022-03-30T20:08:45.208908",
     "status": "completed"
    },
    "tags": []
   },
   "outputs": [
    {
     "name": "stderr",
     "output_type": "stream",
     "text": [
      "[Stage 6:>                                                          (0 + 1) / 1]\r"
     ]
    },
    {
     "name": "stdout",
     "output_type": "stream",
     "text": [
      "+-------+------------------+--------------+----------+---------+--------------+-----------+------------------+-----------+-------------+--------+-------+------------------+-------+---------------+----------+------------+--------------------+------------------+------------------+------------------+------------------+\n",
      "|summary|            Row ID|      Order ID|Order Date|Ship Date|     Ship Mode|Customer ID|     Customer Name|    Segment|      Country|    City|  State|       Postal Code| Region|     Product ID|  Category|Sub-Category|        Product Name|             Sales|          Quantity|          Discount|            Profit|\n",
      "+-------+------------------+--------------+----------+---------+--------------+-----------+------------------+-----------+-------------+--------+-------+------------------+-------+---------------+----------+------------+--------------------+------------------+------------------+------------------+------------------+\n",
      "|  count|              9994|          9994|      9994|     9994|          9994|       9994|              9994|       9994|         9994|    9994|   9994|              9994|   9994|           9994|      9994|        9994|                9994|              9994|              9994|              9994|              9994|\n",
      "|   mean|            4997.5|          null|      null|     null|          null|       null|              null|       null|         null|    null|   null|  55190.3794276566|   null|           null|      null|        null|                null|234.41818199917006| 5.828590535392018|0.3155949113492862|28.587912967780834|\n",
      "| stddev|2885.1636290974325|          null|      null|     null|          null|       null|              null|       null|         null|    null|   null|32063.693350364487|   null|           null|      null|        null|                null| 631.7890112674363|25.520975563736403| 3.314008629792499| 234.3891156047269|\n",
      "|    min|                 1|CA-2014-100006|  1/1/2017| 1/1/2015|   First Class|   AA-10315|     Aaron Bergman|   Consumer|United States|Aberdeen|Alabama|              1040|Central|FUR-BO-10000112| Furniture| Accessories|\"\"\"While you Were...|          10/Pack\"|      1040 sheets\"|           30/Box\"|         -6599.978|\n",
      "|    max|              9994|US-2017-169551|  9/9/2017| 9/9/2017|Standard Class|   ZD-21925|Zuschuss Donatelli|Home Office|United States|    Yuma|Wyoming|             99301|   West|TEC-PH-10004977|Technology|      Tables|netTALK DUO VoIP ...|            999.98|            98.352|            98.352|          8399.976|\n",
      "+-------+------------------+--------------+----------+---------+--------------+-----------+------------------+-----------+-------------+--------+-------+------------------+-------+---------------+----------+------------+--------------------+------------------+------------------+------------------+------------------+\n",
      "\n"
     ]
    },
    {
     "name": "stderr",
     "output_type": "stream",
     "text": [
      "                                                                                \r"
     ]
    }
   ],
   "source": [
    "## stat\n",
    "df.describe().show()"
   ]
  },
  {
   "cell_type": "markdown",
   "id": "887c7bb7",
   "metadata": {
    "id": "TXYhIjrHve_1",
    "papermill": {
     "duration": 0.1883,
     "end_time": "2022-03-30T20:08:49.710486",
     "exception": false,
     "start_time": "2022-03-30T20:08:49.522186",
     "status": "completed"
    },
    "tags": []
   },
   "source": [
    "**toPandas()** method"
   ]
  },
  {
   "cell_type": "code",
   "execution_count": 15,
   "id": "084a4b35",
   "metadata": {
    "execution": {
     "iopub.execute_input": "2022-03-30T20:08:50.081692Z",
     "iopub.status.busy": "2022-03-30T20:08:50.080922Z",
     "iopub.status.idle": "2022-03-30T20:08:51.213895Z",
     "shell.execute_reply": "2022-03-30T20:08:51.213067Z",
     "shell.execute_reply.started": "2022-03-30T19:46:09.248964Z"
    },
    "id": "ruO2mdX6uYF9",
    "outputId": "5fc527bc-c0b4-4f46-f1d0-5e4e94fcc12c",
    "papermill": {
     "duration": 1.321193,
     "end_time": "2022-03-30T20:08:51.214126",
     "exception": false,
     "start_time": "2022-03-30T20:08:49.892933",
     "status": "completed"
    },
    "tags": []
   },
   "outputs": [
    {
     "data": {
      "text/plain": [
       "4"
      ]
     },
     "execution_count": 15,
     "metadata": {},
     "output_type": "execute_result"
    }
   ],
   "source": [
    "# count unique value of variable 'Region'\n",
    "\n",
    "# convert spark dataframe to pandas dataframe\n",
    "\n",
    "df.toPandas()['Region'].nunique()"
   ]
  },
  {
   "cell_type": "code",
   "execution_count": 16,
   "id": "9d96b79b",
   "metadata": {
    "execution": {
     "iopub.execute_input": "2022-03-30T20:08:51.578354Z",
     "iopub.status.busy": "2022-03-30T20:08:51.577330Z",
     "iopub.status.idle": "2022-03-30T20:08:52.232623Z",
     "shell.execute_reply": "2022-03-30T20:08:52.233294Z",
     "shell.execute_reply.started": "2022-03-30T19:46:10.414445Z"
    },
    "id": "BIQxXrw3vKod",
    "outputId": "39953ff8-82f3-470a-e1a5-07e8560cae8d",
    "papermill": {
     "duration": 0.837406,
     "end_time": "2022-03-30T20:08:52.233476",
     "exception": false,
     "start_time": "2022-03-30T20:08:51.396070",
     "status": "completed"
    },
    "tags": []
   },
   "outputs": [
    {
     "data": {
      "text/plain": [
       "4"
      ]
     },
     "execution_count": 16,
     "metadata": {},
     "output_type": "execute_result"
    }
   ],
   "source": [
    "len(df.toPandas()['Region'].unique())"
   ]
  },
  {
   "cell_type": "markdown",
   "id": "4b278ea0",
   "metadata": {
    "id": "OYSBRpiEvTEr",
    "papermill": {
     "duration": 0.176983,
     "end_time": "2022-03-30T20:08:52.590357",
     "exception": false,
     "start_time": "2022-03-30T20:08:52.413374",
     "status": "completed"
    },
    "tags": []
   },
   "source": [
    "4 regions"
   ]
  },
  {
   "cell_type": "code",
   "execution_count": 17,
   "id": "190ce09f",
   "metadata": {
    "execution": {
     "iopub.execute_input": "2022-03-30T20:08:52.955265Z",
     "iopub.status.busy": "2022-03-30T20:08:52.954283Z",
     "iopub.status.idle": "2022-03-30T20:08:53.523965Z",
     "shell.execute_reply": "2022-03-30T20:08:53.524926Z",
     "shell.execute_reply.started": "2022-03-30T19:46:11.025907Z"
    },
    "id": "wAIhLSo4uMsr",
    "outputId": "310ccd82-6fa3-4b89-ae95-43e1dfee11c0",
    "papermill": {
     "duration": 0.754981,
     "end_time": "2022-03-30T20:08:53.525231",
     "exception": false,
     "start_time": "2022-03-30T20:08:52.770250",
     "status": "completed"
    },
    "tags": []
   },
   "outputs": [
    {
     "data": {
      "text/plain": [
       "array(['South', 'West', 'Central', 'East'], dtype=object)"
      ]
     },
     "execution_count": 17,
     "metadata": {},
     "output_type": "execute_result"
    }
   ],
   "source": [
    "df.toPandas()['Region'].unique()"
   ]
  },
  {
   "cell_type": "code",
   "execution_count": 18,
   "id": "903863fa",
   "metadata": {
    "execution": {
     "iopub.execute_input": "2022-03-30T20:08:53.908513Z",
     "iopub.status.busy": "2022-03-30T20:08:53.907774Z",
     "iopub.status.idle": "2022-03-30T20:08:54.455191Z",
     "shell.execute_reply": "2022-03-30T20:08:54.455639Z",
     "shell.execute_reply.started": "2022-03-30T19:46:11.604124Z"
    },
    "id": "yby1cswjvH6I",
    "outputId": "79df8d62-5514-4ee4-f0f6-29b004a4ee6f",
    "papermill": {
     "duration": 0.731457,
     "end_time": "2022-03-30T20:08:54.455813",
     "exception": false,
     "start_time": "2022-03-30T20:08:53.724356",
     "status": "completed"
    },
    "tags": []
   },
   "outputs": [
    {
     "data": {
      "text/plain": [
       "West       3203\n",
       "East       2848\n",
       "Central    2323\n",
       "South      1620\n",
       "Name: Region, dtype: int64"
      ]
     },
     "execution_count": 18,
     "metadata": {},
     "output_type": "execute_result"
    }
   ],
   "source": [
    "df.toPandas()['Region'].value_counts()"
   ]
  },
  {
   "cell_type": "code",
   "execution_count": 19,
   "id": "f131c7e7",
   "metadata": {
    "execution": {
     "iopub.execute_input": "2022-03-30T20:08:54.825452Z",
     "iopub.status.busy": "2022-03-30T20:08:54.824302Z",
     "iopub.status.idle": "2022-03-30T20:08:54.982691Z",
     "shell.execute_reply": "2022-03-30T20:08:54.983360Z",
     "shell.execute_reply.started": "2022-03-30T19:46:12.233813Z"
    },
    "id": "lsqokEZDvwHL",
    "outputId": "be4e5188-e7d1-42cc-8e95-cb6d2d5e74b4",
    "papermill": {
     "duration": 0.347818,
     "end_time": "2022-03-30T20:08:54.983584",
     "exception": false,
     "start_time": "2022-03-30T20:08:54.635766",
     "status": "completed"
    },
    "tags": []
   },
   "outputs": [
    {
     "name": "stdout",
     "output_type": "stream",
     "text": [
      "+---------------+\n",
      "|  Customer Name|\n",
      "+---------------+\n",
      "|    Claire Gute|\n",
      "|    Claire Gute|\n",
      "|Darrin Van Huff|\n",
      "| Sean O'Donnell|\n",
      "| Sean O'Donnell|\n",
      "|Brosina Hoffman|\n",
      "|Brosina Hoffman|\n",
      "|Brosina Hoffman|\n",
      "|Brosina Hoffman|\n",
      "|Brosina Hoffman|\n",
      "+---------------+\n",
      "only showing top 10 rows\n",
      "\n"
     ]
    }
   ],
   "source": [
    "## select only one column\n",
    "\n",
    "df.select('Customer Name').show(10)"
   ]
  },
  {
   "cell_type": "code",
   "execution_count": 20,
   "id": "868fcb28",
   "metadata": {
    "execution": {
     "iopub.execute_input": "2022-03-30T20:08:55.418577Z",
     "iopub.status.busy": "2022-03-30T20:08:55.416110Z",
     "iopub.status.idle": "2022-03-30T20:08:55.589584Z",
     "shell.execute_reply": "2022-03-30T20:08:55.590681Z",
     "shell.execute_reply.started": "2022-03-30T19:46:12.428838Z"
    },
    "id": "D2i5up1L6SYD",
    "outputId": "f118d369-67a7-43aa-f5c2-0cf82630ec22",
    "papermill": {
     "duration": 0.402409,
     "end_time": "2022-03-30T20:08:55.590970",
     "exception": false,
     "start_time": "2022-03-30T20:08:55.188561",
     "status": "completed"
    },
    "tags": []
   },
   "outputs": [
    {
     "name": "stdout",
     "output_type": "stream",
     "text": [
      "+---------------+---------------+--------+\n",
      "|  Customer Name|           City|  Profit|\n",
      "+---------------+---------------+--------+\n",
      "|    Claire Gute|      Henderson| 41.9136|\n",
      "|    Claire Gute|      Henderson| 219.582|\n",
      "|Darrin Van Huff|    Los Angeles|  6.8714|\n",
      "| Sean O'Donnell|Fort Lauderdale|-383.031|\n",
      "| Sean O'Donnell|Fort Lauderdale|  2.5164|\n",
      "|Brosina Hoffman|    Los Angeles| 14.1694|\n",
      "|Brosina Hoffman|    Los Angeles|  1.9656|\n",
      "|Brosina Hoffman|    Los Angeles| 90.7152|\n",
      "|Brosina Hoffman|    Los Angeles|  5.7825|\n",
      "|Brosina Hoffman|    Los Angeles|   34.47|\n",
      "+---------------+---------------+--------+\n",
      "only showing top 10 rows\n",
      "\n"
     ]
    }
   ],
   "source": [
    "## select multiple columns\n",
    "## use list : []\n",
    "\n",
    "\n",
    "df.select(['Customer Name','City','Profit']).show(10)\n"
   ]
  },
  {
   "cell_type": "markdown",
   "id": "2df3e0f3",
   "metadata": {
    "id": "SiuZY0Ql8GsD",
    "papermill": {
     "duration": 0.185681,
     "end_time": "2022-03-30T20:08:56.001526",
     "exception": false,
     "start_time": "2022-03-30T20:08:55.815845",
     "status": "completed"
    },
    "tags": []
   },
   "source": [
    "*** withColumn()*** method"
   ]
  },
  {
   "cell_type": "code",
   "execution_count": 21,
   "id": "f8faaa11",
   "metadata": {
    "execution": {
     "iopub.execute_input": "2022-03-30T20:08:56.366443Z",
     "iopub.status.busy": "2022-03-30T20:08:56.365742Z",
     "iopub.status.idle": "2022-03-30T20:08:56.728292Z",
     "shell.execute_reply": "2022-03-30T20:08:56.727295Z",
     "shell.execute_reply.started": "2022-03-30T19:46:12.612254Z"
    },
    "id": "kYcB4t3u7U7o",
    "outputId": "6a4e5ed2-5f1d-4a76-c925-35437ca756c0",
    "papermill": {
     "duration": 0.547317,
     "end_time": "2022-03-30T20:08:56.728511",
     "exception": false,
     "start_time": "2022-03-30T20:08:56.181194",
     "status": "completed"
    },
    "tags": []
   },
   "outputs": [
    {
     "name": "stdout",
     "output_type": "stream",
     "text": [
      "+------+--------------+----------+----------+--------------+-----------+------------------+-----------+-------------+---------------+--------------+-----------+-------+---------------+---------------+------------+--------------------+--------+--------+--------+--------+------------------+\n",
      "|Row ID|      Order ID|Order Date| Ship Date|     Ship Mode|Customer ID|     Customer Name|    Segment|      Country|           City|         State|Postal Code| Region|     Product ID|       Category|Sub-Category|        Product Name|   Sales|Quantity|Discount|  Profit|           30%_off|\n",
      "+------+--------------+----------+----------+--------------+-----------+------------------+-----------+-------------+---------------+--------------+-----------+-------+---------------+---------------+------------+--------------------+--------+--------+--------+--------+------------------+\n",
      "|     1|CA-2016-152156| 11/8/2016|11/11/2016|  Second Class|   CG-12520|       Claire Gute|   Consumer|United States|      Henderson|      Kentucky|      42420|  South|FUR-BO-10001798|      Furniture|   Bookcases|Bush Somerset Col...|  261.96|       2|       0| 41.9136|183.37199999999999|\n",
      "|     2|CA-2016-152156| 11/8/2016|11/11/2016|  Second Class|   CG-12520|       Claire Gute|   Consumer|United States|      Henderson|      Kentucky|      42420|  South|FUR-CH-10000454|      Furniture|      Chairs|Hon Deluxe Fabric...|  731.94|       3|       0| 219.582| 512.3580000000001|\n",
      "|     3|CA-2016-138688| 6/12/2016| 6/16/2016|  Second Class|   DV-13045|   Darrin Van Huff|  Corporate|United States|    Los Angeles|    California|      90036|   West|OFF-LA-10000240|Office Supplies|      Labels|Self-Adhesive Add...|   14.62|       2|       0|  6.8714|10.233999999999998|\n",
      "|     4|US-2015-108966|10/11/2015|10/18/2015|Standard Class|   SO-20335|    Sean O'Donnell|   Consumer|United States|Fort Lauderdale|       Florida|      33311|  South|FUR-TA-10000577|      Furniture|      Tables|Bretford CR4500 S...|957.5775|       5|    0.45|-383.031| 670.3042499999999|\n",
      "|     5|US-2015-108966|10/11/2015|10/18/2015|Standard Class|   SO-20335|    Sean O'Donnell|   Consumer|United States|Fort Lauderdale|       Florida|      33311|  South|OFF-ST-10000760|Office Supplies|     Storage|Eldon Fold 'N Rol...|  22.368|       2|     0.2|  2.5164|15.657599999999999|\n",
      "|     6|CA-2014-115812|  6/9/2014| 6/14/2014|Standard Class|   BH-11710|   Brosina Hoffman|   Consumer|United States|    Los Angeles|    California|      90032|   West|FUR-FU-10001487|      Furniture| Furnishings|Eldon Expressions...|   48.86|       7|       0| 14.1694|            34.202|\n",
      "|     7|CA-2014-115812|  6/9/2014| 6/14/2014|Standard Class|   BH-11710|   Brosina Hoffman|   Consumer|United States|    Los Angeles|    California|      90032|   West|OFF-AR-10002833|Office Supplies|         Art|          Newell 322|    7.28|       4|       0|  1.9656|             5.096|\n",
      "|     8|CA-2014-115812|  6/9/2014| 6/14/2014|Standard Class|   BH-11710|   Brosina Hoffman|   Consumer|United States|    Los Angeles|    California|      90032|   West|TEC-PH-10002275|     Technology|      Phones|Mitel 5320 IP Pho...| 907.152|       6|     0.2| 90.7152|          635.0064|\n",
      "|     9|CA-2014-115812|  6/9/2014| 6/14/2014|Standard Class|   BH-11710|   Brosina Hoffman|   Consumer|United States|    Los Angeles|    California|      90032|   West|OFF-BI-10003910|Office Supplies|     Binders|DXL Angle-View Bi...|  18.504|       3|     0.2|  5.7825|           12.9528|\n",
      "|    10|CA-2014-115812|  6/9/2014| 6/14/2014|Standard Class|   BH-11710|   Brosina Hoffman|   Consumer|United States|    Los Angeles|    California|      90032|   West|OFF-AP-10002892|Office Supplies|  Appliances|Belkin F5C206VTEL...|   114.9|       5|       0|   34.47| 80.42999999999999|\n",
      "|    11|CA-2014-115812|  6/9/2014| 6/14/2014|Standard Class|   BH-11710|   Brosina Hoffman|   Consumer|United States|    Los Angeles|    California|      90032|   West|FUR-TA-10001539|      Furniture|      Tables|Chromcraft Rectan...|1706.184|       9|     0.2| 85.3092|         1194.3288|\n",
      "|    12|CA-2014-115812|  6/9/2014| 6/14/2014|Standard Class|   BH-11710|   Brosina Hoffman|   Consumer|United States|    Los Angeles|    California|      90032|   West|TEC-PH-10002033|     Technology|      Phones|Konftel 250 Confe...| 911.424|       4|     0.2| 68.3568| 637.9967999999999|\n",
      "|    13|CA-2017-114412| 4/15/2017| 4/20/2017|Standard Class|   AA-10480|      Andrew Allen|   Consumer|United States|        Concord|North Carolina|      28027|  South|OFF-PA-10002365|Office Supplies|       Paper|          Xerox 1967|  15.552|       3|     0.2|  5.4432|10.886399999999998|\n",
      "|    14|CA-2016-161389| 12/5/2016|12/10/2016|Standard Class|   IM-15070|      Irene Maddox|   Consumer|United States|        Seattle|    Washington|      98103|   West|OFF-BI-10003656|Office Supplies|     Binders|Fellowes PB200 Pl...| 407.976|       3|     0.2|132.5922|          285.5832|\n",
      "|    15|US-2015-118983|11/22/2015|11/26/2015|Standard Class|   HP-14815|     Harold Pawlan|Home Office|United States|     Fort Worth|         Texas|      76106|Central|OFF-AP-10002311|Office Supplies|  Appliances|Holmes Replacemen...|   68.81|       5|     0.8|-123.858|            48.167|\n",
      "|    16|US-2015-118983|11/22/2015|11/26/2015|Standard Class|   HP-14815|     Harold Pawlan|Home Office|United States|     Fort Worth|         Texas|      76106|Central|OFF-BI-10000756|Office Supplies|     Binders|Storex DuraTech R...|   2.544|       3|     0.8|  -3.816|            1.7808|\n",
      "|    17|CA-2014-105893|11/11/2014|11/18/2014|Standard Class|   PK-19075|         Pete Kriz|   Consumer|United States|        Madison|     Wisconsin|      53711|Central|OFF-ST-10004186|Office Supplies|     Storage|\"Stur-D-Stor Shel...|  665.88|       6|       0| 13.3176|           466.116|\n",
      "|    18|CA-2014-167164| 5/13/2014| 5/15/2014|  Second Class|   AG-10270|   Alejandro Grove|   Consumer|United States|    West Jordan|          Utah|      84084|   West|OFF-ST-10000107|Office Supplies|     Storage|Fellowes Super St...|    55.5|       2|       0|    9.99|38.849999999999994|\n",
      "|    19|CA-2014-143336| 8/27/2014|  9/1/2014|  Second Class|   ZD-21925|Zuschuss Donatelli|   Consumer|United States|  San Francisco|    California|      94109|   West|OFF-AR-10003056|Office Supplies|         Art|          Newell 341|    8.56|       2|       0|  2.4824|             5.992|\n",
      "|    20|CA-2014-143336| 8/27/2014|  9/1/2014|  Second Class|   ZD-21925|Zuschuss Donatelli|   Consumer|United States|  San Francisco|    California|      94109|   West|TEC-PH-10001949|     Technology|      Phones|Cisco SPA 501G IP...|  213.48|       3|     0.2|  16.011|149.43599999999998|\n",
      "+------+--------------+----------+----------+--------------+-----------+------------------+-----------+-------------+---------------+--------------+-----------+-------+---------------+---------------+------------+--------------------+--------+--------+--------+--------+------------------+\n",
      "only showing top 20 rows\n",
      "\n"
     ]
    }
   ],
   "source": [
    "## create new column , give cloumn name\n",
    "## add *0.70 (on sale 30%) \n",
    "##  Sales to new column name : '30%_off'\n",
    "\n",
    "df.withColumn('30%_off',df.Sales*0.7).show()\n",
    "\n",
    "## assign/update new column to dataframe : this case I will set as new df"
   ]
  },
  {
   "cell_type": "code",
   "execution_count": 22,
   "id": "30831934",
   "metadata": {
    "execution": {
     "iopub.execute_input": "2022-03-30T20:08:57.214448Z",
     "iopub.status.busy": "2022-03-30T20:08:57.213453Z",
     "iopub.status.idle": "2022-03-30T20:08:57.290654Z",
     "shell.execute_reply": "2022-03-30T20:08:57.289583Z",
     "shell.execute_reply.started": "2022-03-30T19:46:12.946292Z"
    },
    "id": "2Po5uwIP9JxO",
    "papermill": {
     "duration": 0.277439,
     "end_time": "2022-03-30T20:08:57.290855",
     "exception": false,
     "start_time": "2022-03-30T20:08:57.013416",
     "status": "completed"
    },
    "tags": []
   },
   "outputs": [],
   "source": [
    "df1 = df.withColumn('30%_off',df.Sales*0.7)"
   ]
  },
  {
   "cell_type": "code",
   "execution_count": 23,
   "id": "9bdcb1f1",
   "metadata": {
    "execution": {
     "iopub.execute_input": "2022-03-30T20:08:57.705522Z",
     "iopub.status.busy": "2022-03-30T20:08:57.704426Z",
     "iopub.status.idle": "2022-03-30T20:08:57.857272Z",
     "shell.execute_reply": "2022-03-30T20:08:57.856356Z",
     "shell.execute_reply.started": "2022-03-30T19:46:12.975430Z"
    },
    "id": "3S4bD7il9sJ0",
    "outputId": "6f4d2ec7-d92d-4c50-bfd9-f4d79d987ff5",
    "papermill": {
     "duration": 0.348357,
     "end_time": "2022-03-30T20:08:57.857656",
     "exception": false,
     "start_time": "2022-03-30T20:08:57.509299",
     "status": "completed"
    },
    "tags": []
   },
   "outputs": [
    {
     "name": "stdout",
     "output_type": "stream",
     "text": [
      "+------+--------------+----------+----------+--------------+-----------+------------------+-----------+-------------+---------------+--------------+-----------+-------+---------------+---------------+------------+--------------------+--------+--------+--------+--------+------------------+\n",
      "|Row ID|      Order ID|Order Date| Ship Date|     Ship Mode|Customer ID|     Customer Name|    Segment|      Country|           City|         State|Postal Code| Region|     Product ID|       Category|Sub-Category|        Product Name|   Sales|Quantity|Discount|  Profit|           30%_off|\n",
      "+------+--------------+----------+----------+--------------+-----------+------------------+-----------+-------------+---------------+--------------+-----------+-------+---------------+---------------+------------+--------------------+--------+--------+--------+--------+------------------+\n",
      "|     1|CA-2016-152156| 11/8/2016|11/11/2016|  Second Class|   CG-12520|       Claire Gute|   Consumer|United States|      Henderson|      Kentucky|      42420|  South|FUR-BO-10001798|      Furniture|   Bookcases|Bush Somerset Col...|  261.96|       2|       0| 41.9136|183.37199999999999|\n",
      "|     2|CA-2016-152156| 11/8/2016|11/11/2016|  Second Class|   CG-12520|       Claire Gute|   Consumer|United States|      Henderson|      Kentucky|      42420|  South|FUR-CH-10000454|      Furniture|      Chairs|Hon Deluxe Fabric...|  731.94|       3|       0| 219.582| 512.3580000000001|\n",
      "|     3|CA-2016-138688| 6/12/2016| 6/16/2016|  Second Class|   DV-13045|   Darrin Van Huff|  Corporate|United States|    Los Angeles|    California|      90036|   West|OFF-LA-10000240|Office Supplies|      Labels|Self-Adhesive Add...|   14.62|       2|       0|  6.8714|10.233999999999998|\n",
      "|     4|US-2015-108966|10/11/2015|10/18/2015|Standard Class|   SO-20335|    Sean O'Donnell|   Consumer|United States|Fort Lauderdale|       Florida|      33311|  South|FUR-TA-10000577|      Furniture|      Tables|Bretford CR4500 S...|957.5775|       5|    0.45|-383.031| 670.3042499999999|\n",
      "|     5|US-2015-108966|10/11/2015|10/18/2015|Standard Class|   SO-20335|    Sean O'Donnell|   Consumer|United States|Fort Lauderdale|       Florida|      33311|  South|OFF-ST-10000760|Office Supplies|     Storage|Eldon Fold 'N Rol...|  22.368|       2|     0.2|  2.5164|15.657599999999999|\n",
      "|     6|CA-2014-115812|  6/9/2014| 6/14/2014|Standard Class|   BH-11710|   Brosina Hoffman|   Consumer|United States|    Los Angeles|    California|      90032|   West|FUR-FU-10001487|      Furniture| Furnishings|Eldon Expressions...|   48.86|       7|       0| 14.1694|            34.202|\n",
      "|     7|CA-2014-115812|  6/9/2014| 6/14/2014|Standard Class|   BH-11710|   Brosina Hoffman|   Consumer|United States|    Los Angeles|    California|      90032|   West|OFF-AR-10002833|Office Supplies|         Art|          Newell 322|    7.28|       4|       0|  1.9656|             5.096|\n",
      "|     8|CA-2014-115812|  6/9/2014| 6/14/2014|Standard Class|   BH-11710|   Brosina Hoffman|   Consumer|United States|    Los Angeles|    California|      90032|   West|TEC-PH-10002275|     Technology|      Phones|Mitel 5320 IP Pho...| 907.152|       6|     0.2| 90.7152|          635.0064|\n",
      "|     9|CA-2014-115812|  6/9/2014| 6/14/2014|Standard Class|   BH-11710|   Brosina Hoffman|   Consumer|United States|    Los Angeles|    California|      90032|   West|OFF-BI-10003910|Office Supplies|     Binders|DXL Angle-View Bi...|  18.504|       3|     0.2|  5.7825|           12.9528|\n",
      "|    10|CA-2014-115812|  6/9/2014| 6/14/2014|Standard Class|   BH-11710|   Brosina Hoffman|   Consumer|United States|    Los Angeles|    California|      90032|   West|OFF-AP-10002892|Office Supplies|  Appliances|Belkin F5C206VTEL...|   114.9|       5|       0|   34.47| 80.42999999999999|\n",
      "|    11|CA-2014-115812|  6/9/2014| 6/14/2014|Standard Class|   BH-11710|   Brosina Hoffman|   Consumer|United States|    Los Angeles|    California|      90032|   West|FUR-TA-10001539|      Furniture|      Tables|Chromcraft Rectan...|1706.184|       9|     0.2| 85.3092|         1194.3288|\n",
      "|    12|CA-2014-115812|  6/9/2014| 6/14/2014|Standard Class|   BH-11710|   Brosina Hoffman|   Consumer|United States|    Los Angeles|    California|      90032|   West|TEC-PH-10002033|     Technology|      Phones|Konftel 250 Confe...| 911.424|       4|     0.2| 68.3568| 637.9967999999999|\n",
      "|    13|CA-2017-114412| 4/15/2017| 4/20/2017|Standard Class|   AA-10480|      Andrew Allen|   Consumer|United States|        Concord|North Carolina|      28027|  South|OFF-PA-10002365|Office Supplies|       Paper|          Xerox 1967|  15.552|       3|     0.2|  5.4432|10.886399999999998|\n",
      "|    14|CA-2016-161389| 12/5/2016|12/10/2016|Standard Class|   IM-15070|      Irene Maddox|   Consumer|United States|        Seattle|    Washington|      98103|   West|OFF-BI-10003656|Office Supplies|     Binders|Fellowes PB200 Pl...| 407.976|       3|     0.2|132.5922|          285.5832|\n",
      "|    15|US-2015-118983|11/22/2015|11/26/2015|Standard Class|   HP-14815|     Harold Pawlan|Home Office|United States|     Fort Worth|         Texas|      76106|Central|OFF-AP-10002311|Office Supplies|  Appliances|Holmes Replacemen...|   68.81|       5|     0.8|-123.858|            48.167|\n",
      "|    16|US-2015-118983|11/22/2015|11/26/2015|Standard Class|   HP-14815|     Harold Pawlan|Home Office|United States|     Fort Worth|         Texas|      76106|Central|OFF-BI-10000756|Office Supplies|     Binders|Storex DuraTech R...|   2.544|       3|     0.8|  -3.816|            1.7808|\n",
      "|    17|CA-2014-105893|11/11/2014|11/18/2014|Standard Class|   PK-19075|         Pete Kriz|   Consumer|United States|        Madison|     Wisconsin|      53711|Central|OFF-ST-10004186|Office Supplies|     Storage|\"Stur-D-Stor Shel...|  665.88|       6|       0| 13.3176|           466.116|\n",
      "|    18|CA-2014-167164| 5/13/2014| 5/15/2014|  Second Class|   AG-10270|   Alejandro Grove|   Consumer|United States|    West Jordan|          Utah|      84084|   West|OFF-ST-10000107|Office Supplies|     Storage|Fellowes Super St...|    55.5|       2|       0|    9.99|38.849999999999994|\n",
      "|    19|CA-2014-143336| 8/27/2014|  9/1/2014|  Second Class|   ZD-21925|Zuschuss Donatelli|   Consumer|United States|  San Francisco|    California|      94109|   West|OFF-AR-10003056|Office Supplies|         Art|          Newell 341|    8.56|       2|       0|  2.4824|             5.992|\n",
      "|    20|CA-2014-143336| 8/27/2014|  9/1/2014|  Second Class|   ZD-21925|Zuschuss Donatelli|   Consumer|United States|  San Francisco|    California|      94109|   West|TEC-PH-10001949|     Technology|      Phones|Cisco SPA 501G IP...|  213.48|       3|     0.2|  16.011|149.43599999999998|\n",
      "+------+--------------+----------+----------+--------------+-----------+------------------+-----------+-------------+---------------+--------------+-----------+-------+---------------+---------------+------------+--------------------+--------+--------+--------+--------+------------------+\n",
      "only showing top 20 rows\n",
      "\n"
     ]
    }
   ],
   "source": [
    "df1.show()"
   ]
  },
  {
   "cell_type": "markdown",
   "id": "538315ee",
   "metadata": {
    "id": "zzFMpOaa-efA",
    "papermill": {
     "duration": 0.192664,
     "end_time": "2022-03-30T20:08:58.273274",
     "exception": false,
     "start_time": "2022-03-30T20:08:58.080610",
     "status": "completed"
    },
    "tags": []
   },
   "source": [
    "**withColumnRenamed()**"
   ]
  },
  {
   "cell_type": "code",
   "execution_count": 24,
   "id": "e85621d2",
   "metadata": {
    "execution": {
     "iopub.execute_input": "2022-03-30T20:08:58.659331Z",
     "iopub.status.busy": "2022-03-30T20:08:58.658478Z",
     "iopub.status.idle": "2022-03-30T20:08:58.831633Z",
     "shell.execute_reply": "2022-03-30T20:08:58.832908Z",
     "shell.execute_reply.started": "2022-03-30T19:46:13.157050Z"
    },
    "id": "FVxCdVCW9vEt",
    "outputId": "d03d04f0-9bd0-48a3-e549-53068c6315a2",
    "papermill": {
     "duration": 0.370118,
     "end_time": "2022-03-30T20:08:58.833211",
     "exception": false,
     "start_time": "2022-03-30T20:08:58.463093",
     "status": "completed"
    },
    "tags": []
   },
   "outputs": [
    {
     "name": "stdout",
     "output_type": "stream",
     "text": [
      "+------+--------------+----------+----------+------------+-----------+---------------+---------+-------------+-----------+----------+-----------+------+---------------+---------------+------------+--------------------+------+--------+--------+-------+------------------+\n",
      "|Row ID|      Order ID|Order Date| Ship Date|   Ship Mode|Customer ID|  Customer Name|  Segment|      Country|       City|     State|Postal Code|Region|            SKU|       Category|Sub-Category|        Product Name| Sales|Quantity|Discount| Profit|           30%_off|\n",
      "+------+--------------+----------+----------+------------+-----------+---------------+---------+-------------+-----------+----------+-----------+------+---------------+---------------+------------+--------------------+------+--------+--------+-------+------------------+\n",
      "|     1|CA-2016-152156| 11/8/2016|11/11/2016|Second Class|   CG-12520|    Claire Gute| Consumer|United States|  Henderson|  Kentucky|      42420| South|FUR-BO-10001798|      Furniture|   Bookcases|Bush Somerset Col...|261.96|       2|       0|41.9136|183.37199999999999|\n",
      "|     2|CA-2016-152156| 11/8/2016|11/11/2016|Second Class|   CG-12520|    Claire Gute| Consumer|United States|  Henderson|  Kentucky|      42420| South|FUR-CH-10000454|      Furniture|      Chairs|Hon Deluxe Fabric...|731.94|       3|       0|219.582| 512.3580000000001|\n",
      "|     3|CA-2016-138688| 6/12/2016| 6/16/2016|Second Class|   DV-13045|Darrin Van Huff|Corporate|United States|Los Angeles|California|      90036|  West|OFF-LA-10000240|Office Supplies|      Labels|Self-Adhesive Add...| 14.62|       2|       0| 6.8714|10.233999999999998|\n",
      "+------+--------------+----------+----------+------------+-----------+---------------+---------+-------------+-----------+----------+-----------+------+---------------+---------------+------------+--------------------+------+--------+--------+-------+------------------+\n",
      "only showing top 3 rows\n",
      "\n"
     ]
    }
   ],
   "source": [
    "## rename column\n",
    "## 'Product ID' to 'SKU'\n",
    "\n",
    "df1.withColumnRenamed('Product ID','SKU').show(3)\n"
   ]
  },
  {
   "cell_type": "code",
   "execution_count": 25,
   "id": "dd5e4948",
   "metadata": {
    "execution": {
     "iopub.execute_input": "2022-03-30T20:08:59.261807Z",
     "iopub.status.busy": "2022-03-30T20:08:59.261109Z",
     "iopub.status.idle": "2022-03-30T20:08:59.274016Z",
     "shell.execute_reply": "2022-03-30T20:08:59.273023Z",
     "shell.execute_reply.started": "2022-03-30T19:46:13.347984Z"
    },
    "id": "Sb8mFSq_-1T2",
    "papermill": {
     "duration": 0.198017,
     "end_time": "2022-03-30T20:08:59.274258",
     "exception": false,
     "start_time": "2022-03-30T20:08:59.076241",
     "status": "completed"
    },
    "tags": []
   },
   "outputs": [],
   "source": [
    "df1 = df1.withColumnRenamed('Product ID','SKU')"
   ]
  },
  {
   "cell_type": "code",
   "execution_count": 26,
   "id": "f0da3eb8",
   "metadata": {
    "execution": {
     "iopub.execute_input": "2022-03-30T20:08:59.645596Z",
     "iopub.status.busy": "2022-03-30T20:08:59.644851Z",
     "iopub.status.idle": "2022-03-30T20:08:59.795806Z",
     "shell.execute_reply": "2022-03-30T20:08:59.794811Z",
     "shell.execute_reply.started": "2022-03-30T19:46:13.366409Z"
    },
    "id": "5ohCNo-o-1JC",
    "outputId": "594426a5-2e05-48fe-ec46-50d01e38fb13",
    "papermill": {
     "duration": 0.33558,
     "end_time": "2022-03-30T20:08:59.796037",
     "exception": false,
     "start_time": "2022-03-30T20:08:59.460457",
     "status": "completed"
    },
    "tags": []
   },
   "outputs": [
    {
     "name": "stdout",
     "output_type": "stream",
     "text": [
      "+------+--------------+----------+----------+------------+-----------+---------------+---------+-------------+-----------+----------+-----------+------+---------------+---------------+------------+--------------------+------+--------+--------+-------+------------------+\n",
      "|Row ID|      Order ID|Order Date| Ship Date|   Ship Mode|Customer ID|  Customer Name|  Segment|      Country|       City|     State|Postal Code|Region|            SKU|       Category|Sub-Category|        Product Name| Sales|Quantity|Discount| Profit|           30%_off|\n",
      "+------+--------------+----------+----------+------------+-----------+---------------+---------+-------------+-----------+----------+-----------+------+---------------+---------------+------------+--------------------+------+--------+--------+-------+------------------+\n",
      "|     1|CA-2016-152156| 11/8/2016|11/11/2016|Second Class|   CG-12520|    Claire Gute| Consumer|United States|  Henderson|  Kentucky|      42420| South|FUR-BO-10001798|      Furniture|   Bookcases|Bush Somerset Col...|261.96|       2|       0|41.9136|183.37199999999999|\n",
      "|     2|CA-2016-152156| 11/8/2016|11/11/2016|Second Class|   CG-12520|    Claire Gute| Consumer|United States|  Henderson|  Kentucky|      42420| South|FUR-CH-10000454|      Furniture|      Chairs|Hon Deluxe Fabric...|731.94|       3|       0|219.582| 512.3580000000001|\n",
      "|     3|CA-2016-138688| 6/12/2016| 6/16/2016|Second Class|   DV-13045|Darrin Van Huff|Corporate|United States|Los Angeles|California|      90036|  West|OFF-LA-10000240|Office Supplies|      Labels|Self-Adhesive Add...| 14.62|       2|       0| 6.8714|10.233999999999998|\n",
      "+------+--------------+----------+----------+------------+-----------+---------------+---------+-------------+-----------+----------+-----------+------+---------------+---------------+------------+--------------------+------+--------+--------+-------+------------------+\n",
      "only showing top 3 rows\n",
      "\n"
     ]
    }
   ],
   "source": [
    "df1.show(3)"
   ]
  },
  {
   "cell_type": "markdown",
   "id": "77fcc49a",
   "metadata": {
    "id": "FUWD3s6s_YKa",
    "papermill": {
     "duration": 0.182177,
     "end_time": "2022-03-30T20:09:00.188141",
     "exception": false,
     "start_time": "2022-03-30T20:09:00.005964",
     "status": "completed"
    },
    "tags": []
   },
   "source": [
    "**filter()** method"
   ]
  },
  {
   "cell_type": "code",
   "execution_count": 27,
   "id": "564bbe3c",
   "metadata": {
    "execution": {
     "iopub.execute_input": "2022-03-30T20:09:00.564578Z",
     "iopub.status.busy": "2022-03-30T20:09:00.563516Z",
     "iopub.status.idle": "2022-03-30T20:09:00.833916Z",
     "shell.execute_reply": "2022-03-30T20:09:00.833019Z",
     "shell.execute_reply.started": "2022-03-30T19:46:13.584233Z"
    },
    "id": "20qVj5T9-0-q",
    "outputId": "e9845b36-d961-4aa0-a243-308f62929d98",
    "papermill": {
     "duration": 0.456465,
     "end_time": "2022-03-30T20:09:00.834141",
     "exception": false,
     "start_time": "2022-03-30T20:09:00.377676",
     "status": "completed"
    },
    "tags": []
   },
   "outputs": [
    {
     "name": "stdout",
     "output_type": "stream",
     "text": [
      "+------+--------------+----------+----------+--------------+-----------+-----------------+-----------+-------------+-------------+----------+-----------+-------+---------------+---------------+------------+--------------------+--------+--------+--------+--------+------------------+\n",
      "|Row ID|      Order ID|Order Date| Ship Date|     Ship Mode|Customer ID|    Customer Name|    Segment|      Country|         City|     State|Postal Code| Region|            SKU|       Category|Sub-Category|        Product Name|   Sales|Quantity|Discount|  Profit|           30%_off|\n",
      "+------+--------------+----------+----------+--------------+-----------+-----------------+-----------+-------------+-------------+----------+-----------+-------+---------------+---------------+------------+--------------------+--------+--------+--------+--------+------------------+\n",
      "|     2|CA-2016-152156| 11/8/2016|11/11/2016|  Second Class|   CG-12520|      Claire Gute|   Consumer|United States|    Henderson|  Kentucky|      42420|  South|FUR-CH-10000454|      Furniture|      Chairs|Hon Deluxe Fabric...|  731.94|       3|       0| 219.582| 512.3580000000001|\n",
      "|    14|CA-2016-161389| 12/5/2016|12/10/2016|Standard Class|   IM-15070|     Irene Maddox|   Consumer|United States|      Seattle|Washington|      98103|   West|OFF-BI-10003656|Office Supplies|     Binders|Fellowes PB200 Pl...| 407.976|       3|     0.2|132.5922|          285.5832|\n",
      "|    25|CA-2015-106320| 9/25/2015| 9/30/2015|Standard Class|   EB-13870|      Emily Burns|   Consumer|United States|         Orem|      Utah|      84057|   West|FUR-TA-10000577|      Furniture|      Tables|Bretford CR4500 S...| 1044.63|       3|       0|240.2649|           731.241|\n",
      "|    36|CA-2016-117590| 12/8/2016|12/10/2016|   First Class|   GH-14485|        Gene Hale|  Corporate|United States|   Richardson|     Texas|      75080|Central|TEC-PH-10004977|     Technology|      Phones|         GE 30524EE4|1097.544|       7|     0.2|123.4737|          768.2808|\n",
      "|    55|CA-2016-105816|12/11/2016|12/17/2016|Standard Class|   JM-15265|   Janet Molinari|  Corporate|United States|New York City|  New York|      10024|   East|TEC-PH-10002447|     Technology|      Phones|AT&T CL83451 4-Ha...| 1029.95|       5|       0|298.6855|           720.965|\n",
      "|    68|CA-2014-106376| 12/5/2014|12/10/2014|Standard Class|   BS-11590|    Brendan Sweed|  Corporate|United States|      Gilbert|   Arizona|      85234|   West|OFF-AR-10002671|Office Supplies|         Art|Hunt BOSTON Model...|1113.024|       8|     0.2|111.3024| 779.1167999999999|\n",
      "|   118|CA-2015-110457|  3/2/2015|  3/6/2015|Standard Class|   DK-13090|        Dave Kipp|   Consumer|United States|      Seattle|Washington|      98103|   West|FUR-TA-10001768|      Furniture|      Tables|Hon Racetrack Con...|  787.53|       3|       0|165.3813|           551.271|\n",
      "|   145|CA-2017-155376|12/22/2017|12/27/2017|Standard Class|   SG-20080|   Sandra Glassco|   Consumer|United States| Independence|  Missouri|      64055|Central|OFF-AP-10001058|Office Supplies|  Appliances|Sanyo 2.5 Cubic F...|  839.43|       3|       0|218.2518| 587.6009999999999|\n",
      "|   148|CA-2016-114489| 12/5/2016| 12/9/2016|Standard Class|   JE-16165|   Justin Ellison|  Corporate|United States|     Franklin| Wisconsin|      53132|Central|TEC-PH-10000215|     Technology|      Phones|Plantronics Cordl...|  384.45|      11|       0|103.8015|269.11499999999995|\n",
      "|   150|CA-2016-114489| 12/5/2016| 12/9/2016|Standard Class|   JE-16165|   Justin Ellison|  Corporate|United States|     Franklin| Wisconsin|      53132|Central|FUR-CH-10000454|      Furniture|      Chairs|Hon Deluxe Fabric...| 1951.84|       8|       0| 585.552|1366.2879999999998|\n",
      "|   160|CA-2016-114104|11/20/2016|11/24/2016|Standard Class|   NP-18670|       Nora Paige|   Consumer|United States|       Edmond|  Oklahoma|      73034|Central|TEC-PH-10004536|     Technology|      Phones|Avaya 5420 Digita...|  944.93|       7|       0|236.2325| 661.4509999999999|\n",
      "|   183|CA-2014-158274|11/19/2014|11/24/2014|  Second Class|   RM-19675|    Robert Marley|Home Office|United States|       Monroe| Louisiana|      71203|  South|TEC-PH-10003273|     Technology|      Phones|        AT&T TR1909W|  503.96|       4|       0|131.0296|           352.772|\n",
      "|   190|CA-2015-102281|10/12/2015|10/14/2015|   First Class|   MP-17470|      Mark Packer|Home Office|United States|New York City|  New York|      10035|   East|FUR-BO-10002613|      Furniture|   Bookcases|Atlantic Metals M...| 899.136|       4|     0.2| 112.392| 629.3951999999999|\n",
      "|   227|CA-2015-163055|  8/9/2015| 8/16/2015|Standard Class|   DS-13180|      David Smith|  Corporate|United States|      Detroit|  Michigan|      48227|Central|FUR-TA-10003748|      Furniture|      Tables|Bevis 36 x 72 Con...|  622.45|       5|       0| 136.939|435.71500000000003|\n",
      "|   245|CA-2014-131926|  6/1/2014|  6/6/2014|  Second Class|   DW-13480|    Dianna Wilson|Home Office|United States|    Lakeville| Minnesota|      55044|Central|FUR-CH-10004063|      Furniture|      Chairs|Global Deluxe Hig...| 2001.86|       7|       0|580.5394|          1401.302|\n",
      "|   248|CA-2014-131926|  6/1/2014|  6/6/2014|  Second Class|   DW-13480|    Dianna Wilson|Home Office|United States|    Lakeville| Minnesota|      55044|Central|OFF-AP-10002945|Office Supplies|  Appliances|Honeywell Envirac...| 1503.25|       5|       0|496.0725|1052.2749999999999|\n",
      "|   252|CA-2016-145625| 9/11/2016| 9/17/2016|Standard Class|   KC-16540|  Kelly Collister|   Consumer|United States|    San Diego|California|      92037|   West|TEC-AC-10003832|     Technology| Accessories|Logitech P710e Mo...| 3347.37|      13|       0|636.0003|2343.1589999999997|\n",
      "|   254|CA-2016-146941|12/10/2016|12/13/2016|   First Class|   DL-13315|Delfina Latchford|   Consumer|United States|New York City|  New York|      10024|   East|OFF-EN-10003296|Office Supplies|   Envelopes|Tyvek Side-Openin...|  361.92|       4|       0| 162.864|           253.344|\n",
      "|   271|CA-2017-163979|12/28/2017|  1/2/2018|  Second Class|   KH-16690| Kristen Hastings|  Corporate|United States|San Francisco|California|      94110|   West|OFF-ST-10003208|Office Supplies|     Storage|Adjustable Depth ...|  725.84|       4|       0|210.4936|508.08799999999997|\n",
      "|   282|US-2015-161991| 9/26/2015| 9/28/2015|  Second Class|   SC-20725|Steven Cartwright|   Consumer|United States|      Houston|     Texas|      77070|Central|TEC-PH-10001760|     Technology|      Phones|Bose SoundLink Bl...|  1114.4|       7|     0.2|  376.11|            780.08|\n",
      "+------+--------------+----------+----------+--------------+-----------+-----------------+-----------+-------------+-------------+----------+-----------+-------+---------------+---------------+------------+--------------------+--------+--------+--------+--------+------------------+\n",
      "only showing top 20 rows\n",
      "\n"
     ]
    }
   ],
   "source": [
    "## who are the profitable customers that my company got profit from them more than $100?\n",
    "\n",
    "df1.filter(df1['Profit']>100).show()"
   ]
  },
  {
   "cell_type": "code",
   "execution_count": 28,
   "id": "1e087f10",
   "metadata": {
    "execution": {
     "iopub.execute_input": "2022-03-30T20:09:01.321072Z",
     "iopub.status.busy": "2022-03-30T20:09:01.320151Z",
     "iopub.status.idle": "2022-03-30T20:09:01.672732Z",
     "shell.execute_reply": "2022-03-30T20:09:01.671854Z",
     "shell.execute_reply.started": "2022-03-30T19:46:13.889771Z"
    },
    "id": "zgQsuqwtAly2",
    "outputId": "472a28fb-21d6-4b1b-de64-9b1f25410176",
    "papermill": {
     "duration": 0.541531,
     "end_time": "2022-03-30T20:09:01.672952",
     "exception": false,
     "start_time": "2022-03-30T20:09:01.131421",
     "status": "completed"
    },
    "tags": []
   },
   "outputs": [
    {
     "data": {
      "text/plain": [
       "888"
      ]
     },
     "execution_count": 28,
     "metadata": {},
     "output_type": "execute_result"
    }
   ],
   "source": [
    "df1.filter(df1['Profit']>100).count()"
   ]
  },
  {
   "cell_type": "markdown",
   "id": "999c293f",
   "metadata": {
    "id": "_e_XpcqNBLwp",
    "papermill": {
     "duration": 0.185298,
     "end_time": "2022-03-30T20:09:02.074641",
     "exception": false,
     "start_time": "2022-03-30T20:09:01.889343",
     "status": "completed"
    },
    "tags": []
   },
   "source": [
    "888 customers for profit >$100"
   ]
  },
  {
   "cell_type": "code",
   "execution_count": 29,
   "id": "0a00f4e4",
   "metadata": {
    "execution": {
     "iopub.execute_input": "2022-03-30T20:09:02.450892Z",
     "iopub.status.busy": "2022-03-30T20:09:02.449777Z",
     "iopub.status.idle": "2022-03-30T20:09:02.613437Z",
     "shell.execute_reply": "2022-03-30T20:09:02.614463Z",
     "shell.execute_reply.started": "2022-03-30T19:46:14.221436Z"
    },
    "id": "GEENVLCDAyKN",
    "outputId": "30bd2f2b-c488-48fe-ca7e-1e74bf4ff6a8",
    "papermill": {
     "duration": 0.356497,
     "end_time": "2022-03-30T20:09:02.614786",
     "exception": false,
     "start_time": "2022-03-30T20:09:02.258289",
     "status": "completed"
    },
    "tags": []
   },
   "outputs": [
    {
     "name": "stdout",
     "output_type": "stream",
     "text": [
      "+-----------------+\n",
      "|    Customer Name|\n",
      "+-----------------+\n",
      "|      Claire Gute|\n",
      "|     Irene Maddox|\n",
      "|      Emily Burns|\n",
      "|        Gene Hale|\n",
      "|   Janet Molinari|\n",
      "|    Brendan Sweed|\n",
      "|        Dave Kipp|\n",
      "|   Sandra Glassco|\n",
      "|   Justin Ellison|\n",
      "|   Justin Ellison|\n",
      "|       Nora Paige|\n",
      "|    Robert Marley|\n",
      "|      Mark Packer|\n",
      "|      David Smith|\n",
      "|    Dianna Wilson|\n",
      "|    Dianna Wilson|\n",
      "|  Kelly Collister|\n",
      "|Delfina Latchford|\n",
      "| Kristen Hastings|\n",
      "|Steven Cartwright|\n",
      "+-----------------+\n",
      "only showing top 20 rows\n",
      "\n"
     ]
    }
   ],
   "source": [
    "## but I want to see only customer name and how much profit I made\n",
    "\n",
    "df1.filter(df1['Profit']>100).select('Customer Name').show()"
   ]
  },
  {
   "cell_type": "code",
   "execution_count": 30,
   "id": "b6733dbd",
   "metadata": {
    "execution": {
     "iopub.execute_input": "2022-03-30T20:09:02.992844Z",
     "iopub.status.busy": "2022-03-30T20:09:02.990779Z",
     "iopub.status.idle": "2022-03-30T20:09:03.164378Z",
     "shell.execute_reply": "2022-03-30T20:09:03.165191Z",
     "shell.execute_reply.started": "2022-03-30T19:46:14.422449Z"
    },
    "id": "jE2QFHraIMy7",
    "outputId": "566df929-8eea-4c4d-9e42-b96e8cdd17a5",
    "papermill": {
     "duration": 0.36111,
     "end_time": "2022-03-30T20:09:03.165438",
     "exception": false,
     "start_time": "2022-03-30T20:09:02.804328",
     "status": "completed"
    },
    "tags": []
   },
   "outputs": [
    {
     "name": "stdout",
     "output_type": "stream",
     "text": [
      "+-----------------+-------------+--------+\n",
      "|    Customer Name|         city|  Profit|\n",
      "+-----------------+-------------+--------+\n",
      "|      Claire Gute|    Henderson| 219.582|\n",
      "|     Irene Maddox|      Seattle|132.5922|\n",
      "|      Emily Burns|         Orem|240.2649|\n",
      "|        Gene Hale|   Richardson|123.4737|\n",
      "|   Janet Molinari|New York City|298.6855|\n",
      "|    Brendan Sweed|      Gilbert|111.3024|\n",
      "|        Dave Kipp|      Seattle|165.3813|\n",
      "|   Sandra Glassco| Independence|218.2518|\n",
      "|   Justin Ellison|     Franklin|103.8015|\n",
      "|   Justin Ellison|     Franklin| 585.552|\n",
      "|       Nora Paige|       Edmond|236.2325|\n",
      "|    Robert Marley|       Monroe|131.0296|\n",
      "|      Mark Packer|New York City| 112.392|\n",
      "|      David Smith|      Detroit| 136.939|\n",
      "|    Dianna Wilson|    Lakeville|580.5394|\n",
      "|    Dianna Wilson|    Lakeville|496.0725|\n",
      "|  Kelly Collister|    San Diego|636.0003|\n",
      "|Delfina Latchford|New York City| 162.864|\n",
      "| Kristen Hastings|San Francisco|210.4936|\n",
      "|Steven Cartwright|      Houston|  376.11|\n",
      "+-----------------+-------------+--------+\n",
      "only showing top 20 rows\n",
      "\n"
     ]
    }
   ],
   "source": [
    "## but I want to see only customer name, city and how much profit I made\n",
    "\n",
    "df1.filter(df1['Profit']>100).select(['Customer Name', 'city','Profit']).show()"
   ]
  },
  {
   "cell_type": "code",
   "execution_count": 31,
   "id": "b1b16b20",
   "metadata": {
    "execution": {
     "iopub.execute_input": "2022-03-30T20:09:03.563381Z",
     "iopub.status.busy": "2022-03-30T20:09:03.562298Z",
     "iopub.status.idle": "2022-03-30T20:09:03.788195Z",
     "shell.execute_reply": "2022-03-30T20:09:03.789158Z",
     "shell.execute_reply.started": "2022-03-30T19:46:14.706059Z"
    },
    "id": "-bcioO94IMu_",
    "outputId": "1e398c5e-042b-4749-f546-76e07386f350",
    "papermill": {
     "duration": 0.424822,
     "end_time": "2022-03-30T20:09:03.789439",
     "exception": false,
     "start_time": "2022-03-30T20:09:03.364617",
     "status": "completed"
    },
    "tags": []
   },
   "outputs": [
    {
     "name": "stdout",
     "output_type": "stream",
     "text": [
      "+----------------+-------+--------+\n",
      "|   Customer Name|   city|  Profit|\n",
      "+----------------+-------+--------+\n",
      "|     David Smith|Detroit| 136.939|\n",
      "|   Michael Paige|Detroit|231.4116|\n",
      "|   Tracy Hopkins|Detroit|  135.98|\n",
      "|    Bart Watters|Detroit| 679.996|\n",
      "|      Bill Tyler|Detroit|121.7601|\n",
      "| Damala Kotsonis|Detroit|226.9644|\n",
      "|Theone Pippenger|Detroit|412.5394|\n",
      "|       Max Jones|Detroit|421.0824|\n",
      "|      Sean Wendt|Detroit| 134.654|\n",
      "|     Rick Wilson|Detroit|423.0085|\n",
      "|     Rick Wilson|Detroit|   119.2|\n",
      "|    Ken Lonsdale|Detroit|219.9904|\n",
      "|    Ken Lonsdale|Detroit|165.3496|\n",
      "|        John Lee|Detroit| 136.665|\n",
      "| Laura Armstrong|Detroit|  700.98|\n",
      "| Laura Armstrong|Detroit| 150.984|\n",
      "| Cynthia Arntzen|Detroit|134.5302|\n",
      "|    Nathan Mautz|Detroit|   245.7|\n",
      "|    Andrew Allen|Detroit|163.1898|\n",
      "|    Rick Bensley|Detroit| 146.388|\n",
      "+----------------+-------+--------+\n",
      "only showing top 20 rows\n",
      "\n"
     ]
    }
   ],
   "source": [
    "df1.filter((df1['Profit']>100) & (df1['City']=='Detroit')).select(['Customer Name', 'city','Profit']).show()"
   ]
  },
  {
   "cell_type": "code",
   "execution_count": 32,
   "id": "f780b88c",
   "metadata": {
    "execution": {
     "iopub.execute_input": "2022-03-30T20:09:04.265618Z",
     "iopub.status.busy": "2022-03-30T20:09:04.264411Z",
     "iopub.status.idle": "2022-03-30T20:09:04.670911Z",
     "shell.execute_reply": "2022-03-30T20:09:04.669785Z",
     "shell.execute_reply.started": "2022-03-30T19:46:15.123236Z"
    },
    "id": "EdDesweyLAQj",
    "outputId": "88af39ad-7051-42ad-970b-4a889ebcc1db",
    "papermill": {
     "duration": 0.608508,
     "end_time": "2022-03-30T20:09:04.671176",
     "exception": false,
     "start_time": "2022-03-30T20:09:04.062668",
     "status": "completed"
    },
    "tags": []
   },
   "outputs": [
    {
     "name": "stdout",
     "output_type": "stream",
     "text": [
      "+-------------------+-------+-------+\n",
      "|      Customer Name|   city| Profit|\n",
      "+-------------------+-------+-------+\n",
      "|        David Smith|Detroit|  0.968|\n",
      "|        David Smith|Detroit| 0.2198|\n",
      "|          Pete Kriz|Detroit|  3.666|\n",
      "|          Pete Kriz|Detroit|23.3928|\n",
      "|          Pete Kriz|Detroit|20.5755|\n",
      "|          Pete Kriz|Detroit|    0.0|\n",
      "|          Pete Kriz|Detroit|29.1528|\n",
      "|          Pete Kriz|Detroit| 10.584|\n",
      "|       Matt Connell|Detroit| 21.098|\n",
      "|      Michael Paige|Detroit|80.0199|\n",
      "|        Peter McVee|Detroit| 10.048|\n",
      "|      Tracy Hopkins|Detroit|    0.0|\n",
      "|      Tracy Hopkins|Detroit| 5.4128|\n",
      "|Maribeth Schnelling|Detroit|   51.8|\n",
      "|         Bill Tyler|Detroit| 9.3624|\n",
      "|    Damala Kotsonis|Detroit|19.5238|\n",
      "|    Damala Kotsonis|Detroit| 6.2208|\n",
      "|      Dianna Wilson|Detroit|    0.0|\n",
      "|        Cathy Hwang|Detroit| 74.975|\n",
      "|   Theone Pippenger|Detroit| 63.984|\n",
      "+-------------------+-------+-------+\n",
      "only showing top 20 rows\n",
      "\n"
     ]
    }
   ],
   "source": [
    "## on the other hand : profit < $100, low profitable customers , who live in Detroit\n",
    "## use ' ~ ' example ~(df['sex']=='male') mean female\n",
    "\n",
    "df1.filter(~(df1['Profit']>100) & (df1['City']=='Detroit')).select(['Customer Name', 'city','Profit']).show()"
   ]
  },
  {
   "cell_type": "markdown",
   "id": "65eb14f3",
   "metadata": {
    "id": "PxnByETFMBk-",
    "papermill": {
     "duration": 0.253675,
     "end_time": "2022-03-30T20:09:05.199023",
     "exception": false,
     "start_time": "2022-03-30T20:09:04.945348",
     "status": "completed"
    },
    "tags": []
   },
   "source": [
    "**groupby method in pyspark **"
   ]
  },
  {
   "cell_type": "code",
   "execution_count": 33,
   "id": "48650774",
   "metadata": {
    "execution": {
     "iopub.execute_input": "2022-03-30T20:09:05.581504Z",
     "iopub.status.busy": "2022-03-30T20:09:05.580155Z",
     "iopub.status.idle": "2022-03-30T20:09:06.175380Z",
     "shell.execute_reply": "2022-03-30T20:09:06.174037Z",
     "shell.execute_reply.started": "2022-03-30T19:46:15.364503Z"
    },
    "id": "liJCVxJkNFcI",
    "outputId": "ff302fcd-4f97-40ca-9800-1c7be6619e5a",
    "papermill": {
     "duration": 0.787324,
     "end_time": "2022-03-30T20:09:06.175636",
     "exception": false,
     "start_time": "2022-03-30T20:09:05.388312",
     "status": "completed"
    },
    "tags": []
   },
   "outputs": [
    {
     "name": "stdout",
     "output_type": "stream",
     "text": [
      "+-------+-----------------+------------------+------------------+------------------+\n",
      "| Region|      avg(Row ID)|  avg(Postal Code)|       avg(Profit)|      avg(30%_off)|\n",
      "+-------+-----------------+------------------+------------------+------------------+\n",
      "|  South|5069.935185185185| 34490.77283950617|28.796506790123484|172.44364122862555|\n",
      "|Central|5030.547998278089|65340.572535514424|17.283901420576836|154.18611104424758|\n",
      "|   East|4941.685042134832|17616.466994382023| 32.16399462780904|170.73143606676328|\n",
      "|   West|4986.524508273494|  91707.6965344989|33.500999531689054|161.15841921587582|\n",
      "+-------+-----------------+------------------+------------------+------------------+\n",
      "\n"
     ]
    }
   ],
   "source": [
    "df1.groupby('Region').mean().show()"
   ]
  },
  {
   "cell_type": "code",
   "execution_count": 34,
   "id": "d48d468d",
   "metadata": {
    "execution": {
     "iopub.execute_input": "2022-03-30T20:09:06.656113Z",
     "iopub.status.busy": "2022-03-30T20:09:06.655304Z",
     "iopub.status.idle": "2022-03-30T20:09:07.020435Z",
     "shell.execute_reply": "2022-03-30T20:09:07.019393Z",
     "shell.execute_reply.started": "2022-03-30T19:46:16.033594Z"
    },
    "id": "WNlpnI2fIMq4",
    "outputId": "e420975c-ba67-4042-d1b8-93513747c985",
    "papermill": {
     "duration": 0.556362,
     "end_time": "2022-03-30T20:09:07.020665",
     "exception": false,
     "start_time": "2022-03-30T20:09:06.464303",
     "status": "completed"
    },
    "tags": []
   },
   "outputs": [
    {
     "name": "stdout",
     "output_type": "stream",
     "text": [
      "+-------+------------------+\n",
      "| Region|       avg(Profit)|\n",
      "+-------+------------------+\n",
      "|  South|28.796506790123484|\n",
      "|Central|17.283901420576836|\n",
      "|   East| 32.16399462780904|\n",
      "|   West|33.500999531689054|\n",
      "+-------+------------------+\n",
      "\n"
     ]
    }
   ],
   "source": [
    "## average profit for each region\n",
    "\n",
    "\n",
    "df1.groupby('Region').mean().select(['Region','avg(Profit)']).show()"
   ]
  },
  {
   "cell_type": "markdown",
   "id": "f7f00218",
   "metadata": {
    "id": "26BxY89QNM4W",
    "papermill": {
     "duration": 0.195008,
     "end_time": "2022-03-30T20:09:07.451306",
     "exception": false,
     "start_time": "2022-03-30T20:09:07.256298",
     "status": "completed"
    },
    "tags": []
   },
   "source": [
    "**Sort every row into Descending Order**"
   ]
  },
  {
   "cell_type": "code",
   "execution_count": 35,
   "id": "a18c2581",
   "metadata": {
    "execution": {
     "iopub.execute_input": "2022-03-30T20:09:07.824332Z",
     "iopub.status.busy": "2022-03-30T20:09:07.823324Z",
     "iopub.status.idle": "2022-03-30T20:09:08.333601Z",
     "shell.execute_reply": "2022-03-30T20:09:08.334398Z",
     "shell.execute_reply.started": "2022-03-30T19:46:16.456596Z"
    },
    "id": "PKDTrm2dNLpa",
    "outputId": "fc5f8dbf-d953-4de6-ef23-7cef682bd201",
    "papermill": {
     "duration": 0.701597,
     "end_time": "2022-03-30T20:09:08.334661",
     "exception": false,
     "start_time": "2022-03-30T20:09:07.633064",
     "status": "completed"
    },
    "tags": []
   },
   "outputs": [
    {
     "name": "stdout",
     "output_type": "stream",
     "text": [
      "+------+--------------+----------+----------+--------------+-----------+--------------------+-----------+-------------+---------------+------------+-----------+-------+---------------+---------------+------------+--------------------+---------+--------+--------+---------+------------------+\n",
      "|Row ID|      Order ID|Order Date| Ship Date|     Ship Mode|Customer ID|       Customer Name|    Segment|      Country|           City|       State|Postal Code| Region|            SKU|       Category|Sub-Category|        Product Name|    Sales|Quantity|Discount|   Profit|           30%_off|\n",
      "+------+--------------+----------+----------+--------------+-----------+--------------------+-----------+-------------+---------------+------------+-----------+-------+---------------+---------------+------------+--------------------+---------+--------+--------+---------+------------------+\n",
      "|  6827|CA-2016-118689| 10/2/2016| 10/9/2016|Standard Class|   TC-20980|        Tamara Chand|  Corporate|United States|      Lafayette|     Indiana|      47905|Central|TEC-CO-10004722|     Technology|     Copiers|Canon imageCLASS ...| 17499.95|       5|       0| 8399.976|         12249.965|\n",
      "|  8154|CA-2017-140151| 3/23/2017| 3/25/2017|   First Class|   RB-19360|        Raymond Buch|   Consumer|United States|        Seattle|  Washington|      98115|   West|TEC-CO-10004722|     Technology|     Copiers|Canon imageCLASS ...| 13999.96|       4|       0|6719.9808| 9799.971999999998|\n",
      "|  4191|CA-2017-166709|11/17/2017|11/22/2017|Standard Class|   HL-15040|        Hunter Lopez|   Consumer|United States|         Newark|    Delaware|      19711|   East|TEC-CO-10004722|     Technology|     Copiers|Canon imageCLASS ...| 10499.97|       3|       0|5039.9856| 7349.978999999999|\n",
      "|  9040|CA-2016-117121|12/17/2016|12/21/2016|Standard Class|   AB-10105|       Adrian Barton|   Consumer|United States|        Detroit|    Michigan|      48205|Central|OFF-BI-10000545|Office Supplies|     Binders|GBC Ibimaster 500...|  9892.74|      13|       0|  4946.37|          6924.918|\n",
      "|  4099|CA-2014-116904| 9/23/2014| 9/28/2014|Standard Class|   SC-20095|        Sanjit Chand|   Consumer|United States|    Minneapolis|   Minnesota|      55407|Central|OFF-BI-10001120|Office Supplies|     Binders|Ibico EPK-21 Elec...|  9449.95|       5|       0|4630.4755|          6614.965|\n",
      "|  2624|CA-2017-127180|10/22/2017|10/24/2017|   First Class|   TA-21385|        Tom Ashbrook|Home Office|United States|  New York City|    New York|      10024|   East|TEC-CO-10004722|     Technology|     Copiers|Canon imageCLASS ...|11199.968|       4|     0.2|3919.9888|         7839.9776|\n",
      "|   510|CA-2015-145352| 3/16/2015| 3/22/2015|Standard Class|   CM-12385|Christopher Martinez|   Consumer|United States|        Atlanta|     Georgia|      30318|  South|OFF-BI-10003527|Office Supplies|     Binders|Fellowes PB500 El...|  6354.95|       5|       0| 3177.475| 4448.464999999999|\n",
      "|  8489|CA-2016-158841|  2/2/2016|  2/4/2016|  Second Class|   SE-20110|        Sanjit Engle|   Consumer|United States|      Arlington|    Virginia|      22204|  South|TEC-MA-10001127|     Technology|    Machines|\"HP Designjet T52...|  8749.95|       5|       0| 2799.984|          6124.965|\n",
      "|  7667|US-2016-140158| 10/4/2016| 10/8/2016|Standard Class|   DR-12940|       Daniel Raglin|Home Office|United States|     Providence|Rhode Island|       2908|   East|TEC-CO-10001449|     Technology|     Copiers|Hewlett Packard L...|  5399.91|       9|       0|2591.9568|3779.9369999999994|\n",
      "|  6521|CA-2017-138289| 1/16/2017| 1/18/2017|  Second Class|   AR-10540|         Andy Reiter|   Consumer|United States|        Jackson|    Michigan|      49201|Central|OFF-BI-10004995|Office Supplies|     Binders|GBC DocuBind P400...|  5443.96|       4|       0|2504.2216|          3810.772|\n",
      "|  1086|US-2016-143819|  3/1/2016|  3/5/2016|Standard Class|   KD-16270|       Karen Daniels|   Consumer|United States|        Yonkers|    New York|      10701|   East|TEC-MA-10003979|     Technology|    Machines|Ativa V4110MDD Mi...|  4899.93|       7|       0|2400.9657|          3429.951|\n",
      "|  4278|US-2016-107440| 4/16/2016| 4/20/2016|Standard Class|   BS-11365|        Bill Shonely|  Corporate|United States|       Lakewood|  New Jersey|       8701|   East|TEC-MA-10001047|     Technology|    Machines|3D Systems Cube P...|  9099.93|       7|       0|2365.9818|          6369.951|\n",
      "|  8991|US-2015-128587|12/24/2015|12/30/2015|Standard Class|   HM-14860|         Harry Marie|  Corporate|United States|    Springfield|    Missouri|      65807|Central|TEC-CO-10003763|     Technology|     Copiers|Canon PC1060 Pers...|  4899.93|       7|       0|2302.9671|          3429.951|\n",
      "|  6627|CA-2014-145541|12/14/2014|12/21/2014|Standard Class|   TB-21400|    Tom Boeckenhauer|   Consumer|United States|  New York City|    New York|      10024|   East|TEC-MA-10001127|     Technology|    Machines|\"HP Designjet T52...|  6999.96|       4|       0|2239.9872|          4899.972|\n",
      "|  8205|CA-2015-114811| 11/8/2015| 11/8/2015|      Same Day|   KD-16495|       Keith Dawkins|  Corporate|United States|  New York City|    New York|      10024|   East|TEC-MA-10000045|     Technology|    Machines|Zebra ZM400 Therm...|   4643.8|       4|       0| 2229.024|           3250.66|\n",
      "|   319|CA-2014-164973| 11/4/2014| 11/9/2014|Standard Class|   NM-18445|        Nathan Mautz|Home Office|United States|  New York City|    New York|      10024|   East|TEC-MA-10002927|     Technology|    Machines|Canon imageCLASS ...|  3991.98|       2|       0|  1995.99|          2794.386|\n",
      "|  8859|CA-2017-135909|10/13/2017|10/20/2017|Standard Class|   JW-15220|           Jane Waco|  Corporate|United States|     Sacramento|  California|      95823|   West|OFF-BI-10003527|Office Supplies|     Binders|Fellowes PB500 El...|  5083.96|       5|     0.2| 1906.485|          3558.772|\n",
      "|  7684|CA-2015-120782| 4/28/2015|  5/1/2015|   First Class|   SD-20485|     Shirley Daniels|Home Office|United States|        Midland|    Michigan|      48640|Central|OFF-BI-10003527|Office Supplies|     Binders|Fellowes PB500 El...|  3812.97|       3|       0| 1906.485|2669.0789999999997|\n",
      "|  7915|CA-2017-165323| 6/17/2017| 6/21/2017|Standard Class|   SR-20740|       Steven Roelle|Home Office|United States|  New York City|    New York|      10024|   East|TEC-MA-10003673|     Technology|    Machines|Hewlett-Packard D...|   3404.5|       5|       0| 1668.205|2383.1499999999996|\n",
      "|  7819|CA-2016-138478|10/21/2016|10/26/2016|  Second Class|   DP-13390|       Dennis Pardue|Home Office|United States|North Las Vegas|      Nevada|      89031|   West|OFF-BI-10001120|Office Supplies|     Binders|Ibico EPK-21 Elec...| 4535.976|       3|     0.2|1644.2913|3175.1831999999995|\n",
      "+------+--------------+----------+----------+--------------+-----------+--------------------+-----------+-------------+---------------+------------+-----------+-------+---------------+---------------+------------+--------------------+---------+--------+--------+---------+------------------+\n",
      "only showing top 20 rows\n",
      "\n"
     ]
    }
   ],
   "source": [
    "df1.orderBy(df1['Profit'].desc()).show()"
   ]
  },
  {
   "cell_type": "code",
   "execution_count": 36,
   "id": "0cd69c81",
   "metadata": {
    "execution": {
     "iopub.execute_input": "2022-03-30T20:09:08.759822Z",
     "iopub.status.busy": "2022-03-30T20:09:08.759126Z",
     "iopub.status.idle": "2022-03-30T20:09:08.940230Z",
     "shell.execute_reply": "2022-03-30T20:09:08.938939Z",
     "shell.execute_reply.started": "2022-03-30T19:46:16.906399Z"
    },
    "id": "MejtvuvVIMkJ",
    "outputId": "870e33de-4539-43d9-91df-d18449573a83",
    "papermill": {
     "duration": 0.372708,
     "end_time": "2022-03-30T20:09:08.940462",
     "exception": false,
     "start_time": "2022-03-30T20:09:08.567754",
     "status": "completed"
    },
    "tags": []
   },
   "outputs": [
    {
     "name": "stdout",
     "output_type": "stream",
     "text": [
      "+---------------+--------------------+---------+\n",
      "|       Category|        Product Name|   Profit|\n",
      "+---------------+--------------------+---------+\n",
      "|     Technology|Canon imageCLASS ...| 8399.976|\n",
      "|     Technology|Canon imageCLASS ...|6719.9808|\n",
      "|     Technology|Canon imageCLASS ...|5039.9856|\n",
      "|Office Supplies|GBC Ibimaster 500...|  4946.37|\n",
      "|Office Supplies|Ibico EPK-21 Elec...|4630.4755|\n",
      "|     Technology|Canon imageCLASS ...|3919.9888|\n",
      "|Office Supplies|Fellowes PB500 El...| 3177.475|\n",
      "|     Technology|\"HP Designjet T52...| 2799.984|\n",
      "|     Technology|Hewlett Packard L...|2591.9568|\n",
      "|Office Supplies|GBC DocuBind P400...|2504.2216|\n",
      "|     Technology|Ativa V4110MDD Mi...|2400.9657|\n",
      "|     Technology|3D Systems Cube P...|2365.9818|\n",
      "|     Technology|Canon PC1060 Pers...|2302.9671|\n",
      "|     Technology|\"HP Designjet T52...|2239.9872|\n",
      "|     Technology|Zebra ZM400 Therm...| 2229.024|\n",
      "|     Technology|Canon imageCLASS ...|  1995.99|\n",
      "|Office Supplies|Fellowes PB500 El...| 1906.485|\n",
      "|Office Supplies|Fellowes PB500 El...| 1906.485|\n",
      "|     Technology|Hewlett-Packard D...| 1668.205|\n",
      "|Office Supplies|Ibico EPK-21 Elec...|1644.2913|\n",
      "+---------------+--------------------+---------+\n",
      "only showing top 20 rows\n",
      "\n"
     ]
    }
   ],
   "source": [
    "df1.orderBy(df1['Profit'].desc()).select(['Category','Product Name','Profit']).show()"
   ]
  },
  {
   "cell_type": "markdown",
   "id": "1ab59974",
   "metadata": {
    "id": "fTINoPr9TLMN",
    "papermill": {
     "duration": 0.183954,
     "end_time": "2022-03-30T20:09:09.329950",
     "exception": false,
     "start_time": "2022-03-30T20:09:09.145996",
     "status": "completed"
    },
    "tags": []
   },
   "source": [
    "**Handling missing value in Pyspark**"
   ]
  },
  {
   "cell_type": "code",
   "execution_count": 37,
   "id": "2c0930e3",
   "metadata": {
    "execution": {
     "iopub.execute_input": "2022-03-30T20:09:09.702130Z",
     "iopub.status.busy": "2022-03-30T20:09:09.701004Z",
     "iopub.status.idle": "2022-03-30T20:09:09.707931Z",
     "shell.execute_reply": "2022-03-30T20:09:09.708562Z",
     "shell.execute_reply.started": "2022-03-30T19:46:17.126494Z"
    },
    "id": "BSZRUSD_IMbT",
    "papermill": {
     "duration": 0.195689,
     "end_time": "2022-03-30T20:09:09.708769",
     "exception": false,
     "start_time": "2022-03-30T20:09:09.513080",
     "status": "completed"
    },
    "tags": []
   },
   "outputs": [],
   "source": [
    "from pyspark.sql.functions import mean"
   ]
  },
  {
   "cell_type": "code",
   "execution_count": 38,
   "id": "ed97889e",
   "metadata": {
    "execution": {
     "iopub.execute_input": "2022-03-30T20:09:10.085223Z",
     "iopub.status.busy": "2022-03-30T20:09:10.084482Z",
     "iopub.status.idle": "2022-03-30T20:09:10.300135Z",
     "shell.execute_reply": "2022-03-30T20:09:10.299413Z",
     "shell.execute_reply.started": "2022-03-30T19:46:17.138416Z"
    },
    "id": "e7p3guHVIMJV",
    "papermill": {
     "duration": 0.403098,
     "end_time": "2022-03-30T20:09:10.300320",
     "exception": false,
     "start_time": "2022-03-30T20:09:09.897222",
     "status": "completed"
    },
    "tags": []
   },
   "outputs": [],
   "source": [
    "mean_sales = df1.select(mean(df['Sales'])).collect()"
   ]
  },
  {
   "cell_type": "code",
   "execution_count": 39,
   "id": "09b28106",
   "metadata": {
    "execution": {
     "iopub.execute_input": "2022-03-30T20:09:10.675799Z",
     "iopub.status.busy": "2022-03-30T20:09:10.674970Z",
     "iopub.status.idle": "2022-03-30T20:09:10.678279Z",
     "shell.execute_reply": "2022-03-30T20:09:10.678766Z",
     "shell.execute_reply.started": "2022-03-30T19:46:17.421122Z"
    },
    "id": "2AVrV-Y3T_fp",
    "outputId": "090bda2f-7078-4657-9e8c-61aef2ae0e95",
    "papermill": {
     "duration": 0.193726,
     "end_time": "2022-03-30T20:09:10.678935",
     "exception": false,
     "start_time": "2022-03-30T20:09:10.485209",
     "status": "completed"
    },
    "tags": []
   },
   "outputs": [
    {
     "data": {
      "text/plain": [
       "[Row(avg(Sales)=234.41818199917006)]"
      ]
     },
     "execution_count": 39,
     "metadata": {},
     "output_type": "execute_result"
    }
   ],
   "source": [
    "mean_sales"
   ]
  },
  {
   "cell_type": "code",
   "execution_count": 40,
   "id": "c063d8b3",
   "metadata": {
    "execution": {
     "iopub.execute_input": "2022-03-30T20:09:11.053563Z",
     "iopub.status.busy": "2022-03-30T20:09:11.052768Z",
     "iopub.status.idle": "2022-03-30T20:09:11.056724Z",
     "shell.execute_reply": "2022-03-30T20:09:11.056106Z",
     "shell.execute_reply.started": "2022-03-30T19:46:17.432832Z"
    },
    "id": "yaL80Jo0T_Tn",
    "outputId": "6aa9150c-6d5e-469d-811d-a8a2afddff70",
    "papermill": {
     "duration": 0.19424,
     "end_time": "2022-03-30T20:09:11.056861",
     "exception": false,
     "start_time": "2022-03-30T20:09:10.862621",
     "status": "completed"
    },
    "tags": []
   },
   "outputs": [
    {
     "data": {
      "text/plain": [
       "234.41818199917006"
      ]
     },
     "execution_count": 40,
     "metadata": {},
     "output_type": "execute_result"
    }
   ],
   "source": [
    "# index 0\n",
    "mean_sales[0][0]\n",
    "\n",
    "## for actual mean"
   ]
  },
  {
   "cell_type": "code",
   "execution_count": 41,
   "id": "1e5e0178",
   "metadata": {
    "execution": {
     "iopub.execute_input": "2022-03-30T20:09:11.432654Z",
     "iopub.status.busy": "2022-03-30T20:09:11.431677Z",
     "iopub.status.idle": "2022-03-30T20:09:11.690882Z",
     "shell.execute_reply": "2022-03-30T20:09:11.689872Z",
     "shell.execute_reply.started": "2022-03-30T19:46:17.443675Z"
    },
    "id": "0Bycn-7yUG6P",
    "outputId": "313c6082-e242-4852-b32f-b5da8d93a83a",
    "papermill": {
     "duration": 0.448665,
     "end_time": "2022-03-30T20:09:11.691322",
     "exception": false,
     "start_time": "2022-03-30T20:09:11.242657",
     "status": "completed"
    },
    "tags": []
   },
   "outputs": [
    {
     "name": "stdout",
     "output_type": "stream",
     "text": [
      "+------+--------------+----------+----------+--------------+-----------+------------------+-----------+-------------+---------------+--------------+-----------+-------+---------------+---------------+------------+--------------------+--------+--------+--------+--------+------------------+\n",
      "|Row ID|      Order ID|Order Date| Ship Date|     Ship Mode|Customer ID|     Customer Name|    Segment|      Country|           City|         State|Postal Code| Region|            SKU|       Category|Sub-Category|        Product Name|   Sales|Quantity|Discount|  Profit|           30%_off|\n",
      "+------+--------------+----------+----------+--------------+-----------+------------------+-----------+-------------+---------------+--------------+-----------+-------+---------------+---------------+------------+--------------------+--------+--------+--------+--------+------------------+\n",
      "|     1|CA-2016-152156| 11/8/2016|11/11/2016|  Second Class|   CG-12520|       Claire Gute|   Consumer|United States|      Henderson|      Kentucky|      42420|  South|FUR-BO-10001798|      Furniture|   Bookcases|Bush Somerset Col...|  261.96|       2|       0| 41.9136|183.37199999999999|\n",
      "|     2|CA-2016-152156| 11/8/2016|11/11/2016|  Second Class|   CG-12520|       Claire Gute|   Consumer|United States|      Henderson|      Kentucky|      42420|  South|FUR-CH-10000454|      Furniture|      Chairs|Hon Deluxe Fabric...|  731.94|       3|       0| 219.582| 512.3580000000001|\n",
      "|     3|CA-2016-138688| 6/12/2016| 6/16/2016|  Second Class|   DV-13045|   Darrin Van Huff|  Corporate|United States|    Los Angeles|    California|      90036|   West|OFF-LA-10000240|Office Supplies|      Labels|Self-Adhesive Add...|   14.62|       2|       0|  6.8714|10.233999999999998|\n",
      "|     4|US-2015-108966|10/11/2015|10/18/2015|Standard Class|   SO-20335|    Sean O'Donnell|   Consumer|United States|Fort Lauderdale|       Florida|      33311|  South|FUR-TA-10000577|      Furniture|      Tables|Bretford CR4500 S...|957.5775|       5|    0.45|-383.031| 670.3042499999999|\n",
      "|     5|US-2015-108966|10/11/2015|10/18/2015|Standard Class|   SO-20335|    Sean O'Donnell|   Consumer|United States|Fort Lauderdale|       Florida|      33311|  South|OFF-ST-10000760|Office Supplies|     Storage|Eldon Fold 'N Rol...|  22.368|       2|     0.2|  2.5164|15.657599999999999|\n",
      "|     6|CA-2014-115812|  6/9/2014| 6/14/2014|Standard Class|   BH-11710|   Brosina Hoffman|   Consumer|United States|    Los Angeles|    California|      90032|   West|FUR-FU-10001487|      Furniture| Furnishings|Eldon Expressions...|   48.86|       7|       0| 14.1694|            34.202|\n",
      "|     7|CA-2014-115812|  6/9/2014| 6/14/2014|Standard Class|   BH-11710|   Brosina Hoffman|   Consumer|United States|    Los Angeles|    California|      90032|   West|OFF-AR-10002833|Office Supplies|         Art|          Newell 322|    7.28|       4|       0|  1.9656|             5.096|\n",
      "|     8|CA-2014-115812|  6/9/2014| 6/14/2014|Standard Class|   BH-11710|   Brosina Hoffman|   Consumer|United States|    Los Angeles|    California|      90032|   West|TEC-PH-10002275|     Technology|      Phones|Mitel 5320 IP Pho...| 907.152|       6|     0.2| 90.7152|          635.0064|\n",
      "|     9|CA-2014-115812|  6/9/2014| 6/14/2014|Standard Class|   BH-11710|   Brosina Hoffman|   Consumer|United States|    Los Angeles|    California|      90032|   West|OFF-BI-10003910|Office Supplies|     Binders|DXL Angle-View Bi...|  18.504|       3|     0.2|  5.7825|           12.9528|\n",
      "|    10|CA-2014-115812|  6/9/2014| 6/14/2014|Standard Class|   BH-11710|   Brosina Hoffman|   Consumer|United States|    Los Angeles|    California|      90032|   West|OFF-AP-10002892|Office Supplies|  Appliances|Belkin F5C206VTEL...|   114.9|       5|       0|   34.47| 80.42999999999999|\n",
      "|    11|CA-2014-115812|  6/9/2014| 6/14/2014|Standard Class|   BH-11710|   Brosina Hoffman|   Consumer|United States|    Los Angeles|    California|      90032|   West|FUR-TA-10001539|      Furniture|      Tables|Chromcraft Rectan...|1706.184|       9|     0.2| 85.3092|         1194.3288|\n",
      "|    12|CA-2014-115812|  6/9/2014| 6/14/2014|Standard Class|   BH-11710|   Brosina Hoffman|   Consumer|United States|    Los Angeles|    California|      90032|   West|TEC-PH-10002033|     Technology|      Phones|Konftel 250 Confe...| 911.424|       4|     0.2| 68.3568| 637.9967999999999|\n",
      "|    13|CA-2017-114412| 4/15/2017| 4/20/2017|Standard Class|   AA-10480|      Andrew Allen|   Consumer|United States|        Concord|North Carolina|      28027|  South|OFF-PA-10002365|Office Supplies|       Paper|          Xerox 1967|  15.552|       3|     0.2|  5.4432|10.886399999999998|\n",
      "|    14|CA-2016-161389| 12/5/2016|12/10/2016|Standard Class|   IM-15070|      Irene Maddox|   Consumer|United States|        Seattle|    Washington|      98103|   West|OFF-BI-10003656|Office Supplies|     Binders|Fellowes PB200 Pl...| 407.976|       3|     0.2|132.5922|          285.5832|\n",
      "|    15|US-2015-118983|11/22/2015|11/26/2015|Standard Class|   HP-14815|     Harold Pawlan|Home Office|United States|     Fort Worth|         Texas|      76106|Central|OFF-AP-10002311|Office Supplies|  Appliances|Holmes Replacemen...|   68.81|       5|     0.8|-123.858|            48.167|\n",
      "|    16|US-2015-118983|11/22/2015|11/26/2015|Standard Class|   HP-14815|     Harold Pawlan|Home Office|United States|     Fort Worth|         Texas|      76106|Central|OFF-BI-10000756|Office Supplies|     Binders|Storex DuraTech R...|   2.544|       3|     0.8|  -3.816|            1.7808|\n",
      "|    17|CA-2014-105893|11/11/2014|11/18/2014|Standard Class|   PK-19075|         Pete Kriz|   Consumer|United States|        Madison|     Wisconsin|      53711|Central|OFF-ST-10004186|Office Supplies|     Storage|\"Stur-D-Stor Shel...|  665.88|       6|       0| 13.3176|           466.116|\n",
      "|    18|CA-2014-167164| 5/13/2014| 5/15/2014|  Second Class|   AG-10270|   Alejandro Grove|   Consumer|United States|    West Jordan|          Utah|      84084|   West|OFF-ST-10000107|Office Supplies|     Storage|Fellowes Super St...|    55.5|       2|       0|    9.99|38.849999999999994|\n",
      "|    19|CA-2014-143336| 8/27/2014|  9/1/2014|  Second Class|   ZD-21925|Zuschuss Donatelli|   Consumer|United States|  San Francisco|    California|      94109|   West|OFF-AR-10003056|Office Supplies|         Art|          Newell 341|    8.56|       2|       0|  2.4824|             5.992|\n",
      "|    20|CA-2014-143336| 8/27/2014|  9/1/2014|  Second Class|   ZD-21925|Zuschuss Donatelli|   Consumer|United States|  San Francisco|    California|      94109|   West|TEC-PH-10001949|     Technology|      Phones|Cisco SPA 501G IP...|  213.48|       3|     0.2|  16.011|149.43599999999998|\n",
      "+------+--------------+----------+----------+--------------+-----------+------------------+-----------+-------------+---------------+--------------+-----------+-------+---------------+---------------+------------+--------------------+--------+--------+--------+--------+------------------+\n",
      "only showing top 20 rows\n",
      "\n"
     ]
    }
   ],
   "source": [
    "df1.fillna(mean_sales[0][0]).show()"
   ]
  },
  {
   "cell_type": "code",
   "execution_count": null,
   "id": "17442d35",
   "metadata": {
    "id": "evcA1xCBUrXw",
    "papermill": {
     "duration": 0.194722,
     "end_time": "2022-03-30T20:09:12.086749",
     "exception": false,
     "start_time": "2022-03-30T20:09:11.892027",
     "status": "completed"
    },
    "tags": []
   },
   "outputs": [],
   "source": []
  }
 ],
 "metadata": {
  "kernelspec": {
   "display_name": "Python 3",
   "language": "python",
   "name": "python3"
  },
  "language_info": {
   "codemirror_mode": {
    "name": "ipython",
    "version": 3
   },
   "file_extension": ".py",
   "mimetype": "text/x-python",
   "name": "python",
   "nbconvert_exporter": "python",
   "pygments_lexer": "ipython3",
   "version": "3.7.12"
  },
  "papermill": {
   "default_parameters": {},
   "duration": 104.921173,
   "end_time": "2022-03-30T20:09:12.991901",
   "environment_variables": {},
   "exception": null,
   "input_path": "__notebook__.ipynb",
   "output_path": "__notebook__.ipynb",
   "parameters": {},
   "start_time": "2022-03-30T20:07:28.070728",
   "version": "2.3.3"
  }
 },
 "nbformat": 4,
 "nbformat_minor": 5
}
